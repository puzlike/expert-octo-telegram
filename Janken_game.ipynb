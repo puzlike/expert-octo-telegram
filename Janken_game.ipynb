{
  "nbformat": 4,
  "nbformat_minor": 0,
  "metadata": {
    "colab": {
      "provenance": [],
      "authorship_tag": "ABX9TyOhd+TPLG0fkviiIOVUamYD",
      "include_colab_link": true
    },
    "kernelspec": {
      "name": "python3",
      "display_name": "Python 3"
    },
    "language_info": {
      "name": "python"
    }
  },
  "cells": [
    {
      "cell_type": "markdown",
      "metadata": {
        "id": "view-in-github",
        "colab_type": "text"
      },
      "source": [
        "<a href=\"https://colab.research.google.com/github/puzlike/expert-octo-telegram/blob/main/Janken_game.ipynb\" target=\"_parent\"><img src=\"https://colab.research.google.com/assets/colab-badge.svg\" alt=\"Open In Colab\"/></a>"
      ]
    },
    {
      "cell_type": "code",
      "execution_count": 8,
      "metadata": {
        "id": "dtTbwmTIXnVi",
        "colab": {
          "base_uri": "https://localhost:8080/"
        },
        "outputId": "c5513170-f031-49ad-8382-5595ee2a93f2"
      },
      "outputs": [
        {
          "output_type": "stream",
          "name": "stdout",
          "text": [
            "グー：0, チョキ：1, パー：2 ？1\n",
            "グー：0, チョキ：1, パー：2 ？0\n",
            "グー：0, チョキ：1, パー：2 ？1\n",
            "プレイヤー : 2, コンピュータ : 1, 引き分け : 0\n",
            "プレイヤーの勝ち\n"
          ]
        }
      ],
      "source": [
        "import random\n",
        "\n",
        "com = random.randint(0, 2)\n",
        "\n",
        "\n",
        "draw = 0\n",
        "you_win = 0\n",
        "com_win = 0\n",
        "\n",
        "for i in range(3):\n",
        "  while True:\n",
        "    you = int(input(\"グー：0, チョキ：1, パー：2 ？\"))\n",
        "    if 0 <= you and you <=2:\n",
        "      break\n",
        "\n",
        "  if you < com:\n",
        "    you += 3\n",
        "  diff = you - com\n",
        "  if diff == 0:\n",
        "    draw += 1\n",
        "  elif diff == 2:\n",
        "    you_win += 1\n",
        "  else:\n",
        "    com_win += 1\n",
        "\n",
        "print(f\"プレイヤー : {you_win}, コンピュータ : {com_win}, 引き分け : {draw}\")\n",
        "if you_win > com_win:\n",
        "  print(\"プレイヤーの勝ち\")\n",
        "elif you_win < com_win:\n",
        "  print(\"コンピュータの勝ち\")\n",
        ""
      ]
    }
  ]
}