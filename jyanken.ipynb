{
  "cells": [
    {
      "cell_type": "markdown",
      "metadata": {
        "id": "view-in-github",
        "colab_type": "text"
      },
      "source": [
        "<a href=\"https://colab.research.google.com/github/puzlike/expert-octo-telegram/blob/main/jyanken.ipynb\" target=\"_parent\"><img src=\"https://colab.research.google.com/assets/colab-badge.svg\" alt=\"Open In Colab\"/></a>"
      ]
    },
    {
      "cell_type": "code",
      "source": [
        "import random\n",
        "\n",
        "janken = {\n",
        "    'グー': ['チョキ', 'パー', 'グー'],\n",
        "    'チョキ': ['パー', 'グー', 'チョキ'],\n",
        "    'パー': ['グー', 'チョキ', 'パー'] \n",
        "}\n",
        "\n",
        "c = random.randint(0, 2)\n",
        "hand = ['グー', 'チョキ', 'パー']\n",
        "com_hand = hand[c]\n",
        "\n",
        "you_win, com_win = 0, 0\n",
        "action = True\n",
        "while action:\n",
        "    while True:\n",
        "        you_hand = input('グー、チョキ、パーを入力してください ---> ')\n",
        "        if you_hand in hand:\n",
        "            break\n",
        "    print(f'あなたの手は{you_hand}です')\n",
        "    print(f'コンピュータの手は{hand[c]}です')\n",
        "    for you, com in janken.items():\n",
        "        if you_hand == you:\n",
        "            if com_hand == com[0]:\n",
        "                print('あなたの勝ちです')\n",
        "                action = False\n",
        "            elif com_hand == com[1]:\n",
        "                print('コンピュータの勝ちです')\n",
        "                action = False\n",
        "            elif com_hand == com[2]:\n",
        "                print('あいこです')\n",
        "                break\n",
        "                "
      ],
      "metadata": {
        "colab": {
          "base_uri": "https://localhost:8080/"
        },
        "id": "cXXcarBQLlPE",
        "outputId": "2e8c814c-d680-4dd6-cab5-eb8e1b9f7ea3"
      },
      "execution_count": 15,
      "outputs": [
        {
          "output_type": "stream",
          "name": "stdout",
          "text": [
            "グー、チョキ、パーを入力してください ---> パー\n",
            "あなたの手はパーです\n",
            "コンピュータの手はグーです\n",
            "あなたの勝ちです\n"
          ]
        }
      ]
    }
  ],
  "metadata": {
    "colab": {
      "provenance": [],
      "mount_file_id": "1w_YTamF7hMYz7DhRtbUVizRA3WrqETKs",
      "authorship_tag": "ABX9TyOH2IBZrhGoYFmVG3VAocsT",
      "include_colab_link": true
    },
    "kernelspec": {
      "display_name": "Python 3",
      "name": "python3"
    },
    "language_info": {
      "name": "python"
    }
  },
  "nbformat": 4,
  "nbformat_minor": 0
}