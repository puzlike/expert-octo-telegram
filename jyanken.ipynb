{
  "cells": [
    {
      "cell_type": "markdown",
      "metadata": {
        "id": "view-in-github",
        "colab_type": "text"
      },
      "source": [
        "<a href=\"https://colab.research.google.com/github/puzlike/expert-octo-telegram/blob/main/jyanken.ipynb\" target=\"_parent\"><img src=\"https://colab.research.google.com/assets/colab-badge.svg\" alt=\"Open In Colab\"/></a>"
      ]
    },
    {
      "cell_type": "code",
      "source": [
        "import random\n",
        "\n",
        "janken = {\n",
        "    'グー': ['チョキ', 'パー', 'グー'],\n",
        "    'チョキ': ['パー', 'グー', 'チョキ'],\n",
        "    'パー': ['グー', 'チョキ', 'パー'] \n",
        "}\n",
        "\n",
        "c = random.randint(0, 2)\n",
        "hand = ['グー', 'チョキ', 'パー']\n",
        "com_hand = hand[c]\n",
        "\n",
        "you_win, com_win = 0, 0\n",
        "action = True\n",
        "while action:\n",
        "    while True:\n",
        "        y = int(input('手を入力してください。(グー:0、チョキ:1、パー:2) ---> '))\n",
        "        if y >=0 and y <= 2:\n",
        "            you_hand = hand[y]\n",
        "            break\n",
        "    print(f'あなたの手は{you_hand}です')\n",
        "    print(f'コンピュータの手は{hand[c]}です')\n",
        "    for you, com in janken.items():\n",
        "        if you_hand == you:\n",
        "            if com_hand == com[0]:\n",
        "                print('あなたの勝ちです')\n",
        "                action = False\n",
        "            elif com_hand == com[1]:\n",
        "                print('コンピュータの勝ちです')\n",
        "                action = False\n",
        "            elif com_hand == com[2]:\n",
        "                print('あいこです')\n",
        "                break\n",
        "                "
      ],
      "metadata": {
        "colab": {
          "base_uri": "https://localhost:8080/"
        },
        "id": "cXXcarBQLlPE",
        "outputId": "c66bd41c-c78e-4d29-d1fc-241b5acc88d7"
      },
      "execution_count": 2,
      "outputs": [
        {
          "output_type": "stream",
          "name": "stdout",
          "text": [
            "手を入力してください。(グー:0、チョキ:1、パー:2) ---> 0\n",
            "あなたの手はグーです\n",
            "コンピュータの手はグーです\n",
            "あいこです\n",
            "手を入力してください。(グー:0、チョキ:1、パー:2) ---> 2\n",
            "あなたの手はパーです\n",
            "コンピュータの手はグーです\n",
            "あなたの勝ちです\n"
          ]
        }
      ]
    }
  ],
  "metadata": {
    "colab": {
      "provenance": [],
      "mount_file_id": "1w_YTamF7hMYz7DhRtbUVizRA3WrqETKs",
      "authorship_tag": "ABX9TyP/DlxsWhO5BOEHuP3J4xe9",
      "include_colab_link": true
    },
    "kernelspec": {
      "display_name": "Python 3",
      "name": "python3"
    },
    "language_info": {
      "name": "python"
    }
  },
  "nbformat": 4,
  "nbformat_minor": 0
}