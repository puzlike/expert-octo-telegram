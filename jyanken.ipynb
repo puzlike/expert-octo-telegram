{
  "cells": [
    {
      "cell_type": "markdown",
      "metadata": {
        "id": "view-in-github",
        "colab_type": "text"
      },
      "source": [
        "<a href=\"https://colab.research.google.com/github/puzlike/expert-octo-telegram/blob/main/jyanken.ipynb\" target=\"_parent\"><img src=\"https://colab.research.google.com/assets/colab-badge.svg\" alt=\"Open In Colab\"/></a>"
      ]
    },
    {
      "cell_type": "code",
      "source": [
        "import random\n",
        "import time\n",
        "\n",
        "janken = {\n",
        "    'グー': ['チョキ', 'パー', 'グー'],\n",
        "    'チョキ': ['パー', 'グー', 'チョキ'],\n",
        "    'パー': ['グー', 'チョキ', 'パー'] \n",
        "}\n",
        "\n",
        "hand = ['グー', 'チョキ', 'パー']\n",
        "\n",
        "win, lose, draw = 0, 0, 0\n",
        "action = True\n",
        "while action:\n",
        "    while True:\n",
        "        y = int(input('手を入力してください。(グー:0、チョキ:1、パー:2) ---> '))\n",
        "        if y >=0 and y <= 2:\n",
        "            you_hand = hand[y]\n",
        "            break\n",
        "    print(f'あなたの手は{you_hand}です')\n",
        "    time.sleep(0.9)\n",
        "\n",
        "    c = random.randint(0, 2)\n",
        "    com_hand = hand[c]\n",
        "    print(f'コンピュータの手は{com_hand}です')\n",
        "    time.sleep(0.9)\n",
        "\n",
        "    for you, com in janken.items():\n",
        "        if you_hand == you:\n",
        "            if com_hand == com[0]:\n",
        "                win += 1\n",
        "            elif com_hand == com[1]:\n",
        "                lose += 1    \n",
        "            elif com_hand == com[2]:\n",
        "                draw += 1\n",
        "            time.sleep(0.9)\n",
        "    \n",
        "    print(f'{win}勝/{lose}負け/{draw}引き分け')\n",
        "    if win == 3:\n",
        "        print(\"あなたの勝ちです\")\n",
        "        break\n",
        "    if lose == 3:\n",
        "        print(\"あなたの負けです\")\n",
        "        break    \n",
        "    time.sleep(1)  "
      ],
      "metadata": {
        "colab": {
          "base_uri": "https://localhost:8080/"
        },
        "id": "cXXcarBQLlPE",
        "outputId": "d2af8242-b0ea-4261-fabe-06e9bddd7625"
      },
      "execution_count": 4,
      "outputs": [
        {
          "output_type": "stream",
          "name": "stdout",
          "text": [
            "手を入力してください。(グー:0、チョキ:1、パー:2) ---> 0\n",
            "あなたの手はグーです\n",
            "コンピュータの手はチョキです\n",
            "1勝/0負け/0引き分け\n",
            "手を入力してください。(グー:0、チョキ:1、パー:2) ---> 1\n",
            "あなたの手はチョキです\n",
            "コンピュータの手はパーです\n",
            "2勝/0負け/0引き分け\n",
            "手を入力してください。(グー:0、チョキ:1、パー:2) ---> 2\n",
            "あなたの手はパーです\n",
            "コンピュータの手はパーです\n",
            "2勝/0負け/1引き分け\n",
            "手を入力してください。(グー:0、チョキ:1、パー:2) ---> 1\n",
            "あなたの手はチョキです\n",
            "コンピュータの手はパーです\n",
            "3勝/0負け/1引き分け\n",
            "あなたの勝ちです\n"
          ]
        }
      ]
    }
  ],
  "metadata": {
    "colab": {
      "provenance": [],
      "mount_file_id": "1w_YTamF7hMYz7DhRtbUVizRA3WrqETKs",
      "authorship_tag": "ABX9TyNLT18Pz4lcFL+1pmkEY2aV",
      "include_colab_link": true
    },
    "kernelspec": {
      "display_name": "Python 3",
      "name": "python3"
    },
    "language_info": {
      "name": "python"
    }
  },
  "nbformat": 4,
  "nbformat_minor": 0
}