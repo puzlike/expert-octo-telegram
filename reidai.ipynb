{
  "nbformat": 4,
  "nbformat_minor": 0,
  "metadata": {
    "colab": {
      "provenance": [],
      "mount_file_id": "1w_YTamF7hMYz7DhRtbUVizRA3WrqETKs",
      "authorship_tag": "ABX9TyMKyC5T0zovASljJ7i24lBL",
      "include_colab_link": true
    },
    "kernelspec": {
      "name": "python3",
      "display_name": "Python 3"
    },
    "language_info": {
      "name": "python"
    }
  },
  "cells": [
    {
      "cell_type": "markdown",
      "metadata": {
        "id": "view-in-github",
        "colab_type": "text"
      },
      "source": [
        "<a href=\"https://colab.research.google.com/github/puzlike/expert-octo-telegram/blob/main/reidai.ipynb\" target=\"_parent\"><img src=\"https://colab.research.google.com/assets/colab-badge.svg\" alt=\"Open In Colab\"/></a>"
      ]
    },
    {
      "cell_type": "code",
      "source": [
        "# 6\n",
        "list = (\"Apple\", \"Orange\", \"Banana\", \"Grape\")\n",
        "n1 = int(input(\"何文字から？\"))\n",
        "n2 = int(input(\"何文字まで？\"))\n",
        "for name in list[n1:n2 + 1]:\n",
        "    print(\"リストの値：\", name)"
      ],
      "metadata": {
        "colab": {
          "base_uri": "https://localhost:8080/"
        },
        "id": "5Mpcv3gqr5KW",
        "outputId": "940e1dba-7cf7-4951-c41b-3f7df969eed9"
      },
      "execution_count": 18,
      "outputs": [
        {
          "output_type": "stream",
          "name": "stdout",
          "text": [
            "何文字から？2\n",
            "何文字まで？3\n",
            "リストの値： Banana\n",
            "リストの値： Grape\n"
          ]
        }
      ]
    },
    {
      "cell_type": "code",
      "source": [
        "# 7\n",
        "for index, key in enumerate(list):\n",
        "    print(\"インデックス : \", index)\n",
        "    print(\"値 : \", key)\n",
        "    print(\"-----------------\")"
      ],
      "metadata": {
        "colab": {
          "base_uri": "https://localhost:8080/"
        },
        "id": "k4p5mmPEtPye",
        "outputId": "e0006ebc-1d2d-434a-e706-01d450e7927f"
      },
      "execution_count": 20,
      "outputs": [
        {
          "output_type": "stream",
          "name": "stdout",
          "text": [
            "インデックス :  0\n",
            "値 :  Apple\n",
            "-----------------\n",
            "インデックス :  1\n",
            "値 :  Orange\n",
            "-----------------\n",
            "インデックス :  2\n",
            "値 :  Banana\n",
            "-----------------\n",
            "インデックス :  3\n",
            "値 :  Grape\n",
            "-----------------\n"
          ]
        }
      ]
    }
  ]
}