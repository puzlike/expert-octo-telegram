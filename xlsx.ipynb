{
  "nbformat": 4,
  "nbformat_minor": 0,
  "metadata": {
    "colab": {
      "provenance": [],
      "authorship_tag": "ABX9TyOcMUt0G/+bgXdegKqApflX",
      "include_colab_link": true
    },
    "kernelspec": {
      "name": "python3",
      "display_name": "Python 3"
    },
    "language_info": {
      "name": "python"
    }
  },
  "cells": [
    {
      "cell_type": "markdown",
      "metadata": {
        "id": "view-in-github",
        "colab_type": "text"
      },
      "source": [
        "<a href=\"https://colab.research.google.com/github/puzlike/expert-octo-telegram/blob/main/xlsx.ipynb\" target=\"_parent\"><img src=\"https://colab.research.google.com/assets/colab-badge.svg\" alt=\"Open In Colab\"/></a>"
      ]
    },
    {
      "cell_type": "code",
      "execution_count": null,
      "metadata": {
        "id": "dXomFnW3Xd1m"
      },
      "outputs": [],
      "source": [
        "from openpyxl import load_workbook\n",
        "import datetime\n",
        "\n",
        "wb = load_workbook('2023年.xlsx')\n",
        "ws = wb.active\n",
        "start_row = 5\n",
        "dt_now = datetime.datetime.now()\n",
        "for row_no in range(start_row, ws.max_row+1):\n",
        "    if ws.cell(row_no, 2).value == str(dt_now.month)+'月':\n",
        "        ws.cell(row_no, 3).value = 23\n",
        "wb.save('2023年.xlsx')"
      ]
    }
  ]
}