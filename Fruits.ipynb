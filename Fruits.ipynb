{
  "nbformat": 4,
  "nbformat_minor": 0,
  "metadata": {
    "colab": {
      "provenance": [],
      "authorship_tag": "ABX9TyOUooxFcVcT5/DjjUM5lAjH",
      "include_colab_link": true
    },
    "kernelspec": {
      "name": "python3",
      "display_name": "Python 3"
    },
    "language_info": {
      "name": "python"
    }
  },
  "cells": [
    {
      "cell_type": "markdown",
      "metadata": {
        "id": "view-in-github",
        "colab_type": "text"
      },
      "source": [
        "<a href=\"https://colab.research.google.com/github/puzlike/expert-octo-telegram/blob/main/Fruits.ipynb\" target=\"_parent\"><img src=\"https://colab.research.google.com/assets/colab-badge.svg\" alt=\"Open In Colab\"/></a>"
      ]
    },
    {
      "cell_type": "code",
      "execution_count": 19,
      "metadata": {
        "colab": {
          "base_uri": "https://localhost:8080/"
        },
        "id": "Pd5rFA2nj2hp",
        "outputId": "9b7cda0d-b666-45e8-9655-4a0b48fcc2fd"
      },
      "outputs": [
        {
          "output_type": "stream",
          "name": "stdout",
          "text": [
            "各農園のりんごを抽出\n",
            "ふじ\n",
            "つがる\n",
            "王林\n",
            "\n",
            "各農園のブドウを抽出\n",
            "巨峰\n",
            "ピオーネ\n",
            "シャインマスカット\n",
            "\n",
            "各農園のみかんを抽出\n",
            "三ケ日みかん\n",
            "紅まどんな\n",
            "有田みかん\n",
            "\n"
          ]
        }
      ],
      "source": [
        "fruits = [\n",
        "[\"A農園\", \"ふじ\", \"巨峰\", \"三ケ日みかん\"],\n",
        "[\"B農園\", \"つがる\", \"ピオーネ\", \"紅まどんな\"],\n",
        "[\"C農園\", \"王林\", \"シャインマスカット\", \"有田みかん\"]\n",
        "]\n",
        "\n",
        "kinds = [\"りんご\", \"ブドウ\", \"みかん\"]\n",
        "\n",
        "for kind in kinds:\n",
        "    print(f\"各農園の{kind}を抽出\")\n",
        "    idx = kinds.index(kind)\n",
        "    for fruit in fruits:\n",
        "        print(fruit[idx + 1])\n",
        "    print()"
      ]
    }
  ]
}