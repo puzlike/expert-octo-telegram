{
  "nbformat": 4,
  "nbformat_minor": 0,
  "metadata": {
    "colab": {
      "provenance": [],
      "authorship_tag": "ABX9TyO1HjDXGy7+gUySzxoQ1XyL",
      "include_colab_link": true
    },
    "kernelspec": {
      "name": "python3",
      "display_name": "Python 3"
    },
    "language_info": {
      "name": "python"
    }
  },
  "cells": [
    {
      "cell_type": "markdown",
      "metadata": {
        "id": "view-in-github",
        "colab_type": "text"
      },
      "source": [
        "<a href=\"https://colab.research.google.com/github/puzlike/expert-octo-telegram/blob/main/Kadai2.ipynb\" target=\"_parent\"><img src=\"https://colab.research.google.com/assets/colab-badge.svg\" alt=\"Open In Colab\"/></a>"
      ]
    },
    {
      "cell_type": "code",
      "execution_count": 4,
      "metadata": {
        "colab": {
          "base_uri": "https://localhost:8080/"
        },
        "id": "juTH-FEbcoU8",
        "outputId": "9903e66f-088c-4bcf-e965-905868b7bc61"
      },
      "outputs": [
        {
          "output_type": "stream",
          "name": "stdout",
          "text": [
            "5回まで数字を入力できます\n",
            "終了する時は'99'を入力して下さい\n",
            "数字を入力12\n",
            "1回目：12\n",
            "数字を入力56\n",
            "2回目：56\n",
            "数字を入力76\n",
            "3回目：76\n",
            "数字を入力99\n",
            "終了\n"
          ]
        }
      ],
      "source": [
        "print(\"5回まで数字を入力できます\")\n",
        "print(\"終了する時は'99'を入力して下さい\")\n",
        "\n",
        "n = 1\n",
        "while n < 5:\n",
        "  num = int(input(\"数字を入力\"))\n",
        "  if num == 99:\n",
        "    print(\"終了\")\n",
        "    break;\n",
        "  print(f\"{n}回目：{num}\")\n",
        "  n += 1\n",
        ""
      ]
    }
  ]
}