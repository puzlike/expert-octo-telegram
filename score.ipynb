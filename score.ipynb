{
  "nbformat": 4,
  "nbformat_minor": 0,
  "metadata": {
    "colab": {
      "provenance": [],
      "authorship_tag": "ABX9TyP1MsBlBuJG03pg4tdOD8C0",
      "include_colab_link": true
    },
    "kernelspec": {
      "name": "python3",
      "display_name": "Python 3"
    },
    "language_info": {
      "name": "python"
    }
  },
  "cells": [
    {
      "cell_type": "markdown",
      "metadata": {
        "id": "view-in-github",
        "colab_type": "text"
      },
      "source": [
        "<a href=\"https://colab.research.google.com/github/puzlike/expert-octo-telegram/blob/main/score.ipynb\" target=\"_parent\"><img src=\"https://colab.research.google.com/assets/colab-badge.svg\" alt=\"Open In Colab\"/></a>"
      ]
    },
    {
      "cell_type": "code",
      "execution_count": 4,
      "metadata": {
        "colab": {
          "base_uri": "https://localhost:8080/"
        },
        "id": "wflxZXOxKurs",
        "outputId": "ef67a342-4490-4bd1-ef65-ce15b5cb30ef"
      },
      "outputs": [
        {
          "output_type": "stream",
          "name": "stdout",
          "text": [
            "80点以上は[85, 81, 98]です\n",
            "80点以上の人数は3人です\n",
            "平均点以下は[74, 37, 69]です\n",
            "平均点以下の人数は3人です\n"
          ]
        }
      ],
      "source": [
        "scores = [74, 37, 85, 69, 77, 81, 98]\n",
        "\n",
        "score_over_80 = []\n",
        "ave = sum(scores) / len(scores)\n",
        "score_under_ave = []\n",
        "\n",
        "for score in scores:\n",
        "    if score >= 80:\n",
        "        score_over_80.append(score)\n",
        "    if score <= ave:\n",
        "        score_under_ave.append(score)\n",
        "print(f'80点以上は{score_over_80}です')\n",
        "print(f'80点以上の人数は{len(score_over_80)}人です')\n",
        "print(f'平均点以下は{score_under_ave}です')\n",
        "print(f'平均点以下の人数は{len(score_under_ave)}人です')"
      ]
    }
  ]
}