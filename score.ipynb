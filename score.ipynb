{
  "nbformat": 4,
  "nbformat_minor": 0,
  "metadata": {
    "colab": {
      "provenance": [],
      "authorship_tag": "ABX9TyNZiOWkYEC7AZcyu/ZtRiIv",
      "include_colab_link": true
    },
    "kernelspec": {
      "name": "python3",
      "display_name": "Python 3"
    },
    "language_info": {
      "name": "python"
    }
  },
  "cells": [
    {
      "cell_type": "markdown",
      "metadata": {
        "id": "view-in-github",
        "colab_type": "text"
      },
      "source": [
        "<a href=\"https://colab.research.google.com/github/puzlike/expert-octo-telegram/blob/main/score.ipynb\" target=\"_parent\"><img src=\"https://colab.research.google.com/assets/colab-badge.svg\" alt=\"Open In Colab\"/></a>"
      ]
    },
    {
      "cell_type": "code",
      "execution_count": 3,
      "metadata": {
        "id": "eUjvom7ajmaQ",
        "colab": {
          "base_uri": "https://localhost:8080/"
        },
        "outputId": "aa277367-8231-4c0e-e50a-7b037407a8b6"
      },
      "outputs": [
        {
          "output_type": "stream",
          "name": "stdout",
          "text": [
            "名前 a\n",
            "国語のテストをします。aさん、80点以上を合格とします。\n",
            "点数を入力してください: 89\n",
            "合格！おめでとう!\n",
            "テストは終了です。お疲れ様! \n"
          ]
        }
      ],
      "source": [
        "a = input(\"名前 \")\n",
        "print(\"国語のテストをします。\" + a + \"さん、80点以上を合格とします。\")\n",
        "while True:\n",
        "    x = int(input(\"点数を入力してください: \"))\n",
        "    if x >= 80:\n",
        "        break\n",
        "    print(\"不合格、、もう一回チャレンジ！頑張れ！\")\n",
        "\n",
        "if x == 100:\n",
        "    print(\"合格！満点！？天才すぎるんだが...\")\n",
        "elif x >= 90:\n",
        "    print(\"合格！優秀すぎる！おめでとう☺\")\n",
        "elif x >= 80:\n",
        "    print(\"合格！おめでとう!\")\n",
        "print(\"テストは終了です。お疲れ様! \")"
      ]
    }
  ]
}