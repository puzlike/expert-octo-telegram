{
  "nbformat": 4,
  "nbformat_minor": 0,
  "metadata": {
    "colab": {
      "provenance": [],
      "authorship_tag": "ABX9TyP1ZWmAskgf7pTsmAMWu2WH",
      "include_colab_link": true
    },
    "kernelspec": {
      "name": "python3",
      "display_name": "Python 3"
    },
    "language_info": {
      "name": "python"
    }
  },
  "cells": [
    {
      "cell_type": "markdown",
      "metadata": {
        "id": "view-in-github",
        "colab_type": "text"
      },
      "source": [
        "<a href=\"https://colab.research.google.com/github/puzlike/expert-octo-telegram/blob/main/Merge_Data.ipynb\" target=\"_parent\"><img src=\"https://colab.research.google.com/assets/colab-badge.svg\" alt=\"Open In Colab\"/></a>"
      ]
    },
    {
      "cell_type": "code",
      "execution_count": 2,
      "metadata": {
        "id": "om-utniZbzT_"
      },
      "outputs": [],
      "source": [
        "from pandas import Series, DataFrame\n",
        "import pandas as pd\n",
        "\n",
        "attri_data1 = {'ID': ['1', '2', '3', '4', '5'],\n",
        "               'Sex': ['F', 'F', 'M', 'M', 'F'],\n",
        "               'Money': [1000, 2000, 5000, 3000, 7000],\n",
        "               'Name': ['Saito', 'Horie', 'Kondo', 'Kawada', 'Matsubara']}\n",
        "attri_data_frame1 = DataFrame(attri_data1)"
      ]
    },
    {
      "cell_type": "code",
      "source": [
        "attri_data2 = {'ID': ['3', '4', '7'],\n",
        "               'Math': [60, 30, 40],\n",
        "               'Engrish': [80, 20, 30]}\n",
        "attri_data_frame2 = DataFrame(attri_data2)\n",
        "\n",
        "merge_data = pd.merge(attri_data_frame1, attri_data_frame2, on='ID')\n",
        "print (merge_data)\n",
        "\n",
        "ave_Money = merge_data[\"Money\"].sum() / len(merge_data)\n",
        "ave_Math = merge_data[\"Math\"].sum() / len(merge_data)\n",
        "ave_Engrish = merge_data[\"Engrish\"].sum() / len(merge_data)\n",
        "print(\"Money\",ave_Money)\n",
        "print(\"Math\",ave_Math)\n",
        "print(\"Engrish\",ave_Engrish)"
      ],
      "metadata": {
        "colab": {
          "base_uri": "https://localhost:8080/"
        },
        "id": "iRe1B17Mdw5M",
        "outputId": "f9c7883c-b42a-44bc-944f-a383a0785ac2"
      },
      "execution_count": 12,
      "outputs": [
        {
          "output_type": "stream",
          "name": "stdout",
          "text": [
            "  ID Sex  Money    Name  Math  Engrish\n",
            "0  3   M   5000   Kondo    60       80\n",
            "1  4   M   3000  Kawada    30       20\n",
            "Money 4000.0\n",
            "Math 45.0\n",
            "Engrish 50.0\n"
          ]
        }
      ]
    }
  ]
}