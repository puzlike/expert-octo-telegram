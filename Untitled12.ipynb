{
  "nbformat": 4,
  "nbformat_minor": 0,
  "metadata": {
    "colab": {
      "provenance": [],
      "authorship_tag": "ABX9TyPtsPsQ2ePGw6/8/vLUFd9g",
      "include_colab_link": true
    },
    "kernelspec": {
      "name": "python3",
      "display_name": "Python 3"
    },
    "language_info": {
      "name": "python"
    }
  },
  "cells": [
    {
      "cell_type": "markdown",
      "metadata": {
        "id": "view-in-github",
        "colab_type": "text"
      },
      "source": [
        "<a href=\"https://colab.research.google.com/github/puzlike/expert-octo-telegram/blob/main/Untitled12.ipynb\" target=\"_parent\"><img src=\"https://colab.research.google.com/assets/colab-badge.svg\" alt=\"Open In Colab\"/></a>"
      ]
    },
    {
      "cell_type": "code",
      "execution_count": 1,
      "metadata": {
        "colab": {
          "base_uri": "https://localhost:8080/"
        },
        "id": "B0Yl_3DeZJkG",
        "outputId": "9ba98e77-334d-4c72-de32-dbaeb4bd5e9f"
      },
      "outputs": [
        {
          "output_type": "stream",
          "name": "stdout",
          "text": [
            "数値を','で区切って入力してください 6,12,15,8,11,9,2,5,10,3,14,4,7\n",
            "--- 3\n",
            "----- 5\n",
            "------- 7\n",
            "--------- 9\n",
            "----------- 11\n",
            "-------------- 14\n",
            "--------------- 15\n",
            "------------ 12\n",
            "---------- 10\n",
            "-------- 8\n",
            "------ 6\n",
            "---- 4\n",
            "-- 2\n"
          ]
        }
      ],
      "source": [
        "num = input(\"数値を','で区切って入力してください \")\n",
        "num_list = num.split(',')\n",
        "l = len(num_list)\n",
        "num_list = [int(n) for n in num_list]\n",
        "num_list.sort()\n",
        "for i in range(1, l, 2):\n",
        "    print('-'*num_list[i],num_list[i])\n",
        "for i in range(l-1, -1, -2):\n",
        "    print('-'*num_list[i],num_list[i])"
      ]
    }
  ]
}