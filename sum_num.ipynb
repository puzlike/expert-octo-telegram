{
  "cells": [
    {
      "cell_type": "markdown",
      "metadata": {
        "id": "view-in-github",
        "colab_type": "text"
      },
      "source": [
        "<a href=\"https://colab.research.google.com/github/puzlike/expert-octo-telegram/blob/main/sum_num.ipynb\" target=\"_parent\"><img src=\"https://colab.research.google.com/assets/colab-badge.svg\" alt=\"Open In Colab\"/></a>"
      ]
    },
    {
      "cell_type": "code",
      "source": [
        "num = input('-->')\n",
        "num_list = num.split(' ')\n",
        "num_list = [int(n) for n in num_list]\n",
        "sum_num = sum(num_list)\n",
        "for n in num_list[:-1]:\n",
        "    print(f'{n}と',end='')\n",
        "print(f'{num_list[-1]}の和は{sum_num}です。')"
      ],
      "metadata": {
        "id": "j7DWCujJw8O_",
        "colab": {
          "base_uri": "https://localhost:8080/"
        },
        "outputId": "f39ce671-319c-467b-ff23-5b00a632e54f"
      },
      "execution_count": 1,
      "outputs": [
        {
          "output_type": "stream",
          "name": "stdout",
          "text": [
            "-->1 3 5 7 9\n",
            "1と3と5と7と9の和は25です。\n"
          ]
        }
      ]
    }
  ],
  "metadata": {
    "colab": {
      "provenance": [],
      "mount_file_id": "1w_YTamF7hMYz7DhRtbUVizRA3WrqETKs",
      "authorship_tag": "ABX9TyNr8lxI+SR62RwUV9+wVEPO",
      "include_colab_link": true
    },
    "kernelspec": {
      "display_name": "Python 3",
      "name": "python3"
    },
    "language_info": {
      "name": "python"
    }
  },
  "nbformat": 4,
  "nbformat_minor": 0
}