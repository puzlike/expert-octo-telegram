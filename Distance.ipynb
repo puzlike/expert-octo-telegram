{
  "nbformat": 4,
  "nbformat_minor": 0,
  "metadata": {
    "colab": {
      "provenance": [],
      "authorship_tag": "ABX9TyNxc/688SSnQUW0r7hN6SG0",
      "include_colab_link": true
    },
    "kernelspec": {
      "name": "python3",
      "display_name": "Python 3"
    },
    "language_info": {
      "name": "python"
    }
  },
  "cells": [
    {
      "cell_type": "markdown",
      "metadata": {
        "id": "view-in-github",
        "colab_type": "text"
      },
      "source": [
        "<a href=\"https://colab.research.google.com/github/puzlike/expert-octo-telegram/blob/main/Distance.ipynb\" target=\"_parent\"><img src=\"https://colab.research.google.com/assets/colab-badge.svg\" alt=\"Open In Colab\"/></a>"
      ]
    },
    {
      "cell_type": "code",
      "execution_count": 5,
      "metadata": {
        "colab": {
          "base_uri": "https://localhost:8080/"
        },
        "id": "dPN8vDQVqvzn",
        "outputId": "1c9d637a-a090-4767-8c52-aea2f96142ae"
      },
      "outputs": [
        {
          "output_type": "stream",
          "name": "stdout",
          "text": [
            "点Pのx座標 = 2\n",
            "点Pのy座標 = 3\n",
            "点Qのx座標 = -9\n",
            "点Qのy座標 = 3\n",
            "原点から点Pまでの距離は  3.605551275463989\n",
            "原点から点Qまでの距離は  9.486832980505138\n",
            "点Q のほうが 5.8812817050411486 長い\n"
          ]
        }
      ],
      "source": [
        "x1 = float(input(\"点Pのx座標 = \"))\n",
        "y1 = float(input(\"点Pのy座標 = \"))\n",
        "x2 = float(input(\"点Qのx座標 = \"))\n",
        "y2 = float(input(\"点Qのy座標 = \"))\n",
        "\n",
        "l1 = (x1**2 + y1**2)**(1/2)\n",
        "l2 = (x2**2 + y2**2)**(1/2)\n",
        "\n",
        "print('原点から点Pまでの距離は ',l1)\n",
        "print('原点から点Qまでの距離は ',l2)\n",
        "\n",
        "if l1 == l2:\n",
        "  print(\"距離は一緒\")\n",
        "elif l1 > l2:\n",
        "  div = l1 - l2\n",
        "  s = \"点P\"\n",
        "else:\n",
        "  div = l2 - l1\n",
        "  s = \"点Q\"\n",
        "print(s, \"のほうが\", div, \"長い\")\n"
      ]
    }
  ]
}