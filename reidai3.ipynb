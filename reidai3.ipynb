{
  "nbformat": 4,
  "nbformat_minor": 0,
  "metadata": {
    "colab": {
      "provenance": [],
      "authorship_tag": "ABX9TyP2gn/gCY+EK8Zo/v2sp9l3",
      "include_colab_link": true
    },
    "kernelspec": {
      "name": "python3",
      "display_name": "Python 3"
    },
    "language_info": {
      "name": "python"
    }
  },
  "cells": [
    {
      "cell_type": "markdown",
      "metadata": {
        "id": "view-in-github",
        "colab_type": "text"
      },
      "source": [
        "<a href=\"https://colab.research.google.com/github/puzlike/expert-octo-telegram/blob/main/reidai3.ipynb\" target=\"_parent\"><img src=\"https://colab.research.google.com/assets/colab-badge.svg\" alt=\"Open In Colab\"/></a>"
      ]
    },
    {
      "cell_type": "code",
      "execution_count": 4,
      "metadata": {
        "colab": {
          "base_uri": "https://localhost:8080/"
        },
        "id": "QPfjzhvJsV-T",
        "outputId": "adb65bc6-06cd-455b-ec09-f827be36ce83"
      },
      "outputs": [
        {
          "output_type": "stream",
          "name": "stdout",
          "text": [
            "1\n",
            "j:0, i:2\n",
            "j:1, i:3\n",
            "j:2, i:4\n",
            "4\n",
            "j:0, i:5\n",
            "j:1, i:6\n",
            "j:2, i:7\n",
            "7\n",
            "j:0, i:8\n",
            "j:1, i:9\n",
            "j:2, i:10\n"
          ]
        }
      ],
      "source": [
        "i = 1\n",
        "while i < 10:\n",
        "    print(i)\n",
        "    for j in range(3):\n",
        "        i = i + 1\n",
        "        print(f\"j:{j}, i:{i}\")"
      ]
    }
  ]
}