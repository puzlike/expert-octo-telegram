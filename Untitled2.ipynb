{
  "nbformat": 4,
  "nbformat_minor": 0,
  "metadata": {
    "colab": {
      "provenance": [],
      "authorship_tag": "ABX9TyN3Z1acCDBxure/wyFi8BHr",
      "include_colab_link": true
    },
    "kernelspec": {
      "name": "python3",
      "display_name": "Python 3"
    },
    "language_info": {
      "name": "python"
    }
  },
  "cells": [
    {
      "cell_type": "markdown",
      "metadata": {
        "id": "view-in-github",
        "colab_type": "text"
      },
      "source": [
        "<a href=\"https://colab.research.google.com/github/puzlike/expert-octo-telegram/blob/main/Untitled2.ipynb\" target=\"_parent\"><img src=\"https://colab.research.google.com/assets/colab-badge.svg\" alt=\"Open In Colab\"/></a>"
      ]
    },
    {
      "cell_type": "code",
      "execution_count": 7,
      "metadata": {
        "id": "lK6wuKZmTe2K",
        "outputId": "e82cbd7d-8e3b-4b8c-f2fd-b20f85a13ed7",
        "colab": {
          "base_uri": "https://localhost:8080/"
        }
      },
      "outputs": [
        {
          "output_type": "stream",
          "name": "stdout",
          "text": [
            "    国語  数学  英語\n",
            "田中  66  94  51\n",
            "山田  76  60  96\n",
            "    国語  数学  英語\n",
            "加藤  88  94  90\n",
            "小林  75  80  85\n",
            "['国語', '数学', '英語']\n",
            "    数学  英語\n",
            "田中  94  51\n",
            "山田  60  96\n",
            "鈴木  84  68\n",
            "佐藤  59  84\n",
            "伊藤  61  96\n",
            "木村  85  78\n",
            "高橋  92  88\n",
            "斎藤  79  95\n",
            "加藤  94  90\n",
            "小林  80  85\n",
            "    国語  数学  英語\n",
            "山田  76  60  96\n",
            "鈴木  73  84  68\n",
            "佐藤  88  59  84\n",
            "['山田', '鈴木', '佐藤', '伊藤', '木村', '高橋', '斎藤', '加藤', '小林']\n",
            "['山田', '佐藤', '伊藤']\n",
            "['田中']\n",
            "    国語  数学  英語   情報\n",
            "田中  66  94  51   89\n",
            "山田  76  60  96   78\n",
            "鈴木  73  84  68   99\n",
            "佐藤  88  59  84   90\n",
            "伊藤  79  61  96   76\n",
            "木村  90  85  78  100\n",
            "高橋  76  92  88   88\n",
            "斎藤  82  79  95   97\n",
            "加藤  88  94  90   77\n",
            "小林  75  80  85  100\n"
          ]
        }
      ],
      "source": [
        "import pandas as pd\n",
        "\n",
        "df_10_students = pd.DataFrame([[66, 94, 51],[76, 60, 96],[73, 84, 68],[88, 59, 84],[79, 61, 96],[90, 85, 78],[76, 92, 88],[82, 79, 95],[88, 94, 90],[75, 80, 85]],\n",
        "index=[\"田中\", \"山田\", \"鈴木\", \"佐藤\", \"伊藤\", \"木村\", \"高橋\", \"斎藤\", \"加藤\", \"小林\"],\n",
        "columns=[\"国語\", \"数学\", \"英語\"])\n",
        "# 最初と最後の各２行を表示\n",
        "print(df_10_students.head(2))\n",
        "print(df_10_students.tail(2))\n",
        "# 列名を表示\n",
        "print(list(df_10_students.columns))\n",
        "# 数学と英語の点数を表示\n",
        "print(df_10_students[['数学', '英語']])\n",
        "# インデックスが２と３の行を表示\n",
        "print(df_10_students[1:4])\n",
        "# 国語が７０点以上の人を表示\n",
        "print(list(df_10_students.loc[df_10_students['国語']>=70].index))\n",
        "# 数学が７０点未満の人を表示\n",
        "print(list(df_10_students.loc[df_10_students['数学']<70].index))\n",
        "# 数学が80点以上かつ英語が60点未満の人を表示\n",
        "print(list(df_10_students.loc[(df_10_students['数学']>=80)&(df_10_students['英語']<60)].index))\n",
        "# 英語列の後に「情報」の列を作成し、任意の点数を代入して下さい。\n",
        "df_10_students['情報'] = [89, 78, 99, 90, 76, 100, 88, 97, 77, 100]\n",
        "print(df_10_students)"
      ]
    }
  ]
}