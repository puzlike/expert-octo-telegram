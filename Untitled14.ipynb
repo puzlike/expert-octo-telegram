{
  "nbformat": 4,
  "nbformat_minor": 0,
  "metadata": {
    "colab": {
      "provenance": [],
      "authorship_tag": "ABX9TyOpfek3HNd8lHNZIqAbFO3V",
      "include_colab_link": true
    },
    "kernelspec": {
      "name": "python3",
      "display_name": "Python 3"
    },
    "language_info": {
      "name": "python"
    }
  },
  "cells": [
    {
      "cell_type": "markdown",
      "metadata": {
        "id": "view-in-github",
        "colab_type": "text"
      },
      "source": [
        "<a href=\"https://colab.research.google.com/github/puzlike/expert-octo-telegram/blob/main/Untitled14.ipynb\" target=\"_parent\"><img src=\"https://colab.research.google.com/assets/colab-badge.svg\" alt=\"Open In Colab\"/></a>"
      ]
    },
    {
      "cell_type": "code",
      "execution_count": 4,
      "metadata": {
        "colab": {
          "base_uri": "https://localhost:8080/"
        },
        "id": "RNktP1vCyQ2N",
        "outputId": "1c2e0dbe-db0c-4b65-a8dc-0b38fdc8f207"
      },
      "outputs": [
        {
          "output_type": "stream",
          "name": "stdout",
          "text": [
            "Hello Joe\n"
          ]
        }
      ],
      "source": [
        "def removeExtraSpaces(theString):\n",
        "    outSt = theString.strip().replace(\"  \",\" \")\n",
        "    return outSt\n",
        "\n",
        "print(removeExtraSpaces(\" Hello Joe \"))"
      ]
    }
  ]
}