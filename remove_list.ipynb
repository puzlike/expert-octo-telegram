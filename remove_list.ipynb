{
  "nbformat": 4,
  "nbformat_minor": 0,
  "metadata": {
    "colab": {
      "provenance": [],
      "authorship_tag": "ABX9TyNzfTtwdalNnn1Z8wTtv81Z",
      "include_colab_link": true
    },
    "kernelspec": {
      "name": "python3",
      "display_name": "Python 3"
    },
    "language_info": {
      "name": "python"
    }
  },
  "cells": [
    {
      "cell_type": "markdown",
      "metadata": {
        "id": "view-in-github",
        "colab_type": "text"
      },
      "source": [
        "<a href=\"https://colab.research.google.com/github/puzlike/expert-octo-telegram/blob/main/remove_list.ipynb\" target=\"_parent\"><img src=\"https://colab.research.google.com/assets/colab-badge.svg\" alt=\"Open In Colab\"/></a>"
      ]
    },
    {
      "cell_type": "code",
      "execution_count": 1,
      "metadata": {
        "colab": {
          "base_uri": "https://localhost:8080/"
        },
        "id": "l6-pyOhzgH2s",
        "outputId": "0a12da19-b6f0-4b9a-a1d2-95e5173120c4"
      },
      "outputs": [
        {
          "output_type": "execute_result",
          "data": {
            "text/plain": [
              "[(1500.0, 'g', 'peanuts'),\n",
              " (0.5, 'tsp', 'salt'),\n",
              " (2.0, 'tsp', 'oil'),\n",
              " (9000.0, 'g', 'tofu'),\n",
              " (100.0, 'g', 'sugar'),\n",
              " (50.0, 'g', 'tomato sauce'),\n",
              " (120.0, 'g', 'rice'),\n",
              " (420.0, 'g', 'ice cream')]"
            ]
          },
          "metadata": {},
          "execution_count": 1
        }
      ],
      "source": [
        "def remove_from_shopping_list(ingredient_name, amount, shopping_list):\n",
        "    name_list = []\n",
        "    for i in range(len(shopping_list)):\n",
        "        name_list.append(shopping_list[i][2])\n",
        "    i = name_list.index(ingredient_name)\n",
        "    num, unit, name = shopping_list[i]\n",
        "    if name == ingredient_name:\n",
        "        num -= amount\n",
        "    shopping_list[i] = (num, unit, name)\n",
        "\n",
        "shopping_list = [\n",
        "    (1500.0, 'g', 'peanuts'), (0.5, 'tsp', 'salt'),\n",
        "    (2.0, 'tsp', 'oil'), (9000.0, 'g', 'tofu'),\n",
        "    (100.0, 'g', 'sugar'), (50.0, 'g', 'tomato sauce'),\n",
        "    (120.0, 'g','rice'), (920, 'g', 'ice cream')\n",
        "]\n",
        "\n",
        "remove_from_shopping_list('ice cream', 500.0, shopping_list)\n",
        "shopping_list"
      ]
    }
  ]
}