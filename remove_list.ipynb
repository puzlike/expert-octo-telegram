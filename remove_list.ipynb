{
  "nbformat": 4,
  "nbformat_minor": 0,
  "metadata": {
    "colab": {
      "provenance": [],
      "authorship_tag": "ABX9TyNqiImgMHJLJ+JZj76uZZFP",
      "include_colab_link": true
    },
    "kernelspec": {
      "name": "python3",
      "display_name": "Python 3"
    },
    "language_info": {
      "name": "python"
    }
  },
  "cells": [
    {
      "cell_type": "markdown",
      "metadata": {
        "id": "view-in-github",
        "colab_type": "text"
      },
      "source": [
        "<a href=\"https://colab.research.google.com/github/puzlike/expert-octo-telegram/blob/main/remove_list.ipynb\" target=\"_parent\"><img src=\"https://colab.research.google.com/assets/colab-badge.svg\" alt=\"Open In Colab\"/></a>"
      ]
    },
    {
      "cell_type": "code",
      "execution_count": 9,
      "metadata": {
        "colab": {
          "base_uri": "https://localhost:8080/"
        },
        "id": "l6-pyOhzgH2s",
        "outputId": "bbc87ab0-68f9-40e7-f00f-e76b7475b6ec"
      },
      "outputs": [
        {
          "output_type": "execute_result",
          "data": {
            "text/plain": [
              "[(1500.0, 'g', 'peanuts'),\n",
              " (0.5, 'tsp', 'salt'),\n",
              " (2.0, 'tsp', 'oil'),\n",
              " (9000.0, 'g', 'tofu'),\n",
              " (100.0, 'g', 'sugar'),\n",
              " (50.0, 'g', 'tomato sauce'),\n",
              " (120.0, 'g', 'rice'),\n",
              " (420.0, 'g', 'ice cream')]"
            ]
          },
          "metadata": {},
          "execution_count": 9
        }
      ],
      "source": [
        "def remove_from_shopping_list(ingredient_name, amount, shopping_list):\n",
        "    for i, item in enumerate(shopping_list):\n",
        "        if item[2] == ingredient_name:\n",
        "            n = item[0]\n",
        "            n -= amount\n",
        "    shopping_list[i] = (n, item[1], item[2])\n",
        "\n",
        "shopping_list = [\n",
        "    (1500.0, 'g', 'peanuts'), (0.5, 'tsp', 'salt'),\n",
        "    (2.0, 'tsp', 'oil'), (9000.0, 'g', 'tofu'),\n",
        "    (100.0, 'g', 'sugar'), (50.0, 'g', 'tomato sauce'),\n",
        "    (120.0, 'g','rice'), (920, 'g', 'ice cream')\n",
        "]\n",
        "\n",
        "remove_from_shopping_list('ice cream', 500.0, shopping_list)\n",
        "shopping_list"
      ]
    }
  ]
}