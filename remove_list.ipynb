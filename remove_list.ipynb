{
  "nbformat": 4,
  "nbformat_minor": 0,
  "metadata": {
    "colab": {
      "provenance": [],
      "authorship_tag": "ABX9TyN8ocTm7Z13nSkGS6074CvP",
      "include_colab_link": true
    },
    "kernelspec": {
      "name": "python3",
      "display_name": "Python 3"
    },
    "language_info": {
      "name": "python"
    }
  },
  "cells": [
    {
      "cell_type": "markdown",
      "metadata": {
        "id": "view-in-github",
        "colab_type": "text"
      },
      "source": [
        "<a href=\"https://colab.research.google.com/github/puzlike/expert-octo-telegram/blob/main/remove_list.ipynb\" target=\"_parent\"><img src=\"https://colab.research.google.com/assets/colab-badge.svg\" alt=\"Open In Colab\"/></a>"
      ]
    },
    {
      "cell_type": "code",
      "execution_count": 7,
      "metadata": {
        "colab": {
          "base_uri": "https://localhost:8080/"
        },
        "id": "l6-pyOhzgH2s",
        "outputId": "424521ae-1e1b-470c-f595-8d1de2030327"
      },
      "outputs": [
        {
          "output_type": "stream",
          "name": "stdout",
          "text": [
            "[(1500.0, 'g', 'peanuts'), (0.5, 'tsp', 'salt'), (2.0, 'tsp', 'oil'), (9000.0, 'g', 'tofu'), (100.0, 'g', 'sugar'), (50.0, 'g', 'tomato sauce'), (120.0, 'g', 'rice'), (420.0, 'g', 'ice cream')]\n",
            "[(1500.0, 'g', 'peanuts'), (0.5, 'tsp', 'salt'), (2.0, 'tsp', 'oil'), (9000.0, 'g', 'tofu'), (50.0, 'g', 'tomato sauce'), (120.0, 'g', 'rice'), (420.0, 'g', 'ice cream')]\n",
            "[(1500.0, 'g', 'peanuts'), (0.5, 'tsp', 'salt'), (2.0, 'tsp', 'oil'), (9000.0, 'g', 'tofu'), (50.0, 'g', 'tomato sauce'), (120.0, 'g', 'rice')]\n"
          ]
        }
      ],
      "source": [
        "def remove_from_shopping_list(ingredient_name, amount, shopping_list):\n",
        "    name_list = []\n",
        "    for i in range(len(shopping_list)):\n",
        "        name_list.append(shopping_list[i][2])\n",
        "    i = name_list.index(ingredient_name)\n",
        "    num, unit, name = shopping_list[i]\n",
        "    if name == ingredient_name:\n",
        "        if num <= amount:\n",
        "            shopping_list.remove(shopping_list[i])\n",
        "        else:\n",
        "            num -= amount\n",
        "            shopping_list[i] = (num, unit, name)\n",
        "\n",
        "shopping_list = [\n",
        "    (1500.0, 'g', 'peanuts'), (0.5, 'tsp', 'salt'),\n",
        "    (2.0, 'tsp', 'oil'), (9000.0, 'g', 'tofu'),\n",
        "    (100.0, 'g', 'sugar'), (50.0, 'g', 'tomato sauce'),\n",
        "    (120.0, 'g','rice'), (920, 'g', 'ice cream')\n",
        "]\n",
        "\n",
        "remove_from_shopping_list('ice cream', 500.0, shopping_list)\n",
        "print(shopping_list)\n",
        "\n",
        "remove_from_shopping_list('sugar', 500.0, shopping_list)\n",
        "print(shopping_list)\n",
        "\n",
        "remove_from_shopping_list('ice cream', 9000.0, shopping_list)\n",
        "print(shopping_list)"
      ]
    }
  ]
}