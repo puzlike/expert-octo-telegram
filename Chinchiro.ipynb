{
  "nbformat": 4,
  "nbformat_minor": 0,
  "metadata": {
    "colab": {
      "provenance": [],
      "authorship_tag": "ABX9TyMpILgtRI04oaRJLwnlJ714",
      "include_colab_link": true
    },
    "kernelspec": {
      "name": "python3",
      "display_name": "Python 3"
    },
    "language_info": {
      "name": "python"
    }
  },
  "cells": [
    {
      "cell_type": "markdown",
      "metadata": {
        "id": "view-in-github",
        "colab_type": "text"
      },
      "source": [
        "<a href=\"https://colab.research.google.com/github/puzlike/expert-octo-telegram/blob/main/Chinchiro.ipynb\" target=\"_parent\"><img src=\"https://colab.research.google.com/assets/colab-badge.svg\" alt=\"Open In Colab\"/></a>"
      ]
    },
    {
      "cell_type": "code",
      "execution_count": 17,
      "metadata": {
        "colab": {
          "base_uri": "https://localhost:8080/"
        },
        "id": "zNRkOxIExBAg",
        "outputId": "ef63ecce-cc7b-438b-f67c-69320233c6f0"
      },
      "outputs": [
        {
          "output_type": "stream",
          "name": "stdout",
          "text": [
            "掛け金：100\n",
            "ワンペア！\n",
            "所持金：150.0\n",
            "続けますか y/n：y\n",
            "役無し！\n",
            "所持金：0.0\n",
            "負け！\n"
          ]
        }
      ],
      "source": [
        "import random\n",
        "bet = int(input(\"掛け金：\"))\n",
        "\n",
        "dices = []\n",
        "while True:\n",
        "  for n in range(3):\n",
        "    dice = random.randint(1, 6)\n",
        "    dices.append(dice)\n",
        "\n",
        "  rate = random.random()\n",
        "  if rate < 0.05:\n",
        "    print(\"しょんべん！\")\n",
        "    bet *= 0\n",
        "  else:\n",
        "    if dices == [1, 1, 1]:\n",
        "      print(\"ピンゾロ！\")\n",
        "      bet *= 5\n",
        "    elif len(set(dices)) == 1:\n",
        "      print(\"ゾロ目！\")\n",
        "      bet *= 3\n",
        "    elif (4 in dices) and (5 in dices) and (6 in dices):\n",
        "      print(\"シゴロ！\")\n",
        "      bet *= 2\n",
        "    elif len(set(dices)) == 2:\n",
        "      print(\"ワンペア！\")\n",
        "      bet *= 1.5\n",
        "    elif (1 in dices) and (2 in dices) and (3 in dices):\n",
        "      print(\"ヒフミ！\")\n",
        "      bet *= -2\n",
        "    else:\n",
        "      print(\"役無し！\")\n",
        "      bet *= 0\n",
        "  print(f\"所持金：{bet}\")\n",
        "  if bet <= 0:\n",
        "    print(\"負け！\")\n",
        "    break\n",
        "  else:\n",
        "    result = input(\"続けますか y/n：\")\n",
        "    if result == \"n\":\n",
        "      print(f\"払戻金：{bet}\")\n",
        "      break\n",
        ""
      ]
    }
  ]
}