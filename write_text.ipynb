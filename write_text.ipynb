{
  "nbformat": 4,
  "nbformat_minor": 0,
  "metadata": {
    "colab": {
      "provenance": [],
      "authorship_tag": "ABX9TyOoHbNzOihNMZc+CDE5XDle",
      "include_colab_link": true
    },
    "kernelspec": {
      "name": "python3",
      "display_name": "Python 3"
    },
    "language_info": {
      "name": "python"
    }
  },
  "cells": [
    {
      "cell_type": "markdown",
      "metadata": {
        "id": "view-in-github",
        "colab_type": "text"
      },
      "source": [
        "<a href=\"https://colab.research.google.com/github/puzlike/expert-octo-telegram/blob/main/write_text.ipynb\" target=\"_parent\"><img src=\"https://colab.research.google.com/assets/colab-badge.svg\" alt=\"Open In Colab\"/></a>"
      ]
    },
    {
      "cell_type": "code",
      "execution_count": 6,
      "metadata": {
        "colab": {
          "base_uri": "https://localhost:8080/"
        },
        "id": "cwk-5j3bRH3b",
        "outputId": "560bebcf-0b5c-4f22-8036-a24b0b5c9f5a"
      },
      "outputs": [
        {
          "output_type": "stream",
          "name": "stdout",
          "text": [
            "文字列を入力してください：aska\n",
            "文字列を入力してください：kine\n",
            "文字列を入力してください：bye\n",
            "aska\n",
            "kine\n",
            "\n"
          ]
        }
      ],
      "source": [
        "with open('text.txt', 'w') as file:\n",
        "    while True:\n",
        "        text = input(\"文字列を入力してください：\")\n",
        "        if text == \"bye\":\n",
        "            break\n",
        "        file.write(text + '\\n')\n",
        "with open('text.txt', 'r') as file:\n",
        "    content = file.read()\n",
        "print(content)"
      ]
    }
  ]
}