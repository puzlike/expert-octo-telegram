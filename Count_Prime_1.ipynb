{
  "nbformat": 4,
  "nbformat_minor": 0,
  "metadata": {
    "colab": {
      "provenance": [],
      "authorship_tag": "ABX9TyO9a5fgl6vvGvPVvHCuRB+5",
      "include_colab_link": true
    },
    "kernelspec": {
      "name": "python3",
      "display_name": "Python 3"
    },
    "language_info": {
      "name": "python"
    }
  },
  "cells": [
    {
      "cell_type": "markdown",
      "metadata": {
        "id": "view-in-github",
        "colab_type": "text"
      },
      "source": [
        "<a href=\"https://colab.research.google.com/github/puzlike/expert-octo-telegram/blob/main/Count_Prime_1.ipynb\" target=\"_parent\"><img src=\"https://colab.research.google.com/assets/colab-badge.svg\" alt=\"Open In Colab\"/></a>"
      ]
    },
    {
      "cell_type": "code",
      "execution_count": 22,
      "metadata": {
        "colab": {
          "base_uri": "https://localhost:8080/"
        },
        "id": "KbuSlqaYMng2",
        "outputId": "dd9b785d-78b3-4f34-a4fd-f08ebd90e511"
      },
      "outputs": [
        {
          "output_type": "stream",
          "name": "stdout",
          "text": [
            "0から10000までの素数の個数は1229です。\n"
          ]
        }
      ],
      "source": [
        "\n",
        "\n",
        "num = 10000\n",
        "primes = [value for value in range(num + 1)]\n",
        "primes = primes[2:]\n",
        "idx = 2\n",
        "del_num = 0\n",
        "for n in range(idx, num + 1):\n",
        "    for m in range(2, n):\n",
        "        if m == del_num:\n",
        "            continue\n",
        "        if n % m == 0:\n",
        "            del_num = n\n",
        "            primes.remove(del_num)\n",
        "            break\n",
        "l = len(primes)\n",
        "print(f\"0から{num}までの素数の個数は{l}です。\")\n",
        "\n"
      ]
    }
  ]
}