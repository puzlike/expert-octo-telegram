{
  "nbformat": 4,
  "nbformat_minor": 0,
  "metadata": {
    "colab": {
      "provenance": [],
      "authorship_tag": "ABX9TyMdgmIyBlgWOi0GNzezwYO9",
      "include_colab_link": true
    },
    "kernelspec": {
      "name": "python3",
      "display_name": "Python 3"
    },
    "language_info": {
      "name": "python"
    }
  },
  "cells": [
    {
      "cell_type": "markdown",
      "metadata": {
        "id": "view-in-github",
        "colab_type": "text"
      },
      "source": [
        "<a href=\"https://colab.research.google.com/github/puzlike/expert-octo-telegram/blob/main/Untitled1.ipynb\" target=\"_parent\"><img src=\"https://colab.research.google.com/assets/colab-badge.svg\" alt=\"Open In Colab\"/></a>"
      ]
    },
    {
      "cell_type": "code",
      "execution_count": 3,
      "metadata": {
        "colab": {
          "base_uri": "https://localhost:8080/"
        },
        "id": "O9llIk0p4Vhc",
        "outputId": "eb48b8ee-ee59-4b44-9c84-655ec4d83717"
      },
      "outputs": [
        {
          "output_type": "stream",
          "name": "stdout",
          "text": [
            "数当てゲーム(1〜100の範囲の数)\n",
            "何回で当てられるか挑戦！ 中断は[C]を入力\n",
            "数？ 50\n",
            "50より大きい数です。\n",
            "数？ 80\n",
            "80より小さい数です。\n",
            "数？ 70\n",
            "70より小さい数です。\n",
            "数？ 66\n",
            "    66で当たりです   \n",
            "--- 4回目で当たりました ---\n"
          ]
        }
      ],
      "source": [
        "import random\n",
        "print(\"数当てゲーム(1〜100の範囲の数)\\n何回で当てられるか挑戦！ 中断は[C]を入力\")\n",
        "rnd_num = random.randint(1, 100)\n",
        "count = 1\n",
        "while True:\n",
        "  num = int(input(\"数？ \"))\n",
        "  if num == rnd_num:\n",
        "    break\n",
        "  else:\n",
        "    diff = num - rnd_num\n",
        "    count += 1\n",
        "    if diff > 0:\n",
        "      print(f\"{num}より小さい数です。\")\n",
        "    else:\n",
        "      print(f\"{num}より大きい数です。\")\n",
        "\n",
        "print(f\"    {num}で当たりです   \")\n",
        "print(f\"--- {count}回目で当たりました ---\")\n",
        "\n"
      ]
    }
  ]
}