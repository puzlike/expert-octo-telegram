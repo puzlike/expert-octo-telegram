{
  "nbformat": 4,
  "nbformat_minor": 0,
  "metadata": {
    "colab": {
      "provenance": [],
      "authorship_tag": "ABX9TyN1kPRqcipOo1pk0L1jBIRE",
      "include_colab_link": true
    },
    "kernelspec": {
      "name": "python3",
      "display_name": "Python 3"
    },
    "language_info": {
      "name": "python"
    }
  },
  "cells": [
    {
      "cell_type": "markdown",
      "metadata": {
        "id": "view-in-github",
        "colab_type": "text"
      },
      "source": [
        "<a href=\"https://colab.research.google.com/github/puzlike/expert-octo-telegram/blob/main/pra.ipynb\" target=\"_parent\"><img src=\"https://colab.research.google.com/assets/colab-badge.svg\" alt=\"Open In Colab\"/></a>"
      ]
    },
    {
      "cell_type": "code",
      "execution_count": 1,
      "metadata": {
        "colab": {
          "base_uri": "https://localhost:8080/"
        },
        "id": "Hn-mTz9OsiOP",
        "outputId": "3bd2a0bb-7b0c-4c1a-995a-47e0d18387c6"
      },
      "outputs": [
        {
          "output_type": "stream",
          "name": "stdout",
          "text": [
            "あなたの名前はなんですか？恵理\n",
            "わたしの名前でしょう？ソラ\n",
            "わたしは ソラ ちゃん あなたは 恵理 さん\n",
            "恵理 さん、はじめまして！\n"
          ]
        }
      ],
      "source": [
        "#pra1-5\n",
        "your_name = input(\"あなたの名前はなんですか？\")\n",
        "my_name = input(\"わたしの名前でしょう？\")\n",
        "print(\"わたしは \" + my_name + \" ちゃん あなたは \" + your_name + \" さん\")\n",
        "print(your_name + \" さん、はじめまして！\")"
      ]
    },
    {
      "cell_type": "code",
      "source": [
        "#pra1-5ex\n",
        "like_thing = input(\"あなたの好きなものはなんですか？\")\n",
        "print(like_thing + \"が好きなんですね!\")"
      ],
      "metadata": {
        "colab": {
          "base_uri": "https://localhost:8080/"
        },
        "id": "3LaCg2UTuSvz",
        "outputId": "c827a1ee-add5-43e0-dfa1-8ce6cf3e6452"
      },
      "execution_count": 3,
      "outputs": [
        {
          "output_type": "stream",
          "name": "stdout",
          "text": [
            "あなたの好きなものはなんですか？ゲーム\n",
            "ゲームが好きなんですね!\n"
          ]
        }
      ]
    }
  ]
}