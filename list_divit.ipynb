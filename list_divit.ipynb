{
  "nbformat": 4,
  "nbformat_minor": 0,
  "metadata": {
    "colab": {
      "provenance": [],
      "authorship_tag": "ABX9TyOlpTttL9LDWbqBjZIFtBTG",
      "include_colab_link": true
    },
    "kernelspec": {
      "name": "python3",
      "display_name": "Python 3"
    },
    "language_info": {
      "name": "python"
    }
  },
  "cells": [
    {
      "cell_type": "markdown",
      "metadata": {
        "id": "view-in-github",
        "colab_type": "text"
      },
      "source": [
        "<a href=\"https://colab.research.google.com/github/puzlike/expert-octo-telegram/blob/main/list_divit.ipynb\" target=\"_parent\"><img src=\"https://colab.research.google.com/assets/colab-badge.svg\" alt=\"Open In Colab\"/></a>"
      ]
    },
    {
      "cell_type": "code",
      "execution_count": 15,
      "metadata": {
        "colab": {
          "base_uri": "https://localhost:8080/"
        },
        "id": "GwdMTWatAX7z",
        "outputId": "04cabd93-1d8f-44ed-b6aa-4ceaba23822d"
      },
      "outputs": [
        {
          "output_type": "stream",
          "name": "stdout",
          "text": [
            "[73, 59, 92, 83, 75, 52, 95, 70, 69, 80]\n",
            "[73, 92, 75, 95, 69]\n",
            "[59, 83, 52, 70, 80]\n"
          ]
        }
      ],
      "source": [
        "data = [73, 59, 92, 83, 75, 52, 95, 70, 69, 80]\n",
        "gusu = []\n",
        "kisu = []\n",
        "for i in range(len(data)):\n",
        "  if i % 2 == 0:\n",
        "    gusu.append(data[i])\n",
        "  else:\n",
        "    kisu.append(data[i])\n",
        "\n",
        "print(data)\n",
        "print(gusu)\n",
        "print(kisu)"
      ]
    }
  ]
}