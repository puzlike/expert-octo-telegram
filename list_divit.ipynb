{
  "nbformat": 4,
  "nbformat_minor": 0,
  "metadata": {
    "colab": {
      "provenance": [],
      "authorship_tag": "ABX9TyN6vMJT86sJFPiho6ylNlP8",
      "include_colab_link": true
    },
    "kernelspec": {
      "name": "python3",
      "display_name": "Python 3"
    },
    "language_info": {
      "name": "python"
    }
  },
  "cells": [
    {
      "cell_type": "markdown",
      "metadata": {
        "id": "view-in-github",
        "colab_type": "text"
      },
      "source": [
        "<a href=\"https://colab.research.google.com/github/puzlike/expert-octo-telegram/blob/main/list_divit.ipynb\" target=\"_parent\"><img src=\"https://colab.research.google.com/assets/colab-badge.svg\" alt=\"Open In Colab\"/></a>"
      ]
    },
    {
      "cell_type": "code",
      "execution_count": 19,
      "metadata": {
        "colab": {
          "base_uri": "https://localhost:8080/"
        },
        "id": "GwdMTWatAX7z",
        "outputId": "4388ec9a-00de-4e90-be04-6815a74a8fde"
      },
      "outputs": [
        {
          "output_type": "stream",
          "name": "stdout",
          "text": [
            "[73, 59, 92, 83, 75, 52, 95, 70, 69, 80]\n",
            "[73, 92, 75, 95, 69]\n",
            "[59, 83, 52, 70, 80]\n"
          ]
        }
      ],
      "source": [
        "data = [73, 59, 92, 83, 75, 52, 95, 70, 69, 80]\n",
        "gusu = []\n",
        "kisu = []\n",
        "n = len(data)\n",
        "i = 0\n",
        "while i < n:\n",
        "  if i % 2 == 0:\n",
        "    gusu.append(data[i])\n",
        "  else:\n",
        "    kisu.append(data[i])\n",
        "  i += 1\n",
        "print(data)\n",
        "print(gusu)\n",
        "print(kisu)"
      ]
    }
  ]
}