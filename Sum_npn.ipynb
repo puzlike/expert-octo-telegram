{
  "nbformat": 4,
  "nbformat_minor": 0,
  "metadata": {
    "colab": {
      "provenance": [],
      "authorship_tag": "ABX9TyOhTZBxsBGzhulPItRQVyvE",
      "include_colab_link": true
    },
    "kernelspec": {
      "name": "python3",
      "display_name": "Python 3"
    },
    "language_info": {
      "name": "python"
    }
  },
  "cells": [
    {
      "cell_type": "markdown",
      "metadata": {
        "id": "view-in-github",
        "colab_type": "text"
      },
      "source": [
        "<a href=\"https://colab.research.google.com/github/puzlike/expert-octo-telegram/blob/main/Sum_npn.ipynb\" target=\"_parent\"><img src=\"https://colab.research.google.com/assets/colab-badge.svg\" alt=\"Open In Colab\"/></a>"
      ]
    },
    {
      "cell_type": "code",
      "execution_count": 5,
      "metadata": {
        "colab": {
          "base_uri": "https://localhost:8080/"
        },
        "id": "RNx0SolX0P3n",
        "outputId": "7a9ff78b-f362-4144-a204-21907b562a64"
      },
      "outputs": [
        {
          "output_type": "stream",
          "name": "stdout",
          "text": [
            "整数:n >> 10\n",
            "1^1+2^2+･･･+10^10=10405071317\n"
          ]
        }
      ],
      "source": [
        "n = int(input('整数:n >> '))\n",
        "sum_npn= 0\n",
        "for i in range(1, n + 1):\n",
        "    sum_npn += i**i\n",
        "print(f'1^1+2^2+･･･+{n}^{n}={sum_npn}')"
      ]
    }
  ]
}