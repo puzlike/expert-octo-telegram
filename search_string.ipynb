{
  "nbformat": 4,
  "nbformat_minor": 0,
  "metadata": {
    "colab": {
      "provenance": [],
      "authorship_tag": "ABX9TyOTvFryQ1vXfsFlYKdnrUNi",
      "include_colab_link": true
    },
    "kernelspec": {
      "name": "python3",
      "display_name": "Python 3"
    },
    "language_info": {
      "name": "python"
    }
  },
  "cells": [
    {
      "cell_type": "markdown",
      "metadata": {
        "id": "view-in-github",
        "colab_type": "text"
      },
      "source": [
        "<a href=\"https://colab.research.google.com/github/puzlike/expert-octo-telegram/blob/main/search_string.ipynb\" target=\"_parent\"><img src=\"https://colab.research.google.com/assets/colab-badge.svg\" alt=\"Open In Colab\"/></a>"
      ]
    },
    {
      "cell_type": "code",
      "execution_count": 3,
      "metadata": {
        "colab": {
          "base_uri": "https://localhost:8080/"
        },
        "id": "7s1vDIL5G9ws",
        "outputId": "febf2cab-bf61-4c05-aa26-d6945d1f285f"
      },
      "outputs": [
        {
          "output_type": "stream",
          "name": "stdout",
          "text": [
            "憂憂"
          ]
        }
      ],
      "source": [
        "y =\"愛愛愛愛愛愛憂愛愛愛愛愛愛憂\"\n",
        "n = y.count(\"憂\")\n",
        "for i in range(n):\n",
        "    print(\"憂\",end=\"\")"
      ]
    }
  ]
}