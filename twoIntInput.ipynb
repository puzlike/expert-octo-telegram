{
  "nbformat": 4,
  "nbformat_minor": 0,
  "metadata": {
    "colab": {
      "provenance": [],
      "authorship_tag": "ABX9TyOzt9qRYbtaPykZfVlcRdDQ",
      "include_colab_link": true
    },
    "kernelspec": {
      "name": "python3",
      "display_name": "Python 3"
    },
    "language_info": {
      "name": "python"
    }
  },
  "cells": [
    {
      "cell_type": "markdown",
      "metadata": {
        "id": "view-in-github",
        "colab_type": "text"
      },
      "source": [
        "<a href=\"https://colab.research.google.com/github/puzlike/expert-octo-telegram/blob/main/twoIntInput.ipynb\" target=\"_parent\"><img src=\"https://colab.research.google.com/assets/colab-badge.svg\" alt=\"Open In Colab\"/></a>"
      ]
    },
    {
      "cell_type": "code",
      "execution_count": 1,
      "metadata": {
        "colab": {
          "base_uri": "https://localhost:8080/"
        },
        "id": "fvln3vVEsDzR",
        "outputId": "9e171579-9a10-498c-8a3a-da83665fbe15"
      },
      "outputs": [
        {
          "output_type": "stream",
          "name": "stdout",
          "text": [
            "整数1：10\n",
            "整数2：2\n",
            "10 × 2 = 20\n"
          ]
        }
      ],
      "source": [
        "def twoIntInput(x, y):\n",
        "    z = x * y\n",
        "    return z\n",
        "\n",
        "x = int(input(\"整数1：\"))\n",
        "y = int(input(\"整数2：\"))\n",
        "print(f\"{x} × {y} = {twoIntInput(x, y)}\")"
      ]
    }
  ]
}