{
  "nbformat": 4,
  "nbformat_minor": 0,
  "metadata": {
    "colab": {
      "provenance": [],
      "authorship_tag": "ABX9TyOEQvFZT0FtdohMaQ+Jj77F",
      "include_colab_link": true
    },
    "kernelspec": {
      "name": "python3",
      "display_name": "Python 3"
    },
    "language_info": {
      "name": "python"
    }
  },
  "cells": [
    {
      "cell_type": "markdown",
      "metadata": {
        "id": "view-in-github",
        "colab_type": "text"
      },
      "source": [
        "<a href=\"https://colab.research.google.com/github/puzlike/expert-octo-telegram/blob/main/kuku.ipynb\" target=\"_parent\"><img src=\"https://colab.research.google.com/assets/colab-badge.svg\" alt=\"Open In Colab\"/></a>"
      ]
    },
    {
      "cell_type": "code",
      "execution_count": 25,
      "metadata": {
        "colab": {
          "base_uri": "https://localhost:8080/"
        },
        "id": "0T9XYR63puE_",
        "outputId": "8f59593c-4925-459d-a841-d5e9c1cb0b37"
      },
      "outputs": [
        {
          "output_type": "stream",
          "name": "stdout",
          "text": [
            "  1  2  3  4  5  6  7  8  9\n",
            "   2  4  6  8 10 12 14 16 18\n",
            "   3  6  9 12 15 18 21 24 27\n",
            "   4  8 12 16 20 24 28 32 36\n",
            "   5 10 15 20 25 30 35 40 45\n",
            "   6 12 18 24 30 36 42 48 54\n",
            "   7 14 21 28 35 42 49 56 63\n",
            "   8 16 24 32 40 48 56 64 72\n",
            "   9 18 27 36 45 54 63 72 81\n"
          ]
        }
      ],
      "source": [
        "for x in range(1, 10):\n",
        "    if x > 1:\n",
        "        print(\" \",end=\"\")\n",
        "    for y in range(1, 10):\n",
        "        num = x * y\n",
        "        if num < 10:\n",
        "            print(\"  \" + str(num), end=\"\")\n",
        "        else:\n",
        "            print(\" \" + str(num), end=\"\")\n",
        "    print()"
      ]
    }
  ]
}