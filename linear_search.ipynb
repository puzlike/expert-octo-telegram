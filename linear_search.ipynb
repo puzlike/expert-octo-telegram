{
  "nbformat": 4,
  "nbformat_minor": 0,
  "metadata": {
    "colab": {
      "provenance": [],
      "authorship_tag": "ABX9TyPV6tqvmWdV8uascKCf/2GT",
      "include_colab_link": true
    },
    "kernelspec": {
      "name": "python3",
      "display_name": "Python 3"
    },
    "language_info": {
      "name": "python"
    }
  },
  "cells": [
    {
      "cell_type": "markdown",
      "metadata": {
        "id": "view-in-github",
        "colab_type": "text"
      },
      "source": [
        "<a href=\"https://colab.research.google.com/github/puzlike/expert-octo-telegram/blob/main/linear_search.ipynb\" target=\"_parent\"><img src=\"https://colab.research.google.com/assets/colab-badge.svg\" alt=\"Open In Colab\"/></a>"
      ]
    },
    {
      "cell_type": "code",
      "execution_count": 3,
      "metadata": {
        "colab": {
          "base_uri": "https://localhost:8080/"
        },
        "id": "A_CI4jKIPOPf",
        "outputId": "1a4aa040-a4e0-430f-ad73-0d6e9d10cba7"
      },
      "outputs": [
        {
          "output_type": "stream",
          "name": "stdout",
          "text": [
            "数値を入力してください。終了するには'q'を入力してください。\n",
            "12\n",
            "34\n",
            "56\n",
            "78\n",
            "90\n",
            "q\n",
            "探したい数値を入力してください。--> 34\n",
            "34は2番目にありました。\n"
          ]
        }
      ],
      "source": [
        "num_list = []\n",
        "print(\"数値を入力してください。終了するには'q'を入力してください。\")\n",
        "while True:\n",
        "    num = input()\n",
        "    if num == 'q':\n",
        "        break\n",
        "    num_list.append(int(num))\n",
        "\n",
        "search_num = int(input('探したい数値を入力してください。--> '))\n",
        "for num in num_list:\n",
        "    if search_num == num:\n",
        "        i = num_list.index(num)\n",
        "        print(f'{search_num}は{i + 1}番目にありました。')\n",
        "if search_num not in num_list:\n",
        "    print(f'{search_num}は見つかりませんでした。')"
      ]
    }
  ]
}