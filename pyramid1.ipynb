{
  "nbformat": 4,
  "nbformat_minor": 0,
  "metadata": {
    "colab": {
      "provenance": [],
      "authorship_tag": "ABX9TyOtNDUf+sEDtK52DFO23IKz",
      "include_colab_link": true
    },
    "kernelspec": {
      "name": "python3",
      "display_name": "Python 3"
    },
    "language_info": {
      "name": "python"
    }
  },
  "cells": [
    {
      "cell_type": "markdown",
      "metadata": {
        "id": "view-in-github",
        "colab_type": "text"
      },
      "source": [
        "<a href=\"https://colab.research.google.com/github/puzlike/expert-octo-telegram/blob/main/pyramid1.ipynb\" target=\"_parent\"><img src=\"https://colab.research.google.com/assets/colab-badge.svg\" alt=\"Open In Colab\"/></a>"
      ]
    },
    {
      "cell_type": "code",
      "execution_count": 10,
      "metadata": {
        "colab": {
          "base_uri": "https://localhost:8080/"
        },
        "id": "vt9-BWYWmX62",
        "outputId": "311ed49e-723c-48f9-ac19-c022083c99d9"
      },
      "outputs": [
        {
          "output_type": "stream",
          "name": "stdout",
          "text": [
            "            0\n",
            "           01\n",
            "          012\n",
            "         0123\n",
            "        01234\n",
            "       012345\n",
            "      0123456\n",
            "     01234567\n",
            "    012345678\n",
            "   0123456789\n"
          ]
        }
      ],
      "source": [
        "s = \"\"\n",
        "for i in range(10):\n",
        "    s += str(i)\n",
        "    print(\" \"*(10-i+1),s)"
      ]
    }
  ]
}