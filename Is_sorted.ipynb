{
  "nbformat": 4,
  "nbformat_minor": 0,
  "metadata": {
    "colab": {
      "provenance": [],
      "authorship_tag": "ABX9TyMJSwZe0vBPiErkjCMbnswt",
      "include_colab_link": true
    },
    "kernelspec": {
      "name": "python3",
      "display_name": "Python 3"
    },
    "language_info": {
      "name": "python"
    }
  },
  "cells": [
    {
      "cell_type": "markdown",
      "metadata": {
        "id": "view-in-github",
        "colab_type": "text"
      },
      "source": [
        "<a href=\"https://colab.research.google.com/github/puzlike/expert-octo-telegram/blob/main/Is_sorted.ipynb\" target=\"_parent\"><img src=\"https://colab.research.google.com/assets/colab-badge.svg\" alt=\"Open In Colab\"/></a>"
      ]
    },
    {
      "cell_type": "code",
      "execution_count": 1,
      "metadata": {
        "id": "TM9kRAffX5ng"
      },
      "outputs": [],
      "source": [
        "def is_sorted(num_list):\n",
        "  flag = True\n",
        "  l = len(num_list)\n",
        "  if l > 1:\n",
        "    for i in range(l -1):\n",
        "      for j in range(i, l):\n",
        "        if num_list[i] > num_list[j]:\n",
        "          flag = False\n",
        "  return flag"
      ]
    },
    {
      "cell_type": "code",
      "source": [
        "assert(is_sorted([2, 1, 0])==False)\n",
        "assert(is_sorted([3, 5, 9])==True)"
      ],
      "metadata": {
        "id": "Dd8nRV0yZgt-"
      },
      "execution_count": 2,
      "outputs": []
    }
  ]
}