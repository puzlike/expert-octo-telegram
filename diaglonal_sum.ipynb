{
  "nbformat": 4,
  "nbformat_minor": 0,
  "metadata": {
    "colab": {
      "provenance": [],
      "authorship_tag": "ABX9TyOkPNJDHbjMi7TA28eW1YKA",
      "include_colab_link": true
    },
    "kernelspec": {
      "name": "python3",
      "display_name": "Python 3"
    },
    "language_info": {
      "name": "python"
    }
  },
  "cells": [
    {
      "cell_type": "markdown",
      "metadata": {
        "id": "view-in-github",
        "colab_type": "text"
      },
      "source": [
        "<a href=\"https://colab.research.google.com/github/puzlike/expert-octo-telegram/blob/main/diaglonal_sum.ipynb\" target=\"_parent\"><img src=\"https://colab.research.google.com/assets/colab-badge.svg\" alt=\"Open In Colab\"/></a>"
      ]
    },
    {
      "cell_type": "code",
      "execution_count": 7,
      "metadata": {
        "colab": {
          "base_uri": "https://localhost:8080/"
        },
        "id": "iD_C_MIja1z9",
        "outputId": "cc9ce2ce-593a-4a83-f6da-7c86bc11ef5c"
      },
      "outputs": [
        {
          "output_type": "stream",
          "name": "stdout",
          "text": [
            "[1, 2, 3, 4]\n",
            "[2, 3, 4, 5]\n",
            "[4, 5, 6, 7]\n",
            "[2, 4, 6, 8]\n",
            "対角和は18\n"
          ]
        }
      ],
      "source": [
        "num_list = [[1, 2, 3, 4], [2, 3, 4, 5], [4, 5, 6, 7], [2, 4, 6, 8]]\n",
        "l = len(num_list)\n",
        "total = 0\n",
        "for i in range(l):\n",
        "    print(num_list[i])\n",
        "    total += num_list[i][i]\n",
        "print(f\"対角和は{total}\")"
      ]
    }
  ]
}