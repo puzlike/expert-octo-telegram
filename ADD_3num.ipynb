{
  "nbformat": 4,
  "nbformat_minor": 0,
  "metadata": {
    "colab": {
      "provenance": [],
      "mount_file_id": "1w_YTamF7hMYz7DhRtbUVizRA3WrqETKs",
      "authorship_tag": "ABX9TyN8mN+9uDpRMpMzmZhfrCWW",
      "include_colab_link": true
    },
    "kernelspec": {
      "name": "python3",
      "display_name": "Python 3"
    },
    "language_info": {
      "name": "python"
    }
  },
  "cells": [
    {
      "cell_type": "markdown",
      "metadata": {
        "id": "view-in-github",
        "colab_type": "text"
      },
      "source": [
        "<a href=\"https://colab.research.google.com/github/puzlike/expert-octo-telegram/blob/main/ADD_3num.ipynb\" target=\"_parent\"><img src=\"https://colab.research.google.com/assets/colab-badge.svg\" alt=\"Open In Colab\"/></a>"
      ]
    },
    {
      "cell_type": "code",
      "source": [
        "n = input('整数を3つ入力---> ')\n",
        "num_list = n.split(' ')\n",
        "num_list = [int(x) for x in num_list]\n",
        "a, b, c = num_list\n",
        "sum_num = sum(num_list)\n",
        "print(f'{a}と{b}と{c}の和は{sum_num}です。')"
      ],
      "metadata": {
        "colab": {
          "base_uri": "https://localhost:8080/"
        },
        "id": "vGW7NHnRP93V",
        "outputId": "4b48d0fe-d5cc-4018-fb56-2ebc1ca2d72c"
      },
      "execution_count": 13,
      "outputs": [
        {
          "output_type": "stream",
          "name": "stdout",
          "text": [
            "整数を3つ入力---> 1 2 3\n",
            "1と2と3の和は6です。\n"
          ]
        }
      ]
    }
  ]
}