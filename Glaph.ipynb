{
  "nbformat": 4,
  "nbformat_minor": 0,
  "metadata": {
    "colab": {
      "provenance": [],
      "authorship_tag": "ABX9TyO3r4Uk2U8sOp6eF8ZXgn3A",
      "include_colab_link": true
    },
    "kernelspec": {
      "name": "python3",
      "display_name": "Python 3"
    },
    "language_info": {
      "name": "python"
    }
  },
  "cells": [
    {
      "cell_type": "markdown",
      "metadata": {
        "id": "view-in-github",
        "colab_type": "text"
      },
      "source": [
        "<a href=\"https://colab.research.google.com/github/puzlike/expert-octo-telegram/blob/main/Glaph.ipynb\" target=\"_parent\"><img src=\"https://colab.research.google.com/assets/colab-badge.svg\" alt=\"Open In Colab\"/></a>"
      ]
    },
    {
      "cell_type": "code",
      "execution_count": null,
      "metadata": {
        "id": "wa2wZTvajFWN"
      },
      "outputs": [],
      "source": [
        "from openpyxl import Workbook\n",
        "from openpyxl.chart import BarChart, Reference\n",
        "\n",
        "\n",
        "wb = Workbook()\n",
        "ws = wb.active\n",
        "\n",
        "data_list = [[\"県名\", \"A県\", \"B県\", \"C県\"], [\"1月\", 1.9, 48.6, 71.8], [\"2月\", 116, 60.2, 89.5], [\"3月\", 69.5, 114.5, 180.2]]\n",
        "\n",
        "row_num = 1\n",
        "for row in data_list:\n",
        "    ws.cell(row_num, 1).value = row[0]\n",
        "    ws.cell(row_num, 2).value = row[1]\n",
        "    ws.cell(row_num, 3).value = row[2]\n",
        "    ws.cell(row_num, 4).value = row[3]\n",
        "    row_num = row_num + 1\n",
        "\n",
        "bar = BarChart()\n",
        "bar.width = 18\n",
        "bar.height = 10\n",
        "bar.type = 'col'\n",
        "bar.grouping ='standard'\n",
        "bar.gacwidth = 200\n",
        "\n",
        "data = Reference(ws, min_col=2, min_row=1, max_col=4, max_row=4)\n",
        "labels = Reference(ws, min_col=1, max_col=1, min_row=2, max_row=4)\n",
        "bar.add_data(data, titles_from_data=True)\n",
        "bar.set_categories(labels)\n",
        "\n",
        "bar.varyColors = True\n",
        "bar.y_axis.title = '売上'\n",
        "bar.title = '月別売上'\n",
        "\n",
        "ws.add_chart(bar, 'B9')\n",
        "wb.save(\"月別売上票(グラフ).xlsx\")"
      ]
    }
  ]
}