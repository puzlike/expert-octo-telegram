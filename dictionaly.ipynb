{
  "nbformat": 4,
  "nbformat_minor": 0,
  "metadata": {
    "colab": {
      "provenance": [],
      "authorship_tag": "ABX9TyOYgwsGYqZW7zM/bRDPHScD",
      "include_colab_link": true
    },
    "kernelspec": {
      "name": "python3",
      "display_name": "Python 3"
    },
    "language_info": {
      "name": "python"
    }
  },
  "cells": [
    {
      "cell_type": "markdown",
      "metadata": {
        "id": "view-in-github",
        "colab_type": "text"
      },
      "source": [
        "<a href=\"https://colab.research.google.com/github/puzlike/expert-octo-telegram/blob/main/dictionaly.ipynb\" target=\"_parent\"><img src=\"https://colab.research.google.com/assets/colab-badge.svg\" alt=\"Open In Colab\"/></a>"
      ]
    },
    {
      "cell_type": "code",
      "execution_count": 8,
      "metadata": {
        "colab": {
          "base_uri": "https://localhost:8080/"
        },
        "id": "598hvyWyaCwc",
        "outputId": "f61adb97-52e0-4861-875d-90bd17fbe037"
      },
      "outputs": [
        {
          "output_type": "stream",
          "name": "stdout",
          "text": [
            "{'weather_info': {'sky': [{'color': 'blue', 'weather': 'sunny'}, {'color': 'orange', 'weather': 'sunny'}]}}\n"
          ]
        }
      ],
      "source": [
        "sky = []\n",
        "sky.append({\"color\": \"blue\", \"weather\": \"sunny\"})\n",
        "sky.append({\"color\": \"orange\", \"weather\": \"sunny\"})\n",
        "sky_dict = {}\n",
        "sky_dict[\"sky\"] = sky\n",
        "dict = {}\n",
        "dict[\"weather_info\"] = sky_dict\n",
        "print(dict)"
      ]
    }
  ]
}