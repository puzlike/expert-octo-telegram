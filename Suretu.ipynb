{
  "nbformat": 4,
  "nbformat_minor": 0,
  "metadata": {
    "colab": {
      "provenance": [],
      "authorship_tag": "ABX9TyOpqQAxz7gWdBpL5PSnG4Z9",
      "include_colab_link": true
    },
    "kernelspec": {
      "name": "python3",
      "display_name": "Python 3"
    },
    "language_info": {
      "name": "python"
    }
  },
  "cells": [
    {
      "cell_type": "markdown",
      "metadata": {
        "id": "view-in-github",
        "colab_type": "text"
      },
      "source": [
        "<a href=\"https://colab.research.google.com/github/puzlike/expert-octo-telegram/blob/main/Suretu.ipynb\" target=\"_parent\"><img src=\"https://colab.research.google.com/assets/colab-badge.svg\" alt=\"Open In Colab\"/></a>"
      ]
    },
    {
      "cell_type": "code",
      "execution_count": 3,
      "metadata": {
        "id": "ZVI0t7wyXv9h"
      },
      "outputs": [],
      "source": [
        "Suretu = [1, 32, 2, 10, 33, 12, 45, 6]\n",
        "for i in range(1, 8):\n",
        "    if Suretu[i] > Suretu[0]:\n",
        "        t = Suretu[0]\n",
        "        Suretu[0] = Suretu[i]\n",
        "        Suretu[i] = t"
      ]
    }
  ]
}