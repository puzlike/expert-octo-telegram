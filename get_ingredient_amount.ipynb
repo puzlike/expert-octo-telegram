{
  "nbformat": 4,
  "nbformat_minor": 0,
  "metadata": {
    "colab": {
      "provenance": [],
      "authorship_tag": "ABX9TyPnnNxWXJ2WoaUsR89Vg1Zz",
      "include_colab_link": true
    },
    "kernelspec": {
      "name": "python3",
      "display_name": "Python 3"
    },
    "language_info": {
      "name": "python"
    }
  },
  "cells": [
    {
      "cell_type": "markdown",
      "metadata": {
        "id": "view-in-github",
        "colab_type": "text"
      },
      "source": [
        "<a href=\"https://colab.research.google.com/github/puzlike/expert-octo-telegram/blob/main/get_ingredient_amount.ipynb\" target=\"_parent\"><img src=\"https://colab.research.google.com/assets/colab-badge.svg\" alt=\"Open In Colab\"/></a>"
      ]
    },
    {
      "cell_type": "code",
      "execution_count": 15,
      "metadata": {
        "id": "l6-pyOhzgH2s"
      },
      "outputs": [],
      "source": [
        "def get_ingredient_amount(ingredient, recipe):\n",
        "    recipe_list = recipe[1].split(',')\n",
        "    for recipe_name in recipe_list:\n",
        "        if recipe_name.find(ingredient) > 0:\n",
        "            num, unit, name = recipe_name.split(' ')\n",
        "            amount = (float(num), unit)\n",
        "            print(amount)\n",
        "\n",
        "recipe = ('peanut butter', '300 g peanuts, 0.5 tsp salt, 2 tsp oil')"
      ]
    },
    {
      "cell_type": "code",
      "source": [
        "get_ingredient_amount('peanuts', recipe)"
      ],
      "metadata": {
        "colab": {
          "base_uri": "https://localhost:8080/"
        },
        "id": "xqY7f4O1sTMU",
        "outputId": "7616bb84-c574-494b-9023-3a27112fe076"
      },
      "execution_count": 16,
      "outputs": [
        {
          "output_type": "stream",
          "name": "stdout",
          "text": [
            "(300.0, 'g')\n"
          ]
        }
      ]
    },
    {
      "cell_type": "code",
      "source": [
        "get_ingredient_amount('soy beans', recipe)"
      ],
      "metadata": {
        "id": "gEmXyKLxsvpe"
      },
      "execution_count": 17,
      "outputs": []
    }
  ]
}