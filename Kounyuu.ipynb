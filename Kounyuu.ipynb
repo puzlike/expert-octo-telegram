{
  "nbformat": 4,
  "nbformat_minor": 0,
  "metadata": {
    "colab": {
      "provenance": [],
      "authorship_tag": "ABX9TyOw6WUX89P0I6W3Tji8K7T6",
      "include_colab_link": true
    },
    "kernelspec": {
      "name": "python3",
      "display_name": "Python 3"
    },
    "language_info": {
      "name": "python"
    }
  },
  "cells": [
    {
      "cell_type": "markdown",
      "metadata": {
        "id": "view-in-github",
        "colab_type": "text"
      },
      "source": [
        "<a href=\"https://colab.research.google.com/github/puzlike/expert-octo-telegram/blob/main/Kounyuu.ipynb\" target=\"_parent\"><img src=\"https://colab.research.google.com/assets/colab-badge.svg\" alt=\"Open In Colab\"/></a>"
      ]
    },
    {
      "cell_type": "code",
      "execution_count": 14,
      "metadata": {
        "colab": {
          "base_uri": "https://localhost:8080/"
        },
        "id": "xw4aAY-a2zCE",
        "outputId": "7bc79ad4-0aa4-4acb-ef8d-79982f226061"
      },
      "outputs": [
        {
          "output_type": "stream",
          "name": "stdout",
          "text": [
            "リンゴ52円、ミカン74円、バナナ65円、ブドウ81円、モモ37円\n",
            "購入した商品名:(zで終了)バナナ\n",
            "何個買いましたか？4\n",
            "購入した商品名:(zで終了)ミカン\n",
            "何個買いましたか？2\n",
            "購入した商品名:(zで終了)z\n",
            "バナナ：260円\n",
            "ミカン：148円\n"
          ]
        }
      ],
      "source": [
        "kudamono=[\"リンゴ\",\"ミカン\",\"バナナ\",\"ブドウ\",\"モモ\"]\n",
        "nedan=[52,74,65,81,37]\n",
        "\n",
        "kounyuulist=[]\n",
        "kosuulist=[]\n",
        "\n",
        "print(\"リンゴ52円、ミカン74円、バナナ65円、ブドウ81円、モモ37円\")\n",
        "while True:\n",
        "    kounyuu=input(\"購入した商品名:(zで終了)\")\n",
        "\n",
        "    if kounyuu=='z':\n",
        "        break\n",
        "\n",
        "    kosuu=int(input(\"何個買いましたか？\"))\n",
        "\n",
        "    kounyuulist.append(kounyuu)\n",
        "    kosuulist.append(kosuu)\n",
        "\n",
        "    totallist = []\n",
        "    for i, k in enumerate(kudamono):\n",
        "        if kounyuu == k:\n",
        "            n = nedan[i]\n",
        "            total = n * kosuu\n",
        "        totallist.append(total)\n",
        "\n",
        "l = len(kounyuulist)\n",
        "for i in range(l):\n",
        "    print(f\"{kounyuulist[i]}：{totallist[i]}円\")\n",
        "\n",
        "\n"
      ]
    }
  ]
}