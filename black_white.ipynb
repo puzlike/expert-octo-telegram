{
  "nbformat": 4,
  "nbformat_minor": 0,
  "metadata": {
    "colab": {
      "provenance": [],
      "authorship_tag": "ABX9TyP3LkR2rJ667JggHY96zR5c",
      "include_colab_link": true
    },
    "kernelspec": {
      "name": "python3",
      "display_name": "Python 3"
    },
    "language_info": {
      "name": "python"
    }
  },
  "cells": [
    {
      "cell_type": "markdown",
      "metadata": {
        "id": "view-in-github",
        "colab_type": "text"
      },
      "source": [
        "<a href=\"https://colab.research.google.com/github/puzlike/expert-octo-telegram/blob/main/black_white.ipynb\" target=\"_parent\"><img src=\"https://colab.research.google.com/assets/colab-badge.svg\" alt=\"Open In Colab\"/></a>"
      ]
    },
    {
      "cell_type": "code",
      "execution_count": 6,
      "metadata": {
        "colab": {
          "base_uri": "https://localhost:8080/"
        },
        "id": "U5TPYqil4cXE",
        "outputId": "6aa9a771-be1a-40b4-8f57-101480a7fa80"
      },
      "outputs": [
        {
          "output_type": "stream",
          "name": "stdout",
          "text": [
            "表示したいタテ縞模様の一辺の大きさを入力してください\n",
            "5\n",
            "■□■□■\n",
            "■□■□■\n",
            "■□■□■\n",
            "■□■□■\n",
            "■□■□■\n"
          ]
        }
      ],
      "source": [
        "black = '■'\n",
        "white = '□'\n",
        "n = int(input('表示したいタテ縞模様の一辺の大きさを入力してください\\n'))\n",
        "for i in range(5):\n",
        "    for j in range(5):\n",
        "        if j % 2 == 0:\n",
        "            print(black, end='')\n",
        "        else:\n",
        "            print(white, end='')\n",
        "    print()"
      ]
    }
  ]
}