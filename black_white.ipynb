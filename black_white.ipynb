{
  "nbformat": 4,
  "nbformat_minor": 0,
  "metadata": {
    "colab": {
      "provenance": [],
      "authorship_tag": "ABX9TyOWqpbOEuDLIwdEvshYZ+ay",
      "include_colab_link": true
    },
    "kernelspec": {
      "name": "python3",
      "display_name": "Python 3"
    },
    "language_info": {
      "name": "python"
    }
  },
  "cells": [
    {
      "cell_type": "markdown",
      "metadata": {
        "id": "view-in-github",
        "colab_type": "text"
      },
      "source": [
        "<a href=\"https://colab.research.google.com/github/puzlike/expert-octo-telegram/blob/main/black_white.ipynb\" target=\"_parent\"><img src=\"https://colab.research.google.com/assets/colab-badge.svg\" alt=\"Open In Colab\"/></a>"
      ]
    },
    {
      "cell_type": "code",
      "execution_count": 2,
      "metadata": {
        "colab": {
          "base_uri": "https://localhost:8080/"
        },
        "id": "U5TPYqil4cXE",
        "outputId": "2ee6f7a2-ddd2-45b4-c891-45e340e512aa"
      },
      "outputs": [
        {
          "output_type": "stream",
          "name": "stdout",
          "text": [
            "■□■□■\n",
            "■□■□■\n",
            "■□■□■\n",
            "■□■□■\n",
            "■□■□■\n"
          ]
        }
      ],
      "source": [
        "black = '■'\n",
        "white = '□'\n",
        "n = 5\n",
        "for i in range(5):\n",
        "    for j in range(5):\n",
        "        if j % 2 == 0:\n",
        "            print(black, end='')\n",
        "        else:\n",
        "            print(white, end='')\n",
        "    print()"
      ]
    }
  ]
}