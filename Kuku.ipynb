{
  "nbformat": 4,
  "nbformat_minor": 0,
  "metadata": {
    "colab": {
      "provenance": [],
      "authorship_tag": "ABX9TyMy+7NFNERqLNJtNdiWznWx",
      "include_colab_link": true
    },
    "kernelspec": {
      "name": "python3",
      "display_name": "Python 3"
    },
    "language_info": {
      "name": "python"
    }
  },
  "cells": [
    {
      "cell_type": "markdown",
      "metadata": {
        "id": "view-in-github",
        "colab_type": "text"
      },
      "source": [
        "<a href=\"https://colab.research.google.com/github/puzlike/expert-octo-telegram/blob/main/Kuku.ipynb\" target=\"_parent\"><img src=\"https://colab.research.google.com/assets/colab-badge.svg\" alt=\"Open In Colab\"/></a>"
      ]
    },
    {
      "cell_type": "code",
      "execution_count": 5,
      "metadata": {
        "colab": {
          "base_uri": "https://localhost:8080/"
        },
        "id": "MAnZewoUjrNX",
        "outputId": "74a436f6-a38d-4a8a-8caf-0bdc23908d5d"
      },
      "outputs": [
        {
          "output_type": "stream",
          "name": "stdout",
          "text": [
            "1 2 3 4 5 6 7 8 9 \n",
            "2 4 6 8 10 12 14 16 18 \n",
            "3 6 9 12 15 18 21 24 27 \n",
            "4 8 12 16 20 24 28 32 36 \n",
            "5 10 15 20 25 30 35 40 45 \n",
            "6 12 18 24 30 36 42 48 54 \n",
            "7 14 21 28 35 42 49 56 63 \n",
            "8 16 24 32 40 48 56 64 72 \n",
            "9 18 27 36 45 54 63 72 81 \n"
          ]
        }
      ],
      "source": [
        "kuku = []\n",
        "for i in range(9):\n",
        "  kuku_i =[]\n",
        "  for j in range(9):\n",
        "    k = (i + 1) * (j + 1)\n",
        "    kuku_i.append(k)\n",
        "  kuku.append(kuku_i)\n",
        "\n",
        "for i in range(9):\n",
        "  for j in range(9):\n",
        "    print(kuku[i][j], end=\" \")\n",
        "  print()"
      ]
    }
  ]
}