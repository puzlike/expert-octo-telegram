{
  "nbformat": 4,
  "nbformat_minor": 0,
  "metadata": {
    "colab": {
      "provenance": [],
      "authorship_tag": "ABX9TyO8F/fh57wmvYSsbML3rHUq",
      "include_colab_link": true
    },
    "kernelspec": {
      "name": "python3",
      "display_name": "Python 3"
    },
    "language_info": {
      "name": "python"
    }
  },
  "cells": [
    {
      "cell_type": "markdown",
      "metadata": {
        "id": "view-in-github",
        "colab_type": "text"
      },
      "source": [
        "<a href=\"https://colab.research.google.com/github/puzlike/expert-octo-telegram/blob/main/Coin.ipynb\" target=\"_parent\"><img src=\"https://colab.research.google.com/assets/colab-badge.svg\" alt=\"Open In Colab\"/></a>"
      ]
    },
    {
      "cell_type": "code",
      "execution_count": 36,
      "metadata": {
        "colab": {
          "base_uri": "https://localhost:8080/"
        },
        "id": "GNiktgBUzyyu",
        "outputId": "8aaf182b-0c07-46ec-902a-f19317017b43"
      },
      "outputs": [
        {
          "output_type": "stream",
          "name": "stdout",
          "text": [
            "勝ち。持ち金= 200\n",
            "負け。持ち金= 100\n",
            "負け。持ち金= 50\n",
            "負け。持ち金= 25\n",
            "勝ち。持ち金= 50\n",
            "負け。持ち金= 25\n",
            "負け。持ち金= 12\n",
            "負け。持ち金= 6\n",
            "勝ち。持ち金= 12\n",
            "勝ち。持ち金= 24\n",
            "勝ち。持ち金= 48\n",
            "負け。持ち金= 24\n",
            "負け。持ち金= 12\n",
            "負け。持ち金= 6\n",
            "勝ち。持ち金= 12\n",
            "負け。持ち金= 6\n",
            "勝ち。持ち金= 12\n",
            "負け。持ち金= 6\n",
            "負け。持ち金= 3\n",
            "負け。持ち金= 1\n",
            "負け。持ち金= 0\n"
          ]
        }
      ],
      "source": [
        "import random\n",
        "money = 100\n",
        "while money > 0:\n",
        "    coin = random.randint(0, 1)\n",
        "    if coin == 0:\n",
        "        money *= 2\n",
        "        print(f\"勝ち。持ち金= {money}\")\n",
        "    else:\n",
        "        money = int(money / 2)\n",
        "        print(f\"負け。持ち金= {money}\")\n",
        ""
      ]
    }
  ]
}