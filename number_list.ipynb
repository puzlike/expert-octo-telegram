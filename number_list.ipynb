{
  "nbformat": 4,
  "nbformat_minor": 0,
  "metadata": {
    "colab": {
      "provenance": [],
      "authorship_tag": "ABX9TyNvFVUfcaLVzUIrbO0g9rdg",
      "include_colab_link": true
    },
    "kernelspec": {
      "name": "python3",
      "display_name": "Python 3"
    },
    "language_info": {
      "name": "python"
    }
  },
  "cells": [
    {
      "cell_type": "markdown",
      "metadata": {
        "id": "view-in-github",
        "colab_type": "text"
      },
      "source": [
        "<a href=\"https://colab.research.google.com/github/puzlike/expert-octo-telegram/blob/main/number_list.ipynb\" target=\"_parent\"><img src=\"https://colab.research.google.com/assets/colab-badge.svg\" alt=\"Open In Colab\"/></a>"
      ]
    },
    {
      "cell_type": "code",
      "execution_count": 9,
      "metadata": {
        "colab": {
          "base_uri": "https://localhost:8080/"
        },
        "id": "EsKh5YOuS9p2",
        "outputId": "96ceffc2-af93-43ee-e76d-1f5721672dd7"
      },
      "outputs": [
        {
          "output_type": "stream",
          "name": "stdout",
          "text": [
            "4444\n",
            "55555\n",
            "333\n",
            "1\n",
            "0000000000\n",
            "22\n",
            "22\n"
          ]
        }
      ],
      "source": [
        "a = [4, 5, 3, 1, 0, 2, 2]\n",
        "for num in a:\n",
        "    if num == 0:\n",
        "        count = 10\n",
        "    else:\n",
        "        count = num\n",
        "    for i in range(count):\n",
        "        print(str(num), end=\"\")\n",
        "    print()"
      ]
    }
  ]
}