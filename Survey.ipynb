{
  "nbformat": 4,
  "nbformat_minor": 0,
  "metadata": {
    "colab": {
      "provenance": [],
      "authorship_tag": "ABX9TyPlwL67FYOJIVU88VtiHr/C",
      "include_colab_link": true
    },
    "kernelspec": {
      "name": "python3",
      "display_name": "Python 3"
    },
    "language_info": {
      "name": "python"
    }
  },
  "cells": [
    {
      "cell_type": "markdown",
      "metadata": {
        "id": "view-in-github",
        "colab_type": "text"
      },
      "source": [
        "<a href=\"https://colab.research.google.com/github/puzlike/expert-octo-telegram/blob/main/Survey.ipynb\" target=\"_parent\"><img src=\"https://colab.research.google.com/assets/colab-badge.svg\" alt=\"Open In Colab\"/></a>"
      ]
    },
    {
      "cell_type": "code",
      "execution_count": 2,
      "metadata": {
        "id": "YRJLG28RD9m-"
      },
      "outputs": [],
      "source": [
        "from openpyxl import Workbook\n",
        "\n",
        "wb = Workbook()\n",
        "ws = wb.active\n",
        "\n",
        "items_1 = [\"１日の運動時間\", \"出身都道府県\", \"あなたの学部\",\n",
        "           \"購入する服の平均価格\", \"購入する靴の平均価格\", \"血液型\"]\n",
        "\n",
        "for row_no in range(3, 9):\n",
        "    ws.cell(row_no, 1).value = items_1[row_no - 6]\n",
        "\n",
        "items_2 =[\"好みの買い物サイト\", \"行ってみたい都道府県\", \"住んでみたい都道府県\", \"一人で行きたくない場所\",\n",
        "          \"よく行くスーパー\", \"好きな食べ物\", \"将来なりたい職業\", \"おすすめの本\",\n",
        "          \"おすすめのアニメ\", \"おすすめのゲーム\", \"好きな動物\", \"知っている県の郷土芸能\"]\n",
        "\n",
        "for row_no in range(10, 22):\n",
        "    ws.cell(row_no, 1).value = items_2[row_no - 10]\n",
        "\n",
        "wb.save('アンケート集計結果.xlsx')"
      ]
    }
  ]
}