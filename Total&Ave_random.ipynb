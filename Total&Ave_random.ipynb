{
  "nbformat": 4,
  "nbformat_minor": 0,
  "metadata": {
    "colab": {
      "provenance": [],
      "authorship_tag": "ABX9TyN8lGw8vAxcLp6kPYmKXK5Z",
      "include_colab_link": true
    },
    "kernelspec": {
      "name": "python3",
      "display_name": "Python 3"
    },
    "language_info": {
      "name": "python"
    }
  },
  "cells": [
    {
      "cell_type": "markdown",
      "metadata": {
        "id": "view-in-github",
        "colab_type": "text"
      },
      "source": [
        "<a href=\"https://colab.research.google.com/github/puzlike/expert-octo-telegram/blob/main/Total%26Ave_random.ipynb\" target=\"_parent\"><img src=\"https://colab.research.google.com/assets/colab-badge.svg\" alt=\"Open In Colab\"/></a>"
      ]
    },
    {
      "cell_type": "code",
      "execution_count": 3,
      "metadata": {
        "colab": {
          "base_uri": "https://localhost:8080/"
        },
        "id": "DZfqkOQ28vvr",
        "outputId": "e7f122f2-61a5-481c-ff57-bfd996884e44"
      },
      "outputs": [
        {
          "output_type": "stream",
          "name": "stdout",
          "text": [
            "[7, 3, 6, 3, 10, 4, 3, 1, 9, 9]\n",
            "sum= 55\n",
            "ave= 5.5\n"
          ]
        }
      ],
      "source": [
        "import random\n",
        "b = []\n",
        "for i in range(10):\n",
        "  b.append(random.randint(1, 10))\n",
        "print(b)\n",
        "goukei = 0\n",
        "for i in range(10):\n",
        "  goukei = goukei + b[i]\n",
        "print('sum=',goukei)\n",
        "print('ave=',goukei/10)\n"
      ]
    }
  ]
}