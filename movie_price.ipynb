{
  "nbformat": 4,
  "nbformat_minor": 0,
  "metadata": {
    "colab": {
      "provenance": [],
      "authorship_tag": "ABX9TyNhnOK4WIV218gdh/JVx+nk",
      "include_colab_link": true
    },
    "kernelspec": {
      "name": "python3",
      "display_name": "Python 3"
    },
    "language_info": {
      "name": "python"
    }
  },
  "cells": [
    {
      "cell_type": "markdown",
      "metadata": {
        "id": "view-in-github",
        "colab_type": "text"
      },
      "source": [
        "<a href=\"https://colab.research.google.com/github/puzlike/expert-octo-telegram/blob/main/movie_price.ipynb\" target=\"_parent\"><img src=\"https://colab.research.google.com/assets/colab-badge.svg\" alt=\"Open In Colab\"/></a>"
      ]
    },
    {
      "cell_type": "code",
      "execution_count": 21,
      "metadata": {
        "colab": {
          "base_uri": "https://localhost:8080/"
        },
        "id": "YRQd0mZy533O",
        "outputId": "983717bd-7b9a-4bdd-f0f9-3a9fec11d070"
      },
      "outputs": [
        {
          "output_type": "stream",
          "name": "stdout",
          "text": [
            "映画の券種を選択してください。\n",
            "1:一般\n",
            "2:大学生\n",
            "3:高校生\n",
            "4:中/小学生\n",
            "5:幼児(3才〜)\n",
            "券種番号を入力してください。1\n",
            "一般料金は1900円です\n"
          ]
        }
      ],
      "source": [
        "tickets = [\n",
        "    {'kind':'一般', 'price':1900},\n",
        "    {'kind':'大学生', 'price':1500},\n",
        "    {'kind':'高校生', 'price':1000},\n",
        "    {'kind':'中/小学生', 'price':1000},\n",
        "    {'kind':'幼児(3才〜)', 'price':1000}\n",
        "    ]\n",
        "print('映画の券種を選択してください。')\n",
        "for i, ticket in enumerate(tickets):\n",
        "    print(f\"{i + 1}:{ticket['kind']}\")\n",
        "while True:\n",
        "    num = int(input('券種番号を入力してください。'))\n",
        "    if num >= 1 and num <= 5:\n",
        "           break\n",
        "    print('もう一度入力してください。')\n",
        "print(f\"{tickets[num - 1]['kind']}料金は{tickets[num - 1]['price']}円です\")"
      ]
    }
  ]
}