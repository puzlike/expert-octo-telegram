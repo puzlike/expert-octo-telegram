{
  "nbformat": 4,
  "nbformat_minor": 0,
  "metadata": {
    "colab": {
      "provenance": [],
      "authorship_tag": "ABX9TyNvzw97HxK1Jbmk9rmQ9IQN",
      "include_colab_link": true
    },
    "kernelspec": {
      "name": "python3",
      "display_name": "Python 3"
    },
    "language_info": {
      "name": "python"
    }
  },
  "cells": [
    {
      "cell_type": "markdown",
      "metadata": {
        "id": "view-in-github",
        "colab_type": "text"
      },
      "source": [
        "<a href=\"https://colab.research.google.com/github/puzlike/expert-octo-telegram/blob/main/PrimeofList.ipynb\" target=\"_parent\"><img src=\"https://colab.research.google.com/assets/colab-badge.svg\" alt=\"Open In Colab\"/></a>"
      ]
    },
    {
      "cell_type": "code",
      "execution_count": 4,
      "metadata": {
        "colab": {
          "base_uri": "https://localhost:8080/"
        },
        "id": "eywdjaTzA1Cx",
        "outputId": "a8fbecd5-7ad1-44dc-be7a-0368feeeedda"
      },
      "outputs": [
        {
          "output_type": "stream",
          "name": "stdout",
          "text": [
            "[67, 23, 11, 3]\n"
          ]
        }
      ],
      "source": [
        "a = [1,3,4,6,8,11,23,44,67]\n",
        "prime_a = []\n",
        "for n in a:\n",
        "    num_prime = 0\n",
        "    for i in range(1, n+1):\n",
        "        if n % i == 0:\n",
        "            num_prime += 1\n",
        "    if num_prime == 2:\n",
        "        prime_a.append(i)\n",
        "prime_a.reverse()\n",
        "print(prime_a)"
      ]
    }
  ]
}