{
  "nbformat": 4,
  "nbformat_minor": 0,
  "metadata": {
    "colab": {
      "provenance": [],
      "authorship_tag": "ABX9TyPzWnZRbBmYFC66y01M8WpD",
      "include_colab_link": true
    },
    "kernelspec": {
      "name": "python3",
      "display_name": "Python 3"
    },
    "language_info": {
      "name": "python"
    }
  },
  "cells": [
    {
      "cell_type": "markdown",
      "metadata": {
        "id": "view-in-github",
        "colab_type": "text"
      },
      "source": [
        "<a href=\"https://colab.research.google.com/github/puzlike/expert-octo-telegram/blob/main/Count_num.ipynb\" target=\"_parent\"><img src=\"https://colab.research.google.com/assets/colab-badge.svg\" alt=\"Open In Colab\"/></a>"
      ]
    },
    {
      "cell_type": "code",
      "execution_count": 7,
      "metadata": {
        "colab": {
          "base_uri": "https://localhost:8080/"
        },
        "id": "PldQNO9kzOYd",
        "outputId": "b086d11b-c7ad-48d2-a419-328890ff68a5"
      },
      "outputs": [
        {
          "output_type": "stream",
          "name": "stdout",
          "text": [
            "{2: 2, 3: 1, 5: 1, 1: 1, 4: 1, 6: 1}\n",
            "2\n",
            "使用するデータ ： [2, 3, 2, 5, 1, 4, 6]\n",
            "最頻値 :  [2]\n"
          ]
        }
      ],
      "source": [
        "max_count = 0   # 出現回数の最大値を0としておく\n",
        "count = {}      # 数値とその出現頻度をカウントするための辞書を空の状態で初期化\n",
        "mode = []       # 最頻値を保存するためのリストをからの状態で初期化\n",
        "\n",
        "data1 = [2, 3, 2, 5, 1 , 4, 6]\n",
        "x = data1[:]\n",
        "\n",
        "for i in x:\n",
        "    if i in count:\n",
        "        count[i] += 1\n",
        "    else:\n",
        "        count[i] = 1\n",
        "\n",
        "print(count)\n",
        "\n",
        "for i in count.values():\n",
        "    if i > max_count:       # min_numよりもiが大きい場合は、iの値を最大値にする\n",
        "        max_count = i\n",
        "\n",
        "print(max_count)\n",
        "\n",
        "for num, value in count.items():\n",
        "    if value == max_count:\n",
        "        mode.append(num)\n",
        "        \n",
        "print('使用するデータ ：',x)\n",
        "print('最頻値 : ',mode)\n",
        "\n"
      ]
    }
  ]
}