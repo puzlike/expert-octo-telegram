{
  "nbformat": 4,
  "nbformat_minor": 0,
  "metadata": {
    "colab": {
      "provenance": [],
      "authorship_tag": "ABX9TyO8uyZzEAglxPnUJA7YIHg6",
      "include_colab_link": true
    },
    "kernelspec": {
      "name": "python3",
      "display_name": "Python 3"
    },
    "language_info": {
      "name": "python"
    }
  },
  "cells": [
    {
      "cell_type": "markdown",
      "metadata": {
        "id": "view-in-github",
        "colab_type": "text"
      },
      "source": [
        "<a href=\"https://colab.research.google.com/github/puzlike/expert-octo-telegram/blob/main/new.ipynb\" target=\"_parent\"><img src=\"https://colab.research.google.com/assets/colab-badge.svg\" alt=\"Open In Colab\"/></a>"
      ]
    },
    {
      "cell_type": "code",
      "execution_count": 3,
      "metadata": {
        "colab": {
          "base_uri": "https://localhost:8080/"
        },
        "id": "7cijt3jHtxqk",
        "outputId": "852c434f-cb1e-4e40-f208-fec4d0bed659"
      },
      "outputs": [
        {
          "output_type": "execute_result",
          "data": {
            "text/plain": [
              "720"
            ]
          },
          "metadata": {},
          "execution_count": 3
        }
      ],
      "source": [
        "import random\n",
        "num_list = [1, 2, 3, 4, 5]\n",
        "max_num = 0\n",
        "# リストから1つ数字を選び、1を引く\n",
        "num1 = random.choice(num_list)\n",
        "num1 -= 1\n",
        "\n",
        "# 残ったリストから1つ数字を選び、1を足す\n",
        "num_list.remove(num1)\n",
        "num2 = random.choice(num_list)\n",
        "num2 += 1\n",
        "\n",
        "# 数字を全部かける\n",
        "multi_num = 1\n",
        "for num in num_list:\n",
        "    multi_num *= num\n",
        "multi_num *= num1 * num2\n",
        "\n",
        "\n",
        "\n"
      ]
    }
  ]
}