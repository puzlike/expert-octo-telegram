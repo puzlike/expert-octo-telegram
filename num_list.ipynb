{
  "nbformat": 4,
  "nbformat_minor": 0,
  "metadata": {
    "colab": {
      "provenance": [],
      "authorship_tag": "ABX9TyM+anl49Ykx36Odm/vwHgJ5",
      "include_colab_link": true
    },
    "kernelspec": {
      "name": "python3",
      "display_name": "Python 3"
    },
    "language_info": {
      "name": "python"
    }
  },
  "cells": [
    {
      "cell_type": "markdown",
      "metadata": {
        "id": "view-in-github",
        "colab_type": "text"
      },
      "source": [
        "<a href=\"https://colab.research.google.com/github/puzlike/expert-octo-telegram/blob/main/num_list.ipynb\" target=\"_parent\"><img src=\"https://colab.research.google.com/assets/colab-badge.svg\" alt=\"Open In Colab\"/></a>"
      ]
    },
    {
      "cell_type": "code",
      "execution_count": 1,
      "metadata": {
        "colab": {
          "base_uri": "https://localhost:8080/"
        },
        "id": "EsKh5YOuS9p2",
        "outputId": "d0c0bbf8-366f-4362-9cf4-7b2b97979aae"
      },
      "outputs": [
        {
          "output_type": "stream",
          "name": "stdout",
          "text": [
            "8 3 2 7\n"
          ]
        }
      ],
      "source": [
        "num_list = [8, 3, 2, 7]\n",
        "n = len(num_list)\n",
        "for i in range(n):\n",
        "    if i == n - 1:\n",
        "        print(num_list[i])\n",
        "    else:\n",
        "        print(num_list[i],end=\" \")"
      ]
    }
  ]
}