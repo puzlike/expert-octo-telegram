{
  "nbformat": 4,
  "nbformat_minor": 0,
  "metadata": {
    "colab": {
      "provenance": [],
      "authorship_tag": "ABX9TyMdeNziZiJ06WRVF100XY0J",
      "include_colab_link": true
    },
    "kernelspec": {
      "name": "python3",
      "display_name": "Python 3"
    },
    "language_info": {
      "name": "python"
    }
  },
  "cells": [
    {
      "cell_type": "markdown",
      "metadata": {
        "id": "view-in-github",
        "colab_type": "text"
      },
      "source": [
        "<a href=\"https://colab.research.google.com/github/puzlike/expert-octo-telegram/blob/main/Power_of_2.ipynb\" target=\"_parent\"><img src=\"https://colab.research.google.com/assets/colab-badge.svg\" alt=\"Open In Colab\"/></a>"
      ]
    },
    {
      "cell_type": "code",
      "execution_count": 7,
      "metadata": {
        "colab": {
          "base_uri": "https://localhost:8080/"
        },
        "id": "wnXk_ABmGXEB",
        "outputId": "10c8bfa9-9b53-4351-97a1-382230ec3747"
      },
      "outputs": [
        {
          "output_type": "stream",
          "name": "stdout",
          "text": [
            "[1] 1\n",
            "[2] 2\n",
            "[3] 4\n",
            "[4] 8\n",
            "[5] 16\n",
            "[6] 32\n",
            "[7] 64\n",
            "[8] 128\n",
            "[9] 256\n",
            "[10] 512\n"
          ]
        }
      ],
      "source": [
        "a = 2\n",
        "n = 0\n",
        "while True:\n",
        "  if n >= 10:\n",
        "    break\n",
        "  power = 2**n\n",
        "  print(f'[{n + 1}] {power}')\n",
        "  n += 1"
      ]
    }
  ]
}