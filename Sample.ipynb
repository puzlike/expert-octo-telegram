{
  "nbformat": 4,
  "nbformat_minor": 0,
  "metadata": {
    "colab": {
      "provenance": [],
      "authorship_tag": "ABX9TyPgDmy9dD9emHdnnoEuj8g0",
      "include_colab_link": true
    },
    "kernelspec": {
      "name": "python3",
      "display_name": "Python 3"
    },
    "language_info": {
      "name": "python"
    }
  },
  "cells": [
    {
      "cell_type": "markdown",
      "metadata": {
        "id": "view-in-github",
        "colab_type": "text"
      },
      "source": [
        "<a href=\"https://colab.research.google.com/github/puzlike/expert-octo-telegram/blob/main/Sample.ipynb\" target=\"_parent\"><img src=\"https://colab.research.google.com/assets/colab-badge.svg\" alt=\"Open In Colab\"/></a>"
      ]
    },
    {
      "cell_type": "code",
      "execution_count": null,
      "metadata": {
        "id": "KbuSlqaYMng2"
      },
      "outputs": [],
      "source": [
        "# 9.素数判定\n",
        "def prime_judge(n):\n",
        "    judge = True\n",
        "    if n < 2:\n",
        "        judge = False\n",
        "    else:\n",
        "        for m in range(2, n):\n",
        "            if (n % m == 0):\n",
        "                judge = False\n",
        "                break\n",
        "    return judge\n",
        "\n",
        "# 10.\n",
        "for num in range(1001):\n",
        "    judge = prime_judge(num)\n",
        "    if judge == True:\n",
        "        ret = \"素数です。\"\n",
        "    else:\n",
        "        ret = \"素数ではありません。\"\n",
        "    print(f\"{num}は{ret}\")\n",
        "\n",
        "#11.\n",
        "def count_num(lst, x):\n",
        "    count = 0\n",
        "    for num in lst:\n",
        "        if x == num:\n",
        "            count += 1\n",
        "    return count\n",
        "\n",
        "#12.\n",
        "def prime_judge(lst):\n",
        "    for num in lst:\n",
        "        judge = True\n",
        "        if n < 2:\n",
        "            judge = False\n",
        "        else:\n",
        "            for m in range(2, n):\n",
        "                if n % m == 0:\n",
        "                    judge = False\n",
        "                    break\n",
        "    return judge"
      ]
    }
  ]
}