{
  "nbformat": 4,
  "nbformat_minor": 0,
  "metadata": {
    "colab": {
      "provenance": [],
      "authorship_tag": "ABX9TyPNakL2wm6U1MtjpkWibdCk",
      "include_colab_link": true
    },
    "kernelspec": {
      "name": "python3",
      "display_name": "Python 3"
    },
    "language_info": {
      "name": "python"
    }
  },
  "cells": [
    {
      "cell_type": "markdown",
      "metadata": {
        "id": "view-in-github",
        "colab_type": "text"
      },
      "source": [
        "<a href=\"https://colab.research.google.com/github/puzlike/expert-octo-telegram/blob/main/Sample.ipynb\" target=\"_parent\"><img src=\"https://colab.research.google.com/assets/colab-badge.svg\" alt=\"Open In Colab\"/></a>"
      ]
    },
    {
      "cell_type": "code",
      "execution_count": 3,
      "metadata": {
        "colab": {
          "base_uri": "https://localhost:8080/"
        },
        "id": "gXJeJph8wiMo",
        "outputId": "49a8ca94-3c77-476c-8ec8-6418379fa162"
      },
      "outputs": [
        {
          "output_type": "stream",
          "name": "stdout",
          "text": [
            "文字列は9行あります。\n",
            "Iの文字数は6個です。\n"
          ]
        }
      ],
      "source": [
        "with open('sample.txt') as file_object:\n",
        "    lines = file_object.readlines()\n",
        "\n",
        "l = len(lines)\n",
        "print(f\"文字列は{l}行あります。\")\n",
        "\n",
        "strs = \"\"\n",
        "for line in lines:\n",
        "    strs += line.rstrip()\n",
        "\n",
        "search_str = \"I\"\n",
        "n = strs.count(search_str)\n",
        "print(f'Iの文字数は{n}個です。')\n"
      ]
    }
  ]
}