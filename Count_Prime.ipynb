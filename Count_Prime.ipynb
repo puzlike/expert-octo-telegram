{
  "nbformat": 4,
  "nbformat_minor": 0,
  "metadata": {
    "colab": {
      "provenance": [],
      "authorship_tag": "ABX9TyPrl3HGPBR3kD+YaVP/kMQs",
      "include_colab_link": true
    },
    "kernelspec": {
      "name": "python3",
      "display_name": "Python 3"
    },
    "language_info": {
      "name": "python"
    }
  },
  "cells": [
    {
      "cell_type": "markdown",
      "metadata": {
        "id": "view-in-github",
        "colab_type": "text"
      },
      "source": [
        "<a href=\"https://colab.research.google.com/github/puzlike/expert-octo-telegram/blob/main/Count_Prime.ipynb\" target=\"_parent\"><img src=\"https://colab.research.google.com/assets/colab-badge.svg\" alt=\"Open In Colab\"/></a>"
      ]
    },
    {
      "cell_type": "code",
      "execution_count": 19,
      "metadata": {
        "colab": {
          "base_uri": "https://localhost:8080/"
        },
        "id": "KbuSlqaYMng2",
        "outputId": "a8edca67-d5c9-4a5a-96a4-2aa5fa42e063"
      },
      "outputs": [
        {
          "output_type": "stream",
          "name": "stdout",
          "text": [
            "0から10000までのうち、素数は1229個です。\n"
          ]
        }
      ],
      "source": [
        "num = 10000\n",
        "primes = [True for _ in range(num + 1)]\n",
        "primes[0] = primes[1] = False\n",
        "\n",
        "idx = 2\n",
        "for n in range(idx, num + 1):\n",
        "    for m in range(2, n):\n",
        "        if n % m == 0:\n",
        "            primes[n] = False\n",
        "            break\n",
        "\n",
        "prime_num = primes.count(True)\n",
        "print(f\"0から{num}までのうち、素数は{prime_num}個です。\")\n",
        "\n"
      ]
    }
  ]
}