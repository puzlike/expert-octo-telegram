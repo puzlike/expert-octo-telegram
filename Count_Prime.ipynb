{
  "nbformat": 4,
  "nbformat_minor": 0,
  "metadata": {
    "colab": {
      "provenance": [],
      "authorship_tag": "ABX9TyPYYAEeeItNXOVpo+kww99q",
      "include_colab_link": true
    },
    "kernelspec": {
      "name": "python3",
      "display_name": "Python 3"
    },
    "language_info": {
      "name": "python"
    }
  },
  "cells": [
    {
      "cell_type": "markdown",
      "metadata": {
        "id": "view-in-github",
        "colab_type": "text"
      },
      "source": [
        "<a href=\"https://colab.research.google.com/github/puzlike/expert-octo-telegram/blob/main/Count_Prime.ipynb\" target=\"_parent\"><img src=\"https://colab.research.google.com/assets/colab-badge.svg\" alt=\"Open In Colab\"/></a>"
      ]
    },
    {
      "cell_type": "code",
      "execution_count": null,
      "metadata": {
        "colab": {
          "base_uri": "https://localhost:8080/"
        },
        "id": "KbuSlqaYMng2",
        "outputId": "c4502113-3278-45b9-e125-864006881491"
      },
      "outputs": [
        {
          "output_type": "stream",
          "name": "stdout",
          "text": [
            "0から10000までの素数の個数は1229です。\n"
          ]
        }
      ],
      "source": [
        "num = 10000\n",
        "primes = [value for value in range(num + 1)]\n",
        "primes = primes[2:]\n",
        "\n",
        "prime_idx = 1\n",
        "for n in primes:\n",
        "    for m in primes[prime_idx:]:\n",
        "        if m % n == 0:\n",
        "            primes.remove(m)\n",
        "    prime_idx += 1\n",
        "\n",
        "l = len(primes)\n",
        "print(f\"0から{num}までの素数の個数は{l}です。\")\n",
        "\n"
      ]
    }
  ]
}