{
  "nbformat": 4,
  "nbformat_minor": 0,
  "metadata": {
    "colab": {
      "provenance": [],
      "authorship_tag": "ABX9TyN7zqM3psRz9bHkpp2aBMwB",
      "include_colab_link": true
    },
    "kernelspec": {
      "name": "python3",
      "display_name": "Python 3"
    },
    "language_info": {
      "name": "python"
    }
  },
  "cells": [
    {
      "cell_type": "markdown",
      "metadata": {
        "id": "view-in-github",
        "colab_type": "text"
      },
      "source": [
        "<a href=\"https://colab.research.google.com/github/puzlike/expert-octo-telegram/blob/main/Count_Prime.ipynb\" target=\"_parent\"><img src=\"https://colab.research.google.com/assets/colab-badge.svg\" alt=\"Open In Colab\"/></a>"
      ]
    },
    {
      "cell_type": "code",
      "execution_count": 8,
      "metadata": {
        "colab": {
          "base_uri": "https://localhost:8080/"
        },
        "id": "KbuSlqaYMng2",
        "outputId": "943ad5c9-d1bc-4e4e-812d-86b345cd0da3"
      },
      "outputs": [
        {
          "output_type": "stream",
          "name": "stdout",
          "text": [
            "1229\n"
          ]
        }
      ],
      "source": [
        "\n",
        "\n",
        "num = 10000\n",
        "primes = [True for _ in range(num + 1)]\n",
        "primes[0] = primes[1] = False\n",
        "\n",
        "idx = 2\n",
        "for n in range(idx, num + 1):\n",
        "    for m in range(2, n):\n",
        "        if n % m == 0:\n",
        "            primes[n] = False\n",
        "            break\n",
        "\n",
        "count_prime = primes.count(True)\n",
        "print(count_prime)\n",
        "\n"
      ]
    }
  ]
}