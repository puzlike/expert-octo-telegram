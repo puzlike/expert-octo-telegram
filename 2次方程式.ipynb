{
  "nbformat": 4,
  "nbformat_minor": 0,
  "metadata": {
    "colab": {
      "provenance": [],
      "authorship_tag": "ABX9TyMIrxwUPGuYPQLP1dxTmCPw",
      "include_colab_link": true
    },
    "kernelspec": {
      "name": "python3",
      "display_name": "Python 3"
    },
    "language_info": {
      "name": "python"
    }
  },
  "cells": [
    {
      "cell_type": "markdown",
      "metadata": {
        "id": "view-in-github",
        "colab_type": "text"
      },
      "source": [
        "<a href=\"https://colab.research.google.com/github/puzlike/expert-octo-telegram/blob/main/2%E6%AC%A1%E6%96%B9%E7%A8%8B%E5%BC%8F.ipynb\" target=\"_parent\"><img src=\"https://colab.research.google.com/assets/colab-badge.svg\" alt=\"Open In Colab\"/></a>"
      ]
    },
    {
      "cell_type": "code",
      "execution_count": 113,
      "metadata": {
        "colab": {
          "base_uri": "https://localhost:8080/"
        },
        "id": "Wr6f-fNHvjzU",
        "outputId": "338478ae-28b9-4b25-9b0f-d79d852ce45e"
      },
      "outputs": [
        {
          "output_type": "stream",
          "name": "stdout",
          "text": [
            "2次方程式ax^2+bx+c=0\n",
            "a = 3\n",
            "b = 0\n",
            "c = 2\n",
            "共役2虚数解\n"
          ]
        }
      ],
      "source": [
        "print('2次方程式ax^2+bx+c=0')\n",
        "a = int(input('a = '))\n",
        "b = int(input('b = '))\n",
        "c = int(input('c = '))\n",
        "D = b**2 - 4 * a * c\n",
        "if D > 0:\n",
        "    print('2次数解')\n",
        "elif D == 0:\n",
        "    print('重解')\n",
        "else:\n",
        "    if b == 0:\n",
        "        print('共役2虚数解')\n",
        "    else:\n",
        "        print('共役2複素数解')"
      ]
    }
  ]
}