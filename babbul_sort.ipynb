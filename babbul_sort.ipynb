{
  "nbformat": 4,
  "nbformat_minor": 0,
  "metadata": {
    "colab": {
      "provenance": [],
      "authorship_tag": "ABX9TyMleVmx4TJ/IP6wzadMBQUu",
      "include_colab_link": true
    },
    "kernelspec": {
      "name": "python3",
      "display_name": "Python 3"
    },
    "language_info": {
      "name": "python"
    }
  },
  "cells": [
    {
      "cell_type": "markdown",
      "metadata": {
        "id": "view-in-github",
        "colab_type": "text"
      },
      "source": [
        "<a href=\"https://colab.research.google.com/github/puzlike/expert-octo-telegram/blob/main/babbul_sort.ipynb\" target=\"_parent\"><img src=\"https://colab.research.google.com/assets/colab-badge.svg\" alt=\"Open In Colab\"/></a>"
      ]
    },
    {
      "cell_type": "code",
      "execution_count": 7,
      "metadata": {
        "colab": {
          "base_uri": "https://localhost:8080/"
        },
        "id": "B4LVTI_35Ld9",
        "outputId": "ca0471bf-a92c-453b-b8b8-b221ccb7c719"
      },
      "outputs": [
        {
          "output_type": "stream",
          "name": "stdout",
          "text": [
            "初期状態 [5, 3, 1, 4, 2]\n",
            "1 回目 [3, 1, 4, 2, 5]\n",
            "2 回目 [1, 3, 2, 4, 5]\n",
            "3 回目 [1, 2, 3, 4, 5]\n",
            "4 回目 [1, 2, 3, 4, 5]\n"
          ]
        }
      ],
      "source": [
        "a_list =[5, 3, 1, 4, 2]\n",
        "print(\"初期状態\",a_list)\n",
        "l = len(a_list)\n",
        "n = 1\n",
        "while n < l:\n",
        "    for i in range(l - 1): \n",
        "        j = i + 1\n",
        "        if a_list[i] > a_list[j]:\n",
        "            a_list[i], a_list[j] = a_list[j], a_list[i]\n",
        "                    \n",
        "    print(n,\"回目\",a_list)\n",
        "    n += 1\n"
      ]
    }
  ]
}