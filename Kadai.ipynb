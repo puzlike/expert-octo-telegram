{
  "nbformat": 4,
  "nbformat_minor": 0,
  "metadata": {
    "colab": {
      "provenance": [],
      "authorship_tag": "ABX9TyOe7aF5wzF5ltmke9yhBbOa",
      "include_colab_link": true
    },
    "kernelspec": {
      "name": "python3",
      "display_name": "Python 3"
    },
    "language_info": {
      "name": "python"
    }
  },
  "cells": [
    {
      "cell_type": "markdown",
      "metadata": {
        "id": "view-in-github",
        "colab_type": "text"
      },
      "source": [
        "<a href=\"https://colab.research.google.com/github/puzlike/expert-octo-telegram/blob/main/Kadai.ipynb\" target=\"_parent\"><img src=\"https://colab.research.google.com/assets/colab-badge.svg\" alt=\"Open In Colab\"/></a>"
      ]
    },
    {
      "cell_type": "code",
      "execution_count": 21,
      "metadata": {
        "colab": {
          "base_uri": "https://localhost:8080/"
        },
        "id": "QbKZENY5Lrkr",
        "outputId": "8d355a2c-7ceb-40d4-fbd3-915025a22442"
      },
      "outputs": [
        {
          "output_type": "stream",
          "name": "stdout",
          "text": [
            "連結：\n",
            "      日付  天気\n",
            "0    1/1  晴れ\n",
            "1    1/2  曇り\n",
            "2    1/3  晴れ\n",
            "3    1/4  曇り\n",
            "4    1/6  晴れ\n",
            "5    1/7  曇り\n",
            "6    1/8   雨\n",
            "7   1/14  晴れ\n",
            "8    1/9  晴れ\n",
            "9   1/12   雨\n",
            "10  1/11  晴れ\n",
            "\n",
            "日付をkeyに左外部結合：\n",
            "      日付   天気\n",
            "0    1/1   晴れ\n",
            "1    1/2   曇り\n",
            "2    1/3   晴れ\n",
            "3    1/4   曇り\n",
            "4    1/5  NaN\n",
            "5    1/6   晴れ\n",
            "6    1/7   曇り\n",
            "7    1/8    雨\n",
            "8    1/9   晴れ\n",
            "9   1/10  NaN\n",
            "10  1/11   晴れ\n",
            "11  1/12    雨\n",
            "12  1/13  NaN\n",
            "13  1/14   晴れ\n",
            "\n",
            "count_df：\n",
            "   天気  数\n",
            "0  晴れ  6\n",
            "1  曇り  3\n",
            "2   雨  2\n",
            "\n"
          ]
        }
      ],
      "source": [
        "import numpy as np\n",
        "import pandas as pd\n",
        "\n",
        "series = pd.Series(['1/1', '1/2', '1/3', '1/4', '1/5', '1/6','1/7',\n",
        "'1/8','1/9','1/10','1/11','1/12','1/13','1/14'],name='日付')\n",
        "df1 = pd.DataFrame({'日付':['1/1', '1/2', '1/3', '1/4', '1/6','1/7'],\n",
        "'天気':['晴れ', '曇り', '晴れ', '曇り', '晴れ','曇り']})\n",
        "df2 = pd.DataFrame({'日付':['1/8', '1/14', '1/9', '1/12', '1/11'],\n",
        "'天気':['雨', '晴れ', '晴れ', '雨', '晴れ']})\n",
        "\n",
        "# 2つのDataFrameを縦方向に連結\n",
        "merge_df1 = pd.concat([df1, df2], ignore_index=True)\n",
        "print(f'連結：\\n{merge_df1}\\n')\n",
        "\n",
        "# seriesに対し、日付をkeyにしてmerge_df1を左外部結合\n",
        "merge_df2 = pd.merge(series, merge_df1, on=\"日付\", how=\"left\")\n",
        "print(f'日付をkeyに左外部結合：\\n{merge_df2}\\n')\n",
        "\n",
        "# 天気でグループ化し、数を集計\n",
        "count_df = merge_df2.groupby(\"天気\", as_index=False).count().rename(columns={\"日付\":\"数\"})\n",
        "print(f'count_df：\\n{count_df}\\n')"
      ]
    }
  ]
}