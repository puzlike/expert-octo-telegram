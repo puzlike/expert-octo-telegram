{
  "nbformat": 4,
  "nbformat_minor": 0,
  "metadata": {
    "colab": {
      "provenance": [],
      "authorship_tag": "ABX9TyNWgEzP0AuRd0Re55XHdCNM",
      "include_colab_link": true
    },
    "kernelspec": {
      "name": "python3",
      "display_name": "Python 3"
    },
    "language_info": {
      "name": "python"
    }
  },
  "cells": [
    {
      "cell_type": "markdown",
      "metadata": {
        "id": "view-in-github",
        "colab_type": "text"
      },
      "source": [
        "<a href=\"https://colab.research.google.com/github/puzlike/expert-octo-telegram/blob/main/Kadai.ipynb\" target=\"_parent\"><img src=\"https://colab.research.google.com/assets/colab-badge.svg\" alt=\"Open In Colab\"/></a>"
      ]
    },
    {
      "cell_type": "code",
      "execution_count": 1,
      "metadata": {
        "colab": {
          "base_uri": "https://localhost:8080/"
        },
        "id": "mCh1f7yD-1uH",
        "outputId": "c29b018b-5b52-4a95-ad85-66109e3ae617"
      },
      "outputs": [
        {
          "output_type": "stream",
          "name": "stdout",
          "text": [
            "16\n",
            "25\n",
            "34\n",
            "43\n",
            "52\n",
            "61\n",
            "70\n"
          ]
        }
      ],
      "source": [
        "# ① 2桁の数値(10〜99)のうち各桁の合計が7の数値を表示\n",
        "for num in range(10, 100):\n",
        "  tensPlace = num // 10\n",
        "  onesPlace = num % 10\n",
        "  if tensPlace + onesPlace == 7:\n",
        "    print(num)\n"
      ]
    },
    {
      "cell_type": "code",
      "source": [
        "# ② 入力された価格の2割引きの値段を表示\n",
        "prompt = \"価格を入力してください。０を入力すると終了します。\"\n",
        "while True:\n",
        "  price = int(input(prompt))\n",
        "  if price == 0:\n",
        "    break\n",
        "  discount_price = round(0.8*price)\n",
        "  print(discount_price)\n",
        ""
      ],
      "metadata": {
        "colab": {
          "base_uri": "https://localhost:8080/"
        },
        "id": "dPadpHnyAVyi",
        "outputId": "8d89a575-9a54-42c4-f9ec-68b45d5ffc71"
      },
      "execution_count": 6,
      "outputs": [
        {
          "name": "stdout",
          "output_type": "stream",
          "text": [
            "価格を入力してください。０を入力すると終了します。1200\n",
            "960\n",
            "価格を入力してください。０を入力すると終了します。5670\n",
            "4536\n",
            "価格を入力してください。０を入力すると終了します。4370\n",
            "3496\n",
            "価格を入力してください。０を入力すると終了します。0\n"
          ]
        }
      ]
    },
    {
      "cell_type": "code",
      "source": [
        "# ③ 2以上の整数を入力し、素数かどうか判定する\n",
        "while True:\n",
        "  num = int(input(\"2以上の整数を入力してください。\"))\n",
        "  if num >= 2:\n",
        "    break\n",
        "flg = True\n",
        "for i in range(2, num):\n",
        "  if num % i == 0:\n",
        "    flg = False\n",
        "    break\n",
        "if flg == True:\n",
        "  print(\"素数です。\")\n",
        "else:\n",
        "  print(\"素数ではありません。\")\n",
        "\n"
      ],
      "metadata": {
        "colab": {
          "base_uri": "https://localhost:8080/"
        },
        "id": "Fh1_FlKmCvqj",
        "outputId": "46847e24-f0ce-4a58-e706-d4223bec527d"
      },
      "execution_count": 12,
      "outputs": [
        {
          "output_type": "stream",
          "name": "stdout",
          "text": [
            "2以上の整数を入力してください。14\n",
            "素数ではありません。\n"
          ]
        }
      ]
    }
  ]
}