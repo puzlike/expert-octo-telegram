{
  "nbformat": 4,
  "nbformat_minor": 0,
  "metadata": {
    "colab": {
      "provenance": [],
      "authorship_tag": "ABX9TyOFofrSAiPaU0QPDponCkD2",
      "include_colab_link": true
    },
    "kernelspec": {
      "name": "python3",
      "display_name": "Python 3"
    },
    "language_info": {
      "name": "python"
    }
  },
  "cells": [
    {
      "cell_type": "markdown",
      "metadata": {
        "id": "view-in-github",
        "colab_type": "text"
      },
      "source": [
        "<a href=\"https://colab.research.google.com/github/puzlike/expert-octo-telegram/blob/main/Kadai.ipynb\" target=\"_parent\"><img src=\"https://colab.research.google.com/assets/colab-badge.svg\" alt=\"Open In Colab\"/></a>"
      ]
    },
    {
      "cell_type": "code",
      "execution_count": 5,
      "metadata": {
        "colab": {
          "base_uri": "https://localhost:8080/"
        },
        "id": "PUL-rx7UeoZ7",
        "outputId": "0b95024f-1b14-4059-8fbc-ebb98d1c161e"
      },
      "outputs": [
        {
          "output_type": "stream",
          "name": "stdout",
          "text": [
            "3個の数の値をキーボードから入力し，平均値を出力する\n",
            "数値 : 12\n",
            "数値 : 34\n",
            "数値 : 56\n",
            "3個の数の平均値は34.0です。\n",
            "\n",
            "三角形の2辺の長さと，その間の角度を入力して，三角形の面積を出力する\n",
            "辺a : 3\n",
            "辺b : 5\n",
            "2辺の間の角度C : 60\n",
            "三角形の面積S=6.495190528383289です。\n",
            "\n",
            "数値を小数第3位まで入力し，小数第3位で四捨五入し，小数第2位まで表示する\n",
            "数値を小数第3位まで入力してください1.234\n",
            "数値1.234の小数第3位で四捨五入した値は1.23です\n"
          ]
        }
      ],
      "source": [
        "print(\"3個の数の値をキーボードから入力し，平均値を出力する\")\n",
        "n = 3\n",
        "total = 0\n",
        "for i in range(n):\n",
        "    num = int(input(\"数値 : \"))\n",
        "    total += num\n",
        "ave = total / n\n",
        "print(f\"3個の数の平均値は{ave}です。\\n\")\n",
        "\n",
        "print(\"三角形の2辺の長さと，その間の角度を入力して，三角形の面積を出力する\")\n",
        "import math\n",
        "a = int(input(\"辺a : \"))\n",
        "b = int(input(\"辺b : \"))\n",
        "C = float(input(\"2辺の間の角度C : \"))\n",
        "rad_C = math.pi * C / 180\n",
        "S = (1/2) * a * b * math.sin(rad_C)\n",
        "print(f\"三角形の面積S={S}です。\\n\")\n",
        "\n",
        "print(\"数値を小数第3位まで入力し，小数第3位で四捨五入し，小数第2位まで表示する\")\n",
        "import math\n",
        "num = float(input(\"数値を小数第3位まで入力してください\"))\n",
        "round_of_num = math.trunc(num * 100) / 100\n",
        "print(f\"数値{num}の小数第3位で四捨五入した値は{round_of_num}です\")\n",
        "\n"
      ]
    }
  ]
}