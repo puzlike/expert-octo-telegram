{
  "nbformat": 4,
  "nbformat_minor": 0,
  "metadata": {
    "colab": {
      "provenance": [],
      "authorship_tag": "ABX9TyOYtD1BZm3sqU/+TzgGEFIl",
      "include_colab_link": true
    },
    "kernelspec": {
      "name": "python3",
      "display_name": "Python 3"
    },
    "language_info": {
      "name": "python"
    }
  },
  "cells": [
    {
      "cell_type": "markdown",
      "metadata": {
        "id": "view-in-github",
        "colab_type": "text"
      },
      "source": [
        "<a href=\"https://colab.research.google.com/github/puzlike/expert-octo-telegram/blob/main/trump_card.ipynb\" target=\"_parent\"><img src=\"https://colab.research.google.com/assets/colab-badge.svg\" alt=\"Open In Colab\"/></a>"
      ]
    },
    {
      "cell_type": "code",
      "execution_count": 3,
      "metadata": {
        "colab": {
          "base_uri": "https://localhost:8080/"
        },
        "id": "-BQHBQVi1VwO",
        "outputId": "33475fd2-17fd-47e2-99c2-a4ba8844a916"
      },
      "outputs": [
        {
          "output_type": "stream",
          "name": "stdout",
          "text": [
            "♤ :1\n",
            "♤ :2\n",
            "♤ :3\n",
            "♤ :4\n",
            "♤ :5\n",
            "♤ :6\n",
            "♤ :7\n",
            "♤ :8\n",
            "♤ :9\n",
            "♤ :10\n",
            "♤ :11\n",
            "♤ :12\n",
            "♤ :13\n",
            "♧ :1\n",
            "♧ :2\n",
            "♧ :3\n",
            "♧ :4\n",
            "♧ :5\n",
            "♧ :6\n",
            "♧ :7\n",
            "♧ :8\n",
            "♧ :9\n",
            "♧ :10\n",
            "♧ :11\n",
            "♧ :12\n",
            "♧ :13\n",
            "♡ :1\n",
            "♡ :2\n",
            "♡ :3\n",
            "♡ :4\n",
            "♡ :5\n",
            "♡ :6\n",
            "♡ :7\n",
            "♡ :8\n",
            "♡ :9\n",
            "♡ :10\n",
            "♡ :11\n",
            "♡ :12\n",
            "♡ :13\n",
            "♢ :1\n",
            "♢ :2\n",
            "♢ :3\n",
            "♢ :4\n",
            "♢ :5\n",
            "♢ :6\n",
            "♢ :7\n",
            "♢ :8\n",
            "♢ :9\n",
            "♢ :10\n",
            "♢ :11\n",
            "♢ :12\n",
            "♢ :13\n"
          ]
        }
      ],
      "source": [
        "marks = [\"♤ \", \"♧ \", \"♡ \", \"♢ \"]\n",
        "numbers = [1, 2, 3, 4, 5, 6, 7, 8, 9, 10, 11, 12, 13]\n",
        "card = {}\n",
        "for mark in marks:\n",
        "    card[mark] = numbers\n",
        "\n",
        "for mark, numbers in card.items():\n",
        "    for number in numbers:\n",
        "        print(f'{mark}:{number}') "
      ]
    }
  ]
}