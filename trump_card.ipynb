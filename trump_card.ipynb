{
  "nbformat": 4,
  "nbformat_minor": 0,
  "metadata": {
    "colab": {
      "provenance": [],
      "authorship_tag": "ABX9TyO2UFWAgtCSVANMOh5lJauR",
      "include_colab_link": true
    },
    "kernelspec": {
      "name": "python3",
      "display_name": "Python 3"
    },
    "language_info": {
      "name": "python"
    }
  },
  "cells": [
    {
      "cell_type": "markdown",
      "metadata": {
        "id": "view-in-github",
        "colab_type": "text"
      },
      "source": [
        "<a href=\"https://colab.research.google.com/github/puzlike/expert-octo-telegram/blob/main/trump_card.ipynb\" target=\"_parent\"><img src=\"https://colab.research.google.com/assets/colab-badge.svg\" alt=\"Open In Colab\"/></a>"
      ]
    },
    {
      "cell_type": "code",
      "execution_count": 2,
      "metadata": {
        "colab": {
          "base_uri": "https://localhost:8080/"
        },
        "id": "-BQHBQVi1VwO",
        "outputId": "8cccf825-2e43-439d-d372-7d0848d4cb7d"
      },
      "outputs": [
        {
          "output_type": "stream",
          "name": "stdout",
          "text": [
            "{'♤ ': [1, 2, 3, 4, 5, 6, 7, 8, 9, 10, 11, 12, 13], '♧ ': [1, 2, 3, 4, 5, 6, 7, 8, 9, 10, 11, 12, 13], '♡ ': [1, 2, 3, 4, 5, 6, 7, 8, 9, 10, 11, 12, 13], '♢ ': [1, 2, 3, 4, 5, 6, 7, 8, 9, 10, 11, 12, 13]}\n"
          ]
        }
      ],
      "source": [
        "marks = [\"♤ \", \"♧ \", \"♡ \", \"♢ \"]\n",
        "numbers = [1, 2, 3, 4, 5, 6, 7, 8, 9, 10, 11, 12, 13]\n",
        "card = {}\n",
        "for mark in marks:\n",
        "    card[mark] = numbers\n",
        "\n",
        "print(card)"
      ]
    }
  ]
}