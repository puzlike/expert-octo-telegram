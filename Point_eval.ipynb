{
  "nbformat": 4,
  "nbformat_minor": 0,
  "metadata": {
    "colab": {
      "provenance": [],
      "authorship_tag": "ABX9TyMbgoDlv6qOn0RSrCBxtKsX",
      "include_colab_link": true
    },
    "kernelspec": {
      "name": "python3",
      "display_name": "Python 3"
    },
    "language_info": {
      "name": "python"
    }
  },
  "cells": [
    {
      "cell_type": "markdown",
      "metadata": {
        "id": "view-in-github",
        "colab_type": "text"
      },
      "source": [
        "<a href=\"https://colab.research.google.com/github/puzlike/expert-octo-telegram/blob/main/Point_eval.ipynb\" target=\"_parent\"><img src=\"https://colab.research.google.com/assets/colab-badge.svg\" alt=\"Open In Colab\"/></a>"
      ]
    },
    {
      "cell_type": "code",
      "execution_count": 5,
      "metadata": {
        "colab": {
          "base_uri": "https://localhost:8080/"
        },
        "id": "fZwzEdI5-s_o",
        "outputId": "063976e0-cf77-4180-e521-e19c579af1e5"
      },
      "outputs": [
        {
          "output_type": "stream",
          "name": "stdout",
          "text": [
            "点数を入力してください : 54\n",
            "評価→不可\n"
          ]
        }
      ],
      "source": [
        "hyouka = ['秀', '優', '良', '可', '不可']\n",
        "point = int(input(\"点数を入力してください : \"))\n",
        "if point >= 90:\n",
        "  idx = 0\n",
        "elif point >= 80:\n",
        "  idx = 1\n",
        "elif point >= 70:\n",
        "  idx = 2\n",
        "elif point >= 60:\n",
        "  idx = 3\n",
        "else:\n",
        "  idx = 4\n",
        "print(f\"評価→{hyouka[idx]}\")"
      ]
    }
  ]
}