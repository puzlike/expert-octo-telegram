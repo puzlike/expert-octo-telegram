{
  "nbformat": 4,
  "nbformat_minor": 0,
  "metadata": {
    "colab": {
      "provenance": [],
      "authorship_tag": "ABX9TyMYzvEgXtX3FqO9ZnAAcb7N",
      "include_colab_link": true
    },
    "kernelspec": {
      "name": "python3",
      "display_name": "Python 3"
    },
    "language_info": {
      "name": "python"
    }
  },
  "cells": [
    {
      "cell_type": "markdown",
      "metadata": {
        "id": "view-in-github",
        "colab_type": "text"
      },
      "source": [
        "<a href=\"https://colab.research.google.com/github/puzlike/expert-octo-telegram/blob/main/new_1.ipynb\" target=\"_parent\"><img src=\"https://colab.research.google.com/assets/colab-badge.svg\" alt=\"Open In Colab\"/></a>"
      ]
    },
    {
      "cell_type": "code",
      "execution_count": 17,
      "metadata": {
        "colab": {
          "base_uri": "https://localhost:8080/"
        },
        "id": "7cijt3jHtxqk",
        "outputId": "a4215a00-8661-450a-f08b-9ce5c167793e"
      },
      "outputs": [
        {
          "output_type": "stream",
          "name": "stdout",
          "text": [
            "枚数を入力してください (2〜10)\n",
            "1\n",
            "枚数を入力してください (2〜10)\n",
            "5\n",
            "数字を入力してください（-5〜5)\n",
            "1\n",
            "2\n",
            "-9\n",
            "3\n",
            "2\n",
            "1\n",
            "[1, 2, 3, 2, 1]\n",
            "0\n"
          ]
        }
      ],
      "source": [
        "import random\n",
        "while True:\n",
        "    print('枚数を入力してください (2〜10)')\n",
        "    N = int(input())\n",
        "    if N >= 2 and N <= 10:\n",
        "        break\n",
        "\n",
        "card = []\n",
        "flag = True\n",
        "while flag:\n",
        "    print('数字を入力してください（-5〜5)')\n",
        "    i = 1\n",
        "    while i < N:\n",
        "        c = int(input())\n",
        "        if c <= -5 or c >=5:\n",
        "            i -= 1\n",
        "            continue\n",
        "        else:\n",
        "            card.append(c)\n",
        "            flag = False\n",
        "        i += 1\n",
        "print(card)\n",
        "\n",
        "# リストから1つ数字を選び、1を引く\n",
        "n1 = random.choice(card)\n",
        "m1 = n1 - 1\n",
        "\n",
        "# 残ったリストから1つ数字を選び、1を足す\n",
        "card.remove(n1)\n",
        "n2 = random.choice(card)\n",
        "m2 = n2 -1\n",
        "\n",
        "# 数字を全部かける\n",
        "multi = 1\n",
        "for num in card:\n",
        "    multi *= num\n",
        "multi *= m1 * m2\n",
        "\n",
        "print(multi)\n",
        "\n"
      ]
    }
  ]
}