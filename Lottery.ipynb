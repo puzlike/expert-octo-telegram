{
  "nbformat": 4,
  "nbformat_minor": 0,
  "metadata": {
    "colab": {
      "provenance": [],
      "authorship_tag": "ABX9TyPY06taPAP+e+c96LPoWsi7",
      "include_colab_link": true
    },
    "kernelspec": {
      "name": "python3",
      "display_name": "Python 3"
    },
    "language_info": {
      "name": "python"
    }
  },
  "cells": [
    {
      "cell_type": "markdown",
      "metadata": {
        "id": "view-in-github",
        "colab_type": "text"
      },
      "source": [
        "<a href=\"https://colab.research.google.com/github/puzlike/expert-octo-telegram/blob/main/Lottery.ipynb\" target=\"_parent\"><img src=\"https://colab.research.google.com/assets/colab-badge.svg\" alt=\"Open In Colab\"/></a>"
      ]
    },
    {
      "cell_type": "code",
      "execution_count": 37,
      "metadata": {
        "colab": {
          "base_uri": "https://localhost:8080/"
        },
        "id": "HGK67YXiRF9e",
        "outputId": "b41498e0-817b-46d9-aea7-4cd49fec6dab"
      },
      "outputs": [
        {
          "output_type": "stream",
          "name": "stdout",
          "text": [
            "何枚買いますか？3\n",
            "好きな４桁の数字を入力してください（1000〜9999)：1211\n",
            "好きな４桁の数字を入力してください（1000〜9999)：8711\n",
            "好きな４桁の数字を入力してください（1000〜9999)：2300\n",
            "\n",
            "当たりくじは以下の番号でした。\n",
            "------------------------\n",
            "1等：7765\n",
            "2等：8233\n",
            "3等：9071\n"
          ]
        }
      ],
      "source": [
        "import random\n",
        "\n",
        "sheets = int(input(\"何枚買いますか？\"))\n",
        "nums = []\n",
        "for n in range(sheets):\n",
        "    num = int(input(\"好きな４桁の数字を入力してください（1000〜9999)：\"))\n",
        "    nums.append(num)\n",
        "\n",
        "hit_nums = []\n",
        "for n in range(3):\n",
        "    hit_num = random.randint(1000, 9999)\n",
        "    hit_nums.append(hit_num)\n",
        "\n",
        "for num in nums:\n",
        "    for i, hit_num in enumerate(hit_nums):\n",
        "        if num != hit_num:\n",
        "            continue\n",
        "        else:\n",
        "            print(f\"{i + 1}等が当たりました。\")\n",
        "\n",
        "print(\"\\n当たりくじは以下の番号でした。\")\n",
        "print(\"------------------------\")\n",
        "for i, hit_num in enumerate(hit_nums):\n",
        "    print(f\"{i + 1}等：{hit_num}\")"
      ]
    }
  ]
}