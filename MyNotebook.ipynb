{
  "nbformat": 4,
  "nbformat_minor": 0,
  "metadata": {
    "colab": {
      "provenance": [],
      "mount_file_id": "1w_YTamF7hMYz7DhRtbUVizRA3WrqETKs",
      "authorship_tag": "ABX9TyNs59qqueSjHM66WUHiYa4q",
      "include_colab_link": true
    },
    "kernelspec": {
      "name": "python3",
      "display_name": "Python 3"
    },
    "language_info": {
      "name": "python"
    }
  },
  "cells": [
    {
      "cell_type": "markdown",
      "metadata": {
        "id": "view-in-github",
        "colab_type": "text"
      },
      "source": [
        "<a href=\"https://colab.research.google.com/github/puzlike/expert-octo-telegram/blob/main/MyNotebook.ipynb\" target=\"_parent\"><img src=\"https://colab.research.google.com/assets/colab-badge.svg\" alt=\"Open In Colab\"/></a>"
      ]
    },
    {
      "cell_type": "code",
      "source": [
        "# 1\n",
        "import pandas as pd\n",
        "def check_attendance(filname):\n",
        "    df = pd.read_csv(filename)\n",
        "\n",
        "    l = len(df)\n",
        "    n = len(df.iloc[1])\n",
        "\n",
        "    ID_list = [] \n",
        "    for i in range(l):\n",
        "        count = 0\n",
        "        for j in range(1, n):\n",
        "            if df.iloc[i, j] == 'YES':\n",
        "                count += 1\n",
        "        if count >= 10:\n",
        "            ID_list.append(df.iloc[i, 0])\n",
        "    return ID_list\n",
        "\n",
        "def get_total_scores(filename):\n",
        "    df = pd.read_csv(filename)\n",
        "\n",
        "    l = len(df)\n",
        "    n = len(df.iloc[1])\n",
        "\n",
        "    total_scores = {}\n",
        "    for i in range(l):\n",
        "        ID = df.iloc[i,0]\n",
        "        total_score = 0\n",
        "        for j in range(1, n):\n",
        "            score = int(df.iloc[i, j])\n",
        "            total_score += score\n",
        "        total_scores[ID] = total_score\n",
        "    return\n",
        "filename = 'attendance.csv'\n",
        "ID_list = check_attendance(filename)\n",
        "\n",
        "filename = 'scores.csv'\n",
        "total_scores = get_total_scores(filename)"
      ],
      "metadata": {
        "id": "X0Oo2O_9KH5z"
      },
      "execution_count": 124,
      "outputs": []
    }
  ]
}