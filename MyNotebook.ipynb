{
  "nbformat": 4,
  "nbformat_minor": 0,
  "metadata": {
    "colab": {
      "provenance": [],
      "mount_file_id": "1w_YTamF7hMYz7DhRtbUVizRA3WrqETKs",
      "authorship_tag": "ABX9TyOG4Ax/McPBTH8OvOmpS8gI",
      "include_colab_link": true
    },
    "kernelspec": {
      "name": "python3",
      "display_name": "Python 3"
    },
    "language_info": {
      "name": "python"
    }
  },
  "cells": [
    {
      "cell_type": "markdown",
      "metadata": {
        "id": "view-in-github",
        "colab_type": "text"
      },
      "source": [
        "<a href=\"https://colab.research.google.com/github/puzlike/expert-octo-telegram/blob/main/MyNotebook.ipynb\" target=\"_parent\"><img src=\"https://colab.research.google.com/assets/colab-badge.svg\" alt=\"Open In Colab\"/></a>"
      ]
    },
    {
      "cell_type": "code",
      "source": [
        "a = [57, 16, 99, 10, 45]; n = len(a)\n",
        "print('番号', 'データ')\n",
        "for i in range(0, n, 1):\n",
        "    print(i,'   ',a[i])\n",
        "print()\n",
        "s = int(input('探査値の入力'))\n",
        "for i in range(0, n, 1):\n",
        "    if a[i] == s:\n",
        "        print(s, 'は' , i, '番目に存在します')\n",
        "        break\n",
        "if s not in a:\n",
        "   print(s, 'は存在しません')\n"
      ],
      "metadata": {
        "colab": {
          "base_uri": "https://localhost:8080/"
        },
        "id": "SXbhKZoPq2m3",
        "outputId": "3fe3b797-2129-4be5-c6d4-563d42da28ae"
      },
      "execution_count": 39,
      "outputs": [
        {
          "output_type": "stream",
          "name": "stdout",
          "text": [
            "番号 データ\n",
            "0     57\n",
            "1     16\n",
            "2     99\n",
            "3     10\n",
            "4     45\n",
            "\n",
            "探査値の入力78\n",
            "78 は存在しません\n"
          ]
        }
      ]
    }
  ]
}