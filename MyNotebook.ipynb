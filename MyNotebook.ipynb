{
  "nbformat": 4,
  "nbformat_minor": 0,
  "metadata": {
    "colab": {
      "provenance": [],
      "mount_file_id": "1w_YTamF7hMYz7DhRtbUVizRA3WrqETKs",
      "authorship_tag": "ABX9TyPoYjadC0XK2V4Gp3gwbtcB",
      "include_colab_link": true
    },
    "kernelspec": {
      "name": "python3",
      "display_name": "Python 3"
    },
    "language_info": {
      "name": "python"
    }
  },
  "cells": [
    {
      "cell_type": "markdown",
      "metadata": {
        "id": "view-in-github",
        "colab_type": "text"
      },
      "source": [
        "<a href=\"https://colab.research.google.com/github/puzlike/expert-octo-telegram/blob/main/MyNotebook.ipynb\" target=\"_parent\"><img src=\"https://colab.research.google.com/assets/colab-badge.svg\" alt=\"Open In Colab\"/></a>"
      ]
    },
    {
      "cell_type": "code",
      "source": [
        "# 1\n",
        "import pandas as pd\n",
        "def check_attendance(filename):\n",
        "    df = pd.read_csv(filename)\n",
        "\n",
        "    l = len(df)\n",
        "    n = len(df.iloc[0])\n",
        "\n",
        "    ID_list = [] \n",
        "    for i in range(l):\n",
        "        count = 0\n",
        "        for j in range(1, n):\n",
        "            if df.iloc[i, j] == 'YES':\n",
        "                count += 1\n",
        "        if count >= 10:\n",
        "            ID_list.append(df.iloc[i, 0])\n",
        "    return ID_list\n",
        "\n",
        "def get_total_scores(filename):\n",
        "    df = pd.read_csv(filename)\n",
        "\n",
        "    l = len(df)\n",
        "    n = len(df.iloc[0])\n",
        "\n",
        "    total_scores = {}\n",
        "    for i in range(l):\n",
        "        ID = df.iloc[i,0]\n",
        "        total_score = 0\n",
        "        for j in range(1, 5):\n",
        "            score = int(df.iloc[i, j])\n",
        "            total_score += score\n",
        "        total_score = total_score / 4 * 0.5 + df.iloc[i, 5] * 0.125 + df.iloc[i, 6] * 0.375\n",
        "        total_scores[ID] = total_score\n",
        "    return total_scores\n",
        "\n",
        "# 2\n",
        "def grade(filename1, filename2):\n",
        "    ID_list = check_attendance(filename1)\n",
        "    total_scores = get_total_scores(filename2)\n",
        "    grades = {}\n",
        "    for ID, total_score in total_scores.items():\n",
        "        if ID not in ID_list:\n",
        "            grade = 'F'\n",
        "        else:\n",
        "            if total_score >= 90:\n",
        "                grade = 'S'\n",
        "            elif total_score >= 80:\n",
        "                grade = 'A'\n",
        "            elif total_score >= 70:\n",
        "                grade = 'B'\n",
        "            elif total_score >= 60:\n",
        "                grade = 'C'\n",
        "            else:\n",
        "                grade = 'F'\n",
        "        grades[ID] = grade\n",
        "    return grades\n",
        "\n",
        "filename1 = 'attendance.csv'\n",
        "filename2 = 'scores.csv'\n",
        "grades = grade(filename1, filename2)\n",
        "print(grades)\n"
      ],
      "metadata": {
        "id": "X0Oo2O_9KH5z",
        "colab": {
          "base_uri": "https://localhost:8080/"
        },
        "outputId": "442b5fbe-4ee8-40ef-86ec-71f78eb1513a"
      },
      "execution_count": 7,
      "outputs": [
        {
          "output_type": "stream",
          "name": "stdout",
          "text": [
            "{133921: 'C', 138489: 'B', 134990: 'C', 150205: 'A', 144363: 'F', 137250: 'B', 145326: 'F', 155657: 'B', 144270: 'F', 150488: 'F', 153267: 'B', 145137: 'F', 150746: 'B', 138523: 'B', 151916: 'F', 133662: 'B', 133003: 'B', 156152: 'C', 155215: 'C', 148158: 'C', 155427: 'C', 155020: 'B', 153488: 'F', 152081: 'C', 156153: 'C', 138145: 'C', 148448: 'B', 156037: 'F', 152038: 'C', 136870: 'C'}\n"
          ]
        }
      ]
    }
  ]
}