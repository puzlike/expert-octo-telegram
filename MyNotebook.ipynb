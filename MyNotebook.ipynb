{
  "nbformat": 4,
  "nbformat_minor": 0,
  "metadata": {
    "colab": {
      "provenance": [],
      "mount_file_id": "1w_YTamF7hMYz7DhRtbUVizRA3WrqETKs",
      "authorship_tag": "ABX9TyNFJScGNxtPS6XN9czvN2N/",
      "include_colab_link": true
    },
    "kernelspec": {
      "name": "python3",
      "display_name": "Python 3"
    },
    "language_info": {
      "name": "python"
    }
  },
  "cells": [
    {
      "cell_type": "markdown",
      "metadata": {
        "id": "view-in-github",
        "colab_type": "text"
      },
      "source": [
        "<a href=\"https://colab.research.google.com/github/puzlike/expert-octo-telegram/blob/main/MyNotebook.ipynb\" target=\"_parent\"><img src=\"https://colab.research.google.com/assets/colab-badge.svg\" alt=\"Open In Colab\"/></a>"
      ]
    },
    {
      "cell_type": "code",
      "source": [
        "def quadratic(a, b, c):\n",
        "    D = b**2 -4 * a * c\n",
        "    if D == 0:\n",
        "        x1 = x2 = -b / (2 * a)\n",
        "    elif D > 0:\n",
        "        x1 = (-b + D**(1/2)) / (2 * a)\n",
        "        x2 = (-b - D**(1/2)) / (2 * a)\n",
        "    else:\n",
        "        x1 = f\"{-b / (2 * a)} + {(-D)**(1/2) / (2 * a)}i\"\n",
        "        x2 = f\"{-b / (2 * a)} - {(-D)**(1/2) / (2 * a)}i\"\n",
        "    return x1, x2\n",
        "\n",
        "print(\"2次方程式のax^2+bx+c=0の解を求めます。\")\n",
        "a = int(input(\"x^2の係数 : a >> \"))\n",
        "b = int(input(\"xの係数 : b >> \"))\n",
        "c = int(input(\"定数 : c >> \"))\n",
        "x1, x2 = quadratic(a, b, c)\n",
        "print(f\"x1 = {x1}\")\n",
        "print(f\"x2 = {x2}\")"
      ],
      "metadata": {
        "id": "xvMeTWJnBliN",
        "colab": {
          "base_uri": "https://localhost:8080/"
        },
        "outputId": "7703d274-9352-4f3e-869b-6daea30dd0a1"
      },
      "execution_count": 14,
      "outputs": [
        {
          "output_type": "stream",
          "name": "stdout",
          "text": [
            "2次方程式のax^2+bx+c=0の解を求めます。\n",
            "x^2の係数 : a >> 1\n",
            "xの係数 : b >> 2\n",
            "定数 : c >> 1\n",
            "x1 = -1.0\n",
            "x2 = -1.0\n"
          ]
        }
      ]
    }
  ]
}