{
  "nbformat": 4,
  "nbformat_minor": 0,
  "metadata": {
    "colab": {
      "provenance": [],
      "mount_file_id": "1w_YTamF7hMYz7DhRtbUVizRA3WrqETKs",
      "authorship_tag": "ABX9TyPK8LITqEqqtoIsFvvuV+5y",
      "include_colab_link": true
    },
    "kernelspec": {
      "name": "python3",
      "display_name": "Python 3"
    },
    "language_info": {
      "name": "python"
    }
  },
  "cells": [
    {
      "cell_type": "markdown",
      "metadata": {
        "id": "view-in-github",
        "colab_type": "text"
      },
      "source": [
        "<a href=\"https://colab.research.google.com/github/puzlike/expert-octo-telegram/blob/main/MyNotebook.ipynb\" target=\"_parent\"><img src=\"https://colab.research.google.com/assets/colab-badge.svg\" alt=\"Open In Colab\"/></a>"
      ]
    },
    {
      "cell_type": "code",
      "source": [
        "import csv\n",
        "filename = 'divisor.csv'\n",
        "\n",
        "data_list = []\n",
        "divisor_list = []\n",
        "n = int(input('正の整数 : '))\n",
        "for i in range(1, n + 1):\n",
        "    if n % i == 0:\n",
        "        divisor_list.append(str(i))\n",
        "data_list.append(divisor_list)\n",
        "\n",
        "f = open(filename, mode='w', newline=\"\")\n",
        "writer = csv.writer(f)\n",
        "for data in data_list:\n",
        "    writer.writerow(data)\n",
        "f.close()\n"
      ],
      "metadata": {
        "colab": {
          "base_uri": "https://localhost:8080/"
        },
        "id": "XTtef9c36683",
        "outputId": "26d8a983-6751-4368-ce8f-dfc25b59a1e2"
      },
      "execution_count": 18,
      "outputs": [
        {
          "name": "stdout",
          "output_type": "stream",
          "text": [
            "正の整数 : 12\n"
          ]
        }
      ]
    }
  ]
}