{
  "nbformat": 4,
  "nbformat_minor": 0,
  "metadata": {
    "colab": {
      "provenance": [],
      "mount_file_id": "1w_YTamF7hMYz7DhRtbUVizRA3WrqETKs",
      "authorship_tag": "ABX9TyNpAVs8LXlz+r95bXXjlmUq",
      "include_colab_link": true
    },
    "kernelspec": {
      "name": "python3",
      "display_name": "Python 3"
    },
    "language_info": {
      "name": "python"
    }
  },
  "cells": [
    {
      "cell_type": "markdown",
      "metadata": {
        "id": "view-in-github",
        "colab_type": "text"
      },
      "source": [
        "<a href=\"https://colab.research.google.com/github/puzlike/expert-octo-telegram/blob/main/MyNotebook.ipynb\" target=\"_parent\"><img src=\"https://colab.research.google.com/assets/colab-badge.svg\" alt=\"Open In Colab\"/></a>"
      ]
    },
    {
      "cell_type": "code",
      "source": [
        "import pandas as pd\n",
        "import numpy as np\n",
        "DF = []\n",
        "for i in range(50):\n",
        "    x = pd.DataFrame(np.random.randn(6, 4))\n",
        "    DF.append(x)\n",
        "\n",
        "for i in range(4):\n",
        "    for j in range(i + 1, 5):\n",
        "        DF[i] = DF[i].append(DF[j], ignore_index=True)\n",
        "\n",
        "print(DF[0])"
      ],
      "metadata": {
        "colab": {
          "base_uri": "https://localhost:8080/"
        },
        "id": "MI98EAzqWHoA",
        "outputId": "39d65dc8-26b1-42f1-d44f-18d01b0f1a45"
      },
      "execution_count": 8,
      "outputs": [
        {
          "output_type": "stream",
          "name": "stdout",
          "text": [
            "           0         1         2         3\n",
            "0   0.429047 -0.408776  0.147510 -0.010316\n",
            "1   1.114916  0.022930  2.185547  0.714876\n",
            "2   2.006871 -0.742823  0.599256 -1.102205\n",
            "3  -0.741409 -0.140611 -0.025875 -1.198642\n",
            "4   1.026595 -0.595540  1.062929  0.133101\n",
            "5   0.544231 -0.288492 -0.732429 -0.374415\n",
            "6   1.256865 -0.578556  0.743593 -0.838183\n",
            "7   0.351285 -0.685026  1.934502  1.251740\n",
            "8   0.318530  0.262566 -0.000631  0.272439\n",
            "9   0.313839  0.939595 -0.486478  0.650155\n",
            "10  0.733189 -0.467488 -1.891761  2.027814\n",
            "11 -1.672671  0.752708  1.368504  1.445105\n",
            "12 -1.268629 -0.133214  0.571472  0.133750\n",
            "13  1.098397  0.244285 -0.236738  2.115192\n",
            "14 -0.238247  1.996933 -0.552449  1.682338\n",
            "15 -1.100682 -1.817324  0.716673  1.782983\n",
            "16  1.026093 -1.088526  0.380699  1.055711\n",
            "17  0.120632  0.130559  0.036281 -0.689340\n",
            "18 -0.155623  2.392771  2.223787  0.171458\n",
            "19 -0.684867 -1.582677 -0.149758  0.583288\n",
            "20  0.612672  0.449416  0.155198  1.243353\n",
            "21  1.454132  1.102635  0.037726  0.028243\n",
            "22 -0.327008  0.348741  0.518991 -0.472797\n",
            "23 -1.113883  0.104149 -0.573911  0.510544\n",
            "24 -0.160589 -1.176493  0.477328 -2.127237\n",
            "25  0.839886  0.246812 -0.765086  1.059418\n",
            "26  1.025472 -0.012799  0.444698 -0.531404\n",
            "27  0.590821  1.469764  1.294140 -1.742920\n",
            "28 -2.620316 -1.790296  0.737526  1.810233\n",
            "29 -1.686448 -0.158528  1.912568 -0.300433\n"
          ]
        }
      ]
    }
  ]
}