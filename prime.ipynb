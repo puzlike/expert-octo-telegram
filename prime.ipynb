{
  "nbformat": 4,
  "nbformat_minor": 0,
  "metadata": {
    "colab": {
      "provenance": [],
      "authorship_tag": "ABX9TyM044qJoUqkdGXQfMkzNILX",
      "include_colab_link": true
    },
    "kernelspec": {
      "name": "python3",
      "display_name": "Python 3"
    },
    "language_info": {
      "name": "python"
    }
  },
  "cells": [
    {
      "cell_type": "markdown",
      "metadata": {
        "id": "view-in-github",
        "colab_type": "text"
      },
      "source": [
        "<a href=\"https://colab.research.google.com/github/puzlike/expert-octo-telegram/blob/main/prime.ipynb\" target=\"_parent\"><img src=\"https://colab.research.google.com/assets/colab-badge.svg\" alt=\"Open In Colab\"/></a>"
      ]
    },
    {
      "cell_type": "code",
      "execution_count": 1,
      "metadata": {
        "colab": {
          "base_uri": "https://localhost:8080/"
        },
        "id": "8oiP9brfvE3h",
        "outputId": "4343a09d-4c74-4ebf-afd7-104eff8e2cb0"
      },
      "outputs": [
        {
          "output_type": "stream",
          "name": "stdout",
          "text": [
            "整数:n --> 100\n",
            "[2, 3, 5, 7, 11, 13, 17, 19, 23, 29, 31, 37, 41, 43, 47, 49, 53, 59, 61, 67, 71, 73, 77, 79, 83, 89, 91, 97]\n"
          ]
        }
      ],
      "source": [
        "def prime(num_list):\n",
        "    num_list = num_list[1:]\n",
        "    for num1 in num_list:\n",
        "        if num1 > len(num_list)**(1/2):\n",
        "            break\n",
        "        i = num_list.index(num1)\n",
        "        for num2 in num_list[i + 1:]:\n",
        "            if num2 % num1 == 0:\n",
        "                num_list.remove(num2)\n",
        "    return num_list\n",
        "\n",
        "n = int(input(\"整数:n --> \"))\n",
        "num_list = [num for num in range(1, n + 1)]\n",
        "prime_list = prime(num_list)\n",
        "print(prime_list)"
      ]
    }
  ]
}