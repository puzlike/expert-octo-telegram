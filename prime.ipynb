{
  "nbformat": 4,
  "nbformat_minor": 0,
  "metadata": {
    "colab": {
      "provenance": [],
      "authorship_tag": "ABX9TyOgbeSLovutG12zPiYcLWdQ",
      "include_colab_link": true
    },
    "kernelspec": {
      "name": "python3",
      "display_name": "Python 3"
    },
    "language_info": {
      "name": "python"
    }
  },
  "cells": [
    {
      "cell_type": "markdown",
      "metadata": {
        "id": "view-in-github",
        "colab_type": "text"
      },
      "source": [
        "<a href=\"https://colab.research.google.com/github/puzlike/expert-octo-telegram/blob/main/prime.ipynb\" target=\"_parent\"><img src=\"https://colab.research.google.com/assets/colab-badge.svg\" alt=\"Open In Colab\"/></a>"
      ]
    },
    {
      "cell_type": "code",
      "execution_count": 43,
      "metadata": {
        "colab": {
          "base_uri": "https://localhost:8080/"
        },
        "id": "8oiP9brfvE3h",
        "outputId": "31f88f30-6b7d-459e-d9ae-e49cb888baff"
      },
      "outputs": [
        {
          "output_type": "stream",
          "name": "stdout",
          "text": [
            "[2, 3, 5, 7, 11, 13, 17, 19, 23, 29, 31, 37, 41, 43, 47, 49, 53, 59, 61, 67, 71, 73, 77, 79, 83, 89, 91, 97]\n"
          ]
        }
      ],
      "source": [
        "def prime(num_list):\n",
        "    for num1 in num_list:\n",
        "        if num1 == 1:\n",
        "            continue\n",
        "        if num1 > len(num_list)**(1/2):\n",
        "            break\n",
        "        i = num_list.index(num1)\n",
        "        for num2 in num_list[i + 1:]:\n",
        "            if num2 % num1 == 0:\n",
        "                num_list.remove(num2)\n",
        "    return num_list\n",
        "\n",
        "num_list = [num for num in range(2, 101)]\n",
        "prime_list = prime(num_list)\n",
        "print(prime_list)"
      ]
    }
  ]
}