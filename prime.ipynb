{
  "nbformat": 4,
  "nbformat_minor": 0,
  "metadata": {
    "colab": {
      "provenance": [],
      "authorship_tag": "ABX9TyN3ki+Y+oRuzBo/LmJmvKSq",
      "include_colab_link": true
    },
    "kernelspec": {
      "name": "python3",
      "display_name": "Python 3"
    },
    "language_info": {
      "name": "python"
    }
  },
  "cells": [
    {
      "cell_type": "markdown",
      "metadata": {
        "id": "view-in-github",
        "colab_type": "text"
      },
      "source": [
        "<a href=\"https://colab.research.google.com/github/puzlike/expert-octo-telegram/blob/main/prime.ipynb\" target=\"_parent\"><img src=\"https://colab.research.google.com/assets/colab-badge.svg\" alt=\"Open In Colab\"/></a>"
      ]
    },
    {
      "cell_type": "code",
      "execution_count": 12,
      "metadata": {
        "colab": {
          "base_uri": "https://localhost:8080/"
        },
        "id": "8oiP9brfvE3h",
        "outputId": "cfba05d3-0415-4f70-f1d3-5a9040475db3"
      },
      "outputs": [
        {
          "output_type": "stream",
          "name": "stdout",
          "text": [
            "[2, 3, 5, 7, 11, 13, 17, 19, 23, 29, 31, 37, 41, 43, 47, 49, 53, 59, 61, 67, 71, 73, 77, 79, 83, 89, 91, 97]\n"
          ]
        }
      ],
      "source": [
        "def prime(num_list):\n",
        "    if num_list[0] == 1:\n",
        "        num_list = num_list[1:]\n",
        "        for num1 in num_list:\n",
        "            if num1 > len(num_list)**(1/2):\n",
        "                break\n",
        "            i = num_list.index(num1)\n",
        "            for num2 in num_list[i + 1:]:\n",
        "                if num2 % num1 == 0:\n",
        "                    num_list.remove(num2)\n",
        "    return num_list\n",
        "\n",
        "num_list = [num for num in range(1, 101)]\n",
        "prime_list = prime(num_list)\n",
        "print(prime_list)"
      ]
    }
  ]
}