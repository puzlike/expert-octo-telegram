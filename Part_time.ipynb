{
  "nbformat": 4,
  "nbformat_minor": 0,
  "metadata": {
    "colab": {
      "provenance": [],
      "authorship_tag": "ABX9TyOIgZsSQ+CXB/00Miu2JtoA",
      "include_colab_link": true
    },
    "kernelspec": {
      "name": "python3",
      "display_name": "Python 3"
    },
    "language_info": {
      "name": "python"
    }
  },
  "cells": [
    {
      "cell_type": "markdown",
      "metadata": {
        "id": "view-in-github",
        "colab_type": "text"
      },
      "source": [
        "<a href=\"https://colab.research.google.com/github/puzlike/expert-octo-telegram/blob/main/Part_time.ipynb\" target=\"_parent\"><img src=\"https://colab.research.google.com/assets/colab-badge.svg\" alt=\"Open In Colab\"/></a>"
      ]
    },
    {
      "cell_type": "code",
      "execution_count": 26,
      "metadata": {
        "colab": {
          "base_uri": "https://localhost:8080/"
        },
        "id": "C3FdYgwb4x2a",
        "outputId": "a9bfd855-2cac-48ca-ff33-35e02c82a670"
      },
      "outputs": [
        {
          "output_type": "stream",
          "name": "stdout",
          "text": [
            "                                     1週間の給料                                     \n",
            "--------------------------------------------------------------------------------------------\n",
            "  名前       月曜日     火曜日     水曜日     木曜日     金曜日     土曜日     日曜日    合計    平均\n",
            "井上         7000      8000      8000      6000      5000      3000      8000     45000   6429\n",
            "\n",
            "佐藤          950       950      5700      9500      2850      4750      6650     31350   4479\n",
            "\n",
            "小田          900      2700       900      7200       900      7200      4500     24300   3471\n",
            "\n",
            "豊岡         1700      3400      7650      8500      2550      6800      7650     38250   5464\n",
            "\n",
            "前原         8500      1700      3400      5950      7650      4250      2550     34000   4857\n",
            "\n",
            "古石          820      3280      7380      8200      7380      7380      3280     37720   5389\n",
            "\n",
            "下山          820      8200      6560      6560      7380      4920      3280     37720   5389\n",
            "\n",
            "武田         4000      4800      4000      1600      4800       800      8000     28000   4000\n",
            "\n",
            "増岡         1600      4000      4800      4800      7200      6400      8000     36800   5257\n",
            "\n",
            "堂内          800      4000      8000      5600      5600      7200      8000     39200   5600\n",
            "\n"
          ]
        }
      ],
      "source": [
        "member = [\"井上\", \"大槻\", \"小田\", \"豊岡\", \"前原\", \"古石\", \"下山\", \"武田\", \"増岡\", \"堂内\"]\n",
        "member[1] = \"佐藤\"\n",
        "hourly_wage = [1000, 950,900,850, 850, 820, 820, 800, 800, 800]\n",
        "weekly_time = [\n",
        "    [7, 8, 8, 6, 5, 3, 8],\n",
        "    [1, 1, 6, 10, 3, 5, 7],\n",
        "    [1, 3, 1, 8, 1, 8, 5],\n",
        "    [2, 4, 9, 10, 3, 8, 9],\n",
        "    [10, 2, 4, 7, 9, 5, 3],\n",
        "    [1, 4, 9, 10, 9, 9, 4],\n",
        "    [1, 10, 8, 8, 9, 6, 4],\n",
        "    [5, 6, 5, 2, 6, 1, 10],\n",
        "    [2, 5, 6, 6, 9, 8, 10],\n",
        "    [1, 5, 10, 7, 7, 9, 10]\n",
        "]\n",
        "l = len(member)\n",
        "print(format(\"1週間の給料\",'^80'))\n",
        "print(\"--------------------------------------------------------------------------------------------\")\n",
        "print(\"  名前       月曜日     火曜日     水曜日     木曜日     金曜日     土曜日     日曜日    合計    平均\")\n",
        "for i in range(l):\n",
        "    print('{:<5}'.format(member[i],'>10'),end=\"\")\n",
        "    pays = 0\n",
        "    for j in range(7):\n",
        "        pay = hourly_wage[i] * weekly_time[i][j]\n",
        "        pays += pay\n",
        "        print(format(pay,'>10'),end=\"\")\n",
        "    print(format(pays, '>10'),end=\"\")\n",
        "    print('{:>7.0f}'.format(pays / 7))\n",
        "    print()"
      ]
    }
  ]
}