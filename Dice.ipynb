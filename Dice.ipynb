{
  "nbformat": 4,
  "nbformat_minor": 0,
  "metadata": {
    "colab": {
      "provenance": [],
      "authorship_tag": "ABX9TyOOQsbgdn3aLoBoL2D0orEX",
      "include_colab_link": true
    },
    "kernelspec": {
      "name": "python3",
      "display_name": "Python 3"
    },
    "language_info": {
      "name": "python"
    }
  },
  "cells": [
    {
      "cell_type": "markdown",
      "metadata": {
        "id": "view-in-github",
        "colab_type": "text"
      },
      "source": [
        "<a href=\"https://colab.research.google.com/github/puzlike/expert-octo-telegram/blob/main/Dice.ipynb\" target=\"_parent\"><img src=\"https://colab.research.google.com/assets/colab-badge.svg\" alt=\"Open In Colab\"/></a>"
      ]
    },
    {
      "cell_type": "code",
      "execution_count": 3,
      "metadata": {
        "colab": {
          "base_uri": "https://localhost:8080/"
        },
        "id": "VXJl1nSsDyTB",
        "outputId": "95d496ec-5d25-4a7f-e0f2-95b66e6f4fab"
      },
      "outputs": [
        {
          "output_type": "stream",
          "name": "stdout",
          "text": [
            "1の目が出た回数は167回です\n",
            "2の目が出た回数は164回です\n",
            "3の目が出た回数は174回です\n",
            "4の目が出た回数は171回です\n",
            "5の目が出た回数は174回です\n",
            "6の目が出た回数は150回です\n"
          ]
        }
      ],
      "source": [
        "import random\n",
        "\n",
        "dices = [0, 0, 0, 0, 0, 0]\n",
        "for i in range(1000):\n",
        "  dice = random.randint(1, 6)\n",
        "  dices[dice - 1] += 1\n",
        "for i in range(6):\n",
        "  print(f'{i + 1}の目が出た回数は{dices[i]}回です')\n"
      ]
    }
  ]
}