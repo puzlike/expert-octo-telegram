{
  "nbformat": 4,
  "nbformat_minor": 0,
  "metadata": {
    "colab": {
      "provenance": [],
      "authorship_tag": "ABX9TyPXNv/CBpStzZO2qHfBYWra",
      "include_colab_link": true
    },
    "kernelspec": {
      "name": "python3",
      "display_name": "Python 3"
    },
    "language_info": {
      "name": "python"
    }
  },
  "cells": [
    {
      "cell_type": "markdown",
      "metadata": {
        "id": "view-in-github",
        "colab_type": "text"
      },
      "source": [
        "<a href=\"https://colab.research.google.com/github/puzlike/expert-octo-telegram/blob/main/Dice.ipynb\" target=\"_parent\"><img src=\"https://colab.research.google.com/assets/colab-badge.svg\" alt=\"Open In Colab\"/></a>"
      ]
    },
    {
      "cell_type": "code",
      "execution_count": 2,
      "metadata": {
        "colab": {
          "base_uri": "https://localhost:8080/"
        },
        "id": "VXJl1nSsDyTB",
        "outputId": "162aca87-e1c9-4b70-be23-b2059f62ef74"
      },
      "outputs": [
        {
          "output_type": "stream",
          "name": "stdout",
          "text": [
            "[153, 168, 147, 184, 174, 174]\n"
          ]
        }
      ],
      "source": [
        "import random\n",
        "\n",
        "dices = [0, 0, 0, 0, 0, 0]\n",
        "for i in range(1000):\n",
        "  dice = random.randint(1, 6)\n",
        "  dices[dice - 1] += 1\n",
        "print(dices)\n"
      ]
    }
  ]
}