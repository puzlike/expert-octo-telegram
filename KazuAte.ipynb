{
  "nbformat": 4,
  "nbformat_minor": 0,
  "metadata": {
    "colab": {
      "provenance": [],
      "authorship_tag": "ABX9TyM9n9KU/SIRnopJB52LRsjM",
      "include_colab_link": true
    },
    "kernelspec": {
      "name": "python3",
      "display_name": "Python 3"
    },
    "language_info": {
      "name": "python"
    }
  },
  "cells": [
    {
      "cell_type": "markdown",
      "metadata": {
        "id": "view-in-github",
        "colab_type": "text"
      },
      "source": [
        "<a href=\"https://colab.research.google.com/github/puzlike/expert-octo-telegram/blob/main/KazuAte.ipynb\" target=\"_parent\"><img src=\"https://colab.research.google.com/assets/colab-badge.svg\" alt=\"Open In Colab\"/></a>"
      ]
    },
    {
      "cell_type": "code",
      "execution_count": 7,
      "metadata": {
        "colab": {
          "base_uri": "https://localhost:8080/"
        },
        "id": "rJh5y29Nk-b2",
        "outputId": "bdf7bacb-054b-4ea8-d866-299661662b43"
      },
      "outputs": [
        {
          "output_type": "stream",
          "name": "stdout",
          "text": [
            "1から100までの数値を入力してください ：12\n",
            "1から100までの数値を入力してください ：32\n",
            "1から100までの数値を入力してください ：54\n",
            "ヒントです。\n",
            "奇数です。\n",
            "1から100までの数値を入力してください ：33\n",
            "1から100までの数値を入力してください ：65\n",
            "正解です。\n"
          ]
        }
      ],
      "source": [
        "import random\n",
        "cpu = random.randint(1, 100)\n",
        "count = 0\n",
        "while True:\n",
        "    player = int(input(\"1から100までの数値を入力してください ：\"))\n",
        "    if player != cpu:\n",
        "        count += 1\n",
        "        if count == 10:\n",
        "            print(f\"正解は{cpu}でした。\")\n",
        "            break\n",
        "        elif count % 3 == 0:\n",
        "            print(\"ヒントです。\")\n",
        "            if cpu % 2 == 0:\n",
        "                print(\"偶数です。\")\n",
        "            else:\n",
        "                print(\"奇数です。\")\n",
        "    else:\n",
        "        print(\"正解です。\")\n",
        "        break"
      ]
    }
  ]
}