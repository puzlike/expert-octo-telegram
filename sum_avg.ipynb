{
  "nbformat": 4,
  "nbformat_minor": 0,
  "metadata": {
    "colab": {
      "provenance": [],
      "authorship_tag": "ABX9TyNXKb3Muf+4w74D0J+plFLx",
      "include_colab_link": true
    },
    "kernelspec": {
      "name": "python3",
      "display_name": "Python 3"
    },
    "language_info": {
      "name": "python"
    }
  },
  "cells": [
    {
      "cell_type": "markdown",
      "metadata": {
        "id": "view-in-github",
        "colab_type": "text"
      },
      "source": [
        "<a href=\"https://colab.research.google.com/github/puzlike/expert-octo-telegram/blob/main/sum_avg.ipynb\" target=\"_parent\"><img src=\"https://colab.research.google.com/assets/colab-badge.svg\" alt=\"Open In Colab\"/></a>"
      ]
    },
    {
      "cell_type": "code",
      "execution_count": 2,
      "metadata": {
        "colab": {
          "base_uri": "https://localhost:8080/"
        },
        "id": "BKFFxokVf2wC",
        "outputId": "5d1ebff6-ae86-4072-8bd4-9239813e07ff"
      },
      "outputs": [
        {
          "output_type": "stream",
          "name": "stdout",
          "text": [
            "数値を入力 >> 12\n",
            "数値を入力 >> 34\n",
            "数値を入力 >> 21\n",
            "数値を入力 >> 56\n",
            "数値を入力 >> 78\n",
            "合計は201です。\n",
            "平均は40.2です。\n"
          ]
        }
      ],
      "source": [
        "num_list = []\n",
        "for i in range(5):\n",
        "    n = int(input('数値を入力 >> '))\n",
        "    num_list.append(n)\n",
        "\n",
        "print(f'合計は{sum(num_list)}です。')\n",
        "print(f'平均は{sum(num_list) / len(num_list)}です。')\n"
      ]
    }
  ]
}