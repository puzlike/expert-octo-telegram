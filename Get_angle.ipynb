{
  "nbformat": 4,
  "nbformat_minor": 0,
  "metadata": {
    "colab": {
      "provenance": [],
      "authorship_tag": "ABX9TyMhtYehwNA1ikmiTFdn5RB8",
      "include_colab_link": true
    },
    "kernelspec": {
      "name": "python3",
      "display_name": "Python 3"
    },
    "language_info": {
      "name": "python"
    }
  },
  "cells": [
    {
      "cell_type": "markdown",
      "metadata": {
        "id": "view-in-github",
        "colab_type": "text"
      },
      "source": [
        "<a href=\"https://colab.research.google.com/github/puzlike/expert-octo-telegram/blob/main/Get_angle.ipynb\" target=\"_parent\"><img src=\"https://colab.research.google.com/assets/colab-badge.svg\" alt=\"Open In Colab\"/></a>"
      ]
    },
    {
      "cell_type": "code",
      "execution_count": 3,
      "metadata": {
        "colab": {
          "base_uri": "https://localhost:8080/"
        },
        "id": "2L1bX_uINUMK",
        "outputId": "07ed20bc-c228-403b-b496-203c3a9d6f08"
      },
      "outputs": [
        {
          "output_type": "stream",
          "name": "stdout",
          "text": [
            "求めたい角は？（A、B、C）B\n",
            "角A：30\n",
            "角C：50\n",
            "角B：100.0\n"
          ]
        }
      ],
      "source": [
        "def get_angle(a1, a2):\n",
        "    a3 = 180 - (a1 + a2)\n",
        "    return a3\n",
        "\n",
        "anser = input(\"求めたい角は？（A、B、C）\")\n",
        "if anser == \"A\":\n",
        "    a1 = float(input(\"角B：\"))\n",
        "    a2 = float(input(\"角C：\"))\n",
        "elif anser == \"B\":\n",
        "    a1 = float(input(\"角A：\"))\n",
        "    a2 = float(input(\"角C：\"))\n",
        "else:\n",
        "    a1 = float(input(\"角A：\"))\n",
        "    a2 = float(input(\"角C：\"))\n",
        "a3 = get_angle(a1, a2)\n",
        "print(f\"角{anser}：{a3}\")"
      ]
    }
  ]
}