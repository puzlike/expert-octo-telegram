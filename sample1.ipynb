{
  "nbformat": 4,
  "nbformat_minor": 0,
  "metadata": {
    "colab": {
      "provenance": [],
      "authorship_tag": "ABX9TyO6IdXdzCyfLqG+N3E16Z+3",
      "include_colab_link": true
    },
    "kernelspec": {
      "name": "python3",
      "display_name": "Python 3"
    },
    "language_info": {
      "name": "python"
    }
  },
  "cells": [
    {
      "cell_type": "markdown",
      "metadata": {
        "id": "view-in-github",
        "colab_type": "text"
      },
      "source": [
        "<a href=\"https://colab.research.google.com/github/puzlike/expert-octo-telegram/blob/main/sample1.ipynb\" target=\"_parent\"><img src=\"https://colab.research.google.com/assets/colab-badge.svg\" alt=\"Open In Colab\"/></a>"
      ]
    },
    {
      "cell_type": "code",
      "execution_count": 4,
      "metadata": {
        "colab": {
          "base_uri": "https://localhost:8080/"
        },
        "id": "E1nJYtTxendY",
        "outputId": "5260a95f-c3d1-4fa3-85f6-4ec967fb801d"
      },
      "outputs": [
        {
          "output_type": "stream",
          "name": "stdout",
          "text": [
            "あいさつを入力してください --> こんにちは\n",
            "こんにちは\n"
          ]
        }
      ],
      "source": [
        "dictionaly = ['こんにちは', 'こんばんは', 'ありがとう']\n",
        "word = input('あいさつを入力してください --> ')\n",
        "if word not in dictionaly:\n",
        "    print('そのあいさつは登録されていません。')\n",
        "else:\n",
        "    i = dictionaly.index(word)\n",
        "    print(dictionaly[i])"
      ]
    }
  ]
}