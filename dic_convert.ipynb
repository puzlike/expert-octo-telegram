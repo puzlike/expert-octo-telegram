{
  "nbformat": 4,
  "nbformat_minor": 0,
  "metadata": {
    "colab": {
      "provenance": [],
      "authorship_tag": "ABX9TyNjquzkefpMq3Jn35oObWB5",
      "include_colab_link": true
    },
    "kernelspec": {
      "name": "python3",
      "display_name": "Python 3"
    },
    "language_info": {
      "name": "python"
    }
  },
  "cells": [
    {
      "cell_type": "markdown",
      "metadata": {
        "id": "view-in-github",
        "colab_type": "text"
      },
      "source": [
        "<a href=\"https://colab.research.google.com/github/puzlike/expert-octo-telegram/blob/main/dic_convert.ipynb\" target=\"_parent\"><img src=\"https://colab.research.google.com/assets/colab-badge.svg\" alt=\"Open In Colab\"/></a>"
      ]
    },
    {
      "cell_type": "code",
      "execution_count": 7,
      "metadata": {
        "colab": {
          "base_uri": "https://localhost:8080/"
        },
        "id": "CMcpxsMccxzW",
        "outputId": "47a5e9c8-0b18-44be-a62a-cafb36848f68"
      },
      "outputs": [
        {
          "output_type": "stream",
          "name": "stdout",
          "text": [
            "[{'id': 1, 'name': 1}, {'id': 2, 'name': 2}, {'id': 3, 'name': 3}, {'id': 4, 'name': 1}, {'id': 5, 'name': 3}]\n"
          ]
        }
      ],
      "source": [
        "fruits = [\n",
        "    {\"id\":1, \"name\":\"りんご\"},\n",
        "    {\"id\":2, \"name\":\"みかん\"},\n",
        "    {\"id\":3, \"name\":\"ぶどう\"},\n",
        "    {\"id\":4, \"name\":\"りんご\"},\n",
        "    {\"id\":5, \"name\":\"ぶどう\"}\n",
        "]\n",
        "\n",
        "fruit_list = [\"りんご\", \"みかん\", \"ぶどう\"]\n",
        "\n",
        "for fruit in fruits:\n",
        "    name = fruit[\"name\"]\n",
        "    if name in fruit_list:\n",
        "        fruit[\"name\"] = fruit_list.index(name) + 1\n",
        "\n",
        "print(fruits)"
      ]
    }
  ]
}