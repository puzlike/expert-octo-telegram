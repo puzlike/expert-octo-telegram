{
  "nbformat": 4,
  "nbformat_minor": 0,
  "metadata": {
    "colab": {
      "provenance": [],
      "authorship_tag": "ABX9TyOugpk4H+Gi0x1dnQlG4+34",
      "include_colab_link": true
    },
    "kernelspec": {
      "name": "python3",
      "display_name": "Python 3"
    },
    "language_info": {
      "name": "python"
    }
  },
  "cells": [
    {
      "cell_type": "markdown",
      "metadata": {
        "id": "view-in-github",
        "colab_type": "text"
      },
      "source": [
        "<a href=\"https://colab.research.google.com/github/puzlike/expert-octo-telegram/blob/main/fruits.ipynb\" target=\"_parent\"><img src=\"https://colab.research.google.com/assets/colab-badge.svg\" alt=\"Open In Colab\"/></a>"
      ]
    },
    {
      "cell_type": "code",
      "execution_count": 4,
      "metadata": {
        "colab": {
          "base_uri": "https://localhost:8080/"
        },
        "id": "H4pP2ZDxKXr8",
        "outputId": "3f2e0fd8-5bda-48a6-a748-cc89560ccac8"
      },
      "outputs": [
        {
          "output_type": "stream",
          "name": "stdout",
          "text": [
            "[{'name': 'Apple', 'no': 1}, {'name': 'Banana', 'no': 1}, {'name': 'Orange', 'no': 0}]\n"
          ]
        }
      ],
      "source": [
        "fruits = [{'name':'Apple', 'no':0}, {'name':'Banana', 'no':0}, {'name':'Orange', 'no':0}]\n",
        "fruits_1 = ['Apple', 'Banana']\n",
        "\n",
        "for fruit in fruits:\n",
        "    if fruit['name'] in fruits_1:\n",
        "        fruit['no'] = 1\n",
        "print(fruits)"
      ]
    }
  ]
}