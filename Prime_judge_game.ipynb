{
  "nbformat": 4,
  "nbformat_minor": 0,
  "metadata": {
    "colab": {
      "provenance": [],
      "authorship_tag": "ABX9TyPBoZFmzv9GfSsQQ2SpdBzD",
      "include_colab_link": true
    },
    "kernelspec": {
      "name": "python3",
      "display_name": "Python 3"
    },
    "language_info": {
      "name": "python"
    }
  },
  "cells": [
    {
      "cell_type": "markdown",
      "metadata": {
        "id": "view-in-github",
        "colab_type": "text"
      },
      "source": [
        "<a href=\"https://colab.research.google.com/github/puzlike/expert-octo-telegram/blob/main/Prime_judge_game.ipynb\" target=\"_parent\"><img src=\"https://colab.research.google.com/assets/colab-badge.svg\" alt=\"Open In Colab\"/></a>"
      ]
    },
    {
      "cell_type": "code",
      "execution_count": 29,
      "metadata": {
        "colab": {
          "base_uri": "https://localhost:8080/"
        },
        "id": "KbuSlqaYMng2",
        "outputId": "30834ca3-4cd4-4ccb-df80-c53d3e767556"
      },
      "outputs": [
        {
          "output_type": "stream",
          "name": "stdout",
          "text": [
            "0(素数)か1(素数じゃない)を入力してください。1\n",
            "正解！\n",
            "0(素数)か1(素数じゃない)を入力してください。0\n",
            "不正解！\n",
            "1回連続で正解しました！\n"
          ]
        }
      ],
      "source": [
        "import random\n",
        "def prime_judge(n):\n",
        "    judge = 0\n",
        "    for m in range(2, n):\n",
        "        if n % m == 0:\n",
        "            judge = 1\n",
        "            break\n",
        "    return judge\n",
        "\n",
        "count = 0\n",
        "while True:\n",
        "    n =  random.randint(2, 1000)\n",
        "    judge = prime_judge(n)\n",
        "    ans = int(input('0(素数)か1(素数じゃない)を入力してください。'))\n",
        "    if ans == judge:\n",
        "        print('正解！')\n",
        "        count += 1\n",
        "    else:\n",
        "        print('不正解！')\n",
        "        break\n",
        "\n",
        "print(f'{count}回連続で正解しました！')\n",
        "\n",
        "\n"
      ]
    }
  ]
}