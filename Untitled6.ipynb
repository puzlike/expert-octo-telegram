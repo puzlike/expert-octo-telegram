{
  "nbformat": 4,
  "nbformat_minor": 0,
  "metadata": {
    "colab": {
      "provenance": [],
      "authorship_tag": "ABX9TyPAopcnDcJe6svBV3cxCoJU",
      "include_colab_link": true
    },
    "kernelspec": {
      "name": "python3",
      "display_name": "Python 3"
    },
    "language_info": {
      "name": "python"
    }
  },
  "cells": [
    {
      "cell_type": "markdown",
      "metadata": {
        "id": "view-in-github",
        "colab_type": "text"
      },
      "source": [
        "<a href=\"https://colab.research.google.com/github/puzlike/expert-octo-telegram/blob/main/Untitled6.ipynb\" target=\"_parent\"><img src=\"https://colab.research.google.com/assets/colab-badge.svg\" alt=\"Open In Colab\"/></a>"
      ]
    },
    {
      "cell_type": "code",
      "execution_count": 2,
      "metadata": {
        "colab": {
          "base_uri": "https://localhost:8080/"
        },
        "id": "Z1gat9aCAEjQ",
        "outputId": "507825b7-c33f-4bd5-8b18-209153194889"
      },
      "outputs": [
        {
          "output_type": "stream",
          "name": "stdout",
          "text": [
            "あっち向いてホイ！！\n",
            "どっちに向く？(上下左右)：上\n",
            "あっち向いてホイ！！\n",
            "どっちに向く？(上下左右)：下\n",
            "生まれたて\n"
          ]
        }
      ],
      "source": [
        "import random\n",
        "\n",
        "ages = {0:\"卵\", 1:\"生まれたて\", 2:\"赤ちゃん\"}\n",
        "hand = [\"上\", \"下\", \"左\", \"右\"]\n",
        "n = random.randint(0,3)\n",
        "com = hand[n]\n",
        "count = 0\n",
        "while True:\n",
        "  print(\"あっち向いてホイ！！\")\n",
        "  you = input(\"どっちに向く？(上下左右)：\")\n",
        "  if you == com:\n",
        "    break\n",
        "  count += 1\n",
        "\n",
        "if count in ages:\n",
        "  print(ages[count])\n",
        "else:\n",
        "  print(f\"{count+2}歳\")"
      ]
    }
  ]
}