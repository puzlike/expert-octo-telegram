{
  "nbformat": 4,
  "nbformat_minor": 0,
  "metadata": {
    "colab": {
      "provenance": [],
      "authorship_tag": "ABX9TyM2NSpjeuI6jMZpKSB2fwiA",
      "include_colab_link": true
    },
    "kernelspec": {
      "name": "python3",
      "display_name": "Python 3"
    },
    "language_info": {
      "name": "python"
    }
  },
  "cells": [
    {
      "cell_type": "markdown",
      "metadata": {
        "id": "view-in-github",
        "colab_type": "text"
      },
      "source": [
        "<a href=\"https://colab.research.google.com/github/puzlike/expert-octo-telegram/blob/main/add_val.ipynb\" target=\"_parent\"><img src=\"https://colab.research.google.com/assets/colab-badge.svg\" alt=\"Open In Colab\"/></a>"
      ]
    },
    {
      "cell_type": "code",
      "execution_count": 3,
      "metadata": {
        "colab": {
          "base_uri": "https://localhost:8080/"
        },
        "id": "7sjP4ZR3UV2R",
        "outputId": "9b44abcb-a212-4eb6-d3fa-8443b42ea0c1"
      },
      "outputs": [
        {
          "output_type": "stream",
          "name": "stdout",
          "text": [
            "正の整数を入力してください:10\n",
            "1から 10 までの和 55\n"
          ]
        }
      ],
      "source": [
        "def add_val(val):\n",
        "    sum_val = 0\n",
        "    i = 1\n",
        "    while i <= val:\n",
        "        sum_val += i\n",
        "        i += 1\n",
        "    return sum_val\n",
        "\n",
        "val = int(input(\"正の整数を入力してください:\"))\n",
        "sum_val = add_val(val)\n",
        "print(\"1から\",val,\"までの和\",sum_val)"
      ]
    }
  ]
}