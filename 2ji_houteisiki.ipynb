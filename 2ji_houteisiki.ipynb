{
  "nbformat": 4,
  "nbformat_minor": 0,
  "metadata": {
    "colab": {
      "provenance": [],
      "authorship_tag": "ABX9TyPLVImoj0fgcWH9EXz1lVhV",
      "include_colab_link": true
    },
    "kernelspec": {
      "name": "python3",
      "display_name": "Python 3"
    },
    "language_info": {
      "name": "python"
    }
  },
  "cells": [
    {
      "cell_type": "markdown",
      "metadata": {
        "id": "view-in-github",
        "colab_type": "text"
      },
      "source": [
        "<a href=\"https://colab.research.google.com/github/puzlike/expert-octo-telegram/blob/main/2ji_houteisiki.ipynb\" target=\"_parent\"><img src=\"https://colab.research.google.com/assets/colab-badge.svg\" alt=\"Open In Colab\"/></a>"
      ]
    },
    {
      "cell_type": "code",
      "execution_count": 9,
      "metadata": {
        "colab": {
          "base_uri": "https://localhost:8080/"
        },
        "id": "qeIfYBb0wKGv",
        "outputId": "8bb37fea-b913-44be-f8ad-021c8a053a02"
      },
      "outputs": [
        {
          "output_type": "stream",
          "name": "stdout",
          "text": [
            "xの2乗の係数 a：３\n",
            "xの係数 b：４\n",
            "定数 c：２\n",
            "２次方程式(3)x^2+(4)x+(2)=0は\n",
            "異なる2つの虚数解があります。\n"
          ]
        }
      ],
      "source": [
        "import math\n",
        "\n",
        "def distinction(a, b, c):\n",
        "    d = b**2 - 4*a*c\n",
        "    return d\n",
        "\n",
        "def calculation(a, b, c):\n",
        "    d = distinction(a, b, c)\n",
        "    if d == 0:\n",
        "        x = -b/(2*a)\n",
        "        print(\"重解を持ち\")\n",
        "        print(f\"その解は{x}です。\")\n",
        "    elif d > 0:\n",
        "        x1 = (-b + math.sqrt(d)) / (2*a)\n",
        "        x2 = (-b - math.sqrt(d)) / (2*a)\n",
        "        print(\"異なる2つの解を持ち\")\n",
        "        print(f\"その解は{x1}と{x2}です。\")\n",
        "    else:\n",
        "        print(\"異なる2つの虚数解があります。\")\n",
        "\n",
        "a = int(input(\"xの2乗の係数 a：\"))\n",
        "b = int(input(\"xの係数 b：\"))\n",
        "c = int(input(\"定数 c：\"))\n",
        "\n",
        "print(f\"２次方程式({a})x^2+({b})x+({c})=0は\")\n",
        "calculation(a, b, c)"
      ]
    }
  ]
}