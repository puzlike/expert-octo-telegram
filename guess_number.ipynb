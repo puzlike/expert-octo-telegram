{
  "nbformat": 4,
  "nbformat_minor": 0,
  "metadata": {
    "colab": {
      "provenance": [],
      "authorship_tag": "ABX9TyNIOf5wvbBJ6ybJu4OkHu5J",
      "include_colab_link": true
    },
    "kernelspec": {
      "name": "python3",
      "display_name": "Python 3"
    },
    "language_info": {
      "name": "python"
    }
  },
  "cells": [
    {
      "cell_type": "markdown",
      "metadata": {
        "id": "view-in-github",
        "colab_type": "text"
      },
      "source": [
        "<a href=\"https://colab.research.google.com/github/puzlike/expert-octo-telegram/blob/main/guess_number.ipynb\" target=\"_parent\"><img src=\"https://colab.research.google.com/assets/colab-badge.svg\" alt=\"Open In Colab\"/></a>"
      ]
    },
    {
      "cell_type": "code",
      "execution_count": 11,
      "metadata": {
        "colab": {
          "base_uri": "https://localhost:8080/"
        },
        "id": "ByRbnXmKQqaY",
        "outputId": "aa17d39f-8fd5-4581-d88a-01f4eeae9e1c"
      },
      "outputs": [
        {
          "output_type": "stream",
          "name": "stdout",
          "text": [
            "1から10までの数値を入力してください。 --> 7\n",
            "1から10までの数値を入力してください。 --> 4\n",
            "1から10までの数値を入力してください。 --> 1\n",
            "1から10までの数値を入力してください。 --> 2\n",
            "正解は8でした。\n"
          ]
        }
      ],
      "source": [
        "import random\n",
        "com = random.randint(1,10)\n",
        "\n",
        "n = 4\n",
        "i = 1\n",
        "while i <= 4:\n",
        "    you =int(input(\"1から10までの数値を入力してください。 --> \"))\n",
        "    if you == com:\n",
        "        print(\"当たり！\")\n",
        "        break\n",
        "    elif i == 4:\n",
        "        print(f\"正解は{com}でした。\")\n",
        "    i += 1\n"
      ]
    }
  ]
}