{
  "nbformat": 4,
  "nbformat_minor": 0,
  "metadata": {
    "colab": {
      "provenance": [],
      "authorship_tag": "ABX9TyPLR1XwxQF/YpQBSAy0RgC+",
      "include_colab_link": true
    },
    "kernelspec": {
      "name": "python3",
      "display_name": "Python 3"
    },
    "language_info": {
      "name": "python"
    }
  },
  "cells": [
    {
      "cell_type": "markdown",
      "metadata": {
        "id": "view-in-github",
        "colab_type": "text"
      },
      "source": [
        "<a href=\"https://colab.research.google.com/github/puzlike/expert-octo-telegram/blob/main/Search_key.ipynb\" target=\"_parent\"><img src=\"https://colab.research.google.com/assets/colab-badge.svg\" alt=\"Open In Colab\"/></a>"
      ]
    },
    {
      "cell_type": "code",
      "execution_count": 5,
      "metadata": {
        "colab": {
          "base_uri": "https://localhost:8080/"
        },
        "id": "xE2cE97fE-wn",
        "outputId": "0270908f-f8a9-4c90-a35b-0dbff1a54369"
      },
      "outputs": [
        {
          "output_type": "stream",
          "name": "stdout",
          "text": [
            "k0,v0:0番目のキーと値の文字列(それぞれ50文字以内): fruits,banana\n",
            "k1,v1:1番目のキーと値の文字列(それぞれ50文字以内): num,5\n",
            "k2,v2:2番目のキーと値の文字列(それぞれ50文字以内): price,200\n",
            "いずれかのキーの文字列(k0,k1,k2のいずれか): fruits\n",
            "fruits : banana\n"
          ]
        }
      ],
      "source": [
        "d = {}\n",
        "for i in range(3):\n",
        "  key, value = input(f\"k{i},v{i}:{i}番目のキーと値の文字列(それぞれ50文字以内): \").split(',')\n",
        "  d[key] = value\n",
        "q = input(\"いずれかのキーの文字列(k0,k1,k2のいずれか): \")\n",
        "\n",
        "for key in d:\n",
        "  if key == q:\n",
        "    print(f\"{q} : {d[q]}\")\n"
      ]
    }
  ]
}