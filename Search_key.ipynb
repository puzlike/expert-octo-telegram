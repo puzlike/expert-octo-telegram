{
  "nbformat": 4,
  "nbformat_minor": 0,
  "metadata": {
    "colab": {
      "provenance": [],
      "authorship_tag": "ABX9TyPGoxnhzB1SMDCBjmS7nRZk",
      "include_colab_link": true
    },
    "kernelspec": {
      "name": "python3",
      "display_name": "Python 3"
    },
    "language_info": {
      "name": "python"
    }
  },
  "cells": [
    {
      "cell_type": "markdown",
      "metadata": {
        "id": "view-in-github",
        "colab_type": "text"
      },
      "source": [
        "<a href=\"https://colab.research.google.com/github/puzlike/expert-octo-telegram/blob/main/Search_key.ipynb\" target=\"_parent\"><img src=\"https://colab.research.google.com/assets/colab-badge.svg\" alt=\"Open In Colab\"/></a>"
      ]
    },
    {
      "cell_type": "code",
      "execution_count": 3,
      "metadata": {
        "colab": {
          "base_uri": "https://localhost:8080/"
        },
        "id": "xE2cE97fE-wn",
        "outputId": "2ce4c4f2-00aa-45e5-9135-e05ef3bf62a9"
      },
      "outputs": [
        {
          "output_type": "stream",
          "name": "stdout",
          "text": [
            "0番目のキーと文字列(それぞれ50文字以内): fruits,banana\n",
            "1番目のキーと文字列(それぞれ50文字以内): num,5\n",
            "2番目のキーと文字列(それぞれ50文字以内): price,1000\n",
            "いずれかのキーの文字列: fruits\n",
            "fruits : banana\n"
          ]
        }
      ],
      "source": [
        "d = {}\n",
        "for i in range(3):\n",
        "  key, value = input(f\"{i}番目のキーと文字列(それぞれ50文字以内): \").split(',')\n",
        "  d[key] = value\n",
        "q = input(\"いずれかのキーの文字列: \")\n",
        "\n",
        "for key in d:\n",
        "  if key == q:\n",
        "    print(f\"{q} : {d[q]}\")\n"
      ]
    }
  ]
}