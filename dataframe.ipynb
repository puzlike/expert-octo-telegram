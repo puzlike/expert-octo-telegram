{
  "nbformat": 4,
  "nbformat_minor": 0,
  "metadata": {
    "colab": {
      "provenance": [],
      "authorship_tag": "ABX9TyOf1CuRvlUvIr/vQo9jat/c",
      "include_colab_link": true
    },
    "kernelspec": {
      "name": "python3",
      "display_name": "Python 3"
    },
    "language_info": {
      "name": "python"
    }
  },
  "cells": [
    {
      "cell_type": "markdown",
      "metadata": {
        "id": "view-in-github",
        "colab_type": "text"
      },
      "source": [
        "<a href=\"https://colab.research.google.com/github/puzlike/expert-octo-telegram/blob/main/dataframe.ipynb\" target=\"_parent\"><img src=\"https://colab.research.google.com/assets/colab-badge.svg\" alt=\"Open In Colab\"/></a>"
      ]
    },
    {
      "cell_type": "code",
      "execution_count": 21,
      "metadata": {
        "colab": {
          "base_uri": "https://localhost:8080/"
        },
        "id": "18kL5S02_jww",
        "outputId": "eb7dadac-ff31-4c35-e7f4-b80abb0b8a4b"
      },
      "outputs": [
        {
          "output_type": "stream",
          "name": "stdout",
          "text": [
            "     Name  Age     City  Salary Department\n",
            "0     Ema   25    Tokyo   50000      Sales\n",
            "2  Haruki   33  Fukuoka   60000      Sales\n",
            "\n",
            "   index    Name  Age     City  Salary Department\n",
            "0      6  Ichika   21    Osaka   73000      Sales\n",
            "1      5   Yuito   24  Fukuoka   48000         HR\n",
            "2      0     Ema   25    Tokyo   50000      Sales\n",
            "3      7   Souta   27    Tokyo   65000  Marketing\n",
            "4      3     Mei   29  Sapporo   80000         HR\n",
            "5      1    Riku   30    Osaka   70000  Marketing\n",
            "6      4    Sana   31   Nagoya   55000    Finance\n",
            "7      2  Haruki   33  Fukuoka   60000      Sales\n",
            "\n",
            "            Salary\n",
            "Department        \n",
            "Finance      55000\n",
            "HR           64000\n",
            "Marketing    67500\n",
            "Sales        61000\n",
            "\n",
            "     Name  Age     City  Salary Department  Bonus\n",
            "0     Ema   25    Tokyo   50000      Sales   5000\n",
            "1    Riku   30    Osaka   70000  Marketing   7000\n",
            "2  Haruki   33  Fukuoka   60000      Sales   6000\n",
            "3     Mei   29  Sapporo   80000         HR   8000\n",
            "4    Sana   31   Nagoya   55000    Finance   5500\n",
            "5   Yuito   24  Fukuoka   48000         HR   4800\n",
            "6  Ichika   21    Osaka   73000      Sales   7300\n",
            "7   Souta   27    Tokyo   65000  Marketing   6500\n"
          ]
        }
      ],
      "source": [
        "import pandas as pd\n",
        "\n",
        "data = {\n",
        "'Name': ['Ema', 'Riku', 'Haruki', 'Mei', 'Sana', 'Yuito', 'Ichika', 'Souta'],\n",
        "'Age': [25, 30, 33, 29, 31, 24, 21, 27],\n",
        "'City': ['Tokyo', 'Osaka', 'Fukuoka', 'Sapporo', 'Nagoya', 'Fukuoka', 'Osaka', 'Tokyo'],\n",
        "'Salary': [50000, 70000, 60000, 80000, 55000, 48000, 73000, 65000],\n",
        "'Department': ['Sales', 'Marketing', 'Sales', 'HR', 'Finance', 'HR', 'Sales', 'Marketing']\n",
        "}\n",
        "\n",
        "df = pd.DataFrame(data)\n",
        "df1 = df.query('Department == \"Sales\" & Age >= 25')\n",
        "print(df1)\n",
        "print()\n",
        "df2 = df.sort_values('Age').reset_index()\n",
        "print(df2)\n",
        "print()\n",
        "df3 = df[['Salary', 'Department']].groupby('Department').mean('Salary').astype('int')\n",
        "print(df3)\n",
        "print()\n",
        "df['Bonus'] = df['Salary'] * 0.1\n",
        "df['Bonus'] = df['Bonus'].astype('int')\n",
        "print(df)"
      ]
    }
  ]
}