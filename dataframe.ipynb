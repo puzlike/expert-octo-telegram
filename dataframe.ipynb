{
  "nbformat": 4,
  "nbformat_minor": 0,
  "metadata": {
    "colab": {
      "provenance": [],
      "authorship_tag": "ABX9TyNZYVXb0D3EMKGtxY3IM5BI",
      "include_colab_link": true
    },
    "kernelspec": {
      "name": "python3",
      "display_name": "Python 3"
    },
    "language_info": {
      "name": "python"
    }
  },
  "cells": [
    {
      "cell_type": "markdown",
      "metadata": {
        "id": "view-in-github",
        "colab_type": "text"
      },
      "source": [
        "<a href=\"https://colab.research.google.com/github/puzlike/expert-octo-telegram/blob/main/dataframe.ipynb\" target=\"_parent\"><img src=\"https://colab.research.google.com/assets/colab-badge.svg\" alt=\"Open In Colab\"/></a>"
      ]
    },
    {
      "cell_type": "code",
      "execution_count": 1,
      "metadata": {
        "colab": {
          "base_uri": "https://localhost:8080/"
        },
        "id": "6EbRd0jIMZin",
        "outputId": "597239e3-97ff-4ceb-c84c-4c5764121b6f"
      },
      "outputs": [
        {
          "output_type": "stream",
          "name": "stdout",
          "text": [
            "   ID product  price  quantity\n",
            "0   1  banana    200         1\n",
            "1   2  orange   1000         2\n",
            "2   3  orange    800         1\n",
            "3   3   grape    100         2\n",
            "4   2  banana    250         3\n",
            "5   1   peach    900         2\n",
            "\n",
            "       store  ID\n",
            "0    shibuya   1\n",
            "1   shinjuku   2\n",
            "2   yokohama   3\n",
            "3     meguro   4\n",
            "4  ikebukuro   5\n",
            "\n"
          ]
        }
      ],
      "source": [
        "import pandas as pd\n",
        "store_data = {\n",
        "\"store\": [\"shibuya\", \"shinjuku\", \"yokohama\", \"meguro\", \"ikebukuro\"],\n",
        "\"ID\": [1, 2, 3, 4, 5]\n",
        "}\n",
        "store_df = pd.DataFrame(store_data) # store_dfを作成\n",
        "\n",
        "data = {\"ID\": [1, 2, 3, 3, 2, 1],\n",
        "\"product\": [\"banana\", \"orange\", \"orange\", \"grape\", \"banana\", \"peach\"],\n",
        "\"price\": [200, 1000, 800, 100, 250, 900],\n",
        "\"quantity\": [1, 2, 1, 2, 3, 2]}\n",
        "df = pd.DataFrame(data) # dfを作成\n",
        "\n",
        "print(df) # dfを出力\n",
        "print()\n",
        "print(store_df) # store_dfを出力\n",
        "print()"
      ]
    },
    {
      "cell_type": "code",
      "source": [
        "# 問題1\n",
        "# dfのインデックスが０から４までの要素、カラム名を出力してください。\n",
        "df_1 = df.iloc[:5]\n",
        "print(df_1)\n",
        "print()"
      ],
      "metadata": {
        "colab": {
          "base_uri": "https://localhost:8080/"
        },
        "id": "GSp-7pYaMumb",
        "outputId": "c99a9b54-1111-42f9-9371-b39c2cfd1aab"
      },
      "execution_count": 3,
      "outputs": [
        {
          "output_type": "stream",
          "name": "stdout",
          "text": [
            "   ID product  price  quantity\n",
            "0   1  banana    200         1\n",
            "1   2  orange   1000         2\n",
            "2   3  orange    800         1\n",
            "3   3   grape    100         2\n",
            "4   2  banana    250         3\n",
            "\n"
          ]
        }
      ]
    },
    {
      "cell_type": "code",
      "source": [
        "# 問題2\n",
        "# df とstore_dfをkeyをIDとして完全外部結合してください。\n",
        "df_2 = pd.merge(df, store_df, on='ID', how='outer')\n",
        "print(df_2)\n",
        "print()"
      ],
      "metadata": {
        "colab": {
          "base_uri": "https://localhost:8080/"
        },
        "id": "clqBX0XDNyfA",
        "outputId": "85cd50f8-fb4c-4785-d24d-431e6ffd106d"
      },
      "execution_count": 6,
      "outputs": [
        {
          "output_type": "stream",
          "name": "stdout",
          "text": [
            "   ID product   price  quantity      store\n",
            "0   1  banana   200.0       1.0    shibuya\n",
            "1   1   peach   900.0       2.0    shibuya\n",
            "2   2  orange  1000.0       2.0   shinjuku\n",
            "3   2  banana   250.0       3.0   shinjuku\n",
            "4   3  orange   800.0       1.0   yokohama\n",
            "5   3   grape   100.0       2.0   yokohama\n",
            "6   4     NaN     NaN       NaN     meguro\n",
            "7   5     NaN     NaN       NaN  ikebukuro\n",
            "\n"
          ]
        }
      ]
    },
    {
      "cell_type": "code",
      "source": [
        "# 問題3\n",
        "# df とstore_dfをkeyをIDとして内部結合してください。\n",
        "df_3 = pd.merge(df, store_df, on='ID', how='inner')\n",
        "print(df_3)\n",
        "print()"
      ],
      "metadata": {
        "colab": {
          "base_uri": "https://localhost:8080/"
        },
        "id": "WoQqCUScOzFw",
        "outputId": "73a33bdd-8b2d-48c6-c0ae-fa7d139e3282"
      },
      "execution_count": 10,
      "outputs": [
        {
          "output_type": "stream",
          "name": "stdout",
          "text": [
            "   ID product  price  quantity     store\n",
            "0   1  banana    200         1   shibuya\n",
            "1   1   peach    900         2   shibuya\n",
            "2   2  orange   1000         2  shinjuku\n",
            "3   2  banana    250         3  shinjuku\n",
            "4   3  orange    800         1  yokohama\n",
            "5   3   grape    100         2  yokohama\n",
            "\n"
          ]
        }
      ]
    },
    {
      "cell_type": "code",
      "source": [
        "# 問題4\n",
        "# 問題3の回答にて作成したdf_3とgroupbyメソッドを用いてstore毎のID、price、quantityの平均値を出力してください。\n",
        "df_4 = df_3[['store', 'ID', 'price', 'quantity']].groupby('store').mean()\n",
        "print(df_4)\n",
        "print()"
      ],
      "metadata": {
        "colab": {
          "base_uri": "https://localhost:8080/"
        },
        "id": "TO4OZgsCQN5y",
        "outputId": "f7832a91-288d-40ce-8235-23a8f8717dd9"
      },
      "execution_count": 14,
      "outputs": [
        {
          "output_type": "stream",
          "name": "stdout",
          "text": [
            "           ID  price  quantity\n",
            "store                         \n",
            "shibuya   1.0  550.0       1.5\n",
            "shinjuku  2.0  625.0       2.5\n",
            "yokohama  3.0  450.0       1.5\n",
            "\n"
          ]
        }
      ]
    },
    {
      "cell_type": "code",
      "source": [
        "# 問題5\n",
        "# 問題3の回答にて作成したdf_3とdescribeメソッドを用いてID、price、quantityの要約統計量を出力してください。\n",
        "df_5 = df_3[['ID', 'price', 'quantity']].describe()\n",
        "print(df_5)"
      ],
      "metadata": {
        "colab": {
          "base_uri": "https://localhost:8080/"
        },
        "id": "c5fH4YFqRyw7",
        "outputId": "75738e7b-d542-4d4c-835d-a167466fce35"
      },
      "execution_count": 15,
      "outputs": [
        {
          "output_type": "stream",
          "name": "stdout",
          "text": [
            "             ID        price  quantity\n",
            "count  6.000000     6.000000  6.000000\n",
            "mean   2.000000   541.666667  1.833333\n",
            "std    0.894427   400.520495  0.752773\n",
            "min    1.000000   100.000000  1.000000\n",
            "25%    1.250000   212.500000  1.250000\n",
            "50%    2.000000   525.000000  2.000000\n",
            "75%    2.750000   875.000000  2.000000\n",
            "max    3.000000  1000.000000  3.000000\n"
          ]
        }
      ]
    }
  ]
}