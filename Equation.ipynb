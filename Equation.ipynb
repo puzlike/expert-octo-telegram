{
  "nbformat": 4,
  "nbformat_minor": 0,
  "metadata": {
    "colab": {
      "provenance": [],
      "authorship_tag": "ABX9TyN3766J+Ujw5eoCnsulYPvg",
      "include_colab_link": true
    },
    "kernelspec": {
      "name": "python3",
      "display_name": "Python 3"
    },
    "language_info": {
      "name": "python"
    }
  },
  "cells": [
    {
      "cell_type": "markdown",
      "metadata": {
        "id": "view-in-github",
        "colab_type": "text"
      },
      "source": [
        "<a href=\"https://colab.research.google.com/github/puzlike/expert-octo-telegram/blob/main/Equation.ipynb\" target=\"_parent\"><img src=\"https://colab.research.google.com/assets/colab-badge.svg\" alt=\"Open In Colab\"/></a>"
      ]
    },
    {
      "cell_type": "code",
      "execution_count": null,
      "metadata": {
        "colab": {
          "base_uri": "https://localhost:8080/"
        },
        "id": "E2uA_3yx6jOz",
        "outputId": "254e6d59-1f41-49e7-8821-51fd1964a793"
      },
      "outputs": [
        {
          "output_type": "stream",
          "name": "stdout",
          "text": [
            "co= 2\n",
            "c1= 3\n",
            "c2= 9\n",
            "-----------------\n",
            "3x+2=0の解\n",
            "x=0.6666666666666666\n",
            "\n",
            "9x^2+3x+2=0の解\n",
            "x1=-0.1111111111111111\n",
            "x2=-0.2222222222222222\n"
          ]
        }
      ],
      "source": [
        "// 変数の値を入力\n",
        "c0 = int(input(\"co= \"))\n",
        "c1 = int(input(\"c1= \"))\n",
        "c2 = int(input(\"c2= \"))\n",
        "print(\"-----------------\")\n",
        "// 1次方程式(c1x+c0=0)の解を求める\n",
        "if c1 == 0:\n",
        "    print(\"警告：c1は0です。\") // c1の値が0なら警告文を表示\n",
        "else:\n",
        "    x = c0 / c1             // そうでなければ、解を求める\n",
        "// 求めた解の表示\n",
        "print(f\"{c1}x+{c0}=0の解\")\n",
        "print(f\"x={x}\\n\")\n",
        "\n",
        "// 2次方程式(c2x^2+c1x+c0=0)の解を求める\n",
        "if c1 == 0 and c2 == 0:\n",
        "    print(\"警告：c1とc2は0です。\") // c1=c2=0なら警告文を表示する\n",
        "else:\n",
        "    // 判別式Dの値を求める\n",
        "    D = c1^2 - 4*c2*c0\n",
        "    if D < 0:\n",
        "        print(\"実数解なし\")       // Dの値が負なら「実数解なし」と表示する\n",
        "    else:\n",
        "        // Dの値が0以上なら2つの解を求める\n",
        "        x1 = (-c1 + D**(1/2)) / (2*c2)\n",
        "        x2 = (-c1 - D**(1/2)) / (2*c2)\n",
        "        // 求めた解を表示する\n",
        "        print(f\"{c2}x^2+{c1}x+{c0}=0の解\")\n",
        "        print(f\"x1={x1}\")\n",
        "        print(f\"x2={x2}\")"
      ]
    }
  ]
}