{
  "nbformat": 4,
  "nbformat_minor": 0,
  "metadata": {
    "colab": {
      "provenance": [],
      "authorship_tag": "ABX9TyMnFozgwplZNkQJigZ+UUDR",
      "include_colab_link": true
    },
    "kernelspec": {
      "name": "python3",
      "display_name": "Python 3"
    },
    "language_info": {
      "name": "python"
    }
  },
  "cells": [
    {
      "cell_type": "markdown",
      "metadata": {
        "id": "view-in-github",
        "colab_type": "text"
      },
      "source": [
        "<a href=\"https://colab.research.google.com/github/puzlike/expert-octo-telegram/blob/main/Equation.ipynb\" target=\"_parent\"><img src=\"https://colab.research.google.com/assets/colab-badge.svg\" alt=\"Open In Colab\"/></a>"
      ]
    },
    {
      "cell_type": "code",
      "execution_count": 22,
      "metadata": {
        "colab": {
          "base_uri": "https://localhost:8080/"
        },
        "id": "E2uA_3yx6jOz",
        "outputId": "ceccc8c3-d542-4d48-9dc3-ea7673594f59"
      },
      "outputs": [
        {
          "output_type": "stream",
          "name": "stdout",
          "text": [
            "c0= 1\n",
            "c1= 4\n",
            "c2= 1\n",
            "-----------------\n",
            "4x+1=0の解\n",
            "x=0.25\n",
            "\n",
            "1x^2+4x+1=0の解\n",
            "x1=-0.2679491924311228\n",
            "x2=-3.732050807568877\n"
          ]
        }
      ],
      "source": [
        "# 変数の値を入力\n",
        "c0 = int(input(\"c0= \"))\n",
        "c1 = int(input(\"c1= \"))\n",
        "c2 = int(input(\"c2= \"))\n",
        "print(\"-----------------\")\n",
        "# 一次方程式(c1x+c0=0)の解xを求める\n",
        "print(f\"{c1}x+{c0}=0の解\")\n",
        "# c1の値が0なら警告文を表示\n",
        "if c1 == 0:\n",
        "    print(\"警告：c1は0です。\")\n",
        "else:\n",
        "    # そうでなければ解を求める\n",
        "    x = c0 / c1\n",
        "# 求めた解の表示\n",
        "print(f\"x={x}\\n\")\n",
        "\n",
        "# 二次方程式(c2x^2+c1x+c0=0)の解x1,x2を求める\n",
        "# c1=c2=0なら警告文を表示する\n",
        "if c1 == 0 and c2 == 0:\n",
        "    print(\"警告：c1とc2は0です。\")\n",
        "else:\n",
        "    print(f\"{c2}x^2+{c1}x+{c0}=0の解\")\n",
        "    # そうでなければ判別式Dの値を求める\n",
        "    D = c1**2 - 4*c2*c0\n",
        "    # Dの値が負なら「実数解なし」と表示する\n",
        "    if D < 0:\n",
        "        print(\"実数解なし\")\n",
        "    else:\n",
        "        # そうでなければ2つの解を求める\n",
        "        x1 = (-c1 + D**(1/2)) / (2*c2)\n",
        "        x2 = (-c1 - D**(1/2)) / (2*c2)\n",
        "        # 求めた解を表示する\n",
        "        print(f\"x1={x1}\")\n",
        "        print(f\"x2={x2}\")"
      ]
    }
  ]
}