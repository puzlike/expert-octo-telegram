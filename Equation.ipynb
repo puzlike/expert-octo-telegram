{
  "nbformat": 4,
  "nbformat_minor": 0,
  "metadata": {
    "colab": {
      "provenance": [],
      "authorship_tag": "ABX9TyMSgDKaraslzZx2UomV0s51",
      "include_colab_link": true
    },
    "kernelspec": {
      "name": "python3",
      "display_name": "Python 3"
    },
    "language_info": {
      "name": "python"
    }
  },
  "cells": [
    {
      "cell_type": "markdown",
      "metadata": {
        "id": "view-in-github",
        "colab_type": "text"
      },
      "source": [
        "<a href=\"https://colab.research.google.com/github/puzlike/expert-octo-telegram/blob/main/Equation.ipynb\" target=\"_parent\"><img src=\"https://colab.research.google.com/assets/colab-badge.svg\" alt=\"Open In Colab\"/></a>"
      ]
    },
    {
      "cell_type": "code",
      "execution_count": 4,
      "metadata": {
        "colab": {
          "base_uri": "https://localhost:8080/"
        },
        "id": "E2uA_3yx6jOz",
        "outputId": "254e6d59-1f41-49e7-8821-51fd1964a793"
      },
      "outputs": [
        {
          "output_type": "stream",
          "name": "stdout",
          "text": [
            "co= 2\n",
            "c1= 3\n",
            "c2= 9\n",
            "-----------------\n",
            "3x+2=0の解\n",
            "x=0.6666666666666666\n",
            "\n",
            "9x^2+3x+2=0の解\n",
            "x1=-0.1111111111111111\n",
            "x2=-0.2222222222222222\n"
          ]
        }
      ],
      "source": [
        "c0 = int(input(\"co= \"))\n",
        "c1 = int(input(\"c1= \"))\n",
        "c2 = int(input(\"c2= \"))\n",
        "print(\"-----------------\")\n",
        "#1 1次方程式(c1x+c0=0)の解\n",
        "if c1 == 0:\n",
        "    print(\"警告：c1は0です。\")\n",
        "else:\n",
        "    x = c0 / c1\n",
        "print(f\"{c1}x+{c0}=0の解\")\n",
        "print(f\"x={x}\\n\")\n",
        "\n",
        "#2 2次方程式(c2x^2+c1x+c0=0)の解\n",
        "if c1 == 0 and c2 == 0:\n",
        "    print(\"警告：c1とc2は0です。\")\n",
        "else:\n",
        "    D = c1^2 - 4*c2*c0 < 0\n",
        "    if D < 0:\n",
        "        print(\"実数解なし\")\n",
        "    else:\n",
        "        x1 = (-c1 + D**(1/2)) / (2*c2)\n",
        "        x2 = (-c1 - D**(1/2)) / (2*c2)\n",
        "        print(f\"{c2}x^2+{c1}x+{c0}=0の解\")\n",
        "        print(f\"x1={x1}\")\n",
        "        print(f\"x2={x2}\")"
      ]
    }
  ]
}