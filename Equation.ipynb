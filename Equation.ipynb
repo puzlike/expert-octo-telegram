{
  "nbformat": 4,
  "nbformat_minor": 0,
  "metadata": {
    "colab": {
      "provenance": [],
      "authorship_tag": "ABX9TyOH1XqL7fvsp7j1Ue6b8uCB",
      "include_colab_link": true
    },
    "kernelspec": {
      "name": "python3",
      "display_name": "Python 3"
    },
    "language_info": {
      "name": "python"
    }
  },
  "cells": [
    {
      "cell_type": "markdown",
      "metadata": {
        "id": "view-in-github",
        "colab_type": "text"
      },
      "source": [
        "<a href=\"https://colab.research.google.com/github/puzlike/expert-octo-telegram/blob/main/Equation.ipynb\" target=\"_parent\"><img src=\"https://colab.research.google.com/assets/colab-badge.svg\" alt=\"Open In Colab\"/></a>"
      ]
    },
    {
      "cell_type": "code",
      "execution_count": 25,
      "metadata": {
        "colab": {
          "base_uri": "https://localhost:8080/"
        },
        "id": "E2uA_3yx6jOz",
        "outputId": "6184d08f-97ca-4f53-bd4c-a77d16f9a968"
      },
      "outputs": [
        {
          "output_type": "stream",
          "name": "stdout",
          "text": [
            "c0= 1\n",
            "c1= 2\n",
            "c2= 3\n",
            "-----------------\n",
            "2x+1=0の解\n",
            "x=0.5\n",
            "\n",
            "3x^2+2x+1=0の解\n",
            "実数解なし\n"
          ]
        }
      ],
      "source": [
        "# 変数の値を入力\n",
        "c0 = int(input(\"c0= \"))\n",
        "c1 = int(input(\"c1= \"))\n",
        "c2 = int(input(\"c2= \"))\n",
        "print(\"-----------------\")\n",
        "# 一次方程式(c1x+c0=0)の解xを求める\n",
        "print(f\"{c1}x+{c0}=0の解\")\n",
        "# c1の値が0なら警告文を表示\n",
        "if c1 == 0:\n",
        "    print(\"警告：c1は0です。\")\n",
        "else:\n",
        "    # そうでなければ解を求める\n",
        "    x = c0 / c1\n",
        "    # 求めた解の表示\n",
        "    print(f\"x={x}\\n\")\n",
        "\n",
        "# 二次方程式(c2x^2+c1x+c0=0)の解x1,x2を求める\n",
        "# c1=c2=0なら警告文を表示する\n",
        "if c1 == 0 and c2 == 0:\n",
        "    print(\"警告：c1とc2は0です。\")\n",
        "else:\n",
        "    print(f\"{c2}x^2+{c1}x+{c0}=0の解\")\n",
        "    # そうでなければ判別式Dの値を求める\n",
        "    D = c1**2 - 4*c2*c0\n",
        "    # Dの値が負なら「実数解なし」と表示する\n",
        "    if D < 0:\n",
        "        print(\"実数解なし\")\n",
        "    else:\n",
        "        # そうでなければ2つの解を求める\n",
        "        x1 = (-c1 + D**(1/2)) / (2*c2)\n",
        "        x2 = (-c1 - D**(1/2)) / (2*c2)\n",
        "        # 求めた解を表示する\n",
        "        print(f\"x1={x1}\")\n",
        "        print(f\"x2={x2}\")"
      ]
    }
  ]
}