{
  "nbformat": 4,
  "nbformat_minor": 0,
  "metadata": {
    "colab": {
      "provenance": [],
      "authorship_tag": "ABX9TyO2eoEplDUuw0LttEAUfHPH",
      "include_colab_link": true
    },
    "kernelspec": {
      "name": "python3",
      "display_name": "Python 3"
    },
    "language_info": {
      "name": "python"
    }
  },
  "cells": [
    {
      "cell_type": "markdown",
      "metadata": {
        "id": "view-in-github",
        "colab_type": "text"
      },
      "source": [
        "<a href=\"https://colab.research.google.com/github/puzlike/expert-octo-telegram/blob/main/age.ipynb\" target=\"_parent\"><img src=\"https://colab.research.google.com/assets/colab-badge.svg\" alt=\"Open In Colab\"/></a>"
      ]
    },
    {
      "cell_type": "code",
      "execution_count": 9,
      "metadata": {
        "colab": {
          "base_uri": "https://localhost:8080/"
        },
        "id": "YQ1qGuV_11hZ",
        "outputId": "ab19d7f8-ca03-4842-a946-5ba91a5fae8f"
      },
      "outputs": [
        {
          "output_type": "stream",
          "name": "stdout",
          "text": [
            "何歳ですか？ohoty\n",
            "もう一度入力してください。\n",
            "何歳ですか？おはよう\n",
            "もう一度入力してください。\n",
            "何歳ですか？12\n",
            "未成年です。\n"
          ]
        }
      ],
      "source": [
        "while True:\n",
        "  age = input('何歳ですか？')\n",
        "  try:\n",
        "    age = int(age)\n",
        "    if age > 17:\n",
        "      print('成人です。')\n",
        "    else:\n",
        "      print('未成年です。')\n",
        "      break\n",
        "  except ValueError:\n",
        "    print('もう一度入力してください。')"
      ]
    }
  ]
}