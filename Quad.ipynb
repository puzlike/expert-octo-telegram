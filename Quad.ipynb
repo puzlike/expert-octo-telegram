{
  "nbformat": 4,
  "nbformat_minor": 0,
  "metadata": {
    "colab": {
      "provenance": [],
      "authorship_tag": "ABX9TyMgo9vzo18RrLgNCKKIN8VF",
      "include_colab_link": true
    },
    "kernelspec": {
      "name": "python3",
      "display_name": "Python 3"
    },
    "language_info": {
      "name": "python"
    }
  },
  "cells": [
    {
      "cell_type": "markdown",
      "metadata": {
        "id": "view-in-github",
        "colab_type": "text"
      },
      "source": [
        "<a href=\"https://colab.research.google.com/github/puzlike/expert-octo-telegram/blob/main/Quad.ipynb\" target=\"_parent\"><img src=\"https://colab.research.google.com/assets/colab-badge.svg\" alt=\"Open In Colab\"/></a>"
      ]
    },
    {
      "cell_type": "code",
      "execution_count": 1,
      "metadata": {
        "colab": {
          "base_uri": "https://localhost:8080/"
        },
        "id": "gXOuMrRNAv-K",
        "outputId": "9b733759-3b60-47eb-c70d-af9981772655"
      },
      "outputs": [
        {
          "output_type": "stream",
          "name": "stdout",
          "text": [
            "a = 1\n",
            "b = 2\n",
            "c = 1\n",
            "x軸と1点で交わる\n"
          ]
        }
      ],
      "source": [
        "a = int(input(\"a = \"))\n",
        "b = int(input(\"b = \"))\n",
        "c = int(input(\"c = \"))\n",
        "if a == 0:\n",
        "    print(\"1次関数\")\n",
        "    if b == 0:\n",
        "        print(\"定数\")\n",
        "else:\n",
        "    D = b**2-4*a*c\n",
        "    if D < 0:\n",
        "        print(\"x軸との共有点を持たない\")\n",
        "    elif D == 0:\n",
        "        print(\"x軸と1点で交わる\")\n",
        "    else:\n",
        "        print(\"x軸と2点で交わる\")"
      ]
    }
  ]
}