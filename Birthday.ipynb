{
  "nbformat": 4,
  "nbformat_minor": 0,
  "metadata": {
    "colab": {
      "provenance": [],
      "authorship_tag": "ABX9TyMYiEOYufLaq5YBXEBjVxdY",
      "include_colab_link": true
    },
    "kernelspec": {
      "name": "python3",
      "display_name": "Python 3"
    },
    "language_info": {
      "name": "python"
    }
  },
  "cells": [
    {
      "cell_type": "markdown",
      "metadata": {
        "id": "view-in-github",
        "colab_type": "text"
      },
      "source": [
        "<a href=\"https://colab.research.google.com/github/puzlike/expert-octo-telegram/blob/main/Birthday.ipynb\" target=\"_parent\"><img src=\"https://colab.research.google.com/assets/colab-badge.svg\" alt=\"Open In Colab\"/></a>"
      ]
    },
    {
      "cell_type": "code",
      "execution_count": 3,
      "metadata": {
        "colab": {
          "base_uri": "https://localhost:8080/"
        },
        "id": "D56s9UJy22ws",
        "outputId": "8e3e14fb-daf5-4a1a-f12f-1bac57bc21df"
      },
      "outputs": [
        {
          "output_type": "stream",
          "name": "stdout",
          "text": [
            "現在の月日：1126\n",
            "誕生月日：1207\n",
            "誕生日はまだ\n"
          ]
        }
      ],
      "source": [
        "today = input(\"現在の月日：\")\n",
        "today_m = int(today[0:2])\n",
        "today_d = int(today[2:])\n",
        "birthday = input(\"誕生月日：\")\n",
        "birthday_m = int(birthday[0:2])\n",
        "birthday_d = int(birthday[2:])\n",
        "if today_m == birthday_m:\n",
        "    if today_d > birthday_d:\n",
        "        print(\"誕生日は過ぎた\")\n",
        "    elif today_d == birthday_d:\n",
        "        print(\"Happy Birthday\")\n",
        "    else:\n",
        "        print(\"誕生日はまだ\")\n",
        "elif today_m > birthday_m:\n",
        "    print(\"誕生日は過ぎた\")\n",
        "else:\n",
        "    print(\"誕生日はまだ\")"
      ]
    }
  ]
}