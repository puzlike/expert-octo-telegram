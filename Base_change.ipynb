{
  "nbformat": 4,
  "nbformat_minor": 0,
  "metadata": {
    "colab": {
      "provenance": [],
      "authorship_tag": "ABX9TyMzgCMM9X6DsXS+svwzz2mo",
      "include_colab_link": true
    },
    "kernelspec": {
      "name": "python3",
      "display_name": "Python 3"
    },
    "language_info": {
      "name": "python"
    }
  },
  "cells": [
    {
      "cell_type": "markdown",
      "metadata": {
        "id": "view-in-github",
        "colab_type": "text"
      },
      "source": [
        "<a href=\"https://colab.research.google.com/github/puzlike/expert-octo-telegram/blob/main/Base_change.ipynb\" target=\"_parent\"><img src=\"https://colab.research.google.com/assets/colab-badge.svg\" alt=\"Open In Colab\"/></a>"
      ]
    },
    {
      "cell_type": "code",
      "execution_count": 16,
      "metadata": {
        "colab": {
          "base_uri": "https://localhost:8080/"
        },
        "id": "64qItFYVOj3x",
        "outputId": "7dfc8972-ecd0-4f6d-a52b-e0101530001c"
      },
      "outputs": [
        {
          "output_type": "stream",
          "name": "stdout",
          "text": [
            "2進数の桁：5\n",
            "2進数：00100\n",
            "4\n"
          ]
        }
      ],
      "source": [
        "n = int(input(\"2進数の桁：\"))\n",
        "num_list = []\n",
        "for i in range(n-1, -1, -1):\n",
        "  num_list.append(2**i)\n",
        "\n",
        "while True:\n",
        "  bit_num = input(\"2進数：\")\n",
        "  if len(bit_num) == n:\n",
        "    break\n",
        "\n",
        "dec_num = 0\n",
        "for i, bit in enumerate(bit_num):\n",
        "  if bit == \"0\":\n",
        "    continue\n",
        "  else:\n",
        "    dec_num += int(bit) * num_list[i]\n",
        "print(dec_num)"
      ]
    }
  ]
}