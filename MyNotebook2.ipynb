{
  "nbformat": 4,
  "nbformat_minor": 0,
  "metadata": {
    "colab": {
      "provenance": [],
      "mount_file_id": "1w_YTamF7hMYz7DhRtbUVizRA3WrqETKs",
      "authorship_tag": "ABX9TyPI/AbtISJC8fXWLe97UhqL",
      "include_colab_link": true
    },
    "kernelspec": {
      "name": "python3",
      "display_name": "Python 3"
    },
    "language_info": {
      "name": "python"
    }
  },
  "cells": [
    {
      "cell_type": "markdown",
      "metadata": {
        "id": "view-in-github",
        "colab_type": "text"
      },
      "source": [
        "<a href=\"https://colab.research.google.com/github/puzlike/expert-octo-telegram/blob/main/MyNotebook2.ipynb\" target=\"_parent\"><img src=\"https://colab.research.google.com/assets/colab-badge.svg\" alt=\"Open In Colab\"/></a>"
      ]
    },
    {
      "cell_type": "code",
      "source": [
        "numbers = []\n",
        "while True:\n",
        "    n = int(input('整数を入力してください。'))\n",
        "    if n < 0:\n",
        "        break\n",
        "    numbers.append(n)\n",
        "\n",
        "l = len(numbers)\n",
        "for i in range(l):\n",
        "    print(numbers[l - i - 1])"
      ],
      "metadata": {
        "colab": {
          "base_uri": "https://localhost:8080/"
        },
        "id": "zUm8lI_a9yPR",
        "outputId": "14ffdec9-90c2-4333-984a-b52940c3a864"
      },
      "execution_count": 20,
      "outputs": [
        {
          "output_type": "stream",
          "name": "stdout",
          "text": [
            "整数を入力してください。12\n",
            "整数を入力してください。33\n",
            "整数を入力してください。89\n",
            "整数を入力してください。16\n",
            "整数を入力してください。90\n",
            "整数を入力してください。-9\n",
            "90\n",
            "16\n",
            "89\n",
            "33\n",
            "12\n"
          ]
        }
      ]
    }
  ]
}