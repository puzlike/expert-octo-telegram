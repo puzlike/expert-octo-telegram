{
  "nbformat": 4,
  "nbformat_minor": 0,
  "metadata": {
    "colab": {
      "provenance": [],
      "authorship_tag": "ABX9TyOEATL5e5NEN9wHuH2OTAW4",
      "include_colab_link": true
    },
    "kernelspec": {
      "name": "python3",
      "display_name": "Python 3"
    },
    "language_info": {
      "name": "python"
    }
  },
  "cells": [
    {
      "cell_type": "markdown",
      "metadata": {
        "id": "view-in-github",
        "colab_type": "text"
      },
      "source": [
        "<a href=\"https://colab.research.google.com/github/puzlike/expert-octo-telegram/blob/main/search_list.ipynb\" target=\"_parent\"><img src=\"https://colab.research.google.com/assets/colab-badge.svg\" alt=\"Open In Colab\"/></a>"
      ]
    },
    {
      "cell_type": "code",
      "execution_count": 7,
      "metadata": {
        "colab": {
          "base_uri": "https://localhost:8080/"
        },
        "id": "zCFkW7ap6Scx",
        "outputId": "40bcda0c-6286-4807-8c0b-f28900190222"
      },
      "outputs": [
        {
          "output_type": "stream",
          "name": "stdout",
          "text": [
            "商品名を入力 : マウス\n",
            "商品名はマウスです。\n",
            "2番目の商品です。\n"
          ]
        }
      ],
      "source": [
        "shouhin = ['パソコン', 'マウス', 'USBメモリー', 'プリンター']\n",
        "search_name = input(\"商品名を入力 : \")\n",
        "if search_name not in shouhin:\n",
        "    print(\"見つかりませんでした。\")\n",
        "else:\n",
        "    print(f'商品名は{search_name}です。')\n",
        "    for i, name in enumerate(shouhin):\n",
        "        if search_name == name:\n",
        "            idx = i + 1\n",
        "    print(f'{idx}番目の商品です。')"
      ]
    }
  ]
}