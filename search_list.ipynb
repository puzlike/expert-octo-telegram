{
  "nbformat": 4,
  "nbformat_minor": 0,
  "metadata": {
    "colab": {
      "provenance": [],
      "authorship_tag": "ABX9TyOmWjuvOXSESR0yz/TQjQsh",
      "include_colab_link": true
    },
    "kernelspec": {
      "name": "python3",
      "display_name": "Python 3"
    },
    "language_info": {
      "name": "python"
    }
  },
  "cells": [
    {
      "cell_type": "markdown",
      "metadata": {
        "id": "view-in-github",
        "colab_type": "text"
      },
      "source": [
        "<a href=\"https://colab.research.google.com/github/puzlike/expert-octo-telegram/blob/main/search_list.ipynb\" target=\"_parent\"><img src=\"https://colab.research.google.com/assets/colab-badge.svg\" alt=\"Open In Colab\"/></a>"
      ]
    },
    {
      "cell_type": "code",
      "execution_count": 2,
      "metadata": {
        "colab": {
          "base_uri": "https://localhost:8080/"
        },
        "id": "zCFkW7ap6Scx",
        "outputId": "9aca1867-f5d2-40a8-fcdb-3055cb6e0d58"
      },
      "outputs": [
        {
          "output_type": "stream",
          "name": "stdout",
          "text": [
            "商品名を入力 : マウス\n",
            "商品名はマウスです。\n",
            "2番目の商品です。\n"
          ]
        }
      ],
      "source": [
        "shouhin = ['パソコン', 'マウス', 'USBメモリー', 'プリンター']\n",
        "search_name = input(\"商品名を入力 : \")\n",
        "print(f'商品名は{search_name}です。')\n",
        "for i, name in enumerate(shouhin):\n",
        "    if name == search_name:\n",
        "        idx = i + 1\n",
        "print(f'{idx}番目の商品です。')"
      ]
    }
  ]
}