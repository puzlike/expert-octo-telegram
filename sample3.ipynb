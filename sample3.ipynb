{
  "nbformat": 4,
  "nbformat_minor": 0,
  "metadata": {
    "colab": {
      "provenance": [],
      "authorship_tag": "ABX9TyOJVSt2Gl3oUFFpG8y6q20O",
      "include_colab_link": true
    },
    "kernelspec": {
      "name": "python3",
      "display_name": "Python 3"
    },
    "language_info": {
      "name": "python"
    }
  },
  "cells": [
    {
      "cell_type": "markdown",
      "metadata": {
        "id": "view-in-github",
        "colab_type": "text"
      },
      "source": [
        "<a href=\"https://colab.research.google.com/github/puzlike/expert-octo-telegram/blob/main/sample3.ipynb\" target=\"_parent\"><img src=\"https://colab.research.google.com/assets/colab-badge.svg\" alt=\"Open In Colab\"/></a>"
      ]
    },
    {
      "cell_type": "code",
      "execution_count": 2,
      "metadata": {
        "colab": {
          "base_uri": "https://localhost:8080/"
        },
        "id": "GD3mBn59ydEP",
        "outputId": "0fae8ccb-86f2-4ef2-c636-e766d2db1f3d"
      },
      "outputs": [
        {
          "output_type": "stream",
          "name": "stdout",
          "text": [
            "1問目\n",
            "*\n",
            "**\n",
            "***\n",
            "****\n",
            "*****\n",
            "2問目\n",
            "*\n",
            "**\n",
            "***\n",
            "****\n",
            "*****\n",
            "3問目\n",
            "*\n",
            "**\n",
            "***\n",
            "****\n",
            "*****\n",
            "*****\n",
            "****\n",
            "***\n",
            "**\n",
            "*\n"
          ]
        }
      ],
      "source": [
        "print(\"1問目\")\n",
        "for i in range(1, 6):\n",
        "    print('*' * i)\n",
        "\n",
        "print(\"2問目\")\n",
        "i = 1\n",
        "while i <= 5:\n",
        "    print('*' * i)\n",
        "    i += 1\n",
        "\n",
        "print(\"3問目\")\n",
        "for i in range(1, 6):\n",
        "    print('*' * i)\n",
        "for i in range(5, 0, -1):\n",
        "    print('*' * i)"
      ]
    }
  ]
}