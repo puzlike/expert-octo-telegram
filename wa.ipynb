{
  "nbformat": 4,
  "nbformat_minor": 0,
  "metadata": {
    "colab": {
      "provenance": [],
      "authorship_tag": "ABX9TyPuDLc3JHsalOWTqvKKIo89",
      "include_colab_link": true
    },
    "kernelspec": {
      "name": "python3",
      "display_name": "Python 3"
    },
    "language_info": {
      "name": "python"
    }
  },
  "cells": [
    {
      "cell_type": "markdown",
      "metadata": {
        "id": "view-in-github",
        "colab_type": "text"
      },
      "source": [
        "<a href=\"https://colab.research.google.com/github/puzlike/expert-octo-telegram/blob/main/wa.ipynb\" target=\"_parent\"><img src=\"https://colab.research.google.com/assets/colab-badge.svg\" alt=\"Open In Colab\"/></a>"
      ]
    },
    {
      "cell_type": "code",
      "execution_count": 7,
      "metadata": {
        "colab": {
          "base_uri": "https://localhost:8080/"
        },
        "id": "Fi0HQRlQDJG7",
        "outputId": "5aa2207f-0556-4ef0-fbad-326dec047538"
      },
      "outputs": [
        {
          "output_type": "stream",
          "name": "stdout",
          "text": [
            "正の整数を入力してください ： -9\n",
            "正の整数を入力してください ： 10\n",
            "1から10までの和＝55\n"
          ]
        }
      ],
      "source": [
        "while True:\n",
        "    n = int(input(\"正の整数を入力してください ： \"))\n",
        "    if n > 0:\n",
        "        break\n",
        "\n",
        "sum_num = 0\n",
        "i = 1\n",
        "while i <= n:\n",
        "    sum_num += i\n",
        "    i += 1\n",
        "\n",
        "print(f'1から{n}までの和＝{sum_num}')"
      ]
    }
  ]
}