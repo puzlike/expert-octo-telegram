{
  "nbformat": 4,
  "nbformat_minor": 0,
  "metadata": {
    "colab": {
      "provenance": [],
      "authorship_tag": "ABX9TyOigMMZMKf+3bNGHEHHxy79",
      "include_colab_link": true
    },
    "kernelspec": {
      "name": "python3",
      "display_name": "Python 3"
    },
    "language_info": {
      "name": "python"
    }
  },
  "cells": [
    {
      "cell_type": "markdown",
      "metadata": {
        "id": "view-in-github",
        "colab_type": "text"
      },
      "source": [
        "<a href=\"https://colab.research.google.com/github/puzlike/expert-octo-telegram/blob/main/members.ipynb\" target=\"_parent\"><img src=\"https://colab.research.google.com/assets/colab-badge.svg\" alt=\"Open In Colab\"/></a>"
      ]
    },
    {
      "cell_type": "code",
      "execution_count": null,
      "metadata": {
        "colab": {
          "base_uri": "https://localhost:8080/"
        },
        "id": "6np2J8GNfnDQ",
        "outputId": "d7fe33ba-cf3d-4133-ba25-ad3f7c64dee2"
      },
      "outputs": [
        {
          "output_type": "stream",
          "name": "stdout",
          "text": [
            "1 人目の名前を入力しましょう。\n",
            " 山田太郎\n",
            "山田太郎 さんの出身地(都道府県)は？\n",
            " 東京\n",
            "山田太郎 さんの年齢は？\n",
            " 20\n",
            "2 人目の名前を入力しましょう。\n",
            " 山田花子\n",
            "山田花子 さんの出身地(都道府県)は？\n",
            " 神奈川\n",
            "山田花子 さんの年齢は？\n",
            " 20\n",
            "3 人目の名前を入力しましょう。\n",
            " 山田文庫\n",
            "山田文庫 さんの出身地(都道府県)は？\n",
            " 神奈川\n",
            "山田文庫 さんの年齢は？\n",
            " 19\n",
            "4 人目の名前を入力しましょう。\n",
            " 山田門戸\n",
            "山田門戸 さんの出身地(都道府県)は？\n",
            " 千葉\n",
            "山田門戸 さんの年齢は？\n",
            " 19\n",
            "作成した辞書 {'山田太郎': ['東京', 20], '山田花子': ['神奈川', 20], '山田文庫': ['神奈川', 19], '山田門戸': ['千葉', 19]}\n"
          ]
        }
      ],
      "source": [
        "members = {}\n",
        "for i in range(1, 5):\n",
        "    print(i,\"人目の名前を入力しましょう。\")\n",
        "    name = input(' ')\n",
        "    print(name,\"さんの出身地(都道府県)は？\")\n",
        "    city = input(' ')\n",
        "    print(name,\"さんの年齢は？\")\n",
        "    age = int(input(' '))\n",
        "    members[name] = [city, age]\n",
        "\n",
        "print(\"作成した辞書\",members)"
      ]
    }
  ]
}