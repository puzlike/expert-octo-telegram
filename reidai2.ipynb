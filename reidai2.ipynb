{
  "nbformat": 4,
  "nbformat_minor": 0,
  "metadata": {
    "colab": {
      "provenance": [],
      "authorship_tag": "ABX9TyOkOsjchp0Sz7FV2eGSzfWC",
      "include_colab_link": true
    },
    "kernelspec": {
      "name": "python3",
      "display_name": "Python 3"
    },
    "language_info": {
      "name": "python"
    }
  },
  "cells": [
    {
      "cell_type": "markdown",
      "metadata": {
        "id": "view-in-github",
        "colab_type": "text"
      },
      "source": [
        "<a href=\"https://colab.research.google.com/github/puzlike/expert-octo-telegram/blob/main/reidai2.ipynb\" target=\"_parent\"><img src=\"https://colab.research.google.com/assets/colab-badge.svg\" alt=\"Open In Colab\"/></a>"
      ]
    },
    {
      "cell_type": "code",
      "execution_count": 1,
      "metadata": {
        "colab": {
          "base_uri": "https://localhost:8080/"
        },
        "id": "43kfMhDBjOUc",
        "outputId": "2e80b026-7f6e-402f-86f9-16de44538fd2"
      },
      "outputs": [
        {
          "output_type": "stream",
          "name": "stdout",
          "text": [
            "金額を入力してください。終了するには0を入力してください。\n",
            "金額を入力:50000\n",
            "2000円引き\n",
            "金額を入力:10000\n",
            "2000円引き\n",
            "金額を入力:0\n",
            "合計金額は56000円です\n"
          ]
        }
      ],
      "source": [
        "# 問1\n",
        "print(\"金額を入力してください。終了するには0を入力してください。\")\n",
        "sum_price = 0\n",
        "while True:\n",
        "    price = int(input(\"金額を入力:\"))\n",
        "    if price == 0:\n",
        "        break\n",
        "    if price >= 10000:\n",
        "        print(\"2000円引き\")\n",
        "        price = price - 2000\n",
        "    sum_price += price\n",
        "\n",
        "print(f\"合計金額は{sum_price}円です\") "
      ]
    },
    {
      "cell_type": "code",
      "source": [
        "# 問2\n",
        "sum_num = 0\n",
        "while True:\n",
        "    num = int(input(\"数字を入力:\"))\n",
        "    sum_num += num\n",
        "    if sum_num > 100:\n",
        "        break"
      ],
      "metadata": {
        "colab": {
          "base_uri": "https://localhost:8080/"
        },
        "id": "wtcvTuMblTs9",
        "outputId": "b6666877-b1c9-4d41-8001-bc2363ef05e4"
      },
      "execution_count": 7,
      "outputs": [
        {
          "name": "stdout",
          "output_type": "stream",
          "text": [
            "数字を入力:50\n",
            "数字を入力:50\n",
            "数字を入力:1\n"
          ]
        }
      ]
    }
  ]
}