{
  "nbformat": 4,
  "nbformat_minor": 0,
  "metadata": {
    "colab": {
      "provenance": [],
      "authorship_tag": "ABX9TyM7fGmJUAo8RSlNg3kZC3Lc",
      "include_colab_link": true
    },
    "kernelspec": {
      "name": "python3",
      "display_name": "Python 3"
    },
    "language_info": {
      "name": "python"
    }
  },
  "cells": [
    {
      "cell_type": "markdown",
      "metadata": {
        "id": "view-in-github",
        "colab_type": "text"
      },
      "source": [
        "<a href=\"https://colab.research.google.com/github/puzlike/expert-octo-telegram/blob/main/dice.ipynb\" target=\"_parent\"><img src=\"https://colab.research.google.com/assets/colab-badge.svg\" alt=\"Open In Colab\"/></a>"
      ]
    },
    {
      "cell_type": "code",
      "source": [
        "%%bash\n",
        "pip install -q japanize-matplotlib"
      ],
      "metadata": {
        "colab": {
          "base_uri": "https://localhost:8080/"
        },
        "id": "_diwQu73KB8I",
        "outputId": "bf7350e8-4e5f-44a8-9666-8af106ae2d9c"
      },
      "execution_count": 2,
      "outputs": [
        {
          "output_type": "stream",
          "name": "stdout",
          "text": [
            "     ━━━━━━━━━━━━━━━━━━━━━━━━━━━━━━━━━━━━━━━━ 4.1/4.1 MB 47.9 MB/s eta 0:00:00\n"
          ]
        }
      ]
    },
    {
      "cell_type": "code",
      "execution_count": 11,
      "metadata": {
        "colab": {
          "base_uri": "https://localhost:8080/",
          "height": 466
        },
        "id": "Fc9u-XpSFzqU",
        "outputId": "f65c5080-2649-4bca-c7fd-05aa4150accb"
      },
      "outputs": [
        {
          "output_type": "stream",
          "name": "stdout",
          "text": [
            "{'one': 13, 'two': 19, 'three': 24, 'four': 19, 'five': 12, 'six': 13}\n"
          ]
        },
        {
          "output_type": "execute_result",
          "data": {
            "text/plain": [
              "<BarContainer object of 6 artists>"
            ]
          },
          "metadata": {},
          "execution_count": 11
        },
        {
          "output_type": "display_data",
          "data": {
            "text/plain": [
              "<Figure size 640x480 with 1 Axes>"
            ],
            "image/png": "[encoded data removed]"
          },
          "metadata": {}
        }
      ],
      "source": [
        "import random\n",
        "import matplotlib.pyplot as plt\n",
        "import japanize_matplotlib\n",
        "\n",
        "count = {\"one\":0, \"two\":0, \"three\":0, \"four\":0, \"five\":0, \"six\":0}\n",
        "    \n",
        "for i in range(1, 101):\n",
        "    dice = random.randint(1, 6)\n",
        "    if dice == 1:\n",
        "        count[\"one\"] += 1\n",
        "    elif dice == 2:\n",
        "        count[\"two\"] += 1\n",
        "    elif dice == 3:\n",
        "        count[\"three\"] += 1\n",
        "    elif dice == 4:\n",
        "        count[\"four\"] += 1\n",
        "    elif dice == 5:\n",
        "        count[\"five\"] += 1\n",
        "    elif dice == 6:\n",
        "        count[\"six\"] += 1\n",
        "print(count) \n",
        "x = count.keys()\n",
        "y = count.values()\n",
        "plt.bar(x, y)"
      ]
    }
  ]
}