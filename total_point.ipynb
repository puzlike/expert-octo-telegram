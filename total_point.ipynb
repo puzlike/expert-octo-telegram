{
  "nbformat": 4,
  "nbformat_minor": 0,
  "metadata": {
    "colab": {
      "provenance": [],
      "authorship_tag": "ABX9TyNQVCArgH2L4vVNWlNu46Hl",
      "include_colab_link": true
    },
    "kernelspec": {
      "name": "python3",
      "display_name": "Python 3"
    },
    "language_info": {
      "name": "python"
    }
  },
  "cells": [
    {
      "cell_type": "markdown",
      "metadata": {
        "id": "view-in-github",
        "colab_type": "text"
      },
      "source": [
        "<a href=\"https://colab.research.google.com/github/puzlike/expert-octo-telegram/blob/main/total_point.ipynb\" target=\"_parent\"><img src=\"https://colab.research.google.com/assets/colab-badge.svg\" alt=\"Open In Colab\"/></a>"
      ]
    },
    {
      "cell_type": "code",
      "execution_count": 9,
      "metadata": {
        "colab": {
          "base_uri": "https://localhost:8080/"
        },
        "id": "RTE_BKm7ul7_",
        "outputId": "e84ae307-3ddd-45af-e0f6-08787ceb54e1"
      },
      "outputs": [
        {
          "output_type": "stream",
          "name": "stdout",
          "text": [
            "点数を入力してください。-1を入力したら終了します80\n",
            "点数を入力してください。-1を入力したら終了します45\n",
            "点数を入力してください。-1を入力したら終了します90\n",
            "点数を入力してください。-1を入力したら終了します-1\n",
            "3人の平均点は71.7点です\n"
          ]
        }
      ],
      "source": [
        "prompt = \"点数を入力してください。-1を入力したら終了します\"\n",
        "\n",
        "total = 0\n",
        "num = 0\n",
        "while True:\n",
        "  point = float(input(prompt))\n",
        "\n",
        "  if point == -1:\n",
        "    break\n",
        "\n",
        "  total += point\n",
        "  num += 1\n",
        "\n",
        "ave = round(total/num, 1)\n",
        "print(f\"{num}人の平均点は{ave}点です\")"
      ]
    }
  ]
}