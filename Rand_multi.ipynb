{
  "nbformat": 4,
  "nbformat_minor": 0,
  "metadata": {
    "colab": {
      "provenance": [],
      "authorship_tag": "ABX9TyMCtxBvjP0eBVwqRz7aDfrO",
      "include_colab_link": true
    },
    "kernelspec": {
      "name": "python3",
      "display_name": "Python 3"
    },
    "language_info": {
      "name": "python"
    }
  },
  "cells": [
    {
      "cell_type": "markdown",
      "metadata": {
        "id": "view-in-github",
        "colab_type": "text"
      },
      "source": [
        "<a href=\"https://colab.research.google.com/github/puzlike/expert-octo-telegram/blob/main/Rand_multi.ipynb\" target=\"_parent\"><img src=\"https://colab.research.google.com/assets/colab-badge.svg\" alt=\"Open In Colab\"/></a>"
      ]
    },
    {
      "cell_type": "code",
      "execution_count": 14,
      "metadata": {
        "colab": {
          "base_uri": "https://localhost:8080/"
        },
        "id": "dfTGiA0xJBdw",
        "outputId": "6afe6f25-d10e-43a4-8c27-f41658f3022d"
      },
      "outputs": [
        {
          "output_type": "stream",
          "name": "stdout",
          "text": [
            "7 2 7 8 784\n",
            "積は？76\n",
            "0\n",
            "6 7 2 3 252\n",
            "積は？252\n",
            "1\n",
            "6 6 2 6 432\n",
            "積は？432\n",
            "2\n",
            "3 9 7 2 378\n",
            "積は？378\n",
            "3\n",
            "6 1 10 4 240\n",
            "積は？240\n",
            "4\n",
            "2 5 2 10 200\n",
            "積は？200\n",
            "5\n",
            "クリア！！\n"
          ]
        }
      ],
      "source": [
        "from random import randint\n",
        "\n",
        "cnt = 0\n",
        "while True:\n",
        "  multi_num = 1\n",
        "  for n in range(4):\n",
        "    num = randint(1, 10)\n",
        "    print(num, end=' ')\n",
        "    multi_num *= num\n",
        "  ret = int(input(\"積は？\"))\n",
        "  if ret == multi_num:\n",
        "    cnt += 1\n",
        "  if cnt == 5:\n",
        "    print(\"クリア！！\")\n",
        "    break"
      ]
    }
  ]
}