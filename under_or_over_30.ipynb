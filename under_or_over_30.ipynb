{
  "nbformat": 4,
  "nbformat_minor": 0,
  "metadata": {
    "colab": {
      "provenance": [],
      "authorship_tag": "ABX9TyNOWLATGnAO346VouKXJNEG",
      "include_colab_link": true
    },
    "kernelspec": {
      "name": "python3",
      "display_name": "Python 3"
    },
    "language_info": {
      "name": "python"
    }
  },
  "cells": [
    {
      "cell_type": "markdown",
      "metadata": {
        "id": "view-in-github",
        "colab_type": "text"
      },
      "source": [
        "<a href=\"https://colab.research.google.com/github/puzlike/expert-octo-telegram/blob/main/under_or_over_30.ipynb\" target=\"_parent\"><img src=\"https://colab.research.google.com/assets/colab-badge.svg\" alt=\"Open In Colab\"/></a>"
      ]
    },
    {
      "cell_type": "code",
      "execution_count": null,
      "metadata": {
        "colab": {
          "base_uri": "https://localhost:8080/"
        },
        "id": "lafP7UumuQX5",
        "outputId": "60924785-c314-4a08-e6ac-2f75d8d4bba9"
      },
      "outputs": [
        {
          "output_type": "stream",
          "name": "stdout",
          "text": [
            "[5, 23]は不成立\n",
            "[23, 36]は成立\n",
            "[54, 62]は成立\n",
            "[84, 89]は不成立\n"
          ]
        }
      ],
      "source": [
        "num_list =[[5, 23], [23, 36], [54, 62], [84, 89]]\n",
        "n = 30\n",
        "i = 0\n",
        "l = len(num_list)\n",
        "while True:\n",
        "    if i >= l:\n",
        "        break\n",
        "    num = num_list[i]\n",
        "    a, b = num\n",
        "    if min(num) < n:\n",
        "        if a < n and b > n:\n",
        "            print(f'{num}は成立')\n",
        "            n += 30\n",
        "        else:\n",
        "            print(f'{num}は不成立')\n",
        "    i += 1"
      ]
    }
  ]
}