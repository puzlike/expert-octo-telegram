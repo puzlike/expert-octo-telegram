{
  "nbformat": 4,
  "nbformat_minor": 0,
  "metadata": {
    "colab": {
      "provenance": [],
      "authorship_tag": "ABX9TyM3+FMVz6cNsy2Xvl4JVRwa",
      "include_colab_link": true
    },
    "kernelspec": {
      "name": "python3",
      "display_name": "Python 3"
    },
    "language_info": {
      "name": "python"
    }
  },
  "cells": [
    {
      "cell_type": "markdown",
      "metadata": {
        "id": "view-in-github",
        "colab_type": "text"
      },
      "source": [
        "<a href=\"https://colab.research.google.com/github/puzlike/expert-octo-telegram/blob/main/under_or_over_30.ipynb\" target=\"_parent\"><img src=\"https://colab.research.google.com/assets/colab-badge.svg\" alt=\"Open In Colab\"/></a>"
      ]
    },
    {
      "cell_type": "code",
      "execution_count": 18,
      "metadata": {
        "colab": {
          "base_uri": "https://localhost:8080/"
        },
        "id": "lafP7UumuQX5",
        "outputId": "05d88132-ff41-403b-ca9b-8d32c9841bc4"
      },
      "outputs": [
        {
          "output_type": "stream",
          "name": "stdout",
          "text": [
            "[5, 23]は不成立\n",
            "[23, 36]は成立\n",
            "[54, 62]は成立\n",
            "[84, 89]は不成立\n"
          ]
        }
      ],
      "source": [
        "num_list =[[5, 23], [23, 36], [54, 62], [84, 89]]\n",
        "n = 1\n",
        "i = 0\n",
        "l = len(num_list)\n",
        "while True:\n",
        "    if i >= l:\n",
        "        break\n",
        "    num = num_list[i]\n",
        "    a, b = num\n",
        "    if min(num) < 30 * n:\n",
        "        if a < 30 * n and b > 30 * n:\n",
        "            print(f'{num}は成立')\n",
        "            n += 1\n",
        "        else:\n",
        "            print(f'{num}は不成立')\n",
        "    i += 1"
      ]
    }
  ]
}