{
  "nbformat": 4,
  "nbformat_minor": 0,
  "metadata": {
    "colab": {
      "provenance": [],
      "authorship_tag": "ABX9TyOltx1OvjhMaDH3XVnJWV+F",
      "include_colab_link": true
    },
    "kernelspec": {
      "name": "python3",
      "display_name": "Python 3"
    },
    "language_info": {
      "name": "python"
    }
  },
  "cells": [
    {
      "cell_type": "markdown",
      "metadata": {
        "id": "view-in-github",
        "colab_type": "text"
      },
      "source": [
        "<a href=\"https://colab.research.google.com/github/puzlike/expert-octo-telegram/blob/main/slot.ipynb\" target=\"_parent\"><img src=\"https://colab.research.google.com/assets/colab-badge.svg\" alt=\"Open In Colab\"/></a>"
      ]
    },
    {
      "cell_type": "code",
      "execution_count": 112,
      "metadata": {
        "colab": {
          "base_uri": "https://localhost:8080/"
        },
        "id": "Wr6f-fNHvjzU",
        "outputId": "db990966-5302-4004-efe8-b8f95f578392"
      },
      "outputs": [
        {
          "output_type": "stream",
          "name": "stdout",
          "text": [
            "残念\n"
          ]
        }
      ],
      "source": [
        "from random import randint\n",
        "\n",
        "a = randint(0, 9)\n",
        "b = randint(0, 9)\n",
        "c = randint(0, 9)\n",
        "\n",
        "pear = 0\n",
        "if a == b:\n",
        "    pear += 1\n",
        "if b == c:\n",
        "    pear += 1\n",
        "if a == c:\n",
        "    pear += 1\n",
        "\n",
        "if pear == 0:\n",
        "    print('残念')\n",
        "elif pear == 1:\n",
        "    print('惜しい')\n",
        "else:\n",
        "    print('おめでとう')"
      ]
    }
  ]
}