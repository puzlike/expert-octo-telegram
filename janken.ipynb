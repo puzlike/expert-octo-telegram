{
  "cells": [
    {
      "cell_type": "markdown",
      "metadata": {
        "id": "view-in-github",
        "colab_type": "text"
      },
      "source": [
        "<a href=\"https://colab.research.google.com/github/puzlike/expert-octo-telegram/blob/main/janken.ipynb\" target=\"_parent\"><img src=\"https://colab.research.google.com/assets/colab-badge.svg\" alt=\"Open In Colab\"/></a>"
      ]
    },
    {
      "cell_type": "code",
      "source": [
        "import random\n",
        "\n",
        "janken = {\n",
        "    'グー': ['チョキ', 'パー', 'グー'],\n",
        "    'チョキ': ['パー', 'グー', 'チョキ'],\n",
        "    'パー': ['グー', 'チョキ', 'パー']\n",
        "}\n",
        "\n",
        "hand = ['グー', 'チョキ', 'パー']\n",
        "\n",
        "action = True\n",
        "while action:\n",
        "    while True:\n",
        "        y = int(input('手を入力してください。(グー:0、チョキ:1、パー:2) ---> '))\n",
        "        if y >=0 and y <= 2:\n",
        "            you_hand = hand[y]\n",
        "            break\n",
        "    print(f'あなたの手は{you_hand}です')\n",
        "\n",
        "    c = random.randint(0, 2)\n",
        "    com_hand = hand[c]\n",
        "    print(f'適の手は{com_hand}です')\n",
        "\n",
        "    for you, com in janken.items():\n",
        "        if you_hand == you:\n",
        "            if com_hand == com[0]:\n",
        "                print(\"勝ち\")\n",
        "                action = False\n",
        "            elif com_hand == com[1]:\n",
        "                print(\"負け\")\n",
        "                action = False\n",
        "            elif com_hand == com[2]:\n",
        "                print(\"引き分け\")"
      ],
      "metadata": {
        "colab": {
          "base_uri": "https://localhost:8080/"
        },
        "id": "cXXcarBQLlPE",
        "outputId": "62f3ea3b-de27-4f59-dc34-1e8017118219"
      },
      "execution_count": null,
      "outputs": [
        {
          "output_type": "stream",
          "name": "stdout",
          "text": [
            "手を入力してください。(グー:0、チョキ:1、パー:2) ---> 2\n",
            "あなたの手はパーです\n",
            "適の手はパーです\n",
            "引き分け\n",
            "手を入力してください。(グー:0、チョキ:1、パー:2) ---> 0\n",
            "あなたの手はグーです\n",
            "適の手はグーです\n",
            "引き分け\n",
            "手を入力してください。(グー:0、チョキ:1、パー:2) ---> 1\n",
            "あなたの手はチョキです\n",
            "適の手はグーです\n",
            "負け\n"
          ]
        }
      ]
    }
  ],
  "metadata": {
    "colab": {
      "provenance": [],
      "mount_file_id": "1w_YTamF7hMYz7DhRtbUVizRA3WrqETKs",
      "authorship_tag": "ABX9TyPbvvgg4M2dBDHxUsBNoUSp",
      "include_colab_link": true
    },
    "kernelspec": {
      "display_name": "Python 3",
      "name": "python3"
    },
    "language_info": {
      "name": "python"
    }
  },
  "nbformat": 4,
  "nbformat_minor": 0
}