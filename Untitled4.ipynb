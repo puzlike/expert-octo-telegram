{
  "nbformat": 4,
  "nbformat_minor": 0,
  "metadata": {
    "colab": {
      "provenance": [],
      "authorship_tag": "ABX9TyME9WQZ2InSAbyEBy4u456N",
      "include_colab_link": true
    },
    "kernelspec": {
      "name": "python3",
      "display_name": "Python 3"
    },
    "language_info": {
      "name": "python"
    }
  },
  "cells": [
    {
      "cell_type": "markdown",
      "metadata": {
        "id": "view-in-github",
        "colab_type": "text"
      },
      "source": [
        "<a href=\"https://colab.research.google.com/github/puzlike/expert-octo-telegram/blob/main/Untitled4.ipynb\" target=\"_parent\"><img src=\"https://colab.research.google.com/assets/colab-badge.svg\" alt=\"Open In Colab\"/></a>"
      ]
    },
    {
      "cell_type": "code",
      "execution_count": 7,
      "metadata": {
        "id": "Dcg94R39u8bX"
      },
      "outputs": [],
      "source": [
        "from openpyxl import load_workbook\n",
        "wb = load_workbook(\"sample.xlsx\")\n",
        "ws = wb.active\n",
        "target = \"A\"\n",
        "next = \"B\"\n",
        "target_s_list = [\"4\", \"6\", \"7\"]\n",
        "for row in range(2, ws.max_row+1):\n",
        "    for target_s in target_s_list:\n",
        "        if target_s in str(ws[f\"{target}{row}\"].value):\n",
        "            ws[f\"{next}{row}\"] = '○'\n",
        "wb.save(\"sample_1.xlsx\")"
      ]
    }
  ]
}