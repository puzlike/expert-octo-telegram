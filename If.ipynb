{
  "nbformat": 4,
  "nbformat_minor": 0,
  "metadata": {
    "colab": {
      "provenance": [],
      "authorship_tag": "ABX9TyORClI2mYnX4XZU1WUDxlPE",
      "include_colab_link": true
    },
    "kernelspec": {
      "name": "python3",
      "display_name": "Python 3"
    },
    "language_info": {
      "name": "python"
    }
  },
  "cells": [
    {
      "cell_type": "markdown",
      "metadata": {
        "id": "view-in-github",
        "colab_type": "text"
      },
      "source": [
        "<a href=\"https://colab.research.google.com/github/puzlike/expert-octo-telegram/blob/main/If.ipynb\" target=\"_parent\"><img src=\"https://colab.research.google.com/assets/colab-badge.svg\" alt=\"Open In Colab\"/></a>"
      ]
    },
    {
      "cell_type": "code",
      "execution_count": 2,
      "metadata": {
        "colab": {
          "base_uri": "https://localhost:8080/"
        },
        "id": "HlAda3lHUwOM",
        "outputId": "e59b7eb9-51af-4c1c-9b01-0e120b921a25"
      },
      "outputs": [
        {
          "output_type": "stream",
          "name": "stdout",
          "text": [
            "サイズは大きい？ y/n：y\n",
            "色は灰色？ y/n：n\n",
            "それってクジラ？\n"
          ]
        }
      ],
      "source": [
        "size = input(\"サイズは大きい？ y/n：\")\n",
        "if size == \"y\":\n",
        "    color = input(\"色は灰色？ y/n：\")\n",
        "    if color == \"y\":\n",
        "        print(\"サメに気をつけろ\")\n",
        "    else:\n",
        "        print(\"それってクジラ？\")\n",
        "else:\n",
        "    color = input(\"色はオレンジ？ y/n：\")\n",
        "    if color == \"y\":\n",
        "        print(\"その魚はたぶん金魚\")\n",
        "    else:\n",
        "        print(\"その魚は熱帯魚かも\")\n"
      ]
    }
  ]
}