{
  "cells": [
    {
      "cell_type": "markdown",
      "metadata": {
        "id": "view-in-github",
        "colab_type": "text"
      },
      "source": [
        "<a href=\"https://colab.research.google.com/github/puzlike/expert-octo-telegram/blob/main/word_count.ipynb\" target=\"_parent\"><img src=\"https://colab.research.google.com/assets/colab-badge.svg\" alt=\"Open In Colab\"/></a>"
      ]
    },
    {
      "cell_type": "code",
      "source": [
        "keys = list('abcdefghijklmnopqrstuvwxyz')\n",
        "words = []\n",
        "word_count = {}\n",
        "for i in range(len(keys)):\n",
        "    word_count[keys[i]] = 0\n",
        "\n",
        "while True:\n",
        "    word = input('英単語を入力してください : ')\n",
        "    if word == '':\n",
        "        break\n",
        "    words.append(word)\n",
        "\n",
        "words = sorted(words)\n",
        "for word in words:\n",
        "    print('入力した英単語 : ', word)\n",
        "    \n",
        "for key in keys:\n",
        "    for word in words:\n",
        "        if key in word:\n",
        "            word_count[key] += 1\n",
        "\n",
        "for key, count in word_count.items():\n",
        "    if count >= 1:\n",
        "        print(f'{key}が{count}個ありました')\n"
      ],
      "metadata": {
        "colab": {
          "base_uri": "https://localhost:8080/"
        },
        "id": "tFMchMXIFheP",
        "outputId": "c40cb35f-5b19-4b77-f2de-6f774c162d5a"
      },
      "execution_count": 28,
      "outputs": [
        {
          "output_type": "stream",
          "name": "stdout",
          "text": [
            "英単語を入力してください : start\n",
            "英単語を入力してください : white\n",
            "英単語を入力してください : black\n",
            "英単語を入力してください : end\n",
            "英単語を入力してください : parl\n",
            "英単語を入力してください : \n",
            "入力した英単語 :  black\n",
            "入力した英単語 :  end\n",
            "入力した英単語 :  parl\n",
            "入力した英単語 :  start\n",
            "入力した英単語 :  white\n",
            "aが3個ありました\n",
            "bが1個ありました\n",
            "cが1個ありました\n",
            "dが1個ありました\n",
            "eが2個ありました\n",
            "hが1個ありました\n",
            "iが1個ありました\n",
            "kが1個ありました\n",
            "lが2個ありました\n",
            "nが1個ありました\n",
            "pが1個ありました\n",
            "rが2個ありました\n",
            "sが1個ありました\n",
            "tが2個ありました\n",
            "wが1個ありました\n"
          ]
        }
      ]
    }
  ],
  "metadata": {
    "colab": {
      "provenance": [],
      "mount_file_id": "1w_YTamF7hMYz7DhRtbUVizRA3WrqETKs",
      "authorship_tag": "ABX9TyMIynBy2A2s2S6NE/+vTW3S",
      "include_colab_link": true
    },
    "kernelspec": {
      "display_name": "Python 3",
      "name": "python3"
    },
    "language_info": {
      "name": "python"
    }
  },
  "nbformat": 4,
  "nbformat_minor": 0
}