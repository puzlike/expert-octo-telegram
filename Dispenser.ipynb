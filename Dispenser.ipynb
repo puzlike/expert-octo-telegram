{
  "nbformat": 4,
  "nbformat_minor": 0,
  "metadata": {
    "colab": {
      "provenance": [],
      "authorship_tag": "ABX9TyMVtwvswbY++V4y1Hm9Afv3",
      "include_colab_link": true
    },
    "kernelspec": {
      "name": "python3",
      "display_name": "Python 3"
    },
    "language_info": {
      "name": "python"
    }
  },
  "cells": [
    {
      "cell_type": "markdown",
      "metadata": {
        "id": "view-in-github",
        "colab_type": "text"
      },
      "source": [
        "<a href=\"https://colab.research.google.com/github/puzlike/expert-octo-telegram/blob/main/Dispenser.ipynb\" target=\"_parent\"><img src=\"https://colab.research.google.com/assets/colab-badge.svg\" alt=\"Open In Colab\"/></a>"
      ]
    },
    {
      "cell_type": "code",
      "execution_count": 4,
      "metadata": {
        "colab": {
          "base_uri": "https://localhost:8080/"
        },
        "id": "sOTxtZ89140O",
        "outputId": "319b5cc8-d8b9-475c-c4cf-a756b0cf43a5"
      },
      "outputs": [
        {
          "output_type": "stream",
          "name": "stdout",
          "text": [
            "金額を入力してください120\n",
            "商品番号 1 商品名 禄茶 値段 120\n",
            "商品番号 4 商品名 水 値段 110\n",
            "商品番号 5 商品名 コーヒ 値段 120\n",
            "商品番号 9 商品名 サイダー 値段 120\n"
          ]
        }
      ],
      "source": [
        "List = [\n",
        "    [\"禄茶\", \"烏龍茶\", \"紅茶\",\"水\", \"コーヒ\", \"カフェ\", \"オレンジシュース\", \"コーラ\", \"サイダー\", \"スポーツドリンク\"],\n",
        "    [120, 130, 140, 110, 120, 130, 130, 150, 120, 150]\n",
        "    ]\n",
        "\n",
        "shouhinn = []\n",
        "kingaku = int(input('金額を入力してください'))\n",
        "\n",
        "for i in range(9):\n",
        "  if List[1][i] <= kingaku:\n",
        "    shouhinn.append([List[0][i], List[1][i]])\n",
        "    print('商品番号', i+1, '商品名', List[0][i], '値段', List[1][i])\n"
      ]
    }
  ]
}