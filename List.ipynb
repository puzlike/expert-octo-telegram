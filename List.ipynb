{
  "nbformat": 4,
  "nbformat_minor": 0,
  "metadata": {
    "colab": {
      "provenance": [],
      "authorship_tag": "ABX9TyNTdFpBUzxV20sybY9UZD0y",
      "include_colab_link": true
    },
    "kernelspec": {
      "name": "python3",
      "display_name": "Python 3"
    },
    "language_info": {
      "name": "python"
    }
  },
  "cells": [
    {
      "cell_type": "markdown",
      "metadata": {
        "id": "view-in-github",
        "colab_type": "text"
      },
      "source": [
        "<a href=\"https://colab.research.google.com/github/puzlike/expert-octo-telegram/blob/main/List.ipynb\" target=\"_parent\"><img src=\"https://colab.research.google.com/assets/colab-badge.svg\" alt=\"Open In Colab\"/></a>"
      ]
    },
    {
      "cell_type": "code",
      "execution_count": 1,
      "metadata": {
        "colab": {
          "base_uri": "https://localhost:8080/"
        },
        "id": "e9LL3MjPGCH3",
        "outputId": "8426147e-c2ec-46f3-f6b4-4c432bdc7a2e"
      },
      "outputs": [
        {
          "output_type": "stream",
          "name": "stdout",
          "text": [
            "320.0\n"
          ]
        }
      ],
      "source": [
        "x=[1.0, 2.0, 3.0, 5.0, 6.0, 8.0, 9.0, 10.0]\n",
        "y=[4.0, 7.0, 8.0, 12.0, 13.0, 16.0, 18.0, 19.0]\n",
        "\n",
        "sum_x = 0\n",
        "for num in x:\n",
        "    sum_x = sum_x + num**2\n",
        "print(sum_x)"
      ]
    },
    {
      "cell_type": "code",
      "source": [
        "x=[1.0, 2.0, 3.0, 5.0, 6.0, 8.0, 9.0, 10.0]\n",
        "y=[4.0, 7.0, 8.0, 12.0, 13.0, 16.0, 18.0, 19.0]\n",
        "\n",
        "sum_xy = 0\n",
        "for i in range(len(x)):\n",
        "    sum_xy = sum_xy + x[i] * y[i]\n",
        "print(sum_xy)"
      ],
      "metadata": {
        "colab": {
          "base_uri": "https://localhost:8080/"
        },
        "id": "DpAeP0g4Gw4G",
        "outputId": "b93f8add-17fe-4b7f-8ad6-b3392ac49949"
      },
      "execution_count": 3,
      "outputs": [
        {
          "output_type": "stream",
          "name": "stdout",
          "text": [
            "660.0\n"
          ]
        }
      ]
    }
  ]
}