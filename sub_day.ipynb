{
  "nbformat": 4,
  "nbformat_minor": 0,
  "metadata": {
    "colab": {
      "provenance": [],
      "authorship_tag": "ABX9TyP4ILpCSsQyvLf05vDHx4fz",
      "include_colab_link": true
    },
    "kernelspec": {
      "name": "python3",
      "display_name": "Python 3"
    },
    "language_info": {
      "name": "python"
    }
  },
  "cells": [
    {
      "cell_type": "markdown",
      "metadata": {
        "id": "view-in-github",
        "colab_type": "text"
      },
      "source": [
        "<a href=\"https://colab.research.google.com/github/puzlike/expert-octo-telegram/blob/main/sub_day.ipynb\" target=\"_parent\"><img src=\"https://colab.research.google.com/assets/colab-badge.svg\" alt=\"Open In Colab\"/></a>"
      ]
    },
    {
      "cell_type": "code",
      "execution_count": null,
      "metadata": {
        "colab": {
          "base_uri": "https://localhost:8080/"
        },
        "id": "hhy455NVBAnc",
        "outputId": "9f2c3a2c-81f9-44b3-d0f7-18be40830632"
      },
      "outputs": [
        {
          "output_type": "stream",
          "name": "stdout",
          "text": [
            "何年から 2000\n",
            "何月から 2\n",
            "何日から 14\n",
            "何年まで 2000\n",
            "何月まで 6\n",
            "何日から 9\n",
            "116\n"
          ]
        }
      ],
      "source": [
        "days = [31,28,31,30,31,30,31,31,30,31,30,31]\n",
        "def leep_year(year):\n",
        "    if year % 400 == 0 or year % 100 != 0 and year % 4 == 0:\n",
        "        days[1] = 29\n",
        "    return days\n",
        "\n",
        "year1 = int(input(\"何年から \"))\n",
        "days1 = leep_year(year1)\n",
        "while True:\n",
        "    month1 = int(input(\"何月から \"))\n",
        "    if month1 >= 1 and month1 <=12:\n",
        "        break\n",
        "while True:\n",
        "    day1 = int(input(\"何日から \"))\n",
        "    if day1 >= 1 and day1 <= days[month1 - 1]:\n",
        "        break\n",
        "while True:\n",
        "    year2 = int(input(\"何年まで \"))\n",
        "    if year2 >= year1:\n",
        "        break\n",
        "\n",
        "days2 = leep_year(year2)\n",
        "while True:\n",
        "    month2 = int(input(\"何月まで \"))\n",
        "    if month2 >= 1 and month2 <=12:\n",
        "        break\n",
        "    if year2 == year1 and month2 >= month1:\n",
        "        break\n",
        "\n",
        "while True:\n",
        "    day2 = int(input(\"何日から \"))\n",
        "    if day2 >= 1 and day2 <= days[month2 - 1]:\n",
        "        break\n",
        "\n",
        "first_year_days = days1[month1 - 1] - day1\n",
        "if year2 == year1:\n",
        "    if month2 == month1:\n",
        "        total_day = day2 - day1 + 1\n",
        "    else:\n",
        "        total_day = first_year_days\n",
        "        for month in range(month1 + 1, month2):\n",
        "            total_day += days1[month - 1]\n",
        "        total_day += day2\n",
        "else:\n",
        "    last_year_days = 0\n",
        "    for month in range(1, month2 + 1):\n",
        "        last_year_days += sum(days[month - 1])\n",
        "    last_year_days += day2\n",
        "    total_day = first_year_days\n",
        "    for year in range(year1 + 1, year2):\n",
        "        days = leep_year(year)\n",
        "        total_day += sum(days)\n",
        "    total_day += last_year_days\n",
        "print(total_day)\n"
      ]
    }
  ]
}