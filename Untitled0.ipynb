{
  "nbformat": 4,
  "nbformat_minor": 0,
  "metadata": {
    "colab": {
      "provenance": [],
      "authorship_tag": "ABX9TyPu8JYCR8qPhkiOzl5v38a1",
      "include_colab_link": true
    },
    "kernelspec": {
      "name": "python3",
      "display_name": "Python 3"
    },
    "language_info": {
      "name": "python"
    }
  },
  "cells": [
    {
      "cell_type": "markdown",
      "metadata": {
        "id": "view-in-github",
        "colab_type": "text"
      },
      "source": [
        "<a href=\"https://colab.research.google.com/github/puzlike/expert-octo-telegram/blob/main/Untitled0.ipynb\" target=\"_parent\"><img src=\"https://colab.research.google.com/assets/colab-badge.svg\" alt=\"Open In Colab\"/></a>"
      ]
    },
    {
      "cell_type": "code",
      "execution_count": 13,
      "metadata": {
        "colab": {
          "base_uri": "https://localhost:8080/"
        },
        "id": "ChGPEVgBxPzI",
        "outputId": "5f12cf10-04e7-400d-993b-6b1f83fe3746"
      },
      "outputs": [
        {
          "output_type": "stream",
          "name": "stdout",
          "text": [
            "あなたの手は?チョキ\n",
            "あなたの手はチョキ、PCの手はパーで、あなたの勝ちです\n"
          ]
        }
      ],
      "source": [
        "import random\n",
        "while True:\n",
        "    n = input('あなたの手は?')\n",
        "    if n == 'グー' or n == 'チョキ' or n == 'パー':\n",
        "        break\n",
        "    print('グー、チョキ、パーを入力してください')\n",
        "\n",
        "machine = ['グー', 'チョキ', 'パー']\n",
        "m = random.choice(machine)\n",
        "while True:\n",
        "    if n == 'チョキ':\n",
        "        if m == 'パー':\n",
        "            you = '勝ち'\n",
        "            break\n",
        "        elif m == 'グー':\n",
        "            you = '負け'\n",
        "            break\n",
        "    elif n == 'グー':\n",
        "        if m == 'チョキ':\n",
        "            you = '勝ち'\n",
        "            break\n",
        "        elif m == 'パー':\n",
        "            you = '負け'\n",
        "            break\n",
        "    elif n == 'パー':\n",
        "        if m == 'グー':\n",
        "            you = '勝ち'\n",
        "            break\n",
        "        elif m == 'チョキ':\n",
        "            you = '負け'\n",
        "            break\n",
        "    else:\n",
        "        print(f'あなたの手は{n}、PCの手は{m}で、あいこです.もう一度')\n",
        "print(f'あなたの手は{n}、PCの手は{m}で、あなたの{you}です')"
      ]
    }
  ]
}