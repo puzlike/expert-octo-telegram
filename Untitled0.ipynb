{
  "cells": [
    {
      "cell_type": "markdown",
      "metadata": {
        "id": "view-in-github",
        "colab_type": "text"
      },
      "source": [
        "<a href=\"https://colab.research.google.com/github/puzlike/expert-octo-telegram/blob/main/Untitled0.ipynb\" target=\"_parent\"><img src=\"https://colab.research.google.com/assets/colab-badge.svg\" alt=\"Open In Colab\"/></a>"
      ]
    },
    {
      "cell_type": "code",
      "execution_count": 31,
      "metadata": {
        "colab": {
          "base_uri": "https://localhost:8080/"
        },
        "id": "ChGPEVgBxPzI",
        "outputId": "e5c2b8c0-2ed8-4232-dab5-d02204fa8f3d"
      },
      "outputs": [
        {
          "output_type": "stream",
          "name": "stdout",
          "text": [
            "あなたの手は?グー\n",
            "あなたの手はグー、PCの手はグーで、あいこです、もう一度！\n",
            "あなたの手は?パー\n",
            "あなたの手はパー、PCの手はグーで、あなたの勝ちです\n"
          ]
        }
      ],
      "source": [
        "import random\n",
        "def you_hand():\n",
        "    n = input('あなたの手は?')\n",
        "    if n == 'グー' or n == 'チョキ' or n == 'パー':\n",
        "        return n\n",
        "    else:\n",
        "        print('グー、チョキ、パーを入力してください')\n",
        "machine = ['グー', 'チョキ', 'パー']\n",
        "m = random.choice(machine)\n",
        "janken = {\n",
        "    'グー': ['チョキ', 'パー', 'グー'],\n",
        "    'チョキ': ['パー', 'グー', 'チョキ'],\n",
        "    'パー': ['グー', 'チョキ', 'パー']\n",
        "}\n",
        "\n",
        "active = True\n",
        "while active:\n",
        "    n = you_hand()\n",
        "    for you, pc in janken.items():\n",
        "        if n == you:\n",
        "            if m == pc[0]:\n",
        "                judchi = '勝ち'\n",
        "                active = False\n",
        "            elif m == pc[1]:\n",
        "                judchi = '負け'\n",
        "                active = False\n",
        "            elif m == pc[2]:\n",
        "                print(f'あなたの手は{n}、PCの手は{m}で、あいこです、もう一度！')\n",
        "        \n",
        "print(f'あなたの手は{n}、PCの手は{m}で、あなたの{judchi}です')"
      ]
    }
  ],
  "metadata": {
    "colab": {
      "provenance": [],
      "authorship_tag": "ABX9TyMoK45btaQuMWLXobDGdLsF",
      "include_colab_link": true
    },
    "kernelspec": {
      "display_name": "Python 3",
      "name": "python3"
    },
    "language_info": {
      "name": "python"
    }
  },
  "nbformat": 4,
  "nbformat_minor": 0
}