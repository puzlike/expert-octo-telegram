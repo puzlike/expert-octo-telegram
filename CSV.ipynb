{
  "nbformat": 4,
  "nbformat_minor": 0,
  "metadata": {
    "colab": {
      "provenance": [],
      "authorship_tag": "ABX9TyMyOp+Id51o7e+qdg9G5W80",
      "include_colab_link": true
    },
    "kernelspec": {
      "name": "python3",
      "display_name": "Python 3"
    },
    "language_info": {
      "name": "python"
    }
  },
  "cells": [
    {
      "cell_type": "markdown",
      "metadata": {
        "id": "view-in-github",
        "colab_type": "text"
      },
      "source": [
        "<a href=\"https://colab.research.google.com/github/puzlike/expert-octo-telegram/blob/main/CSV.ipynb\" target=\"_parent\"><img src=\"https://colab.research.google.com/assets/colab-badge.svg\" alt=\"Open In Colab\"/></a>"
      ]
    },
    {
      "cell_type": "code",
      "execution_count": 5,
      "metadata": {
        "id": "vWqCJjOKXxIU"
      },
      "outputs": [],
      "source": [
        "import openpyxl\n",
        "\n",
        "wb = openpyxl.Workbook()\n",
        "ws1 = wb.active\n",
        "ws1.title = '100'\n",
        "c1 = ws1['A1']\n",
        "c1.value = \"あいうえお\"\n",
        "wb.create_sheet(title='200')\n",
        "ws2 = wb.worksheets[1]\n",
        "c2 = ws2['A1']\n",
        "c2.value = \"かきくけこ\"\n",
        "wb.save('test.csv')"
      ]
    }
  ]
}