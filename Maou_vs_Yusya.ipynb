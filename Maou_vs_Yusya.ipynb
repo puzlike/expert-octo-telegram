{
  "nbformat": 4,
  "nbformat_minor": 0,
  "metadata": {
    "colab": {
      "provenance": [],
      "authorship_tag": "ABX9TyPapQ1RlGXntcN9BNCTmpv1",
      "include_colab_link": true
    },
    "kernelspec": {
      "name": "python3",
      "display_name": "Python 3"
    },
    "language_info": {
      "name": "python"
    }
  },
  "cells": [
    {
      "cell_type": "markdown",
      "metadata": {
        "id": "view-in-github",
        "colab_type": "text"
      },
      "source": [
        "<a href=\"https://colab.research.google.com/github/puzlike/expert-octo-telegram/blob/main/Maou_vs_Yusya.ipynb\" target=\"_parent\"><img src=\"https://colab.research.google.com/assets/colab-badge.svg\" alt=\"Open In Colab\"/></a>"
      ]
    },
    {
      "cell_type": "code",
      "execution_count": 43,
      "metadata": {
        "colab": {
          "base_uri": "https://localhost:8080/"
        },
        "id": "i1xFdFkotmDA",
        "outputId": "6b65ccec-5f51-453c-8aac-6cc6b2d9c9c3"
      },
      "outputs": [
        {
          "output_type": "stream",
          "name": "stdout",
          "text": [
            "魔王が現れた\n",
            "魔王の体力は2000\n",
            "魔王の攻撃力は400\n",
            "魔王の回復力は100\n",
            "です。\n",
            "あなたの体力は？>>2000\n",
            "あなたの攻撃力は？>>900\n",
            "3ターン目で魔王を倒せるぞ！がんばれ！\n",
            "戦いを挑みますか？（Y/N）>>Y\n",
            "勇者は魔王に戦いを挑んだ\n",
            "魔王は怒り、ステータスが変化した\n",
            "0ターン目:\n",
            "勇者の攻撃\n",
            "勇者は魔王に834ダメージを与えた\n",
            "勇者は魔王から345ダメージを受けた\n",
            "勇者は残り455HPです\n",
            "1ターン目:\n",
            "勇者の攻撃\n",
            "勇者は魔王に712ダメージを与えた\n",
            "勇者は魔王から341ダメージを受けた\n",
            "勇者は残り114HPです\n",
            "2ターン目:\n",
            "勇者の攻撃\n",
            "勇者は魔王に1133ダメージを与えた\n",
            "勇者は魔王から624ダメージを受けた\n",
            "勇者は残り0HPです\n",
            "勇者は魔王に敗れた\n"
          ]
        }
      ],
      "source": [
        "import random\n",
        "\n",
        "# 魔王の設定\n",
        "print('魔王が現れた')\n",
        "maou_hp = 2000\n",
        "maou_of = 400\n",
        "maou_heal = 100\n",
        "print(f'魔王の体力は{maou_hp}\\n魔王の攻撃力は{maou_of}\\n魔王の回復力は{maou_heal}\\nです。')\n",
        "\n",
        "# 勇者の設定\n",
        "yusya_hp = int(input('あなたの体力は？>>'))\n",
        "yusya_of = int(input('あなたの攻撃力は？>>'))\n",
        "#戦闘のターン数を 0 に初期化\n",
        "turn = 0\n",
        "\n",
        "# 魔王を倒すor負けるまでのターン数を測定\n",
        "# 魔王の体力が 0 より大きい間、ブロック内のコードを繰り返し実行する構文\n",
        "while maou_hp >0:\n",
        "    #魔王のHPから勇者の攻撃分マイナスする\n",
        "    maou_hp -= yusya_of\n",
        "    #魔王は毎ターン100回復する\n",
        "    maou_hp += maou_heal\n",
        "    #勇者HPから魔王の攻撃分マイナス\n",
        "    yusya_hp -= maou_of\n",
        "    #ターン数加算\n",
        "    turn += 1\n",
        "    #魔王の攻撃に耐え切れないかつ魔王を削り切れない場合は以下の文章を表示\n",
        "    if yusya_hp <= 0:\n",
        "        print('あなたはまだ魔王を倒すことができない！\\nレベルを上げて出直してくるのだ!')\n",
        "        break\n",
        "\n",
        "#魔王のhpを削り切ることができたら倒せるターン数を表示\n",
        "#魔王の攻撃に耐え切ることも条件\n",
        "if maou_hp <= 0 and yusya_hp > 0:\n",
        "    print('{}ターン目で魔王を倒せるぞ！がんばれ！'.format(turn))\n",
        "\n",
        "# 挑むかどうか\n",
        "idomu = input(\"戦いを挑みますか？（Y/N）>>\")\n",
        "\n",
        "if idomu == \"Y\":\n",
        "    print(\"勇者は魔王に戦いを挑んだ\\n魔王は怒り、ステータスが変化した\")\n",
        "\n",
        "    # 魔王のステータス変化\n",
        "    #HPは９０％～１５０％の間で変化\n",
        "    maou_hp = 2000 * random.uniform(0.9, 1.5)\n",
        "    #攻撃力は70%~150%の間で変化\n",
        "    maou_of = 400 * random.uniform(0.7, 1.5)\n",
        "    maou_heal = 100\n",
        "    #ターン数初期化\n",
        "    turn = 0\n",
        "\n",
        "    while maou_hp >0:\n",
        "        # ダメージ計算\n",
        "        yusya_damage = int(yusya_of * random.uniform(0.7, 1.5))\n",
        "        maou_hp -= yusya_damage\n",
        "        maou_damage = int(maou_of * random.uniform(0.7, 1.5))\n",
        "        if yusya_hp < maou_damage:\n",
        "            yusya_hp = 0\n",
        "        else:\n",
        "            yusya_hp -= maou_damage\n",
        "        # ターン経過\n",
        "        print(f\"{turn}ターン目:\")\n",
        "        print('勇者の攻撃')\n",
        "        print(f\"勇者は魔王に{yusya_damage}ダメージを与えた\")\n",
        "        print(f\"勇者は魔王から{maou_damage}ダメージを受けた\")\n",
        "        yusya_hp = int(yusya_hp)\n",
        "        print(f\"勇者は残り{yusya_hp}HPです\")\n",
        "        if maou_hp <= 0 or yusya_hp == 0:\n",
        "            break\n",
        "        turn += 1\n",
        "\n",
        "    # 結果\n",
        "    if maou_hp <= 0:\n",
        "        print(f\"{turn}ターン目で魔王を倒した！\")\n",
        "    elif yusya_hp <= 0:\n",
        "        print(\"勇者は魔王に敗れた\")\n",
        "else:\n",
        "    print(\"勇者は戦いから逃げ出した\")"
      ]
    }
  ]
}