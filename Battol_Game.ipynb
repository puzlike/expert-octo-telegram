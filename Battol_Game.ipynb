{
  "nbformat": 4,
  "nbformat_minor": 0,
  "metadata": {
    "colab": {
      "provenance": [],
      "authorship_tag": "ABX9TyOpP1/+M6hI2gRkEwnFpzjc",
      "include_colab_link": true
    },
    "kernelspec": {
      "name": "python3",
      "display_name": "Python 3"
    },
    "language_info": {
      "name": "python"
    }
  },
  "cells": [
    {
      "cell_type": "markdown",
      "metadata": {
        "id": "view-in-github",
        "colab_type": "text"
      },
      "source": [
        "<a href=\"https://colab.research.google.com/github/puzlike/expert-octo-telegram/blob/main/Battol_Game.ipynb\" target=\"_parent\"><img src=\"https://colab.research.google.com/assets/colab-badge.svg\" alt=\"Open In Colab\"/></a>"
      ]
    },
    {
      "cell_type": "code",
      "execution_count": 12,
      "metadata": {
        "id": "foaMolYnPbVu",
        "colab": {
          "base_uri": "https://localhost:8080/"
        },
        "outputId": "0a2c9741-0aa5-4572-e824-790ae2c0e22d"
      },
      "outputs": [
        {
          "output_type": "stream",
          "name": "stdout",
          "text": [
            "名前: 技能太郎、\n",
            "レベル: 1\n",
            "職業: 戦士、\n",
            "剣: 鉄の剣\n",
            "名前: 技能花子、\n",
            "レベル: 2\n",
            "職業: 魔法使い、\n",
            "杖: 妖精の杖\n",
            "技能太郎の攻撃\n",
            "技能斬り\n",
            "技能花子の攻撃\n",
            "火炎技能玉\n",
            "モンスターを倒した\n",
            "技能太郎はレべルが上がった\n",
            "技能花子はレべルが上がった\n",
            "名前: 技能太郎、\n",
            "レベル: 2\n",
            "職業: 戦士、\n",
            "剣: 鉄の剣\n",
            "名前: 技能花子、\n",
            "レベル: 3\n",
            "職業: 魔法使い、\n",
            "杖: 妖精の杖\n"
          ]
        }
      ],
      "source": [
        "class Player:\n",
        "  MAX_LEVEL = 5\n",
        "  def __init__(self, name, level):\n",
        "    self.name = name\n",
        "    self.level = level\n",
        "\n",
        "  def show_status(self):\n",
        "    print(f\"名前: {self.name}、\\nレベル: {self.level}\")\n",
        "\n",
        "  def levelup(self):\n",
        "    if self.level < self.MAX_LEVEL:\n",
        "      print(\"レべルが上がった\")\n",
        "      self.level += 1\n",
        "    else:\n",
        "      self.level = self.MAX_LEVEL\n",
        "\n",
        "  def atack(self):\n",
        "    print(f\"{self.name}の攻撃\")\n",
        "\n",
        "class Fighter(Player):\n",
        "  def __init__(self, name, lebel, sword):\n",
        "    super().__init__(name, lebel)\n",
        "    self.job = \"戦士\"\n",
        "    self.sword = sword\n",
        "\n",
        "  def show_status(self):\n",
        "    super().show_status()\n",
        "    print(f\"職業: {self.job}、\\n剣: {self.sword}\")\n",
        "\n",
        "  def levelup(self):\n",
        "    print(f\"{self.name}は\",end='')\n",
        "    super().levelup()\n",
        "\n",
        "  def atack(self):\n",
        "    super().atack()\n",
        "    print(\"技能斬り\")\n",
        "\n",
        "class Wizard(Player):\n",
        "  def __init__(self, name, lebel, wand):\n",
        "    super().__init__(name, lebel)\n",
        "    self.job = \"魔法使い\"\n",
        "    self.wand = wand\n",
        "\n",
        "  def show_status(self):\n",
        "    super().show_status()\n",
        "    print(f\"職業: {self.job}、\\n杖: {self.wand}\")\n",
        "\n",
        "  def levelup(self):\n",
        "    print(f\"{self.name}は\",end='')\n",
        "    super().levelup()\n",
        "\n",
        "  def atack(self):\n",
        "    super().atack()\n",
        "    print(\"火炎技能玉\")\n",
        "\n",
        "player1 = Fighter(\"技能太郎\", 1, \"鉄の剣\")\n",
        "player2 = Wizard(\"技能花子\", 2, \"妖精の杖\")\n",
        "player1.show_status()\n",
        "player2.show_status()\n",
        "player1.atack()\n",
        "player2.atack()\n",
        "print(\"モンスターを倒した\")\n",
        "player1.levelup()\n",
        "player2.levelup()\n",
        "player1.show_status()\n",
        "player2.show_status()"
      ]
    },
    {
      "cell_type": "code",
      "source": [],
      "metadata": {
        "id": "ZtiK_0SHh0x6"
      },
      "execution_count": null,
      "outputs": []
    }
  ]
}