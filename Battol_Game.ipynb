{
  "nbformat": 4,
  "nbformat_minor": 0,
  "metadata": {
    "colab": {
      "provenance": [],
      "authorship_tag": "ABX9TyPBsAD5yGmYab2WSMSYMjhN",
      "include_colab_link": true
    },
    "kernelspec": {
      "name": "python3",
      "display_name": "Python 3"
    },
    "language_info": {
      "name": "python"
    }
  },
  "cells": [
    {
      "cell_type": "markdown",
      "metadata": {
        "id": "view-in-github",
        "colab_type": "text"
      },
      "source": [
        "<a href=\"https://colab.research.google.com/github/puzlike/expert-octo-telegram/blob/main/Battol_Game.ipynb\" target=\"_parent\"><img src=\"https://colab.research.google.com/assets/colab-badge.svg\" alt=\"Open In Colab\"/></a>"
      ]
    },
    {
      "cell_type": "code",
      "execution_count": 26,
      "metadata": {
        "id": "foaMolYnPbVu",
        "colab": {
          "base_uri": "https://localhost:8080/"
        },
        "outputId": "14d795d4-6f24-48f3-94f7-34b1211ea696"
      },
      "outputs": [
        {
          "output_type": "stream",
          "name": "stdout",
          "text": [
            "名前はケン、レベルは1\n",
            "レべルが上がった\n",
            "ケンの攻撃\n",
            "名前はコウジ、レベルは2\n",
            "職業はFighter、剣はアークソード\n",
            "コウジはレべルが上がった\n",
            "コウジの攻撃\n",
            "斬鉄斬\n",
            "職業はWizard、杖はファイヤーワンド\n",
            "メイはレべルが上がった\n",
            "メイの攻撃\n",
            "火炎技能玉\n"
          ]
        }
      ],
      "source": [
        "class Player:\n",
        "  MAX_LEVEL = 5\n",
        "  def __init__(self, name, level):\n",
        "    self.name = name\n",
        "    self.level = level\n",
        "\n",
        "  def show_status(self):\n",
        "    print(f\"名前は{self.name}、レベルは{self.level}\")\n",
        "\n",
        "  def levelup(self):\n",
        "    if self.level <= self.MAX_LEVEL:\n",
        "      print(\"レべルが上がった\")\n",
        "      self.level += 1\n",
        "\n",
        "  def stack(self):\n",
        "    print(f\"{self.name}の攻撃\")\n",
        "\n",
        "class Fighter(Player):\n",
        "  def __init__(self, name, lebel, sword):\n",
        "    super().__init__(name, lebel)\n",
        "    self.sword = sword\n",
        "\n",
        "  def show_status(self):\n",
        "    super().show_status()\n",
        "    print(f\"職業は{self.__class__.__name__}、剣は{self.sword}\")\n",
        "\n",
        "  def levelup(self):\n",
        "    print(f\"{self.name}は\",end='')\n",
        "    super().levelup()\n",
        "\n",
        "  def stack(self):\n",
        "    super().stack()\n",
        "    print(\"斬鉄斬\")\n",
        "\n",
        "class Wizard(Player):\n",
        "  def __init__(self, name, lebel, wand):\n",
        "    super().__init__(name, lebel)\n",
        "    self.wand = wand\n",
        "\n",
        "  def show_status(self):\n",
        "    super().show_status\n",
        "    print(f\"職業は{self.__class__.__name__}、杖は{self.wand}\")\n",
        "\n",
        "  def levelup(self):\n",
        "    print(f\"{self.name}は\",end='')\n",
        "    super().levelup()\n",
        "\n",
        "  def stack(self):\n",
        "    super().stack()\n",
        "    print(\"火炎技能玉\")\n",
        "\n",
        "player = Player(\"ケン\", 1)\n",
        "fighter = Fighter(\"コウジ\", 2, \"アークソード\")\n",
        "wizard = Wizard(\"メイ\", 3, \"ファイヤーワンド\")\n",
        "\n",
        "player.show_status()\n",
        "player.levelup()\n",
        "player.stack()\n",
        "\n",
        "fighter.show_status()\n",
        "fighter.levelup()\n",
        "fighter.stack()\n",
        "\n",
        "wizard.show_status()\n",
        "wizard.levelup()\n",
        "wizard.stack()"
      ]
    }
  ]
}