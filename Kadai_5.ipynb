{
  "nbformat": 4,
  "nbformat_minor": 0,
  "metadata": {
    "colab": {
      "provenance": [],
      "authorship_tag": "ABX9TyOMrs71RX5ami+h6RuUTFau",
      "include_colab_link": true
    },
    "kernelspec": {
      "name": "python3",
      "display_name": "Python 3"
    },
    "language_info": {
      "name": "python"
    }
  },
  "cells": [
    {
      "cell_type": "markdown",
      "metadata": {
        "id": "view-in-github",
        "colab_type": "text"
      },
      "source": [
        "<a href=\"https://colab.research.google.com/github/puzlike/expert-octo-telegram/blob/main/Kadai_5.ipynb\" target=\"_parent\"><img src=\"https://colab.research.google.com/assets/colab-badge.svg\" alt=\"Open In Colab\"/></a>"
      ]
    },
    {
      "cell_type": "code",
      "execution_count": 2,
      "metadata": {
        "colab": {
          "base_uri": "https://localhost:8080/"
        },
        "id": "JILUis2Un-5Q",
        "outputId": "990611b6-f8a8-4365-eb95-1b872ed6d897"
      },
      "outputs": [
        {
          "output_type": "stream",
          "name": "stdout",
          "text": [
            "何回計算しますか？3\n",
            "国語の点数：60\n",
            "数学の点数：90\n",
            "合計点数は150点です。\n",
            "国語の点数：56\n",
            "数学の点数：78\n",
            "合計点数は134点です。\n",
            "国語の点数：89\n",
            "数学の点数：90\n",
            "合計点数は179点です。\n"
          ]
        }
      ],
      "source": [
        "# 問1\n",
        "n = int(input(\"何回計算しますか？\"))\n",
        "for i in range(n):\n",
        "  kokugo = int(input(\"国語の点数：\"))\n",
        "  sugaku = int(input(\"数学の点数：\"))\n",
        "  total = kokugo + sugaku\n",
        "  print(f\"合計点数は{total}点です。\")"
      ]
    },
    {
      "cell_type": "code",
      "source": [
        "# 問2\n",
        "n = int(input(\"何回計算しますか？\"))\n",
        "i = 0\n",
        "best_score = 0\n",
        "bast_score_name = \"\"\n",
        "while i < n:\n",
        "  name = input(\"名前：\")\n",
        "  if name == \"9\":\n",
        "    break\n",
        "  kokugo = int(input(\"国語の点数：\"))\n",
        "  sugaku = int(input(\"数学の点数：\"))\n",
        "  total = kokugo + sugaku\n",
        "  print(f\"合計点数は{total}点です。\")\n",
        "  if total > best_score:\n",
        "    best_score = total\n",
        "    best_score_name = name\n",
        "  i += 1\n",
        "\n",
        "print(f\"一番点数がよかったのは{best_score_name}で合計点は{best_score}点です。\")\n"
      ],
      "metadata": {
        "colab": {
          "base_uri": "https://localhost:8080/"
        },
        "id": "Sk9aLktVpj_y",
        "outputId": "a24fa0da-2459-47a5-f71f-25e302098dc4"
      },
      "execution_count": 4,
      "outputs": [
        {
          "output_type": "stream",
          "name": "stdout",
          "text": [
            "何回計算しますか？4\n",
            "名前：taro\n",
            "国語の点数：56\n",
            "数学の点数：80\n",
            "合計点数は136点です。\n",
            "名前：youko\n",
            "国語の点数：69\n",
            "数学の点数：90\n",
            "合計点数は159点です。\n",
            "名前：sizuka\n",
            "国語の点数：80\n",
            "数学の点数：89\n",
            "合計点数は169点です。\n",
            "名前：9\n",
            "一番点数がよかったのはsizukaで合計点は169点です。\n"
          ]
        }
      ]
    }
  ]
}