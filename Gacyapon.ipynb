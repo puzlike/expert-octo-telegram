{
  "nbformat": 4,
  "nbformat_minor": 0,
  "metadata": {
    "colab": {
      "provenance": [],
      "authorship_tag": "ABX9TyO3pujdgU4V9erlpnyzBO2X",
      "include_colab_link": true
    },
    "kernelspec": {
      "name": "python3",
      "display_name": "Python 3"
    },
    "language_info": {
      "name": "python"
    }
  },
  "cells": [
    {
      "cell_type": "markdown",
      "metadata": {
        "id": "view-in-github",
        "colab_type": "text"
      },
      "source": [
        "<a href=\"https://colab.research.google.com/github/puzlike/expert-octo-telegram/blob/main/Gacyapon.ipynb\" target=\"_parent\"><img src=\"https://colab.research.google.com/assets/colab-badge.svg\" alt=\"Open In Colab\"/></a>"
      ]
    },
    {
      "cell_type": "code",
      "execution_count": 14,
      "metadata": {
        "colab": {
          "base_uri": "https://localhost:8080/"
        },
        "id": "fvln3vVEsDzR",
        "outputId": "7d12d465-9b13-4882-8d11-c40c4916b120"
      },
      "outputs": [
        {
          "output_type": "stream",
          "name": "stdout",
          "text": [
            "合計：13 回\n",
            "緑 : 3 回\n",
            "青 : 4 回\n",
            "黒 : 3 回\n",
            "赤 : 2 回\n",
            "黄 : 1 回\n"
          ]
        }
      ],
      "source": [
        "import random\n",
        "\n",
        "items = [\"赤\", \"青\", \"緑\", \"黄\", \"紫\", \"黒\"]\n",
        "item_count = {}\n",
        "put_items = []\n",
        "count = 0\n",
        "while True:\n",
        "    num = random.randint(0, 5)\n",
        "    item = items[num]\n",
        "    if item not in put_items:\n",
        "        put_items.append(item)\n",
        "    if len(put_items) == 6:\n",
        "        break\n",
        "    if item in item_count.keys():\n",
        "        item_count[item] += 1\n",
        "    else:\n",
        "        item_count[item] = 1\n",
        "    count += 1\n",
        "print(f\"合計：{count} 回\")\n",
        "for item, count in item_count.items():\n",
        "    print(f\"{item} : {count} 回\")"
      ]
    }
  ]
}