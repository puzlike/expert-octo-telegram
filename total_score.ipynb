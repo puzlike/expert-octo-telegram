{
  "nbformat": 4,
  "nbformat_minor": 0,
  "metadata": {
    "colab": {
      "provenance": [],
      "mount_file_id": "1w_YTamF7hMYz7DhRtbUVizRA3WrqETKs",
      "authorship_tag": "ABX9TyM4aRq8QnqrZnwTekZ/Xhkn",
      "include_colab_link": true
    },
    "kernelspec": {
      "name": "python3",
      "display_name": "Python 3"
    },
    "language_info": {
      "name": "python"
    }
  },
  "cells": [
    {
      "cell_type": "markdown",
      "metadata": {
        "id": "view-in-github",
        "colab_type": "text"
      },
      "source": [
        "<a href=\"https://colab.research.google.com/github/puzlike/expert-octo-telegram/blob/main/total_score.ipynb\" target=\"_parent\"><img src=\"https://colab.research.google.com/assets/colab-badge.svg\" alt=\"Open In Colab\"/></a>"
      ]
    },
    {
      "cell_type": "code",
      "source": [
        "scores = {\n",
        "    'A': [50, 90, 60],\n",
        "    'B': [80, 70, 67],\n",
        "    'C': [69, 80, 56],\n",
        "    'D': [90, 88, 78]\n",
        "}\n",
        "\n",
        "total_scores = {}\n",
        "for name, score in scores.items():\n",
        "    total_score = sum(score)\n",
        "    total_scores[name] = total_score\n",
        "\n",
        "total_scores = dict(sorted(total_scores.items(), reverse=True))\n",
        "print(total_scores)"
      ],
      "metadata": {
        "colab": {
          "base_uri": "https://localhost:8080/"
        },
        "id": "jy2DUNKYlzMy",
        "outputId": "aea89a10-b220-41ba-a47a-b0f43295b90e"
      },
      "execution_count": 17,
      "outputs": [
        {
          "output_type": "stream",
          "name": "stdout",
          "text": [
            "{'D': 256, 'C': 205, 'B': 217, 'A': 200}\n"
          ]
        }
      ]
    }
  ]
}