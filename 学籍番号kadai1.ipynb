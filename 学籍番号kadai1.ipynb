{
  "nbformat": 4,
  "nbformat_minor": 0,
  "metadata": {
    "colab": {
      "provenance": [],
      "authorship_tag": "ABX9TyM/FVp7HX3Je3EfMD4IQM8v",
      "include_colab_link": true
    },
    "kernelspec": {
      "name": "python3",
      "display_name": "Python 3"
    },
    "language_info": {
      "name": "python"
    }
  },
  "cells": [
    {
      "cell_type": "markdown",
      "metadata": {
        "id": "view-in-github",
        "colab_type": "text"
      },
      "source": [
        "<a href=\"https://colab.research.google.com/github/puzlike/expert-octo-telegram/blob/main/%E5%AD%A6%E7%B1%8D%E7%95%AA%E5%8F%B7kadai1.ipynb\" target=\"_parent\"><img src=\"https://colab.research.google.com/assets/colab-badge.svg\" alt=\"Open In Colab\"/></a>"
      ]
    },
    {
      "cell_type": "code",
      "execution_count": 4,
      "metadata": {
        "colab": {
          "base_uri": "https://localhost:8080/"
        },
        "id": "TbGHJXtA6TIO",
        "outputId": "ea3e9a38-be5a-40db-d2b1-fd36d2dabc8f"
      },
      "outputs": [
        {
          "output_type": "stream",
          "name": "stdout",
          "text": [
            "合計金額を入力\n",
            "1550\n",
            "人数を入力\n",
            "4\n",
            "一人当たり:387円です。\n",
            "残り:2円です。\n"
          ]
        }
      ],
      "source": [
        "# 名前\n",
        "price = int(input(\"合計金額を入力\\n\"))\n",
        "num = int(input(\"人数を入力\\n\"))\n",
        "per_head_price = int(price / num)\n",
        "print(f\"一人当たり:{per_head_price}円です。\")\n",
        "rest_price = price % num\n",
        "print(f\"残り:{rest_price}円です。\")"
      ]
    }
  ]
}