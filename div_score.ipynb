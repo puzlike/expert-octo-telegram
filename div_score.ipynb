{
  "nbformat": 4,
  "nbformat_minor": 0,
  "metadata": {
    "colab": {
      "provenance": [],
      "authorship_tag": "ABX9TyPpalseaGzPrECxDqPcI1lk",
      "include_colab_link": true
    },
    "kernelspec": {
      "name": "python3",
      "display_name": "Python 3"
    },
    "language_info": {
      "name": "python"
    }
  },
  "cells": [
    {
      "cell_type": "markdown",
      "metadata": {
        "id": "view-in-github",
        "colab_type": "text"
      },
      "source": [
        "<a href=\"https://colab.research.google.com/github/puzlike/expert-octo-telegram/blob/main/div_score.ipynb\" target=\"_parent\"><img src=\"https://colab.research.google.com/assets/colab-badge.svg\" alt=\"Open In Colab\"/></a>"
      ]
    },
    {
      "cell_type": "code",
      "execution_count": 12,
      "metadata": {
        "colab": {
          "base_uri": "https://localhost:8080/"
        },
        "id": "GwdMTWatAX7z",
        "outputId": "ea217a05-3e33-44ec-c435-f12430cf4288"
      },
      "outputs": [
        {
          "output_type": "stream",
          "name": "stdout",
          "text": [
            "1回目10\n",
            "2回目35\n",
            "3回目13\n",
            "1回目 10\n",
            "2回目 35 +13\n",
            "3回目 13 -22\n"
          ]
        }
      ],
      "source": [
        "n = 3\n",
        "scores = []\n",
        "for i in range(n):\n",
        "  score = int(input(f'{i+1}回目'))\n",
        "  scores.append(score)\n",
        "\n",
        "for i in range(n):\n",
        "  if i == 0:\n",
        "    print(f\"{i+1}回目 {scores[i]}\")\n",
        "  else:\n",
        "    div_score = scores[i] - scores[i - 1]\n",
        "    if div_score > 0:\n",
        "      div_score = '+' + str(score)\n",
        "    print(f\"{i+1}回目 {scores[i]} {div_score}\")\n"
      ]
    }
  ]
}