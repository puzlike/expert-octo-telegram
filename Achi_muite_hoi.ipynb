{
  "nbformat": 4,
  "nbformat_minor": 0,
  "metadata": {
    "colab": {
      "provenance": [],
      "authorship_tag": "ABX9TyNrZqUYdPiRpvdHAj6hzyIi",
      "include_colab_link": true
    },
    "kernelspec": {
      "name": "python3",
      "display_name": "Python 3"
    },
    "language_info": {
      "name": "python"
    }
  },
  "cells": [
    {
      "cell_type": "markdown",
      "metadata": {
        "id": "view-in-github",
        "colab_type": "text"
      },
      "source": [
        "<a href=\"https://colab.research.google.com/github/puzlike/expert-octo-telegram/blob/main/Achi_muite_hoi.ipynb\" target=\"_parent\"><img src=\"https://colab.research.google.com/assets/colab-badge.svg\" alt=\"Open In Colab\"/></a>"
      ]
    },
    {
      "cell_type": "code",
      "execution_count": 1,
      "metadata": {
        "colab": {
          "base_uri": "https://localhost:8080/"
        },
        "id": "Z1gat9aCAEjQ",
        "outputId": "03896c28-27aa-4003-a491-07dfda5199a1"
      },
      "outputs": [
        {
          "output_type": "stream",
          "name": "stdout",
          "text": [
            "あっち向いてホイ！！\n",
            "どっちに向く？(上下左右)：上\n",
            "あっち向いてホイ！！\n",
            "どっちに向く？(上下左右)：下\n",
            "あっち向いてホイ！！\n",
            "どっちに向く？(上下左右)：右\n",
            "あっち向いてホイ！！\n",
            "どっちに向く？(上下左右)：上\n",
            "あっち向いてホイ！！\n",
            "どっちに向く？(上下左右)：左\n",
            "6歳\n"
          ]
        }
      ],
      "source": [
        "import random\n",
        "\n",
        "ages = {0:\"卵\", 1:\"生まれたて\", 2:\"赤ちゃん\"}\n",
        "hand = [\"上\", \"下\", \"左\", \"右\"]\n",
        "n = random.randint(0,3)\n",
        "com = hand[n]\n",
        "count = 0\n",
        "while True:\n",
        "  print(\"あっち向いてホイ！！\")\n",
        "  jibun = input(\"どっちに向く？(上下左右)：\")\n",
        "  if jibun == com:\n",
        "    break\n",
        "  count += 1\n",
        "\n",
        "if count in ages:\n",
        "  print(ages[count])\n",
        "else:\n",
        "  print(f\"{count+2}歳\")"
      ]
    }
  ]
}