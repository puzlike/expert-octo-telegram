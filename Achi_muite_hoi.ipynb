{
  "nbformat": 4,
  "nbformat_minor": 0,
  "metadata": {
    "colab": {
      "provenance": [],
      "authorship_tag": "ABX9TyObNV0fL025LlM7z3nc6WUh",
      "include_colab_link": true
    },
    "kernelspec": {
      "name": "python3",
      "display_name": "Python 3"
    },
    "language_info": {
      "name": "python"
    }
  },
  "cells": [
    {
      "cell_type": "markdown",
      "metadata": {
        "id": "view-in-github",
        "colab_type": "text"
      },
      "source": [
        "<a href=\"https://colab.research.google.com/github/puzlike/expert-octo-telegram/blob/main/Achi_muite_hoi.ipynb\" target=\"_parent\"><img src=\"https://colab.research.google.com/assets/colab-badge.svg\" alt=\"Open In Colab\"/></a>"
      ]
    },
    {
      "cell_type": "code",
      "execution_count": 9,
      "metadata": {
        "colab": {
          "base_uri": "https://localhost:8080/"
        },
        "id": "Z1gat9aCAEjQ",
        "outputId": "d23f38c9-159b-4fa3-bf44-568abe3a92c6"
      },
      "outputs": [
        {
          "output_type": "stream",
          "name": "stdout",
          "text": [
            "数値を入力してください。0：上、1：下、2：右、3：左0\n",
            "相手の向き： 下\n",
            "自分の向き： 上\n",
            "数値を入力してください。0：上、1：下、2：右、3：左2\n",
            "相手の向き： 下\n",
            "自分の向き： 右\n",
            "数値を入力してください。0：上、1：下、2：右、3：左3\n",
            "相手の向き： 下\n",
            "自分の向き： 左\n",
            "数値を入力してください。0：上、1：下、2：右、3：左1\n",
            "相手の向き： 下\n",
            "自分の向き： 下\n",
            "5歳\n"
          ]
        }
      ],
      "source": [
        "import random\n",
        "\n",
        "ages = {0:\"卵\", 1:\"生まれたて\", 2:\"赤ちゃん\"}\n",
        "Muki = [\"上\", \"下\", \"右\", \"左\"]\n",
        "com = random.randint(0,3)\n",
        "count = 0\n",
        "while True:\n",
        "  jibun = int(input(\"数値を入力してください。0：上、1：下、2：右、3：左\"))\n",
        "  print(\"相手の向き：\",Muki[com])\n",
        "  print(\"自分の向き：\",Muki[jibun])\n",
        "  if Muki[jibun] == Muki[com]:\n",
        "    break\n",
        "  count += 1\n",
        "\n",
        "if count in ages:\n",
        "  print(ages[count])\n",
        "else:\n",
        "  print(f\"{count+2}歳\")"
      ]
    }
  ]
}