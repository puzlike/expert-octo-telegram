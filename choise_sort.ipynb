{
  "nbformat": 4,
  "nbformat_minor": 0,
  "metadata": {
    "colab": {
      "provenance": [],
      "authorship_tag": "ABX9TyOBQQ+HM1jNkXTZlIwDVQZk",
      "include_colab_link": true
    },
    "kernelspec": {
      "name": "python3",
      "display_name": "Python 3"
    },
    "language_info": {
      "name": "python"
    }
  },
  "cells": [
    {
      "cell_type": "markdown",
      "metadata": {
        "id": "view-in-github",
        "colab_type": "text"
      },
      "source": [
        "<a href=\"https://colab.research.google.com/github/puzlike/expert-octo-telegram/blob/main/choise_sort.ipynb\" target=\"_parent\"><img src=\"https://colab.research.google.com/assets/colab-badge.svg\" alt=\"Open In Colab\"/></a>"
      ]
    },
    {
      "cell_type": "code",
      "execution_count": 23,
      "metadata": {
        "colab": {
          "base_uri": "https://localhost:8080/"
        },
        "id": "B4LVTI_35Ld9",
        "outputId": "c1a54e43-7ae5-4b3f-f057-970e3d38d5fe"
      },
      "outputs": [
        {
          "output_type": "stream",
          "name": "stdout",
          "text": [
            "初期状態 [5, 3, 1, 4, 2]\n",
            "1 回目 [1, 3, 5, 4, 2]\n",
            "2 回目 [1, 2, 5, 4, 3]\n",
            "3 回目 [1, 2, 3, 4, 5]\n"
          ]
        }
      ],
      "source": [
        "a_list =[5, 3, 1, 4, 2]\n",
        "print(\"初期状態\",a_list)\n",
        "n = len(a_list)\n",
        "i = 0\n",
        "while i < l: \n",
        "    min_num = min(a_list[i:n])\n",
        "    j = a_list.index(min_num)\n",
        "    a_list[i], a_list[j] = a_list[j], a_list[i]\n",
        "    print(i+1,\"回目\",a_list)\n",
        "    if a_list[n - 2] < a_list[n -1]:\n",
        "        break\n",
        "    i += 1\n"
      ]
    }
  ]
}