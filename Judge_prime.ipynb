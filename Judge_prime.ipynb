{
  "nbformat": 4,
  "nbformat_minor": 0,
  "metadata": {
    "colab": {
      "provenance": [],
      "authorship_tag": "ABX9TyMcERj/FgLWURJN9jHXjhoE",
      "include_colab_link": true
    },
    "kernelspec": {
      "name": "python3",
      "display_name": "Python 3"
    },
    "language_info": {
      "name": "python"
    }
  },
  "cells": [
    {
      "cell_type": "markdown",
      "metadata": {
        "id": "view-in-github",
        "colab_type": "text"
      },
      "source": [
        "<a href=\"https://colab.research.google.com/github/puzlike/expert-octo-telegram/blob/main/Judge_prime.ipynb\" target=\"_parent\"><img src=\"https://colab.research.google.com/assets/colab-badge.svg\" alt=\"Open In Colab\"/></a>"
      ]
    },
    {
      "cell_type": "code",
      "execution_count": 4,
      "metadata": {
        "colab": {
          "base_uri": "https://localhost:8080/"
        },
        "id": "o80F8ThqrgVF",
        "outputId": "a93e29c2-0501-44c8-fcfa-fac425983373"
      },
      "outputs": [
        {
          "output_type": "stream",
          "name": "stdout",
          "text": [
            "自然数：1\n",
            "素数かどうか判定できません。\n",
            "自然数：2\n",
            "2は素数です\n"
          ]
        }
      ],
      "source": [
        "while True:\n",
        "    count = 0\n",
        "    num = int(input(\"自然数：\"))\n",
        "    if num <= 1:\n",
        "        print(\"素数かどうか判定できません。\")\n",
        "    else:\n",
        "        for div in range(1, num):\n",
        "            if num % div == 0:\n",
        "                count += 1\n",
        "    if count == 1:\n",
        "        break\n",
        "print(f\"{num}は素数です\")"
      ]
    }
  ]
}