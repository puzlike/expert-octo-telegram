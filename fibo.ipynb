{
  "cells": [
    {
      "cell_type": "markdown",
      "metadata": {
        "id": "view-in-github",
        "colab_type": "text"
      },
      "source": [
        "<a href=\"https://colab.research.google.com/github/puzlike/expert-octo-telegram/blob/main/fibo.ipynb\" target=\"_parent\"><img src=\"https://colab.research.google.com/assets/colab-badge.svg\" alt=\"Open In Colab\"/></a>"
      ]
    },
    {
      "cell_type": "code",
      "execution_count": 13,
      "metadata": {
        "colab": {
          "base_uri": "https://localhost:8080/"
        },
        "id": "wg98GcYOp-xZ",
        "outputId": "c4c05f0c-6c2f-40fb-aaff-5c96d2f37830"
      },
      "outputs": [
        {
          "name": "stdout",
          "output_type": "stream",
          "text": [
            "何項目？>8\n",
            "第8項目は21です\n",
            "何項目？>100\n",
            "第100項目は354224848179261915075です\n",
            "何項目？>0\n"
          ]
        }
      ],
      "source": [
        "while True:\n",
        "    n = int(input('何項目？>'))\n",
        "    if n == 0 :\n",
        "        break\n",
        "    if n == 1 or n == 2:\n",
        "        z = 1\n",
        "    else:\n",
        "        x = 1\n",
        "        y = 1\n",
        "        for i in range(2, n):\n",
        "            z = x + y\n",
        "            x = y\n",
        "            y = z\n",
        "    print(f'第{n}項目は{z}です')"
      ]
    }
  ],
  "metadata": {
    "colab": {
      "provenance": [],
      "authorship_tag": "ABX9TyOaWo36Du84mhntnP40TBtb",
      "include_colab_link": true
    },
    "kernelspec": {
      "display_name": "Python 3",
      "name": "python3"
    },
    "language_info": {
      "name": "python"
    }
  },
  "nbformat": 4,
  "nbformat_minor": 0
}