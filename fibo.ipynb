{
  "cells": [
    {
      "cell_type": "markdown",
      "metadata": {
        "id": "view-in-github",
        "colab_type": "text"
      },
      "source": [
        "<a href=\"https://colab.research.google.com/github/puzlike/expert-octo-telegram/blob/main/fibo.ipynb\" target=\"_parent\"><img src=\"https://colab.research.google.com/assets/colab-badge.svg\" alt=\"Open In Colab\"/></a>"
      ]
    },
    {
      "cell_type": "code",
      "execution_count": 4,
      "metadata": {
        "colab": {
          "base_uri": "https://localhost:8080/"
        },
        "id": "wg98GcYOp-xZ",
        "outputId": "c1b024ba-d3c1-4e2b-e0af-c2b5e261f83c"
      },
      "outputs": [
        {
          "name": "stdout",
          "output_type": "stream",
          "text": [
            "何項目？>8\n",
            "第8項目は21です\n",
            "何項目？>100\n",
            "第100項目は354224848179261915075です\n",
            "何項目？>0\n"
          ]
        }
      ],
      "source": [
        "while True:\n",
        "    fibo1 = 1\n",
        "    fibo2 = 1\n",
        "    n = int(input('何項目？>'))\n",
        "    if n == 0 :\n",
        "        break    \n",
        "    for i in range(2, n):\n",
        "        fibo3 = fibo1 + fibo2\n",
        "        fibo1 = fibo2\n",
        "        fibo2 = fibo3\n",
        "    print(f'第{n}項目は{fibo3}です')"
      ]
    }
  ],
  "metadata": {
    "colab": {
      "provenance": [],
      "authorship_tag": "ABX9TyMIszpbaafWuof3sHYdC2S7",
      "include_colab_link": true
    },
    "kernelspec": {
      "display_name": "Python 3",
      "name": "python3"
    },
    "language_info": {
      "name": "python"
    }
  },
  "nbformat": 4,
  "nbformat_minor": 0
}