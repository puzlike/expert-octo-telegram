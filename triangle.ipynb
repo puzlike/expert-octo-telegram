{
  "nbformat": 4,
  "nbformat_minor": 0,
  "metadata": {
    "colab": {
      "provenance": [],
      "authorship_tag": "ABX9TyPizlYRQ2IbQhkfiOSH5yrc",
      "include_colab_link": true
    },
    "kernelspec": {
      "name": "python3",
      "display_name": "Python 3"
    },
    "language_info": {
      "name": "python"
    }
  },
  "cells": [
    {
      "cell_type": "markdown",
      "metadata": {
        "id": "view-in-github",
        "colab_type": "text"
      },
      "source": [
        "<a href=\"https://colab.research.google.com/github/puzlike/expert-octo-telegram/blob/main/triangle.ipynb\" target=\"_parent\"><img src=\"https://colab.research.google.com/assets/colab-badge.svg\" alt=\"Open In Colab\"/></a>"
      ]
    },
    {
      "cell_type": "code",
      "execution_count": 8,
      "metadata": {
        "colab": {
          "base_uri": "https://localhost:8080/"
        },
        "id": "U5TPYqil4cXE",
        "outputId": "4e83be0d-ca72-4621-fc3d-02a22f7f6b8c"
      },
      "outputs": [
        {
          "output_type": "stream",
          "name": "stdout",
          "text": [
            "   \n",
            "*  \n",
            "** \n",
            "***\n",
            "****\n"
          ]
        }
      ],
      "source": [
        "n = 4\n",
        "for i in range(n + 1):\n",
        "    print('*' * i,end='')\n",
        "    for j in range(i+1,n):\n",
        "        print(' ',end='')\n",
        "    print()\n",
        "    "
      ]
    }
  ]
}