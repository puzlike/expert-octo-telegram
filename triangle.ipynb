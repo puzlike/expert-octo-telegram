{
  "nbformat": 4,
  "nbformat_minor": 0,
  "metadata": {
    "colab": {
      "provenance": [],
      "authorship_tag": "ABX9TyORKRJc/3mqDHhfBCdeC+lq",
      "include_colab_link": true
    },
    "kernelspec": {
      "name": "python3",
      "display_name": "Python 3"
    },
    "language_info": {
      "name": "python"
    }
  },
  "cells": [
    {
      "cell_type": "markdown",
      "metadata": {
        "id": "view-in-github",
        "colab_type": "text"
      },
      "source": [
        "<a href=\"https://colab.research.google.com/github/puzlike/expert-octo-telegram/blob/main/triangle.ipynb\" target=\"_parent\"><img src=\"https://colab.research.google.com/assets/colab-badge.svg\" alt=\"Open In Colab\"/></a>"
      ]
    },
    {
      "cell_type": "code",
      "execution_count": 10,
      "metadata": {
        "colab": {
          "base_uri": "https://localhost:8080/"
        },
        "id": "U5TPYqil4cXE",
        "outputId": "f005b81c-201a-4e30-fa2e-b8ad15d7e39d"
      },
      "outputs": [
        {
          "output_type": "stream",
          "name": "stdout",
          "text": [
            "    \n",
            "*    \n",
            "**    \n",
            "***    \n",
            "****    \n"
          ]
        }
      ],
      "source": [
        "n = 4\n",
        "for i in range(n + 1):\n",
        "    print('*' * i,end='')\n",
        "    for j in range(n):\n",
        "        print(' ',end='')\n",
        "    print()\n",
        "    "
      ]
    }
  ]
}