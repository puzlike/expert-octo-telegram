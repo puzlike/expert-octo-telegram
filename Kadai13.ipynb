{
  "nbformat": 4,
  "nbformat_minor": 0,
  "metadata": {
    "colab": {
      "provenance": [],
      "authorship_tag": "ABX9TyN4mbdR3ZY9T4oJvazeimo4",
      "include_colab_link": true
    },
    "kernelspec": {
      "name": "python3",
      "display_name": "Python 3"
    },
    "language_info": {
      "name": "python"
    }
  },
  "cells": [
    {
      "cell_type": "markdown",
      "metadata": {
        "id": "view-in-github",
        "colab_type": "text"
      },
      "source": [
        "<a href=\"https://colab.research.google.com/github/puzlike/expert-octo-telegram/blob/main/Kadai13.ipynb\" target=\"_parent\"><img src=\"https://colab.research.google.com/assets/colab-badge.svg\" alt=\"Open In Colab\"/></a>"
      ]
    },
    {
      "cell_type": "code",
      "execution_count": 14,
      "metadata": {
        "colab": {
          "base_uri": "https://localhost:8080/"
        },
        "id": "wZ0Z7LFXF68n",
        "outputId": "71098571-4b53-456b-82be-3da116ac4685"
      },
      "outputs": [
        {
          "output_type": "stream",
          "name": "stdout",
          "text": [
            "日＝1\n",
            "気温＝8\n",
            "日＝2\n",
            "気温＝5\n",
            "日＝3\n",
            "気温＝1\n",
            "日＝4\n",
            "気温＝9\n",
            "日＝5\n",
            "気温＝4\n",
            "['1', '8']\n",
            "['2', '5']\n",
            "['3', '1']\n",
            "['4', '9']\n",
            "['5', '4']\n",
            "最低気温＝1度\n"
          ]
        }
      ],
      "source": [
        "import csv\n",
        "\n",
        "f = open(\"kion.csv\", mode=\"w\", newline=\"\")\n",
        "writer = csv.writer(f)\n",
        "for i in range(5):\n",
        "  day = input(\"日＝\")\n",
        "  temp = input(\"気温＝\")\n",
        "  writer.writerow([day, temp])\n",
        "f.close()\n",
        "\n",
        "temps = []\n",
        "f = open(\"kion.csv\")\n",
        "reader = csv.reader(f)\n",
        "for row in reader:\n",
        "  print(row)\n",
        "  temps.append(row[1])\n",
        "f.close()\n",
        "print(f\"最低気温＝{min(temps)}度\")"
      ]
    }
  ]
}