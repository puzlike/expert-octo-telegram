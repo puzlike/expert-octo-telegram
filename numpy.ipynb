{
  "nbformat": 4,
  "nbformat_minor": 0,
  "metadata": {
    "colab": {
      "provenance": [],
      "authorship_tag": "ABX9TyP7ryqNPNTV0jlv5DOswx36",
      "include_colab_link": true
    },
    "kernelspec": {
      "name": "python3",
      "display_name": "Python 3"
    },
    "language_info": {
      "name": "python"
    }
  },
  "cells": [
    {
      "cell_type": "markdown",
      "metadata": {
        "id": "view-in-github",
        "colab_type": "text"
      },
      "source": [
        "<a href=\"https://colab.research.google.com/github/puzlike/expert-octo-telegram/blob/main/numpy.ipynb\" target=\"_parent\"><img src=\"https://colab.research.google.com/assets/colab-badge.svg\" alt=\"Open In Colab\"/></a>"
      ]
    },
    {
      "cell_type": "code",
      "source": [
        "import numpy as np"
      ],
      "metadata": {
        "id": "ZIy-0YxxZ6y4"
      },
      "execution_count": 1,
      "outputs": []
    },
    {
      "cell_type": "code",
      "execution_count": 13,
      "metadata": {
        "colab": {
          "base_uri": "https://localhost:8080/"
        },
        "id": "aJF4TjMWZcuX",
        "outputId": "ef1b4608-2e88-4c3b-df98-9e893a37b049"
      },
      "outputs": [
        {
          "output_type": "stream",
          "name": "stdout",
          "text": [
            "[[20 21 22]\n",
            " [26 27 28]]\n"
          ]
        }
      ],
      "source": [
        "a = np.array(\n",
        "[[20, 21, 22],\n",
        "[23, 24, 25],\n",
        "[26, 27, 28]])\n",
        "\n",
        "b=[23, 24, 25]\n",
        "\n",
        "a = np.delete(a, np.where(a == b)[0], axis=0)\n",
        "print(a)"
      ]
    }
  ]
}