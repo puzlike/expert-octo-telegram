{
  "nbformat": 4,
  "nbformat_minor": 0,
  "metadata": {
    "colab": {
      "provenance": [],
      "authorship_tag": "ABX9TyOvzVayO2n3o9yRYN1PWGmz",
      "include_colab_link": true
    },
    "kernelspec": {
      "name": "python3",
      "display_name": "Python 3"
    },
    "language_info": {
      "name": "python"
    }
  },
  "cells": [
    {
      "cell_type": "markdown",
      "metadata": {
        "id": "view-in-github",
        "colab_type": "text"
      },
      "source": [
        "<a href=\"https://colab.research.google.com/github/puzlike/expert-octo-telegram/blob/main/Event_sort.ipynb\" target=\"_parent\"><img src=\"https://colab.research.google.com/assets/colab-badge.svg\" alt=\"Open In Colab\"/></a>"
      ]
    },
    {
      "cell_type": "code",
      "execution_count": 14,
      "metadata": {
        "colab": {
          "base_uri": "https://localhost:8080/"
        },
        "id": "6hQTxSxFPUqT",
        "outputId": "aec14081-df87-4ace-810e-30ecf53dc5cd"
      },
      "outputs": [
        {
          "output_type": "stream",
          "name": "stdout",
          "text": [
            "本能寺の変(ほんのうじのへん)･桜田門外の変(さくらだもんがいのへん)･壬申の乱(じんしんのらん)･西南戦争(せいなんせんそう)･大塩平八郎の乱(おおしおへいはちろうのらん)･承久の乱(しょうきゅうのらん)･壇ノ浦の戦い(だんのうらのたたかい)･平将門の乱(たいらのまさかどのらん)･\n",
            "これを年代順に並べ替えます\n",
            "壬申の乱(じんしんのらん)･平将門の乱(たいらのまさかどのらん)･壇ノ浦の戦い(だんのうらのたたかい)･承久の乱(しょうきゅうのらん)･本能寺の変(ほんのうじのへん)･大塩平八郎の乱(おおしおへいはちろうのらん)･桜田門外の変(さくらだもんがいのへん)･西南戦争(せいなんせんそう)･"
          ]
        }
      ],
      "source": [
        "events = {\n",
        "    1582: [\"本能寺の変\", \"ほんのうじのへん\"],\n",
        "    1860: [\"桜田門外の変\", \"さくらだもんがいのへん\"],\n",
        "     672: [\"壬申の乱\", \"じんしんのらん\"],\n",
        "    1877: [\"西南戦争\", \"せいなんせんそう\"],\n",
        "    1837: [\"大塩平八郎の乱\", \"おおしおへいはちろうのらん\"],\n",
        "    1221: [\"承久の乱\", \"しょうきゅうのらん\"],\n",
        "    1185: [\"壇ノ浦の戦い\", \"だんのうらのたたかい\"],\n",
        "     939: [\"平将門の乱\", \"たいらのまさかどのらん\"]\n",
        "    }\n",
        "\n",
        "for key in events:\n",
        "  print(f\"{events[key][0]}({events[key][1]})\", end=\"･\")\n",
        "print(\"\\nこれを年代順に並べ替えます\")\n",
        "\n",
        "keys = list(events) # 辞書のキーを配列化する\n",
        "n = len(keys)\n",
        "for i in range(n):\n",
        "  flag = 0\n",
        "  for j in range(0, n-i-1):\n",
        "    if keys[j] > keys[j+1]:\n",
        "      flag = 1\n",
        "      keys[j], keys[j+1] = keys[j+1], keys[j]\n",
        "  if flag == 0:\n",
        "    break\n",
        "\n",
        "for key in keys:\n",
        "  print(f\"{events[key][0]}({events[key][1]})\", end=\"･\")\n"
      ]
    }
  ]
}