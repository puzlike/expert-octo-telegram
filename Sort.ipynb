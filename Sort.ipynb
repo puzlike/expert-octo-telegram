{
  "nbformat": 4,
  "nbformat_minor": 0,
  "metadata": {
    "colab": {
      "provenance": [],
      "authorship_tag": "ABX9TyOlzRpK2gjDaNcjtuCrON4p",
      "include_colab_link": true
    },
    "kernelspec": {
      "name": "python3",
      "display_name": "Python 3"
    },
    "language_info": {
      "name": "python"
    }
  },
  "cells": [
    {
      "cell_type": "markdown",
      "metadata": {
        "id": "view-in-github",
        "colab_type": "text"
      },
      "source": [
        "<a href=\"https://colab.research.google.com/github/puzlike/expert-octo-telegram/blob/main/Sort.ipynb\" target=\"_parent\"><img src=\"https://colab.research.google.com/assets/colab-badge.svg\" alt=\"Open In Colab\"/></a>"
      ]
    },
    {
      "cell_type": "code",
      "execution_count": 1,
      "metadata": {
        "colab": {
          "base_uri": "https://localhost:8080/"
        },
        "id": "HXQSaMKWbMkl",
        "outputId": "52cd2d7f-b21c-4845-a6ff-f7a232224512"
      },
      "outputs": [
        {
          "output_type": "stream",
          "name": "stdout",
          "text": [
            "[1, 2, 3, 5, 7, 9]\n"
          ]
        }
      ],
      "source": [
        "num_list = [2, 5, 1, 7, 3, 9]\n",
        "l = len(num_list)\n",
        "for i in range(l - 1):\n",
        "    for j in range(i, l):\n",
        "        if num_list[i] > num_list[j]:\n",
        "            num_list[i], num_list[j] = num_list[j], num_list[i]\n",
        "print(num_list)"
      ]
    }
  ]
}