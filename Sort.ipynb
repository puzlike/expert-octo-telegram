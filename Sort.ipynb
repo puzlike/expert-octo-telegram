{
  "nbformat": 4,
  "nbformat_minor": 0,
  "metadata": {
    "colab": {
      "provenance": [],
      "authorship_tag": "ABX9TyPGw8JXmTS6v7UAkyHx1mIj",
      "include_colab_link": true
    },
    "kernelspec": {
      "name": "python3",
      "display_name": "Python 3"
    },
    "language_info": {
      "name": "python"
    }
  },
  "cells": [
    {
      "cell_type": "markdown",
      "metadata": {
        "id": "view-in-github",
        "colab_type": "text"
      },
      "source": [
        "<a href=\"https://colab.research.google.com/github/puzlike/expert-octo-telegram/blob/main/Sort.ipynb\" target=\"_parent\"><img src=\"https://colab.research.google.com/assets/colab-badge.svg\" alt=\"Open In Colab\"/></a>"
      ]
    },
    {
      "cell_type": "code",
      "execution_count": 6,
      "metadata": {
        "colab": {
          "base_uri": "https://localhost:8080/"
        },
        "id": "y6YsUpmzzy9X",
        "outputId": "bd7d7a9f-adf6-46de-abdd-e85c351251a8"
      },
      "outputs": [
        {
          "output_type": "stream",
          "name": "stdout",
          "text": [
            "ソート前\n",
            "34 67 54 12 79 93 43 70 28 55 \n",
            "ソート後\n",
            "12 28 34 43 54 55 67 70 79 93 "
          ]
        }
      ],
      "source": [
        "ary = [34, 67, 54, 12, 79, 93, 43, 70, 28, 55]\n",
        "print(\"ソート前\")\n",
        "for i in range(len(ary)):\n",
        "    print(ary[i],end=\" \")\n",
        "print()\n",
        "while True:\n",
        "    flg = 0\n",
        "    for i in range(0, 9):\n",
        "        if ary[i] > ary[i + 1]:\n",
        "            flg = 1\n",
        "            ary[i], ary[i + 1] = ary[i + 1], ary[i]\n",
        "    if flg == 0:\n",
        "        break\n",
        "\n",
        "print(\"ソート後\")\n",
        "for value in ary:\n",
        "    print(value,end=\" \")"
      ]
    }
  ]
}