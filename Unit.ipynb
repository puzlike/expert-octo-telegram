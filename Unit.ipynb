{
  "nbformat": 4,
  "nbformat_minor": 0,
  "metadata": {
    "colab": {
      "provenance": [],
      "authorship_tag": "ABX9TyPGWlWPxnw3OYEpmQgKlAAD",
      "include_colab_link": true
    },
    "kernelspec": {
      "name": "python3",
      "display_name": "Python 3"
    },
    "language_info": {
      "name": "python"
    }
  },
  "cells": [
    {
      "cell_type": "markdown",
      "metadata": {
        "id": "view-in-github",
        "colab_type": "text"
      },
      "source": [
        "<a href=\"https://colab.research.google.com/github/puzlike/expert-octo-telegram/blob/main/Unit.ipynb\" target=\"_parent\"><img src=\"https://colab.research.google.com/assets/colab-badge.svg\" alt=\"Open In Colab\"/></a>"
      ]
    },
    {
      "cell_type": "code",
      "execution_count": 4,
      "metadata": {
        "colab": {
          "base_uri": "https://localhost:8080/"
        },
        "id": "NpaB9gAqKxvb",
        "outputId": "4d3ff481-6d2a-48b8-fdf9-7a4f7ee448d7"
      },
      "outputs": [
        {
          "output_type": "stream",
          "name": "stdout",
          "text": [
            "何センチメートル 176.3\n",
            "176.3 センチメートルは 5尺 8寸 です\n"
          ]
        }
      ],
      "source": [
        "Cm = float(input(\"何センチメートル \"))\n",
        "_Syaku = 30.3\n",
        "_Sun = _Syaku / 10\n",
        "print(f\"{Cm} センチメートルは \",end=\"\")\n",
        "if Cm < _Syaku:\n",
        "    Sun = int(Cm / _Sun)\n",
        "    print(f\"{Sun}寸 です\")\n",
        "else:\n",
        "    Syaku = int(Cm / _Syaku)\n",
        "    Sun = int((Cm % _Syaku) / _Sun)\n",
        "    print(f\"{Syaku}尺 {Sun}寸 です\")"
      ]
    }
  ]
}