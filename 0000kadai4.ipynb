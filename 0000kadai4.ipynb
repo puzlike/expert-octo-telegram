{
  "nbformat": 4,
  "nbformat_minor": 0,
  "metadata": {
    "colab": {
      "provenance": [],
      "authorship_tag": "ABX9TyP7joRfkcClzlmqEZAJrhYI",
      "include_colab_link": true
    },
    "kernelspec": {
      "name": "python3",
      "display_name": "Python 3"
    },
    "language_info": {
      "name": "python"
    }
  },
  "cells": [
    {
      "cell_type": "markdown",
      "metadata": {
        "id": "view-in-github",
        "colab_type": "text"
      },
      "source": [
        "<a href=\"https://colab.research.google.com/github/puzlike/expert-octo-telegram/blob/main/0000kadai4.ipynb\" target=\"_parent\"><img src=\"https://colab.research.google.com/assets/colab-badge.svg\" alt=\"Open In Colab\"/></a>"
      ]
    },
    {
      "cell_type": "code",
      "execution_count": 2,
      "metadata": {
        "colab": {
          "base_uri": "https://localhost:8080/"
        },
        "id": "sAqyxd65e6gt",
        "outputId": "1b01d7c4-0856-49eb-f9da-8f8998991146"
      },
      "outputs": [
        {
          "output_type": "stream",
          "name": "stdout",
          "text": [
            "qを入力すると終了\n",
            "\n",
            "数値を入力:12\n",
            "数値を入力:45\n",
            "数値を入力:32\n",
            "数値を入力:q\n",
            "\n",
            "合計は→ 89\n"
          ]
        }
      ],
      "source": [
        "# 名前\n",
        "print(\"qを入力すると終了\\n\")\n",
        "total = 0\n",
        "while True:\n",
        "  num = input(\"数値を入力:\")\n",
        "  if num == 'q':\n",
        "    break\n",
        "  total += int(num)\n",
        "print(f\"\\n合計は→ {total}\")"
      ]
    }
  ]
}