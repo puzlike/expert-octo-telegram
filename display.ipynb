{
  "nbformat": 4,
  "nbformat_minor": 0,
  "metadata": {
    "colab": {
      "provenance": [],
      "authorship_tag": "ABX9TyM5SF/Wm0myTUfx1l0bpk9N",
      "include_colab_link": true
    },
    "kernelspec": {
      "name": "python3",
      "display_name": "Python 3"
    },
    "language_info": {
      "name": "python"
    }
  },
  "cells": [
    {
      "cell_type": "markdown",
      "metadata": {
        "id": "view-in-github",
        "colab_type": "text"
      },
      "source": [
        "<a href=\"https://colab.research.google.com/github/puzlike/expert-octo-telegram/blob/main/display.ipynb\" target=\"_parent\"><img src=\"https://colab.research.google.com/assets/colab-badge.svg\" alt=\"Open In Colab\"/></a>"
      ]
    },
    {
      "cell_type": "code",
      "execution_count": 51,
      "metadata": {
        "colab": {
          "base_uri": "https://localhost:8080/"
        },
        "id": "gbu7B6NkjJEX",
        "outputId": "3cdebf5d-d06f-4590-fe34-6ecf704a9d91"
      },
      "outputs": [
        {
          "output_type": "stream",
          "name": "stdout",
          "text": [
            "1rat    6snake\n",
            "2tiger    7horse\n",
            "3cat    8sheep\n",
            "4rabbit    9monkey\n",
            "5dragon    10rooster\n",
            "\n",
            "1rat     2tiger\n",
            "3cat     4rabbit\n",
            "5dragon     6snake\n",
            "7horse     8sheep\n",
            "9monkey     10rooster\n"
          ]
        }
      ],
      "source": [
        "animals = ['rat', 'tiger', 'cat', 'rabbit', 'dragon', 'snake', 'horse', 'sheep', 'monkey', 'rooster']\n",
        "\n",
        "l = int(len(animals) / 2)\n",
        "\n",
        "for i in range(l):\n",
        "  j = i + 5\n",
        "  print(f\"{i + 1}{animals[i]}    {j + 1}{animals[j]}\")\n",
        "print()\n",
        "for i in range(l):\n",
        "  j = 2 * i\n",
        "  print(f\"{j + 1}{animals[j]}     {j + 2}{animals[j + 1]}\")"
      ]
    }
  ]
}