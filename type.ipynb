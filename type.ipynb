{
  "nbformat": 4,
  "nbformat_minor": 0,
  "metadata": {
    "colab": {
      "provenance": [],
      "authorship_tag": "ABX9TyNZ6M5cgGHGAotyAv6jPjqZ",
      "include_colab_link": true
    },
    "kernelspec": {
      "name": "python3",
      "display_name": "Python 3"
    },
    "language_info": {
      "name": "python"
    }
  },
  "cells": [
    {
      "cell_type": "markdown",
      "metadata": {
        "id": "view-in-github",
        "colab_type": "text"
      },
      "source": [
        "<a href=\"https://colab.research.google.com/github/puzlike/expert-octo-telegram/blob/main/type.ipynb\" target=\"_parent\"><img src=\"https://colab.research.google.com/assets/colab-badge.svg\" alt=\"Open In Colab\"/></a>"
      ]
    },
    {
      "cell_type": "code",
      "execution_count": 15,
      "metadata": {
        "colab": {
          "base_uri": "https://localhost:8080/"
        },
        "id": "_aXssthkTYgq",
        "outputId": "cad1d4c3-571a-4d5e-b327-0df607fa2d8e"
      },
      "outputs": [
        {
          "output_type": "stream",
          "name": "stdout",
          "text": [
            "12\n",
            "1桁の数値を入力してください。\n",
            "w\n",
            "1桁の数値を入力してください。\n",
            "@\n",
            "1桁の数値を入力してください。\n",
            "3\n",
            "3\n"
          ]
        }
      ],
      "source": [
        "while True:\n",
        "    x = input()\n",
        "    if x.isdecimal() and len(x) == 1:\n",
        "        break\n",
        "    print('1桁の数値を入力してください。')\n",
        "print(x)"
      ]
    }
  ]
}