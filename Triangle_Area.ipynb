{
  "nbformat": 4,
  "nbformat_minor": 0,
  "metadata": {
    "colab": {
      "provenance": [],
      "authorship_tag": "ABX9TyNpD5y+/F6Hs4Q3PA+alN3u",
      "include_colab_link": true
    },
    "kernelspec": {
      "name": "python3",
      "display_name": "Python 3"
    },
    "language_info": {
      "name": "python"
    }
  },
  "cells": [
    {
      "cell_type": "markdown",
      "metadata": {
        "id": "view-in-github",
        "colab_type": "text"
      },
      "source": [
        "<a href=\"https://colab.research.google.com/github/puzlike/expert-octo-telegram/blob/main/Triangle_Area.ipynb\" target=\"_parent\"><img src=\"https://colab.research.google.com/assets/colab-badge.svg\" alt=\"Open In Colab\"/></a>"
      ]
    },
    {
      "cell_type": "code",
      "execution_count": 2,
      "metadata": {
        "colab": {
          "base_uri": "https://localhost:8080/"
        },
        "id": "ZqAEK-ikDrCZ",
        "outputId": "5738a3d3-fe9f-41ee-fdc7-77700168fb74"
      },
      "outputs": [
        {
          "output_type": "stream",
          "name": "stdout",
          "text": [
            "31.41\n"
          ]
        }
      ],
      "source": [
        "def Triangle_area(bace, height):\n",
        "    S = (bace * height) / 2\n",
        "    return S\n",
        "\n",
        "bace = 10.668\n",
        "height = 5.889\n",
        "S = Triangle_area(bace, height)\n",
        "print(round(S, 2))\n"
      ]
    }
  ]
}