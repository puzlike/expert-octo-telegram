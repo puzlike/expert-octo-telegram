{
  "nbformat": 4,
  "nbformat_minor": 0,
  "metadata": {
    "colab": {
      "provenance": [],
      "authorship_tag": "ABX9TyNRkAtP5APlHDw4G1X03YqK",
      "include_colab_link": true
    },
    "kernelspec": {
      "name": "python3",
      "display_name": "Python 3"
    },
    "language_info": {
      "name": "python"
    }
  },
  "cells": [
    {
      "cell_type": "markdown",
      "metadata": {
        "id": "view-in-github",
        "colab_type": "text"
      },
      "source": [
        "<a href=\"https://colab.research.google.com/github/puzlike/expert-octo-telegram/blob/main/Untitled3.ipynb\" target=\"_parent\"><img src=\"https://colab.research.google.com/assets/colab-badge.svg\" alt=\"Open In Colab\"/></a>"
      ]
    },
    {
      "cell_type": "code",
      "execution_count": 14,
      "metadata": {
        "colab": {
          "base_uri": "https://localhost:8080/"
        },
        "id": "jBsLBqy0wSRN",
        "outputId": "8c8c0702-03ca-456f-f3bf-4bf27b0aeb98"
      },
      "outputs": [
        {
          "output_type": "stream",
          "name": "stdout",
          "text": [
            "*************\n",
            "****** ******\n",
            "***** *****\n",
            "**** ****\n",
            "*** ***\n",
            "** **\n",
            "* *\n",
            "*************"
          ]
        }
      ],
      "source": [
        "n=6\n",
        "print(\"*\" * (2 * n + 1))#一番上の行に*を並べる\n",
        "for i in range(1, n + 1):\n",
        "  for j in range(1, n - i + 2):\n",
        "    print(\"*\", end=\"\")\n",
        "  print(\" \", end=\"\")\n",
        "  for j in range(1, n - i + 2):\n",
        "    print(\"*\", end=\"\")\n",
        "  print(\"\", end=\"\\n\")#改行する\n",
        "for n in range(1, n * 2 + 2):\n",
        "  print(\"*\",end =\"\")"
      ]
    }
  ]
}