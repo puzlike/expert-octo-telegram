{
  "nbformat": 4,
  "nbformat_minor": 0,
  "metadata": {
    "colab": {
      "provenance": [],
      "authorship_tag": "ABX9TyOKz/zTOfi9uHrigoZoVxpp",
      "include_colab_link": true
    },
    "kernelspec": {
      "name": "python3",
      "display_name": "Python 3"
    },
    "language_info": {
      "name": "python"
    }
  },
  "cells": [
    {
      "cell_type": "markdown",
      "metadata": {
        "id": "view-in-github",
        "colab_type": "text"
      },
      "source": [
        "<a href=\"https://colab.research.google.com/github/puzlike/expert-octo-telegram/blob/main/Mysum.ipynb\" target=\"_parent\"><img src=\"https://colab.research.google.com/assets/colab-badge.svg\" alt=\"Open In Colab\"/></a>"
      ]
    },
    {
      "cell_type": "code",
      "execution_count": 1,
      "metadata": {
        "colab": {
          "base_uri": "https://localhost:8080/"
        },
        "id": "jCh_0nPpfwGt",
        "outputId": "f96974da-d1e7-480e-e1de-41bdce7b5e1a"
      },
      "outputs": [
        {
          "output_type": "stream",
          "name": "stdout",
          "text": [
            "45\n",
            "NG\n"
          ]
        }
      ],
      "source": [
        "def mysum(a, b):\n",
        "  if a > b:\n",
        "    print(\"NG\")\n",
        "  else:\n",
        "    total = 0\n",
        "    for i in range(a, b+1):\n",
        "      total += i\n",
        "    print(total)\n",
        "    return\n",
        "\n",
        "mysum(5, 10)\n",
        "mysum(10, 5)"
      ]
    }
  ]
}