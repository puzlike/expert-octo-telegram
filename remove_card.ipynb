{
  "nbformat": 4,
  "nbformat_minor": 0,
  "metadata": {
    "colab": {
      "provenance": [],
      "authorship_tag": "ABX9TyNB2jX39YFlSuMSgZfrHD1O",
      "include_colab_link": true
    },
    "kernelspec": {
      "name": "python3",
      "display_name": "Python 3"
    },
    "language_info": {
      "name": "python"
    }
  },
  "cells": [
    {
      "cell_type": "markdown",
      "metadata": {
        "id": "view-in-github",
        "colab_type": "text"
      },
      "source": [
        "<a href=\"https://colab.research.google.com/github/puzlike/expert-octo-telegram/blob/main/remove_card.ipynb\" target=\"_parent\"><img src=\"https://colab.research.google.com/assets/colab-badge.svg\" alt=\"Open In Colab\"/></a>"
      ]
    },
    {
      "cell_type": "code",
      "execution_count": 1,
      "metadata": {
        "colab": {
          "base_uri": "https://localhost:8080/"
        },
        "id": "IiF6KRT91sX8",
        "outputId": "4595ff85-b156-4eb3-ffb5-c0ee83e312dd"
      },
      "outputs": [
        {
          "output_type": "stream",
          "name": "stdout",
          "text": [
            "['♥A', '♥2', '♥3', '♥5']\n"
          ]
        }
      ],
      "source": [
        "import random\n",
        "deck = [\"♥A\", \"♥2\", \"♥3\", \"♥4\", \"♥5\"]\n",
        "C = random.choice(deck)\n",
        "\n",
        "deck.remove(C)\n",
        "print(deck)\n",
        "\n"
      ]
    }
  ]
}