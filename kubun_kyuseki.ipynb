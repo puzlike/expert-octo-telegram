{
  "nbformat": 4,
  "nbformat_minor": 0,
  "metadata": {
    "colab": {
      "provenance": [],
      "authorship_tag": "ABX9TyOdWGVnkKqYLCqqwKHbnoGR",
      "include_colab_link": true
    },
    "kernelspec": {
      "name": "python3",
      "display_name": "Python 3"
    },
    "language_info": {
      "name": "python"
    }
  },
  "cells": [
    {
      "cell_type": "markdown",
      "metadata": {
        "id": "view-in-github",
        "colab_type": "text"
      },
      "source": [
        "<a href=\"https://colab.research.google.com/github/puzlike/expert-octo-telegram/blob/main/kubun_kyuseki.ipynb\" target=\"_parent\"><img src=\"https://colab.research.google.com/assets/colab-badge.svg\" alt=\"Open In Colab\"/></a>"
      ]
    },
    {
      "cell_type": "code",
      "execution_count": 12,
      "metadata": {
        "colab": {
          "base_uri": "https://localhost:8080/"
        },
        "id": "9MH1uu2XpccK",
        "outputId": "4015d3ea-d7e8-4919-ecae-e0aef7c2335e"
      },
      "outputs": [
        {
          "output_type": "stream",
          "name": "stdout",
          "text": [
            "積分区間開始値：0\n",
            "積分区間終了値：3\n",
            "xの何乗：2\n",
            "正しい積分値は9.0です。\n",
            "分割数が10のとき、誤差は-0.04499999999999815です。\n",
            "分割数が20のとき、誤差は-0.011249999999995097です。\n",
            "分割数が30のとき、誤差は-0.005000000000006111です。\n",
            "分割数が40のとき、誤差は-0.0028125000000009948です。\n",
            "分割数が50のとき、誤差は-0.0018000000000100158です。\n",
            "分割数が60のとき、誤差は-0.0012499999999988631です。\n",
            "分割数が70のとき、誤差は-0.0009183673469390641です。\n",
            "分割数が80のとき、誤差は-0.0007031250000171241です。\n",
            "分割数が90のとき、誤差は-0.0005555555555627478です。\n",
            "分割数が100のとき、誤差は-0.0004499999999953985です。\n"
          ]
        }
      ],
      "source": [
        "def f(x, n):\n",
        "  y = x**n\n",
        "  return y\n",
        "\n",
        "a = int(input(\"積分区間開始値：\"))\n",
        "b = int(input(\"積分区間終了値：\"))\n",
        "n = int(input(\"xの何乗：\"))\n",
        "right_value = (1 / (n+1))*(b**(n+1)-a**(n+1))\n",
        "print(f\"正しい積分値は{right_value}です。\")\n",
        "for N in range(10, 101, 10):\n",
        "  dx = (b - a) / N\n",
        "  S = 0\n",
        "  k = 0\n",
        "  x = a\n",
        "  y1 = f(x, n)\n",
        "  while True:\n",
        "    k += 1\n",
        "    x += dx\n",
        "    y2 = f(x, n)\n",
        "    S += (y1 + y2)/2 * dx\n",
        "    if k >= N:\n",
        "      break\n",
        "    y1 = y2\n",
        "  error = right_value - S\n",
        "  print(f\"分割数が{N}のとき、誤差は{error}です。\")"
      ]
    }
  ]
}