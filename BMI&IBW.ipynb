{
  "nbformat": 4,
  "nbformat_minor": 0,
  "metadata": {
    "colab": {
      "provenance": [],
      "authorship_tag": "ABX9TyP+odCjma0bmQXGHH9zTnDV",
      "include_colab_link": true
    },
    "kernelspec": {
      "name": "python3",
      "display_name": "Python 3"
    },
    "language_info": {
      "name": "python"
    }
  },
  "cells": [
    {
      "cell_type": "markdown",
      "metadata": {
        "id": "view-in-github",
        "colab_type": "text"
      },
      "source": [
        "<a href=\"https://colab.research.google.com/github/puzlike/expert-octo-telegram/blob/main/BMI%26IBW.ipynb\" target=\"_parent\"><img src=\"https://colab.research.google.com/assets/colab-badge.svg\" alt=\"Open In Colab\"/></a>"
      ]
    },
    {
      "cell_type": "code",
      "execution_count": 33,
      "metadata": {
        "colab": {
          "base_uri": "https://localhost:8080/"
        },
        "id": "zpW7zMZw3Y9R",
        "outputId": "12a00806-8666-498a-991e-4301f320ccf6"
      },
      "outputs": [
        {
          "output_type": "stream",
          "name": "stdout",
          "text": [
            "1人目のBMI値は 22.321428571428577 でIBW値は 62.09279999999999kgです。\n",
            "2人目のBMI値は 22.647376960519203 でIBW値は 65.08479999999999kgです。\n",
            "3人目のBMI値は 27.01685988851271 でIBW値は 64.33019999999999kgです。\n",
            "4人目のBMI値は 20.307412205454995 でIBW値は 62.834199999999996kgです。\n",
            "5人目のBMI値は 23.140495867768596 でIBW値は 59.894999999999996kgです。\n",
            "BMI値の平均は 23.086714698736817 です。\n",
            "BMI値の最大値は 27.01685988851271 で, 3人目の人です。\n",
            "BMI値の最小値は 20.307412205454995 で, 4人目の人です。\n"
          ]
        }
      ],
      "source": [
        "import pandas as pd\n",
        "height = [1.68, 1.72, 1.71, 1.69, 1.65]\n",
        "weight = [63, 67, 79, 58, 63]\n",
        "data =[height, weight]\n",
        "height = pd.DataFrame(height, columns=['身長(m)'])\n",
        "weight = pd.DataFrame(weight, columns=['体重(kg)'])\n",
        "data = pd.concat([height, weight], axis=1)\n",
        "BMI_list = []\n",
        "for idx in data.index:\n",
        "    BMI = data.iloc[idx]['体重(kg)'] / (data.iloc[idx]['身長(m)']**2)\n",
        "    IBW = data.iloc[idx]['身長(m)']**2 * 22\n",
        "    print(f'{idx + 1}人目のBMI値は {BMI} でIBW値は {IBW}kgです。')\n",
        "    BMI_list.append(BMI)\n",
        "ave_BMI = sum(BMI_list) / len(BMI_list)\n",
        "print(f'BMI値の平均は {ave_BMI} です。')\n",
        "max_BMI = max(BMI_list)\n",
        "min_BMI = min(BMI_list)\n",
        "max_i = BMI_list.index(max_BMI)\n",
        "min_i = BMI_list.index(min_BMI)\n",
        "print(f'BMI値の最大値は {max_BMI} で, {max_i + 1}人目の人です。')\n",
        "print(f'BMI値の最小値は {min_BMI} で, {min_i + 1}人目の人です。')"
      ]
    }
  ]
}