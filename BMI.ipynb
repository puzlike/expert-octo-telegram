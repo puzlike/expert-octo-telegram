{
  "nbformat": 4,
  "nbformat_minor": 0,
  "metadata": {
    "colab": {
      "provenance": [],
      "authorship_tag": "ABX9TyNhMVlEoZxtbvauVU4lqI0T",
      "include_colab_link": true
    },
    "kernelspec": {
      "name": "python3",
      "display_name": "Python 3"
    },
    "language_info": {
      "name": "python"
    }
  },
  "cells": [
    {
      "cell_type": "markdown",
      "metadata": {
        "id": "view-in-github",
        "colab_type": "text"
      },
      "source": [
        "<a href=\"https://colab.research.google.com/github/puzlike/expert-octo-telegram/blob/main/BMI.ipynb\" target=\"_parent\"><img src=\"https://colab.research.google.com/assets/colab-badge.svg\" alt=\"Open In Colab\"/></a>"
      ]
    },
    {
      "cell_type": "code",
      "execution_count": 4,
      "metadata": {
        "colab": {
          "base_uri": "https://localhost:8080/"
        },
        "id": "8uFaQV-9cyOi",
        "outputId": "79d32a71-d545-41a1-971d-828a63b3bf46"
      },
      "outputs": [
        {
          "output_type": "stream",
          "name": "stdout",
          "text": [
            "体重を入力してください>>45\n",
            "身長を入力してください>>155\n",
            "24.44\n",
            "22.96\n",
            "18.73\n"
          ]
        }
      ],
      "source": [
        "#BMIを求める関数を作る（体重/身長/身長）\n",
        "def bmi_func(data):\n",
        "    for menber in data:\n",
        "        bmi=menber[1]/(menber[0]/100)/(menber[0]/100)\n",
        "        print(f'{bmi:.2f}')\n",
        "    return\n",
        "\n",
        "a=[150,55]\n",
        "b=[140,45]\n",
        "data = [a, b]\n",
        "self_weight=float(input('体重を入力してください>>'))\n",
        "self_height=float(input('身長を入力してください>>'))\n",
        "data.append([self_height, self_weight])\n",
        "bmi_func(data)\n"
      ]
    }
  ]
}