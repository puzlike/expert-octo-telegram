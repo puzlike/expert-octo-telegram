{
  "nbformat": 4,
  "nbformat_minor": 0,
  "metadata": {
    "colab": {
      "provenance": [],
      "authorship_tag": "ABX9TyNGxP4XdXcukkj8M7W91Ahn",
      "include_colab_link": true
    },
    "kernelspec": {
      "name": "python3",
      "display_name": "Python 3"
    },
    "language_info": {
      "name": "python"
    }
  },
  "cells": [
    {
      "cell_type": "markdown",
      "metadata": {
        "id": "view-in-github",
        "colab_type": "text"
      },
      "source": [
        "<a href=\"https://colab.research.google.com/github/puzlike/expert-octo-telegram/blob/main/add_list.ipynb\" target=\"_parent\"><img src=\"https://colab.research.google.com/assets/colab-badge.svg\" alt=\"Open In Colab\"/></a>"
      ]
    },
    {
      "cell_type": "code",
      "execution_count": 33,
      "metadata": {
        "colab": {
          "base_uri": "https://localhost:8080/"
        },
        "id": "l6-pyOhzgH2s",
        "outputId": "93af4a4b-cbab-44a2-d44b-239320701c76"
      },
      "outputs": [
        {
          "output_type": "stream",
          "name": "stdout",
          "text": [
            "[(300.0, 'g', 'peanuts'), (0.5, 'tsp', 'salt'), (2.0, 'tsp', 'oil'), (1000.0, 'g', 'tofu')]\n",
            "[(1500.0, 'g', 'peanuts'), (0.5, 'tsp', 'salt'), (2.0, 'tsp', 'oil'), (1000.0, 'g', 'tofu')]\n",
            "[(1500.0, 'g', 'peanuts'), (0.5, 'tsp', 'salt'), (2.0, 'tsp', 'oil'), (9000.0, 'g', 'tofu')]\n"
          ]
        }
      ],
      "source": [
        "def add_to_shopping_list(ingredient_detail, shopping_list):\n",
        "    name_list = []\n",
        "    for i in range(len(shopping_list)):\n",
        "        name_list.append(shopping_list[i][2])\n",
        "    if ingredient_detail[2] in name_list:\n",
        "        i = name_list.index(ingredient_detail[2])\n",
        "        num, unit, name = shopping_list[i]\n",
        "        num += ingredient_detail[0]            \n",
        "        shopping_list[i] = (num, unit, name)\n",
        "    else:\n",
        "        shopping_list.append(ingredient_detail)\n",
        "\n",
        "shopping_list = [(300.0, 'g', 'peanuts'), (0.5, 'tsp', 'salt'), (2.0, 'tsp', 'oil')]\n",
        "\n",
        "add_to_shopping_list((1000.0, 'g', 'tofu'), shopping_list)\n",
        "print(shopping_list)\n",
        "\n",
        "add_to_shopping_list((1200.0, 'g', 'peanuts'), shopping_list)\n",
        "print(shopping_list)\n",
        "\n",
        "add_to_shopping_list((8000.0, 'g', 'tofu'), shopping_list)\n",
        "print(shopping_list)"
      ]
    }
  ]
}