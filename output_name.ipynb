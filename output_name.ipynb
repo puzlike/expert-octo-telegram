{
  "nbformat": 4,
  "nbformat_minor": 0,
  "metadata": {
    "colab": {
      "provenance": [],
      "authorship_tag": "ABX9TyPbXsTLhKkNT9acUXnhz6eM",
      "include_colab_link": true
    },
    "kernelspec": {
      "name": "python3",
      "display_name": "Python 3"
    },
    "language_info": {
      "name": "python"
    }
  },
  "cells": [
    {
      "cell_type": "markdown",
      "metadata": {
        "id": "view-in-github",
        "colab_type": "text"
      },
      "source": [
        "<a href=\"https://colab.research.google.com/github/puzlike/expert-octo-telegram/blob/main/output_name.ipynb\" target=\"_parent\"><img src=\"https://colab.research.google.com/assets/colab-badge.svg\" alt=\"Open In Colab\"/></a>"
      ]
    },
    {
      "cell_type": "code",
      "execution_count": 4,
      "metadata": {
        "colab": {
          "base_uri": "https://localhost:8080/"
        },
        "id": "CT2JZ-PXCd4-",
        "outputId": "46cb3de0-9b12-4a10-845d-0d8cb39b7c5b"
      },
      "outputs": [
        {
          "output_type": "stream",
          "name": "stdout",
          "text": [
            "ローマ字で姓と名を入力してください（姓と名の間に半角スペースを入れてください）inoue katsumi\n",
            "姓は inoue\n",
            "名は katsumi\n"
          ]
        }
      ],
      "source": [
        "while True:\n",
        "    name = input('ローマ字で姓と名を25文字以内で入力してください（姓と名の間に半角スペースを入れてください）')\n",
        "    if (' ' in name) and (len(name) <= 25):\n",
        "        sei, mei = name.split(' ')\n",
        "        break\n",
        "\n",
        "print('姓は',sei)\n",
        "print('名は',mei)\n",
        " "
      ]
    }
  ]
}