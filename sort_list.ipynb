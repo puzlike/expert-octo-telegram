{
  "nbformat": 4,
  "nbformat_minor": 0,
  "metadata": {
    "colab": {
      "provenance": [],
      "authorship_tag": "ABX9TyMViQBnKANyr+OB/Lp9AI0m",
      "include_colab_link": true
    },
    "kernelspec": {
      "name": "python3",
      "display_name": "Python 3"
    },
    "language_info": {
      "name": "python"
    }
  },
  "cells": [
    {
      "cell_type": "markdown",
      "metadata": {
        "id": "view-in-github",
        "colab_type": "text"
      },
      "source": [
        "<a href=\"https://colab.research.google.com/github/puzlike/expert-octo-telegram/blob/main/sort_list.ipynb\" target=\"_parent\"><img src=\"https://colab.research.google.com/assets/colab-badge.svg\" alt=\"Open In Colab\"/></a>"
      ]
    },
    {
      "cell_type": "code",
      "execution_count": 1,
      "metadata": {
        "colab": {
          "base_uri": "https://localhost:8080/"
        },
        "id": "B4LVTI_35Ld9",
        "outputId": "18a6053d-1b4f-4e67-baef-297a443a5772"
      },
      "outputs": [
        {
          "output_type": "stream",
          "name": "stdout",
          "text": [
            "並び替え前 :  [93, 238, 72, 450, 69, 106, 17, 34, 48, 561, 349, 127, 26, 85, 51]\n",
            "並び替え後： [17, 26, 34, 48, 51, 69, 72, 85, 93, 106, 127, 238, 349, 450, 561]\n"
          ]
        }
      ],
      "source": [
        "data= [93, 238, 72, 450, 69, 106, 17, 34, 48, 561, 349, 127, 26, 85, 51]\n",
        "print('並び替え前 : ',data)\n",
        "n = len(data)\n",
        "i = 0\n",
        "while i < n: \n",
        "    min_num = min(data[i:n])\n",
        "    j = data.index(min_num)\n",
        "    data[i], data[j] = data[j], data[i]\n",
        "    i += 1\n",
        "print('並び替え後：',data)\n"
      ]
    }
  ]
}