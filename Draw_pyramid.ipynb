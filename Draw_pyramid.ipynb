{
  "nbformat": 4,
  "nbformat_minor": 0,
  "metadata": {
    "colab": {
      "provenance": [],
      "authorship_tag": "ABX9TyPMkb3Aex/7ObL94kyYQi6l",
      "include_colab_link": true
    },
    "kernelspec": {
      "name": "python3",
      "display_name": "Python 3"
    },
    "language_info": {
      "name": "python"
    }
  },
  "cells": [
    {
      "cell_type": "markdown",
      "metadata": {
        "id": "view-in-github",
        "colab_type": "text"
      },
      "source": [
        "<a href=\"https://colab.research.google.com/github/puzlike/expert-octo-telegram/blob/main/Draw_pyramid.ipynb\" target=\"_parent\"><img src=\"https://colab.research.google.com/assets/colab-badge.svg\" alt=\"Open In Colab\"/></a>"
      ]
    },
    {
      "cell_type": "code",
      "execution_count": 7,
      "metadata": {
        "colab": {
          "base_uri": "https://localhost:8080/"
        },
        "id": "X4o4zzsf5pW-",
        "outputId": "7a9d38f3-9096-4dfb-e705-1e621a28e8d1"
      },
      "outputs": [
        {
          "output_type": "stream",
          "name": "stdout",
          "text": [
            "n：5\n",
            "1\n",
            "11\n",
            "111\n",
            "1111\n",
            "11111\n",
            "\n"
          ]
        }
      ],
      "source": [
        "def draw_pyramid(n):\n",
        "  str = \"\"\n",
        "  for i in range(1, n+1):\n",
        "    str += \"1\"*i + \"\\n\"\n",
        "  return str\n",
        "n = int(input(\"n：\"))\n",
        "str = draw_pyramid(n)\n",
        "print(str)"
      ]
    }
  ]
}