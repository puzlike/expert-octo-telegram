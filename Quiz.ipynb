{
  "nbformat": 4,
  "nbformat_minor": 0,
  "metadata": {
    "colab": {
      "provenance": [],
      "authorship_tag": "ABX9TyMr0/5yFywh/oCz4kx60LZY",
      "include_colab_link": true
    },
    "kernelspec": {
      "name": "python3",
      "display_name": "Python 3"
    },
    "language_info": {
      "name": "python"
    }
  },
  "cells": [
    {
      "cell_type": "markdown",
      "metadata": {
        "id": "view-in-github",
        "colab_type": "text"
      },
      "source": [
        "<a href=\"https://colab.research.google.com/github/puzlike/expert-octo-telegram/blob/main/Quiz.ipynb\" target=\"_parent\"><img src=\"https://colab.research.google.com/assets/colab-badge.svg\" alt=\"Open In Colab\"/></a>"
      ]
    },
    {
      "cell_type": "code",
      "execution_count": 5,
      "metadata": {
        "colab": {
          "base_uri": "https://localhost:8080/"
        },
        "id": "17jw6m425xoJ",
        "outputId": "8a564833-a7b1-402d-b069-9eab39508aeb"
      },
      "outputs": [
        {
          "output_type": "stream",
          "name": "stdout",
          "text": [
            "表示された単語を、英単語(英小文字)でタイプしてください。\n",
            "全部で5問です。Enterで開始します。\n",
            "ブルーベリーは?blueberry\n",
            "正解\n",
            "葡萄は?budou\n",
            "ミス\n",
            "オレンジは?orange\n",
            "正解\n",
            "檸檬は?remon\n",
            "ミス\n",
            "西瓜は?suika\n",
            "ミス\n",
            "終了までにかかった時間は 58.36905026435852 秒です。\n",
            "正答数は 2 個です。\n"
          ]
        }
      ],
      "source": [
        "import time\n",
        "import random\n",
        "\n",
        "Q=[\"苺は?\",\"林檎は?\",\"葡萄は?\",\"桃は?\",\"檸檬は?\",\"西瓜は?\",\"バナナは?\",\"オレンジは?\",\n",
        "\"グレープフルーツは?\",\"ブルーベリーは?\"]\n",
        "A=[\"strawberry\",\"apple\",\"grape\",\"peach\",\"lemon\",\"watermelon\",\"banana\",\"orange\",\n",
        "\"grapefruit\",\"blueberry\"]\n",
        "\n",
        "print(\"表示された単語を、英単語(英小文字)でタイプしてください。\")\n",
        "input(\"全部で5問です。Enterで開始します。\")\n",
        "t1 =time.time()\n",
        "good = 0\n",
        "choiced_Q = []\n",
        "for i in range(5):\n",
        "  while True:\n",
        "    q = random.choice(Q)\n",
        "    if q not in choiced_Q:\n",
        "      choiced_Q.append(q)\n",
        "      break\n",
        "  idx = Q.index(q)\n",
        "  x = input(q)\n",
        "  if x == A[idx]:\n",
        "    print(\"正解\")\n",
        "    good += 1\n",
        "  else:\n",
        "    print(\"ミス\")\n",
        "\n",
        "t2 = time.time()\n",
        "print(\"終了までにかかった時間は\",(t2 - t1),\"秒です。\")\n",
        "print(\"正答数は\",good,\"個です。\")"
      ]
    }
  ]
}