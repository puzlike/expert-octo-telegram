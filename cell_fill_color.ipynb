{
  "nbformat": 4,
  "nbformat_minor": 0,
  "metadata": {
    "colab": {
      "provenance": [],
      "authorship_tag": "ABX9TyMWGd2PxFXLp27mlOHm1hz/",
      "include_colab_link": true
    },
    "kernelspec": {
      "name": "python3",
      "display_name": "Python 3"
    },
    "language_info": {
      "name": "python"
    }
  },
  "cells": [
    {
      "cell_type": "markdown",
      "metadata": {
        "id": "view-in-github",
        "colab_type": "text"
      },
      "source": [
        "<a href=\"https://colab.research.google.com/github/puzlike/expert-octo-telegram/blob/main/cell_fill_color.ipynb\" target=\"_parent\"><img src=\"https://colab.research.google.com/assets/colab-badge.svg\" alt=\"Open In Colab\"/></a>"
      ]
    },
    {
      "cell_type": "code",
      "execution_count": null,
      "metadata": {
        "id": "85pDlwch7xZW"
      },
      "outputs": [],
      "source": [
        "from openpyxl import Workbook\n",
        "from openpyxl.styles import PatternFill\n",
        "from openpyxl.formatting.rule import FormulaRule\n",
        "\n",
        "wb = Workbook()\n",
        "ws = wb.active\n",
        "\n",
        "blank_fill = PatternFill(bgColor='99DDFF', fill_type='solid')\n",
        "rule = FormulaRule(\n",
        "    formula=['ISBLANK(INDIRECT(ADDRESS(ROW(), COLUMN())))'],\n",
        "    stopIfTrue=True,\n",
        "    fill=blank_fill )\n",
        "ws.conditional_formatting.add('B2:D2', rule)\n",
        "wb.save('sample.xlsx')"
      ]
    }
  ]
}