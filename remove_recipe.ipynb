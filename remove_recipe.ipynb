{
  "nbformat": 4,
  "nbformat_minor": 0,
  "metadata": {
    "colab": {
      "provenance": [],
      "authorship_tag": "ABX9TyOrUvWPMstworZZTqrQx+4k",
      "include_colab_link": true
    },
    "kernelspec": {
      "name": "python3",
      "display_name": "Python 3"
    },
    "language_info": {
      "name": "python"
    }
  },
  "cells": [
    {
      "cell_type": "markdown",
      "metadata": {
        "id": "view-in-github",
        "colab_type": "text"
      },
      "source": [
        "<a href=\"https://colab.research.google.com/github/puzlike/expert-octo-telegram/blob/main/remove_recipe.ipynb\" target=\"_parent\"><img src=\"https://colab.research.google.com/assets/colab-badge.svg\" alt=\"Open In Colab\"/></a>"
      ]
    },
    {
      "cell_type": "code",
      "execution_count": 5,
      "metadata": {
        "colab": {
          "base_uri": "https://localhost:8080/"
        },
        "id": "l6-pyOhzgH2s",
        "outputId": "658832cd-0bd0-4b28-e7b6-a9fbce098a28"
      },
      "outputs": [
        {
          "output_type": "stream",
          "name": "stdout",
          "text": [
            "[('peanut butter', '300 g peanuts, 0.5 tsp salt, 2.0 tsp oil'), ('cinnamon roll', '480 ml almond milk, 115 g Nuttelex, 50 g sugar, 7 g active dry yeast, 5.5 cup flour, 1 tsp  salt, 170 g nuttelex, 165 g brown sugar, 2 tbsp cinnamon, 160 g powdered sugar, 30 ml almond milk, 0.5 tsp vanila ectract')]\n",
            "[('peanut butter', '300 g peanuts, 0.5 tsp salt, 2.0 tsp oil')]\n"
          ]
        }
      ],
      "source": [
        "def remove_recipe(name, recipes):\n",
        "    name_list = []\n",
        "    for recipe_name, recipe in recipes:\n",
        "        name_list.append(recipe_name)\n",
        "    if name in name_list:\n",
        "        i = name_list.index(name)\n",
        "        recipes.remove(recipes[i])\n",
        "\n",
        "recipes = [\n",
        "    ('peanut butter', '300 g peanuts, 0.5 tsp salt, 2.0 tsp oil'),\n",
        "    ('cinnamon roll', '480 ml almond milk, 115 g Nuttelex, 50 g sugar, 7 g active dry yeast, 5.5 cup flour, 1 tsp  salt, 170 g nuttelex, 165 g brown sugar, 2 tbsp cinnamon, 160 g powdered sugar, 30 ml almond milk, 0.5 tsp vanila ectract')\n",
        "]\n",
        "\n",
        "remove_recipe('blownie', recipes)\n",
        "print(recipes)\n",
        "\n",
        "remove_recipe('cinnamon roll', recipes)\n",
        "print(recipes)"
      ]
    }
  ]
}