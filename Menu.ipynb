{
  "nbformat": 4,
  "nbformat_minor": 0,
  "metadata": {
    "colab": {
      "provenance": [],
      "authorship_tag": "ABX9TyNvHFK3WYpKAdIzkP5Q3Jc/",
      "include_colab_link": true
    },
    "kernelspec": {
      "name": "python3",
      "display_name": "Python 3"
    },
    "language_info": {
      "name": "python"
    }
  },
  "cells": [
    {
      "cell_type": "markdown",
      "metadata": {
        "id": "view-in-github",
        "colab_type": "text"
      },
      "source": [
        "<a href=\"https://colab.research.google.com/github/puzlike/expert-octo-telegram/blob/main/Menu.ipynb\" target=\"_parent\"><img src=\"https://colab.research.google.com/assets/colab-badge.svg\" alt=\"Open In Colab\"/></a>"
      ]
    },
    {
      "cell_type": "code",
      "execution_count": 14,
      "metadata": {
        "colab": {
          "base_uri": "https://localhost:8080/"
        },
        "id": "ncm-sleWje7D",
        "outputId": "7d7e3016-e867-402f-dfcd-d2454eb523fb"
      },
      "outputs": [
        {
          "output_type": "stream",
          "name": "stdout",
          "text": [
            "0:やきそば\n",
            "1:パスタ\n",
            "2:うどん\n",
            "3:そば\n",
            "4:そうめん\n",
            "メニュー番号 0〜4 を入力（それ以外で終了)\n",
            "2\n",
            "2番 うどん 250円\n",
            "メニュー番号 0〜4 を入力（それ以外で終了)\n",
            "4\n",
            "4番 そうめん 300円\n",
            "メニュー番号 0〜4 を入力（それ以外で終了)\n",
            "9\n",
            "******************\n",
            " 合計金額は550円です。\n"
          ]
        }
      ],
      "source": [
        "item = [\"やきそば\", \"パスタ\", \"うどん\", \"そば\", \"そうめん\"]\n",
        "price = [100, 300, 250, 300, 300]\n",
        "\n",
        "l = len(item)\n",
        "for i in range(l):\n",
        "    print(f\"{i}:{item[i]}\")\n",
        "total = 0\n",
        "while True:\n",
        "    print(\"メニュー番号 0〜4 を入力（それ以外で終了)\")\n",
        "    num = int(input())\n",
        "    if num >= 0 and num <= 4:\n",
        "        print(f\"{num}番 {item[num]} {price[num]}円\")\n",
        "        total += price[num]\n",
        "    else:\n",
        "        break\n",
        "print(\"******************\")\n",
        "print(f\" 合計金額は{total}円です。\")"
      ]
    }
  ]
}