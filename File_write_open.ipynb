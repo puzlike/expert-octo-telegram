{
  "nbformat": 4,
  "nbformat_minor": 0,
  "metadata": {
    "colab": {
      "provenance": [],
      "authorship_tag": "ABX9TyNI/2qdl2MYxTYtiNxBtznm",
      "include_colab_link": true
    },
    "kernelspec": {
      "name": "python3",
      "display_name": "Python 3"
    },
    "language_info": {
      "name": "python"
    }
  },
  "cells": [
    {
      "cell_type": "markdown",
      "metadata": {
        "id": "view-in-github",
        "colab_type": "text"
      },
      "source": [
        "<a href=\"https://colab.research.google.com/github/puzlike/expert-octo-telegram/blob/main/File_write_open.ipynb\" target=\"_parent\"><img src=\"https://colab.research.google.com/assets/colab-badge.svg\" alt=\"Open In Colab\"/></a>"
      ]
    },
    {
      "cell_type": "code",
      "execution_count": 7,
      "metadata": {
        "colab": {
          "base_uri": "https://localhost:8080/"
        },
        "id": "wZ0Z7LFXF68n",
        "outputId": "6483b8c3-c69f-4809-e2bd-2b782dafac7c"
      },
      "outputs": [
        {
          "output_type": "stream",
          "name": "stdout",
          "text": [
            "購入金額を入力＝100\n",
            "購入金額を入力＝400\n",
            "購入金額を入力＝500\n",
            "お支払い金額（税込み）＝1100\n"
          ]
        }
      ],
      "source": [
        "filename = \"kingaku12.txt\"\n",
        "\n",
        "with open(filename, \"w\") as file_object:\n",
        "  for i in range(3):\n",
        "    price = input(\"購入金額を入力＝\")\n",
        "    file_object.write(price+\"\\n\")\n",
        "\n",
        "with open(filename) as file_object:\n",
        "  lines = file_object.readlines()\n",
        "\n",
        "total = 0\n",
        "for line in lines:\n",
        "  total += int(line.rstrip())\n",
        "tax_price = round(total * 1.1)\n",
        "print(f\"お支払い金額（税込み）＝{tax_price}\")"
      ]
    }
  ]
}