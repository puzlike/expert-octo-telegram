{
  "nbformat": 4,
  "nbformat_minor": 0,
  "metadata": {
    "colab": {
      "provenance": [],
      "authorship_tag": "ABX9TyMQ6/uaXx71MukotHAn/rBW",
      "include_colab_link": true
    },
    "kernelspec": {
      "name": "python3",
      "display_name": "Python 3"
    },
    "language_info": {
      "name": "python"
    }
  },
  "cells": [
    {
      "cell_type": "markdown",
      "metadata": {
        "id": "view-in-github",
        "colab_type": "text"
      },
      "source": [
        "<a href=\"https://colab.research.google.com/github/puzlike/expert-octo-telegram/blob/main/black_white_1.ipynb\" target=\"_parent\"><img src=\"https://colab.research.google.com/assets/colab-badge.svg\" alt=\"Open In Colab\"/></a>"
      ]
    },
    {
      "cell_type": "code",
      "execution_count": 4,
      "metadata": {
        "colab": {
          "base_uri": "https://localhost:8080/"
        },
        "id": "U5TPYqil4cXE",
        "outputId": "58ac7035-b829-41ba-e7f0-93ba42817913"
      },
      "outputs": [
        {
          "output_type": "stream",
          "name": "stdout",
          "text": [
            "■■■■■\n",
            "□□□□□\n",
            "■■■■■\n",
            "□□□□□\n",
            "■■■■■\n"
          ]
        }
      ],
      "source": [
        "black = '■'\n",
        "white = '□'\n",
        "n = 5\n",
        "for i in range(5):\n",
        "    for j in range(5):\n",
        "        if i % 2 == 0:\n",
        "            print(black, end='')\n",
        "        else:\n",
        "            print(white, end='')\n",
        "    print()"
      ]
    }
  ]
}