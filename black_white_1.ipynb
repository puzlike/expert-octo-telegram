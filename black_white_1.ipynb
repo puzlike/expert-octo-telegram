{
  "nbformat": 4,
  "nbformat_minor": 0,
  "metadata": {
    "colab": {
      "provenance": [],
      "authorship_tag": "ABX9TyO9BPh//Ez+4qssL6Sh6UDN",
      "include_colab_link": true
    },
    "kernelspec": {
      "name": "python3",
      "display_name": "Python 3"
    },
    "language_info": {
      "name": "python"
    }
  },
  "cells": [
    {
      "cell_type": "markdown",
      "metadata": {
        "id": "view-in-github",
        "colab_type": "text"
      },
      "source": [
        "<a href=\"https://colab.research.google.com/github/puzlike/expert-octo-telegram/blob/main/black_white_1.ipynb\" target=\"_parent\"><img src=\"https://colab.research.google.com/assets/colab-badge.svg\" alt=\"Open In Colab\"/></a>"
      ]
    },
    {
      "cell_type": "code",
      "execution_count": 5,
      "metadata": {
        "colab": {
          "base_uri": "https://localhost:8080/"
        },
        "id": "U5TPYqil4cXE",
        "outputId": "d7b3cff9-8b6b-4708-c865-d423a80769f4"
      },
      "outputs": [
        {
          "output_type": "stream",
          "name": "stdout",
          "text": [
            "表示したいヨコ縞模様の一辺の大きさを入力してください\n",
            "5\n",
            "■■■■■\n",
            "□□□□□\n",
            "■■■■■\n",
            "□□□□□\n",
            "■■■■■\n"
          ]
        }
      ],
      "source": [
        "black = '■'\n",
        "white = '□'\n",
        "n = int(input('表示したいヨコ縞模様の一辺の大きさを入力してください\\n'))\n",
        "for i in range(5):\n",
        "    for j in range(5):\n",
        "        if i % 2 == 0:\n",
        "            print(black, end='')\n",
        "        else:\n",
        "            print(white, end='')\n",
        "    print()"
      ]
    }
  ]
}