{
  "nbformat": 4,
  "nbformat_minor": 0,
  "metadata": {
    "colab": {
      "provenance": [],
      "authorship_tag": "ABX9TyOsmtYJ/imPQNZzv0vahCKV",
      "include_colab_link": true
    },
    "kernelspec": {
      "name": "python3",
      "display_name": "Python 3"
    },
    "language_info": {
      "name": "python"
    }
  },
  "cells": [
    {
      "cell_type": "markdown",
      "metadata": {
        "id": "view-in-github",
        "colab_type": "text"
      },
      "source": [
        "<a href=\"https://colab.research.google.com/github/puzlike/expert-octo-telegram/blob/main/black_white_1.ipynb\" target=\"_parent\"><img src=\"https://colab.research.google.com/assets/colab-badge.svg\" alt=\"Open In Colab\"/></a>"
      ]
    },
    {
      "cell_type": "code",
      "execution_count": 8,
      "metadata": {
        "colab": {
          "base_uri": "https://localhost:8080/"
        },
        "id": "U5TPYqil4cXE",
        "outputId": "b2d91e4f-e407-420a-9e1b-a72b78df2dc3"
      },
      "outputs": [
        {
          "output_type": "stream",
          "name": "stdout",
          "text": [
            "表示したいタテ縞模様の一辺の大きさを入力してください\n",
            "5\n",
            "■■■■■\n",
            "□□□□□\n",
            "■■■■■\n",
            "□□□□□\n",
            "■■■■■\n"
          ]
        }
      ],
      "source": [
        "black = '■'\n",
        "white = '□'\n",
        "n = int(input('表示したいタテ縞模様の一辺の大きさを入力してください\\n'))\n",
        "for i in range(n):\n",
        "    for j in range(n):\n",
        "        if i % 2 == 0:\n",
        "            print(black, end='')\n",
        "        else:\n",
        "            print(white, end='')\n",
        "    print()"
      ]
    }
  ]
}