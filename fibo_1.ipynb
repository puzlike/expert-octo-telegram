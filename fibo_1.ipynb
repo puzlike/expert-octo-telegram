{
  "cells": [
    {
      "cell_type": "markdown",
      "metadata": {
        "id": "view-in-github",
        "colab_type": "text"
      },
      "source": [
        "<a href=\"https://colab.research.google.com/github/puzlike/expert-octo-telegram/blob/main/fibo_1.ipynb\" target=\"_parent\"><img src=\"https://colab.research.google.com/assets/colab-badge.svg\" alt=\"Open In Colab\"/></a>"
      ]
    },
    {
      "cell_type": "code",
      "execution_count": 1,
      "metadata": {
        "colab": {
          "base_uri": "https://localhost:8080/"
        },
        "id": "wg98GcYOp-xZ",
        "outputId": "41488369-ea2f-4666-d950-0dd56ee2c0a2"
      },
      "outputs": [
        {
          "name": "stdout",
          "output_type": "stream",
          "text": [
            "何項目？>1\n",
            "第1項目は1です\n",
            "何項目？>2\n",
            "第2項目は1です\n",
            "何項目？>3\n",
            "第3項目は2です\n",
            "何項目？>8\n",
            "第8項目は21です\n",
            "何項目？>100\n",
            "第100項目は354224848179261915075です\n",
            "何項目？>0\n"
          ]
        }
      ],
      "source": [
        "while True:\n",
        "    fibo1 = 1\n",
        "    fibo2 = 1\n",
        "    n = int(input('何項目？>'))\n",
        "    if n == 0 :\n",
        "        break    \n",
        "    else:\n",
        "        if n == 1 or n == 2:\n",
        "            fibo3 = 1\n",
        "    for i in range(2, n):\n",
        "        fibo3 = fibo1 + fibo2\n",
        "        fibo1 = fibo2\n",
        "        fibo2 = fibo3\n",
        "    print(f'第{n}項目は{fibo3}です')"
      ]
    }
  ],
  "metadata": {
    "colab": {
      "provenance": [],
      "authorship_tag": "ABX9TyMs/dWGji517eu9YRX+MpT7",
      "include_colab_link": true
    },
    "kernelspec": {
      "display_name": "Python 3",
      "name": "python3"
    },
    "language_info": {
      "name": "python"
    }
  },
  "nbformat": 4,
  "nbformat_minor": 0
}