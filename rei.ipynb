{
  "nbformat": 4,
  "nbformat_minor": 0,
  "metadata": {
    "colab": {
      "provenance": [],
      "authorship_tag": "ABX9TyNVJv3NiJdr7HBhm9Ssq81r",
      "include_colab_link": true
    },
    "kernelspec": {
      "name": "python3",
      "display_name": "Python 3"
    },
    "language_info": {
      "name": "python"
    }
  },
  "cells": [
    {
      "cell_type": "markdown",
      "metadata": {
        "id": "view-in-github",
        "colab_type": "text"
      },
      "source": [
        "<a href=\"https://colab.research.google.com/github/puzlike/expert-octo-telegram/blob/main/rei.ipynb\" target=\"_parent\"><img src=\"https://colab.research.google.com/assets/colab-badge.svg\" alt=\"Open In Colab\"/></a>"
      ]
    },
    {
      "cell_type": "code",
      "execution_count": 1,
      "metadata": {
        "colab": {
          "base_uri": "https://localhost:8080/"
        },
        "id": "nVHtwLATExqj",
        "outputId": "2d5bb6d1-dd97-4dc0-f7f1-c2f44f0fbcb4"
      },
      "outputs": [
        {
          "output_type": "stream",
          "name": "stdout",
          "text": [
            "1から19までの和は 190\n"
          ]
        }
      ],
      "source": [
        "# Q2(1)\n",
        "sum_num = 0\n",
        "for num in range(1, 20):\n",
        "    sum_num += num\n",
        "print(f'1から19までの和は {sum_num}')"
      ]
    },
    {
      "cell_type": "code",
      "source": [
        "# Q2(2)\n",
        "sum_even_num = 0\n",
        "for num in range(1, 20):\n",
        "    if num % 2 == 0:\n",
        "        sum_even_num += num\n",
        "print(f'1から19までの偶数の和は {sum_even_num}')"
      ],
      "metadata": {
        "colab": {
          "base_uri": "https://localhost:8080/"
        },
        "id": "ICA8MWEAFmmG",
        "outputId": "e345e629-ed1b-4ba3-ba77-1e176a264b38"
      },
      "execution_count": 2,
      "outputs": [
        {
          "output_type": "stream",
          "name": "stdout",
          "text": [
            "1から19までの偶数の和は 90\n"
          ]
        }
      ]
    },
    {
      "cell_type": "code",
      "source": [
        "# Q3\n",
        "import random\n",
        "print('おみくじを引きますか？')\n",
        "ret = int(input('はい→1,いいえ→0 を入力してください。:'))\n",
        "if ret == 0:\n",
        "    print('またのお越しをお待ちしております。')\n",
        "elif ret == 1:\n",
        "    num = random.randint(1, 100)\n",
        "    if num <= 16:\n",
        "        kuji = '凶'\n",
        "    elif num <= 51:\n",
        "        kuji = '小吉'\n",
        "    elif num <= 70:\n",
        "        kuji = '吉'\n",
        "    elif num <= 100:\n",
        "        kuji = '大吉'\n",
        "    print(kuji)"
      ],
      "metadata": {
        "colab": {
          "base_uri": "https://localhost:8080/"
        },
        "id": "fF5jp9kfGPc9",
        "outputId": "ce46ffc5-d457-4ede-a16c-977c3eb66dbc"
      },
      "execution_count": 7,
      "outputs": [
        {
          "output_type": "stream",
          "name": "stdout",
          "text": [
            "おみくじを引きますか？\n",
            "はい→1,いいえ→0 を入力してください。:1\n",
            "小吉\n"
          ]
        }
      ]
    }
  ]
}