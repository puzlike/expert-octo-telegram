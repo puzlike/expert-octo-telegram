{
  "nbformat": 4,
  "nbformat_minor": 0,
  "metadata": {
    "colab": {
      "provenance": [],
      "authorship_tag": "ABX9TyOrnp3pxBUmXcbMZdIVHvts",
      "include_colab_link": true
    },
    "kernelspec": {
      "name": "python3",
      "display_name": "Python 3"
    },
    "language_info": {
      "name": "python"
    }
  },
  "cells": [
    {
      "cell_type": "markdown",
      "metadata": {
        "id": "view-in-github",
        "colab_type": "text"
      },
      "source": [
        "<a href=\"https://colab.research.google.com/github/puzlike/expert-octo-telegram/blob/main/Card.ipynb\" target=\"_parent\"><img src=\"https://colab.research.google.com/assets/colab-badge.svg\" alt=\"Open In Colab\"/></a>"
      ]
    },
    {
      "cell_type": "code",
      "execution_count": 37,
      "metadata": {
        "colab": {
          "base_uri": "https://localhost:8080/"
        },
        "id": "1YLEcn04vQ0G",
        "outputId": "d0739715-2fdc-4172-ceb5-1141b3f15fc2"
      },
      "outputs": [
        {
          "output_type": "stream",
          "name": "stdout",
          "text": [
            "「一回引く／十回引く」? 1 : 一回引く 2 : 十回引く \n",
            "1\n",
            "--------------------------------\n",
            "フランキー ★\n",
            "-----------------------\n",
            "継続で引く?   1 : はい   以外 : いいえ \n",
            "1\n",
            "「一回引く／十回引く」? 1 : 一回引く 2 : 十回引く \n",
            "2\n",
            "--------------------------------\n",
            "ウソップ ★★★\n",
            "フランキー ★★★\n",
            "フランキー ★\n",
            "ゾロ ★\n",
            "ウソップ ★\n",
            "チョッパー ★\n",
            "ロビン ★★★\n",
            "ウソップ ★\n",
            "ロビン ★\n",
            "ウソップ ★★\n",
            "-----------------------\n",
            "継続で引く?   1 : はい   以外 : いいえ \n",
            "2\n",
            "-----------------------\n",
            "合計「11」回引きました\n",
            "★ : 7個\n",
            "★★ : 1個\n",
            "★★★ : 3個\n",
            "★★★★ : 0個\n",
            "★★★★★ : 0個\n",
            "ルフィー : 0個\n",
            "ゾロ : 1個\n",
            "ナﾐ : 0個\n",
            "ウソップ : 4個\n",
            "サンジ : 0個\n",
            "チョッパー : 1個\n",
            "ロビン : 2個\n",
            "フランキー : 3個\n",
            "ブルック : 0個\n"
          ]
        }
      ],
      "source": [
        "import random\n",
        "chars = ['ルフィー', 'ゾロ', 'ナﾐ', 'ウソップ', 'サンジ', 'チョッパー', 'ロビン', 'フランキー', 'ブルック']\n",
        "c_count = [0 for x in range(9)]\n",
        "cards = {'1':1000, '2':500, '3':200, '4':50, '5':10}\n",
        "stars = ['★', '★★', '★★★', '★★★★', '★★★★★']\n",
        "s_count = [0 for x in range(5)]\n",
        "counts = [1, 10]\n",
        "def draw():\n",
        "    n = int(input('「一回引く／十回引く」? 1 : 一回引く 2 : 十回引く \\n'))\n",
        "    print('--------------------------------')\n",
        "    if n == 1 or n == 2:\n",
        "        return n\n",
        "\n",
        "count = 0\n",
        "while True: \n",
        "    n = draw()\n",
        "    i = 1\n",
        "    while True:\n",
        "        c = random.randint(1, 9)\n",
        "        c_count[c - 1] += 1\n",
        "        name = chars[c - 1]\n",
        "        s = random.randint(1, 1000)\n",
        "        for star_num, preb in cards.items():\n",
        "            if s <= preb:\n",
        "                j = int(star_num)\n",
        "        star = stars[j - 1]\n",
        "        s_count[j - 1] += 1\n",
        "        print(name, star)\n",
        "        if i >= counts[n - 1]:\n",
        "            count += i\n",
        "            break\n",
        "        i += 1\n",
        "    print('-----------------------')\n",
        "    ret = int(input('継続で引く?   1 : はい   以外 : いいえ \\n'))\n",
        "    if ret != 1:\n",
        "        break\n",
        "print('-----------------------')\n",
        "print(f'合計「{count}」回引きました')\n",
        "for i in range(len(stars)):\n",
        "    print(f'{stars[i]} : {s_count[i]}個')\n",
        "for i in range(len(chars)):\n",
        "    print(f'{chars[i]} : {c_count[i]}個')\n"
      ]
    }
  ]
}