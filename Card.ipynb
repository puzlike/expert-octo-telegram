{
  "nbformat": 4,
  "nbformat_minor": 0,
  "metadata": {
    "colab": {
      "provenance": [],
      "authorship_tag": "ABX9TyNPWMhyJ71iFbhfIqdX7WJ4",
      "include_colab_link": true
    },
    "kernelspec": {
      "name": "python3",
      "display_name": "Python 3"
    },
    "language_info": {
      "name": "python"
    }
  },
  "cells": [
    {
      "cell_type": "markdown",
      "metadata": {
        "id": "view-in-github",
        "colab_type": "text"
      },
      "source": [
        "<a href=\"https://colab.research.google.com/github/puzlike/expert-octo-telegram/blob/main/Card.ipynb\" target=\"_parent\"><img src=\"https://colab.research.google.com/assets/colab-badge.svg\" alt=\"Open In Colab\"/></a>"
      ]
    },
    {
      "cell_type": "code",
      "execution_count": 6,
      "metadata": {
        "colab": {
          "base_uri": "https://localhost:8080/"
        },
        "id": "1YLEcn04vQ0G",
        "outputId": "d67fda1b-d009-4a15-9786-12dfa1d67156"
      },
      "outputs": [
        {
          "output_type": "stream",
          "name": "stdout",
          "text": [
            "「一回引く／十回引く」? 1 : 一回引く 2 : 十回引く \n",
            "1\n",
            "--------------------------------\n",
            "サンジ ★★\n",
            "-----------------------\n",
            "継続で引く?   1 : はい   以外 : いいえ \n",
            "1\n",
            "「一回引く／十回引く」? 1 : 一回引く 2 : 十回引く \n",
            "2\n",
            "--------------------------------\n",
            "サンジ ★★\n",
            "ブルック ★★★★\n",
            "ルフィー ★★\n",
            "ゾロ ★★\n",
            "ロビン ★★\n",
            "ロビン ★★★\n",
            "ウソップ ★★★\n",
            "ナﾐ ★★\n",
            "ルフィー ★★\n",
            "チョッパー ★★\n",
            "-----------------------\n",
            "継続で引く?   1 : はい   以外 : いいえ \n",
            "2\n",
            "-----------------------\n",
            "合計「11」回引きました\n",
            "★ : 0個\n",
            "★★ : 8個\n",
            "★★★ : 2個\n",
            "★★★★ : 1個\n",
            "★★★★★ : 0個\n",
            "ルフィー : 2個\n",
            "ゾロ : 1個\n",
            "ナﾐ : 1個\n",
            "ウソップ : 1個\n",
            "サンジ : 2個\n",
            "チョッパー : 1個\n",
            "ロビン : 2個\n",
            "フランキー : 0個\n",
            "ブルック : 1個\n"
          ]
        }
      ],
      "source": [
        "import random\n",
        "chars = ['ルフィー', 'ゾロ', 'ナﾐ', 'ウソップ', 'サンジ', 'チョッパー', 'ロビン', 'フランキー', 'ブルック']\n",
        "stars = ['★', '★★', '★★★', '★★★★', '★★★★★']\n",
        "preb = [500, 300, 150, 40, 10]\n",
        "card = []\n",
        "i = 4\n",
        "while i > 0:\n",
        "    for j in range(preb[i]): \n",
        "        card.append(stars[i])\n",
        "    i -= 1\n",
        "random.shuffle(card)\n",
        "c_count = [0 for n in range(9)]\n",
        "s_count = [0 for x in range(5)]\n",
        "counts = [1, 10]\n",
        "def draw():\n",
        "    n = int(input('「一回引く／十回引く」? 1 : 一回引く 2 : 十回引く \\n'))\n",
        "    print('--------------------------------')\n",
        "    if n == 1 or n == 2:\n",
        "        return n\n",
        "\n",
        "count = 0\n",
        "while True: \n",
        "    n = draw()\n",
        "    i = 1\n",
        "    while True:\n",
        "        char_name = random.choice(chars)\n",
        "        c_idx = chars.index(char_name)\n",
        "        c_count[c_idx] += 1\n",
        "        star = random.choice(card)\n",
        "        s_idx = stars.index(star)\n",
        "        s_count[s_idx] += 1\n",
        "        print(char_name, star)\n",
        "        if i >= counts[n - 1]:\n",
        "            count += i\n",
        "            break\n",
        "        i += 1\n",
        "    print('-----------------------')\n",
        "    ret = int(input('継続で引く?   1 : はい   以外 : いいえ \\n'))\n",
        "    if ret != 1:\n",
        "        break\n",
        "print('-----------------------')\n",
        "print(f'合計「{count}」回引きました')\n",
        "for i in range(len(stars)):\n",
        "    print(f'{stars[i]} : {s_count[i]}個')\n",
        "for i in range(len(chars)):\n",
        "    print(f'{chars[i]} : {c_count[i]}個')\n"
      ]
    }
  ]
}