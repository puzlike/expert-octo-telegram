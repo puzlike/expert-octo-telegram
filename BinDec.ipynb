{
  "nbformat": 4,
  "nbformat_minor": 0,
  "metadata": {
    "colab": {
      "provenance": [],
      "authorship_tag": "ABX9TyM4pLDRXJxhYfJ3f06hqS03",
      "include_colab_link": true
    },
    "kernelspec": {
      "name": "python3",
      "display_name": "Python 3"
    },
    "language_info": {
      "name": "python"
    }
  },
  "cells": [
    {
      "cell_type": "markdown",
      "metadata": {
        "id": "view-in-github",
        "colab_type": "text"
      },
      "source": [
        "<a href=\"https://colab.research.google.com/github/puzlike/expert-octo-telegram/blob/main/BinDec.ipynb\" target=\"_parent\"><img src=\"https://colab.research.google.com/assets/colab-badge.svg\" alt=\"Open In Colab\"/></a>"
      ]
    },
    {
      "cell_type": "code",
      "execution_count": null,
      "metadata": {
        "id": "bR9knWAQsT3e"
      },
      "outputs": [],
      "source": [
        "def BintoDec(bin):\n",
        "  l = len(bin)\n",
        "  dec = 0\n",
        "  for i in l:\n",
        "    dec += int(bin[i]) * 2**(l-i)\n",
        "  return dec\n",
        "\n",
        "def DectoBin(dec):\n",
        "  bin = \"\"\n",
        "  while True:\n",
        "    if dec == 0:\n",
        "      break\n",
        "    if dec % 2 == 0:\n",
        "      bit = 0\n",
        "    else:\n",
        "      bit = 1\n",
        "    bin += str(bit)\n",
        "    dec = dec // 2\n",
        "  return bin"
      ]
    }
  ]
}