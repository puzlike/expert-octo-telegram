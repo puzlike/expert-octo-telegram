{
  "nbformat": 4,
  "nbformat_minor": 0,
  "metadata": {
    "colab": {
      "provenance": [],
      "authorship_tag": "ABX9TyMSRNefKKvBoQBTHxvMbFBn",
      "include_colab_link": true
    },
    "kernelspec": {
      "name": "python3",
      "display_name": "Python 3"
    },
    "language_info": {
      "name": "python"
    }
  },
  "cells": [
    {
      "cell_type": "markdown",
      "metadata": {
        "id": "view-in-github",
        "colab_type": "text"
      },
      "source": [
        "<a href=\"https://colab.research.google.com/github/puzlike/expert-octo-telegram/blob/main/Total_random.ipynb\" target=\"_parent\"><img src=\"https://colab.research.google.com/assets/colab-badge.svg\" alt=\"Open In Colab\"/></a>"
      ]
    },
    {
      "cell_type": "code",
      "execution_count": 2,
      "metadata": {
        "colab": {
          "base_uri": "https://localhost:8080/"
        },
        "id": "DZfqkOQ28vvr",
        "outputId": "9239d07a-3279-417d-d413-d0e9bc4a76de"
      },
      "outputs": [
        {
          "output_type": "stream",
          "name": "stdout",
          "text": [
            "[6, 2, 6, 1, 4]\n",
            "goukei= 0 + 6\n",
            "goukei= 6 + 2\n",
            "goukei= 8 + 6\n",
            "goukei= 14 + 1\n",
            "goukei= 15 + 4\n",
            "sum= 19\n"
          ]
        }
      ],
      "source": [
        "import random\n",
        "b = []\n",
        "for i in range(5):\n",
        "  b.append(random.randint(1, 10))\n",
        "print(b)\n",
        "goukei = 0\n",
        "for i in range(5):\n",
        "  print('goukei=',goukei,'+',b[i])\n",
        "  goukei = goukei + b[i]\n",
        "print('sum=',goukei)"
      ]
    }
  ]
}