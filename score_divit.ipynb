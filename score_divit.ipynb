{
  "nbformat": 4,
  "nbformat_minor": 0,
  "metadata": {
    "colab": {
      "provenance": [],
      "authorship_tag": "ABX9TyNA86SQ3Y8XBcB4DGxmeac3",
      "include_colab_link": true
    },
    "kernelspec": {
      "name": "python3",
      "display_name": "Python 3"
    },
    "language_info": {
      "name": "python"
    }
  },
  "cells": [
    {
      "cell_type": "markdown",
      "metadata": {
        "id": "view-in-github",
        "colab_type": "text"
      },
      "source": [
        "<a href=\"https://colab.research.google.com/github/puzlike/expert-octo-telegram/blob/main/score_divit.ipynb\" target=\"_parent\"><img src=\"https://colab.research.google.com/assets/colab-badge.svg\" alt=\"Open In Colab\"/></a>"
      ]
    },
    {
      "cell_type": "code",
      "execution_count": 21,
      "metadata": {
        "colab": {
          "base_uri": "https://localhost:8080/"
        },
        "id": "GwdMTWatAX7z",
        "outputId": "26eb36be-9321-489e-8c60-4a9f4acdf257"
      },
      "outputs": [
        {
          "output_type": "stream",
          "name": "stdout",
          "text": [
            "全員の得点:[30, 59, 100, 48, 60]\n",
            "不合格者の得点:[30, 59, 48]\n"
          ]
        }
      ],
      "source": [
        "scores = [30, 59, 100, 48, 60]\n",
        "ng_scores = list()\n",
        "\n",
        "for ten in scores:\n",
        "  if ten < 60:\n",
        "    ng_scores.append(ten)\n",
        "\n",
        "print(f\"全員の得点:{scores}\")\n",
        "print(f\"不合格者の得点:{ng_scores}\")\n"
      ]
    }
  ]
}