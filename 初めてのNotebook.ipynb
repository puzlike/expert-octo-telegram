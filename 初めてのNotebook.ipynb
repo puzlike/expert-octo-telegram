{
  "nbformat": 4,
  "nbformat_minor": 0,
  "metadata": {
    "colab": {
      "provenance": [],
      "mount_file_id": "1w_YTamF7hMYz7DhRtbUVizRA3WrqETKs",
      "authorship_tag": "ABX9TyMzTKAlw8aX0VOWiQwRxQUT",
      "include_colab_link": true
    },
    "kernelspec": {
      "name": "python3",
      "display_name": "Python 3"
    },
    "language_info": {
      "name": "python"
    }
  },
  "cells": [
    {
      "cell_type": "markdown",
      "metadata": {
        "id": "view-in-github",
        "colab_type": "text"
      },
      "source": [
        "<a href=\"https://colab.research.google.com/github/puzlike/expert-octo-telegram/blob/main/%E5%88%9D%E3%82%81%E3%81%A6%E3%81%AENotebook.ipynb\" target=\"_parent\"><img src=\"https://colab.research.google.com/assets/colab-badge.svg\" alt=\"Open In Colab\"/></a>"
      ]
    },
    {
      "cell_type": "code",
      "source": [
        "import random\n",
        "print()\n",
        "print(\"5問の問題があります。以下を設問を答えてください。\")\n",
        "print()\n",
        "count = 0\n",
        "for n in range(5):\n",
        "    x1 = random.randint(1, 100)\n",
        "    x2 = random.randint(1, 100)\n",
        "\n",
        "    kotae = int(input(f\"    {x1} + {x2} = \"))\n",
        "    seikai = x1 + x2\n",
        "    if kotae == seikai:\n",
        "        print(\"正解\")\n",
        "        count += 1\n",
        "    else:\n",
        "        print(\"不正解\")\n",
        "\n",
        "print(f\"正解の設問数は {count} 問です。\")"
      ],
      "metadata": {
        "id": "wxdFhr0wZGLX",
        "outputId": "4559009e-dd7c-458d-ce6d-65a5e4422896",
        "colab": {
          "base_uri": "https://localhost:8080/"
        }
      },
      "execution_count": null,
      "outputs": [
        {
          "output_type": "stream",
          "name": "stdout",
          "text": [
            "\n",
            "5問の問題があります。以下を設問を答えてください。\n",
            "\n",
            "    70 + 5 = 75\n",
            "正解\n",
            "    10 + 19 = 29\n",
            "正解\n",
            "    4 + 13 = 17\n",
            "正解\n",
            "    51 + 89 = 140\n",
            "正解\n",
            "    53 + 4 = 57\n",
            "正解\n",
            "正解の設問数は 5 問です。\n"
          ]
        }
      ]
    }
  ]
}