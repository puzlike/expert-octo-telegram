{
  "nbformat": 4,
  "nbformat_minor": 0,
  "metadata": {
    "colab": {
      "provenance": [],
      "mount_file_id": "1w_YTamF7hMYz7DhRtbUVizRA3WrqETKs",
      "authorship_tag": "ABX9TyPtVUQyg11HEBi66vsj2aDB",
      "include_colab_link": true
    },
    "kernelspec": {
      "name": "python3",
      "display_name": "Python 3"
    },
    "language_info": {
      "name": "python"
    }
  },
  "cells": [
    {
      "cell_type": "markdown",
      "metadata": {
        "id": "view-in-github",
        "colab_type": "text"
      },
      "source": [
        "<a href=\"https://colab.research.google.com/github/puzlike/expert-octo-telegram/blob/main/%E5%88%9D%E3%82%81%E3%81%A6%E3%81%AENotebook.ipynb\" target=\"_parent\"><img src=\"https://colab.research.google.com/assets/colab-badge.svg\" alt=\"Open In Colab\"/></a>"
      ]
    },
    {
      "cell_type": "code",
      "source": [
        "import pandas as pd\n",
        "import numpy as np\n",
        "DF = []\n",
        "for i in range(50):\n",
        "    x = pd.DataFrame(np.random.randn(6, 4))\n",
        "    DF.append(x)\n",
        "\n",
        "for i in range(4):\n",
        "    for j in range(i + 1, 5):\n",
        "        DF[i] = DF[i].append(DF[j])\n",
        "\n",
        "print(DF[0])"
      ],
      "metadata": {
        "colab": {
          "base_uri": "https://localhost:8080/"
        },
        "id": "MI98EAzqWHoA",
        "outputId": "8a552597-c781-4da0-ab4e-9831ed1229cf"
      },
      "execution_count": 6,
      "outputs": [
        {
          "output_type": "stream",
          "name": "stdout",
          "text": [
            "          0         1         2         3\n",
            "0 -0.709446 -0.438215 -0.872126  0.187418\n",
            "1  0.732842 -1.154089 -1.565019  0.102032\n",
            "2 -0.768074 -0.757554  1.066097  0.974683\n",
            "3 -0.732035  0.303705  0.439548 -0.348081\n",
            "4  1.495618  1.038882 -0.362238 -0.321307\n",
            "5 -0.280932 -0.521222  0.177332  0.501114\n",
            "0  1.182370  0.174998 -0.950372  0.355645\n",
            "1  0.803957  0.761473  0.856407  1.078298\n",
            "2 -1.608192 -0.693623  0.093307  0.330601\n",
            "3 -0.083642  0.954713  1.488262  0.966244\n",
            "4 -1.486203 -0.855741 -0.955354  2.691439\n",
            "5  2.403487 -0.921300 -1.335203  0.922225\n",
            "0 -1.102713 -0.353159  0.426002 -0.934041\n",
            "1 -0.960408  0.637062  0.341214  0.463193\n",
            "2  0.482505  0.552459 -1.168310 -2.474855\n",
            "3 -0.366149 -1.539469 -2.604761  0.972269\n",
            "4 -0.879967  1.705450 -0.890707  0.608422\n",
            "5 -2.414502 -1.188825 -0.613569 -0.082138\n",
            "0  0.668802  0.643843 -0.276353  2.177539\n",
            "1  0.457873  0.725614  0.739430 -0.084364\n",
            "2 -0.891104 -1.576900  1.313404  1.297265\n",
            "3 -0.506855 -0.546091  0.295061 -0.801771\n",
            "4 -0.312867 -0.782683  0.316256  1.315401\n",
            "5 -1.251050 -0.734629  0.375807 -1.148201\n",
            "0 -0.340919 -1.473146 -0.800741  0.723185\n",
            "1 -0.686668 -1.260623  0.480873  0.746241\n",
            "2 -0.440299 -0.143364  0.585672 -0.177526\n",
            "3 -0.796370  1.001541  0.738029  1.316508\n",
            "4  0.686904 -0.668067  0.015158  0.019770\n",
            "5 -2.464392 -0.943611 -1.204738 -0.673826\n"
          ]
        }
      ]
    }
  ]
}